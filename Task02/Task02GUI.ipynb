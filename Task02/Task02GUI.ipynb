{
 "cells": [
  {
   "cell_type": "markdown",
   "metadata": {},
   "source": [
    "Installations"
   ]
  },
  {
   "cell_type": "code",
   "execution_count": 18,
   "metadata": {},
   "outputs": [],
   "source": [
    "#pip install customtkinter"
   ]
  },
  {
   "cell_type": "markdown",
   "metadata": {},
   "source": [
    "Imports"
   ]
  },
  {
   "cell_type": "code",
   "execution_count": 19,
   "metadata": {},
   "outputs": [],
   "source": [
    "from tkinter import *\n",
    "import customtkinter as ctk\n",
    "import NeuralNetworkBase\n",
    "from NeuralNetworkBase import *"
   ]
  },
  {
   "cell_type": "markdown",
   "metadata": {},
   "source": [
    "GUI"
   ]
  },
  {
   "cell_type": "markdown",
   "metadata": {},
   "source": [
    "  - Main Window"
   ]
  },
  {
   "cell_type": "code",
   "execution_count": 20,
   "metadata": {},
   "outputs": [],
   "source": [
    "root = ctk.CTk()\n",
    "root.geometry(\"900x600\")\n",
    "root.title(\"NN TASKS\")\n",
    "\n",
    "\n",
    "ctk.set_appearance_mode(\"dark\")\n",
    "ctk.set_default_color_theme(\"green\")"
   ]
  },
  {
   "cell_type": "markdown",
   "metadata": {},
   "source": [
    "- Left side frame"
   ]
  },
  {
   "cell_type": "code",
   "execution_count": 21,
   "metadata": {},
   "outputs": [],
   "source": [
    "LeftSideFrame = ctk.CTkFrame(master=root, width=250, height=600, border_width=2, border_color=\"#2a2a2a\", fg_color=\"#282828\")\n",
    "LeftSideFrame.place(relx=0, rely=0.5, anchor=W)\n",
    "\n",
    "LogoLabel = ctk.CTkLabel(master=LeftSideFrame, text=\"NN TASKS\", font=(\"arial\", 16, \"bold\"))\n",
    "LogoLabel.place(relx=0.5, y=30, anchor=N)\n",
    "\n",
    "button = ctk.CTkButton(master = LeftSideFrame, text = \"Task 1\", width=230, height=35, text_color=\"lightgreen\", fg_color=\"darkgreen\")\n",
    "button.place(relx=0.5, y= 100, anchor=CENTER)\n",
    "\n",
    "button = ctk.CTkButton(master = LeftSideFrame, text = \"Task 2\", width=230, height=35, text_color=\"lightgreen\", fg_color=\"darkgreen\")\n",
    "button.place(relx=0.5, y= 140, anchor=CENTER)"
   ]
  },
  {
   "cell_type": "markdown",
   "metadata": {},
   "source": [
    "- Right side frame"
   ]
  },
  {
   "cell_type": "code",
   "execution_count": 22,
   "metadata": {},
   "outputs": [],
   "source": [
    "RightSideFrame = ctk.CTkFrame(master=root, width=620, height=580, border_width=2, border_color=\"#2a2a2a\", fg_color=\"#282828\")\n",
    "RightSideFrame.place(x=890, rely=0.5, anchor=E)\n",
    "\n",
    "HeaderLabel = ctk.CTkLabel(master=RightSideFrame, text=\"TASK II - BACK PROPAGATION ON MULTILAYER NNs\", font=(\"arial\", 16, \"bold\"))\n",
    "HeaderLabel.place(x=20, y=10, anchor=NW)"
   ]
  },
  {
   "cell_type": "markdown",
   "metadata": {},
   "source": [
    "- Task content"
   ]
  },
  {
   "cell_type": "code",
   "execution_count": 23,
   "metadata": {},
   "outputs": [],
   "source": [
    "DashBoardFrame = ctk.CTkFrame(master=RightSideFrame, width=580, height=200, border_width=2, border_color=\"#333333\", fg_color=\"#2e2e2e\")\n",
    "DashBoardFrame.place(relx=0.5, y= 60, anchor=N)\n",
    "\n",
    "column_width = 580 // 2.5\n",
    "\n",
    "# Using grid layout inside DashBoardFrame with 3 columns\n",
    "DashBoardFrame.grid_columnconfigure(0, weight=1, minsize=column_width)  # Configure 3 columns\n",
    "DashBoardFrame.grid_columnconfigure(1, weight=1, minsize=column_width)\n",
    "DashBoardFrame.grid_columnconfigure(2, weight=1, minsize=column_width)\n",
    "\n",
    "# Adding Widgets in 3 Columns inside DashBoardFrame\n",
    "NumOfLayers_Label = ctk.CTkLabel(master=DashBoardFrame, text=\"Num of hidden layers\", font=(\"Arial\", 14))\n",
    "NumOfLayers_Label.grid(row=0, column=0, padx=10, pady=(10, 0))\n",
    "\n",
    "NumOfEpochs_Label = ctk.CTkLabel(master=DashBoardFrame, text=\"Num of epochs\", font=(\"Arial\", 14))\n",
    "NumOfEpochs_Label.grid(row=0, column=1, padx=10, pady=(10, 0))\n",
    "\n",
    "LearningRate_Label = ctk.CTkLabel(master=DashBoardFrame, text=\"Learning rate\", font=(\"Arial\", 14))\n",
    "LearningRate_Label.grid(row=0, column=2, padx=10, pady=(10, 0))\n",
    "\n",
    "NumOfNeuronsPerLayer_Label = ctk.CTkLabel(master=DashBoardFrame, text=\"Num of neurons/layer\", font=(\"Arial\", 14))\n",
    "NumOfNeuronsPerLayer_Label.grid(row=2, column=0, padx=10, pady=(10, 0))\n",
    "\n",
    "ActivationFunc_Label = ctk.CTkLabel(master=DashBoardFrame, text=\"Activation function\", font=(\"Arial\", 14))\n",
    "ActivationFunc_Label.grid(row=2, column=1, padx=10, pady=(10, 0))\n",
    "\n",
    "# Adding a second row of widgets for demonstration\n",
    "NumOfLayers_Entry = ctk.CTkEntry(master=DashBoardFrame, placeholder_text=\"Type something...\", font=(\"Arial\", 13))\n",
    "NumOfLayers_Entry.grid(row=1, column=0, padx=10, pady=(0,10))\n",
    "\n",
    "NumOfEpochs_Entry = ctk.CTkEntry(master=DashBoardFrame, placeholder_text=\"Type something...\", font=(\"Arial\", 13))\n",
    "NumOfEpochs_Entry.grid(row=1, column=1, padx=10, pady=(0,10))\n",
    "\n",
    "LearningRate_Entry = ctk.CTkEntry(master=DashBoardFrame, placeholder_text=\"Type something...\", font=(\"Arial\", 13))\n",
    "LearningRate_Entry.grid(row=1, column=2, padx=10, pady=(0,10))\n",
    "\n",
    "NumOfNeuronsPerLayer_Entry = ctk.CTkEntry(master=DashBoardFrame, placeholder_text=\"# Nuerons per layer\", font=(\"Arial\", 13))\n",
    "NumOfNeuronsPerLayer_Entry.grid(row=3, column=0, padx=10, pady=(0,10))\n",
    "\n",
    "Bias_Entry = ctk.CTkCheckBox(master=DashBoardFrame, text=\"Enable Bias\", font=(\"Arial\", 14))\n",
    "Bias_Entry.grid(row=3, column=2, padx=10, pady=(0,10))\n",
    "\n",
    "ActivationFunc_Entry = ctk.CTkComboBox(master=DashBoardFrame,values=[\"Sigmoid\", \"Tanh\"], font=(\"Arial\", 13))\n",
    "ActivationFunc_Entry.grid(row=3, column=1, padx=10, pady=(0,10))"
   ]
  },
  {
   "cell_type": "markdown",
   "metadata": {},
   "source": [
    "- Functions"
   ]
  },
  {
   "cell_type": "code",
   "execution_count": 24,
   "metadata": {},
   "outputs": [],
   "source": [
    "NumOfFeatures = 5\n",
    "NumOfClasses = 3\n",
    "\n",
    "def Classify():\n",
    "    NumOfLayers = NumOfLayers_Entry.get()\n",
    "    NumOfEpochs = NumOfEpochs_Entry.get()\n",
    "    LearningRate = LearningRate_Entry.get()\n",
    "    isBiasEnabled = Bias_Entry.get()\n",
    "    ActivationFunc = ActivationFunc_Entry.get()\n",
    "    NeuronsPerLayers = [int(x) for x in NumOfNeuronsPerLayer_Entry.get().split(\",\")]\n",
    "\n",
    "    #BuildNeuralNetwork(hidden_sizes=NeuronsPerLayers)\n",
    "    # print(\"NumOfLayers\", NumOfLayers)\n",
    "    # print(\"NumOfEpochs\", NumOfEpochs)\n",
    "    # print(\"LearningRate\", LearningRate)\n",
    "    # print(\"isBiasEnabled\", isBiasEnabled)\n",
    "    # print(\"ActivationFunc\", ActivationFunc)\n",
    "    # print(\"NeuronsPerLayers\", NeuronsPerLayers)"
   ]
  },
  {
   "cell_type": "code",
   "execution_count": 25,
   "metadata": {},
   "outputs": [],
   "source": [
    "button = ctk.CTkButton(master = RightSideFrame, text = \"Classify Now!\", width=150, height=30, text_color=\"lightgreen\", fg_color=\"darkgreen\", \n",
    "                       border_width=1, border_color=\"#008318\", command=Classify)\n",
    "button.place(x=590, y= 560, anchor=SE)"
   ]
  },
  {
   "cell_type": "code",
   "execution_count": 26,
   "metadata": {},
   "outputs": [],
   "source": [
    "root.mainloop()"
   ]
  }
 ],
 "metadata": {
  "kernelspec": {
   "display_name": "Python 3",
   "language": "python",
   "name": "python3"
  },
  "language_info": {
   "codemirror_mode": {
    "name": "ipython",
    "version": 3
   },
   "file_extension": ".py",
   "mimetype": "text/x-python",
   "name": "python",
   "nbconvert_exporter": "python",
   "pygments_lexer": "ipython3",
   "version": "3.13.0"
  }
 },
 "nbformat": 4,
 "nbformat_minor": 2
}
