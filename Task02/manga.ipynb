{
 "cells": [
  {
   "cell_type": "code",
   "execution_count": 1,
   "metadata": {},
   "outputs": [],
   "source": [
    "import numpy as np"
   ]
  },
  {
   "cell_type": "code",
   "execution_count": 15,
   "metadata": {},
   "outputs": [],
   "source": [
    "def sigmoid(x):\n",
    "    return 1 / (1 + np.exp(-x))"
   ]
  },
  {
   "cell_type": "code",
   "execution_count": null,
   "metadata": {},
   "outputs": [],
   "source": [
    "# example in the lecture 4\n",
    "\n",
    "X = np.array([0, 0, 1])\n",
    "\n",
    "Weights = [\n",
    "    np.array([\n",
    "        [0.21, 0.15, -0.3],\n",
    "        [0.10, 0.25, -0.4]\n",
    "    ]),\n",
    "    np.array([\n",
    "        [-0.2, 0.3, -0.4]\n",
    "    ])\n",
    "]\n"
   ]
  },
  {
   "cell_type": "code",
   "execution_count": null,
   "metadata": {},
   "outputs": [
    {
     "name": "stdout",
     "output_type": "stream",
     "text": [
      "activations [array([0, 0, 1]), array([0.42555748, 0.5621765 , 1.        ])]\n",
      "activations [array([0, 0, 1]), array([0.42555748, 0.5621765 , 1.        ]), array([0.42153907])]\n",
      "[0.42153907]\n",
      "activations [array([0, 0, 1]), array([0.42555748, 0.5621765 , 1.        ])]\n",
      "activations [array([0, 0, 1]), array([0.42555748, 0.5621765 , 1.        ]), array([0.42153907])]\n",
      "sigmaOutput [-0.10278972]\n",
      "[0.42555748 0.5621765  1.        ]\n"
     ]
    }
   ],
   "source": [
    "import numpy as np\n",
    "\n",
    "# Input vector\n",
    "X = np.array([0, 0, 1])  # Include bias as the last input\n",
    "\n",
    "# Weights for the layers\n",
    "Weights = [\n",
    "    np.array([\n",
    "        [0.21, 0.15, -0.3],\n",
    "        [0.10, -0.4, 0.25]\n",
    "    ]),\n",
    "    np.array([\n",
    "        [-0.2, 0.3, -0.4]\n",
    "    ])\n",
    "]\n",
    "activations = []\n",
    "# Sigmoid activation function\n",
    "def sigmoid(x):\n",
    "    return 1 / (1 + np.exp(-x))\n",
    "\n",
    "# Feedforward function\n",
    "def feedForward(X):\n",
    "    global activations\n",
    "    activations = [X] \n",
    "    for i in range(len(Weights)):\n",
    "        # Compute the input for the current layer\n",
    "        layer_input = np.dot(activations[i], Weights[i].T)  # Note the transpose on Weights[i]\n",
    "        # print(\"layer_input\", layer_input)\n",
    "        \n",
    "        # Apply activation function (sigmoid for hidden layers, no activation for output layer)\n",
    "        layer_input = sigmoid(layer_input)\n",
    "        if i != len(Weights) - 1:  # If not the output layer\n",
    "            # Add bias to the next layer input\n",
    "            layer_input = np.append(layer_input, 1)\n",
    "        \n",
    "        # Append the result to the activations list\n",
    "        activations.append(layer_input)\n",
    "        print(\"activations\", activations)\n",
    "    \n",
    "    return activations[-1]  # Return the output of the final layer\n",
    "\n",
    "\n",
    "print(feedForward(X))\n",
    "\n",
    "\n",
    "def backPropagation(X, y, learning_rate = 0.1):\n",
    "    # Feedforward\n",
    "    output_activation = feedForward(X)\n",
    "    \n",
    "    sigmaOutput = (y - output_activation) * output_activation * (1 - output_activation)\n",
    "    print(\"sigmaOutput\", sigmaOutput)\n",
    "\n",
    "\n",
    "#backPropagation(X, 0, learning_rate=0.1) \n"
   ]
  }
 ],
 "metadata": {
  "kernelspec": {
   "display_name": "Python 3",
   "language": "python",
   "name": "python3"
  },
  "language_info": {
   "codemirror_mode": {
    "name": "ipython",
    "version": 3
   },
   "file_extension": ".py",
   "mimetype": "text/x-python",
   "name": "python",
   "nbconvert_exporter": "python",
   "pygments_lexer": "ipython3",
   "version": "3.13.0"
  }
 },
 "nbformat": 4,
 "nbformat_minor": 2
}
