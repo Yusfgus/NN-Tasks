{
 "cells": [
  {
   "cell_type": "code",
   "execution_count": 113,
   "metadata": {},
   "outputs": [],
   "source": [
    "import pandas as pd\n",
    "import numpy as np\n",
    "import matplotlib.pyplot as plt\n",
    "\n",
    "from Preprocessing import preprocessing\n",
    "from Preprocessing import pre_bird_category\n",
    "\n",
    "from MLP import MLP"
   ]
  },
  {
   "cell_type": "code",
   "execution_count": 114,
   "metadata": {},
   "outputs": [
    {
     "data": {
      "text/html": [
       "<div>\n",
       "<style scoped>\n",
       "    .dataframe tbody tr th:only-of-type {\n",
       "        vertical-align: middle;\n",
       "    }\n",
       "\n",
       "    .dataframe tbody tr th {\n",
       "        vertical-align: top;\n",
       "    }\n",
       "\n",
       "    .dataframe thead th {\n",
       "        text-align: right;\n",
       "    }\n",
       "</style>\n",
       "<table border=\"1\" class=\"dataframe\">\n",
       "  <thead>\n",
       "    <tr style=\"text-align: right;\">\n",
       "      <th></th>\n",
       "      <th>gender</th>\n",
       "      <th>body_mass</th>\n",
       "      <th>beak_length</th>\n",
       "      <th>beak_depth</th>\n",
       "      <th>fin_length</th>\n",
       "      <th>bird category</th>\n",
       "    </tr>\n",
       "  </thead>\n",
       "  <tbody>\n",
       "    <tr>\n",
       "      <th>0</th>\n",
       "      <td>male</td>\n",
       "      <td>3750</td>\n",
       "      <td>39.1</td>\n",
       "      <td>18.7</td>\n",
       "      <td>181</td>\n",
       "      <td>A</td>\n",
       "    </tr>\n",
       "    <tr>\n",
       "      <th>1</th>\n",
       "      <td>female</td>\n",
       "      <td>3800</td>\n",
       "      <td>39.5</td>\n",
       "      <td>17.4</td>\n",
       "      <td>186</td>\n",
       "      <td>A</td>\n",
       "    </tr>\n",
       "    <tr>\n",
       "      <th>2</th>\n",
       "      <td>female</td>\n",
       "      <td>3250</td>\n",
       "      <td>40.3</td>\n",
       "      <td>18.0</td>\n",
       "      <td>195</td>\n",
       "      <td>A</td>\n",
       "    </tr>\n",
       "    <tr>\n",
       "      <th>3</th>\n",
       "      <td>female</td>\n",
       "      <td>3500</td>\n",
       "      <td>39.6</td>\n",
       "      <td>17.7</td>\n",
       "      <td>186</td>\n",
       "      <td>A</td>\n",
       "    </tr>\n",
       "    <tr>\n",
       "      <th>4</th>\n",
       "      <td>female</td>\n",
       "      <td>3450</td>\n",
       "      <td>36.7</td>\n",
       "      <td>19.3</td>\n",
       "      <td>193</td>\n",
       "      <td>A</td>\n",
       "    </tr>\n",
       "  </tbody>\n",
       "</table>\n",
       "</div>"
      ],
      "text/plain": [
       "   gender  body_mass  beak_length  beak_depth  fin_length bird category\n",
       "0    male       3750         39.1        18.7         181             A\n",
       "1  female       3800         39.5        17.4         186             A\n",
       "2  female       3250         40.3        18.0         195             A\n",
       "3  female       3500         39.6        17.7         186             A\n",
       "4  female       3450         36.7        19.3         193             A"
      ]
     },
     "execution_count": 114,
     "metadata": {},
     "output_type": "execute_result"
    }
   ],
   "source": [
    "all_data = pd.read_csv('birds.csv')\n",
    "all_data.head()"
   ]
  },
  {
   "cell_type": "code",
   "execution_count": 115,
   "metadata": {},
   "outputs": [
    {
     "name": "stdout",
     "output_type": "stream",
     "text": [
      "Column: gender\n",
      "Column: body_mass\n",
      "Column: beak_length\n",
      "Column: beak_depth\n",
      "Column: fin_length\n",
      "Column: bird category\n"
     ]
    }
   ],
   "source": [
    "# preprocessing\n",
    "preprocessing(data=all_data, classes=['A', 'B', 'C']) # A->0 , B->1 , C->2\n",
    "\n",
    "# Class A Portion\n",
    "Class_A = all_data.iloc[0:50, :]\n",
    "# Class B Portion\n",
    "Class_B = all_data.iloc[50:100, :]\n",
    "# Class C Portion\n",
    "Class_C = all_data.iloc[100:150, :]\n",
    "\n",
    "# Shuffling portions\n",
    "Class_A = Class_A.sample(frac=1, random_state=42).reset_index(drop=True)\n",
    "Class_B = Class_B.sample(frac=1, random_state=42).reset_index(drop=True)\n",
    "Class_C = Class_C.sample(frac=1, random_state=42).reset_index(drop=True)"
   ]
  },
  {
   "cell_type": "code",
   "execution_count": 116,
   "metadata": {},
   "outputs": [
    {
     "data": {
      "text/html": [
       "<div>\n",
       "<style scoped>\n",
       "    .dataframe tbody tr th:only-of-type {\n",
       "        vertical-align: middle;\n",
       "    }\n",
       "\n",
       "    .dataframe tbody tr th {\n",
       "        vertical-align: top;\n",
       "    }\n",
       "\n",
       "    .dataframe thead th {\n",
       "        text-align: right;\n",
       "    }\n",
       "</style>\n",
       "<table border=\"1\" class=\"dataframe\">\n",
       "  <thead>\n",
       "    <tr style=\"text-align: right;\">\n",
       "      <th></th>\n",
       "      <th>gender</th>\n",
       "      <th>body_mass</th>\n",
       "      <th>beak_length</th>\n",
       "      <th>beak_depth</th>\n",
       "      <th>fin_length</th>\n",
       "      <th>bird category</th>\n",
       "    </tr>\n",
       "  </thead>\n",
       "  <tbody>\n",
       "    <tr>\n",
       "      <th>0</th>\n",
       "      <td>0.0</td>\n",
       "      <td>0.541667</td>\n",
       "      <td>0.447059</td>\n",
       "      <td>0.071429</td>\n",
       "      <td>0.724138</td>\n",
       "      <td>1</td>\n",
       "    </tr>\n",
       "    <tr>\n",
       "      <th>1</th>\n",
       "      <td>1.0</td>\n",
       "      <td>0.305556</td>\n",
       "      <td>0.184314</td>\n",
       "      <td>0.488095</td>\n",
       "      <td>0.137931</td>\n",
       "      <td>0</td>\n",
       "    </tr>\n",
       "    <tr>\n",
       "      <th>2</th>\n",
       "      <td>0.0</td>\n",
       "      <td>0.500000</td>\n",
       "      <td>0.470588</td>\n",
       "      <td>0.011905</td>\n",
       "      <td>0.672414</td>\n",
       "      <td>1</td>\n",
       "    </tr>\n",
       "    <tr>\n",
       "      <th>3</th>\n",
       "      <td>0.0</td>\n",
       "      <td>0.277778</td>\n",
       "      <td>0.505882</td>\n",
       "      <td>0.500000</td>\n",
       "      <td>0.224138</td>\n",
       "      <td>2</td>\n",
       "    </tr>\n",
       "    <tr>\n",
       "      <th>4</th>\n",
       "      <td>1.0</td>\n",
       "      <td>0.305556</td>\n",
       "      <td>0.176471</td>\n",
       "      <td>0.964286</td>\n",
       "      <td>0.327586</td>\n",
       "      <td>0</td>\n",
       "    </tr>\n",
       "    <tr>\n",
       "      <th>...</th>\n",
       "      <td>...</td>\n",
       "      <td>...</td>\n",
       "      <td>...</td>\n",
       "      <td>...</td>\n",
       "      <td>...</td>\n",
       "      <td>...</td>\n",
       "    </tr>\n",
       "    <tr>\n",
       "      <th>85</th>\n",
       "      <td>0.0</td>\n",
       "      <td>0.430556</td>\n",
       "      <td>0.309804</td>\n",
       "      <td>0.845238</td>\n",
       "      <td>0.310345</td>\n",
       "      <td>0</td>\n",
       "    </tr>\n",
       "    <tr>\n",
       "      <th>86</th>\n",
       "      <td>1.0</td>\n",
       "      <td>0.375000</td>\n",
       "      <td>0.701961</td>\n",
       "      <td>0.595238</td>\n",
       "      <td>0.500000</td>\n",
       "      <td>2</td>\n",
       "    </tr>\n",
       "    <tr>\n",
       "      <th>87</th>\n",
       "      <td>1.0</td>\n",
       "      <td>0.284722</td>\n",
       "      <td>0.729412</td>\n",
       "      <td>0.797619</td>\n",
       "      <td>0.431034</td>\n",
       "      <td>2</td>\n",
       "    </tr>\n",
       "    <tr>\n",
       "      <th>88</th>\n",
       "      <td>0.0</td>\n",
       "      <td>0.222222</td>\n",
       "      <td>0.215686</td>\n",
       "      <td>0.547619</td>\n",
       "      <td>0.241379</td>\n",
       "      <td>0</td>\n",
       "    </tr>\n",
       "    <tr>\n",
       "      <th>89</th>\n",
       "      <td>0.0</td>\n",
       "      <td>0.402778</td>\n",
       "      <td>0.309804</td>\n",
       "      <td>0.047619</td>\n",
       "      <td>0.655172</td>\n",
       "      <td>1</td>\n",
       "    </tr>\n",
       "  </tbody>\n",
       "</table>\n",
       "<p>90 rows × 6 columns</p>\n",
       "</div>"
      ],
      "text/plain": [
       "    gender  body_mass  beak_length  beak_depth  fin_length  bird category\n",
       "0      0.0   0.541667     0.447059    0.071429    0.724138              1\n",
       "1      1.0   0.305556     0.184314    0.488095    0.137931              0\n",
       "2      0.0   0.500000     0.470588    0.011905    0.672414              1\n",
       "3      0.0   0.277778     0.505882    0.500000    0.224138              2\n",
       "4      1.0   0.305556     0.176471    0.964286    0.327586              0\n",
       "..     ...        ...          ...         ...         ...            ...\n",
       "85     0.0   0.430556     0.309804    0.845238    0.310345              0\n",
       "86     1.0   0.375000     0.701961    0.595238    0.500000              2\n",
       "87     1.0   0.284722     0.729412    0.797619    0.431034              2\n",
       "88     0.0   0.222222     0.215686    0.547619    0.241379              0\n",
       "89     0.0   0.402778     0.309804    0.047619    0.655172              1\n",
       "\n",
       "[90 rows x 6 columns]"
      ]
     },
     "execution_count": 116,
     "metadata": {},
     "output_type": "execute_result"
    }
   ],
   "source": [
    "# Data Slicing (Training & Test) for each class\n",
    "\n",
    "TrainClass_A = Class_A.iloc[0:30, :]\n",
    "TestClass_A = Class_A.iloc[30:50, :]\n",
    "\n",
    "TrainClass_B = Class_B.iloc[0:30, :]\n",
    "TestClass_B = Class_B.iloc[30:50, :]\n",
    "\n",
    "TrainClass_C = Class_C.iloc[0:30, :]\n",
    "TestClass_C = Class_C.iloc[30:50, :]\n",
    "\n",
    "\n",
    "# Compining Train samples of each class\n",
    "train = pd.concat([TrainClass_A, TrainClass_B, TrainClass_C])\n",
    "# Compining Test samples of each class\n",
    "test = pd.concat([TestClass_A, TestClass_B, TestClass_C])\n",
    "\n",
    "\n",
    "# Shuffling Train and Test data\n",
    "train = train.sample(frac=1, random_state=42).reset_index(drop=True)\n",
    "test = test.sample(frac=1, random_state=42).reset_index(drop=True)\n",
    "\n",
    "# split to X and y\n",
    "Xtrain = train.iloc[:, :-1]\n",
    "ytrain = train.iloc[:, -1]\n",
    "\n",
    "Xtest = test.iloc[:, :-1]\n",
    "ytest = test.iloc[:, -1]\n",
    "\n",
    "# ytrain.shape\n",
    "train"
   ]
  },
  {
   "cell_type": "code",
   "execution_count": 117,
   "metadata": {},
   "outputs": [],
   "source": [
    "# best_weights = model.fit(Xtrain, ytrain)\n",
    "\n",
    "# print(\"\\nBest Weights : \", best_weights)\n",
    "# loss, weights = model.load_model()\n",
    "# print(f\"loss : {loss}, weights : \\n {weights}\")\n",
    "# print(f\"best_weights : {best_weights}\")\n"
   ]
  },
  {
   "cell_type": "code",
   "execution_count": 118,
   "metadata": {},
   "outputs": [],
   "source": [
    "# best_weights = [[[ 0.64819162,  0.38316173, -0.15428586],\n",
    "#        [ 0.52363071,  0.56380712, -0.35065961],\n",
    "#        [-0.33944906, -5.43035068,  2.00292476],\n",
    "#        [-0.64123229,  1.30669582, -0.88756273],\n",
    "#        [ 0.20521493, -0.67718077,  1.86215213],\n",
    "#        [-1.68937042,  0.95124276, -0.08434086]], \n",
    "# [[ 1.53327522,  0.49088125,  0.68761451, -0.47035645],\n",
    "#        [-1.23922634, -2.26306557, -0.01011435, -5.24708996],\n",
    "#        [ 0.21467054,  0.75242651,  1.17180317,  3.53507088],\n",
    "#        [-0.542813  , -0.16096332, -0.40433515, -0.08318577]], \n",
    "# [[-0.00526994,  0.91841773, -0.23300637],\n",
    "#        [-0.68513078,  2.14802909,  1.22918329],\n",
    "#        [-0.58032858,  0.02079821, -0.88279239],\n",
    "#        [ 2.90625824,  3.32756523,  4.24387787],\n",
    "#        [ 0.84686752, -1.39186271, -0.57016828]]]\n",
    "\n",
    "# model.calculate_accuracy_and_confusion_matrix(Xtrain, ytrain, Xtest, ytest, weights=best_weights)\n",
    "\n",
    "# print(model.predict([0.0\t,0.277778\t,0.505882\t,0.500000\t,0.224138\t]))"
   ]
  },
  {
   "cell_type": "code",
   "execution_count": 119,
   "metadata": {},
   "outputs": [],
   "source": [
    "# model = MLP([5], 0.001, activation='tanh', epochs=5000)\n",
    "\n",
    "# best_weights = model.fit(Xtrain, ytrain)\n",
    "# print(\"\\nBest Weights : \", best_weights)\n",
    "\n",
    "# best_weights2 = model.fit(Xtrain, ytrain)\n",
    "# print(\"\\nBest Weights : \", best_weights2)\n"
   ]
  },
  {
   "cell_type": "code",
   "execution_count": 120,
   "metadata": {},
   "outputs": [],
   "source": [
    "# we = [np.array([[ 0.64819162,  0.38316173, -0.15428586],\n",
    "#        [ 0.52363071,  0.56380712, -0.35065961],\n",
    "#        [-0.33944906, -5.43035068,  2.00292476],\n",
    "#        [-0.64123229,  1.30669582, -0.88756273],\n",
    "#        [ 0.20521493, -0.67718077,  1.86215213],\n",
    "#        [-1.68937042,  0.95124276, -0.08434086]]), \n",
    "# np.array([[ 1.53327522,  0.49088125,  0.68761451, -0.47035645],\n",
    "#        [-1.23922634, -2.26306557, -0.01011435, -5.24708996],\n",
    "#        [ 0.21467054,  0.75242651,  1.17180317,  3.53507088],\n",
    "#        [-0.542813  , -0.16096332, -0.40433515, -0.08318577]]), \n",
    "# np.array([[-0.00526994,  0.91841773, -0.23300637],\n",
    "#        [-0.68513078,  2.14802909,  1.22918329],\n",
    "#        [-0.58032858,  0.02079821, -0.88279239],\n",
    "#        [ 2.90625824,  3.32756523,  4.24387787],\n",
    "#        [ 0.84686752, -1.39186271, -0.57016828]])]\n",
    "\n"
   ]
  },
  {
   "cell_type": "code",
   "execution_count": 121,
   "metadata": {},
   "outputs": [],
   "source": [
    "# model.calculate_accuracy_and_confusion_matrix(Xtrain, ytrain, Xtest, ytest, weights=best_weights2)"
   ]
  },
  {
   "cell_type": "markdown",
   "metadata": {},
   "source": [
    "## save sigmoid "
   ]
  },
  {
   "cell_type": "code",
   "execution_count": null,
   "metadata": {},
   "outputs": [
    {
     "name": "stdout",
     "output_type": "stream",
     "text": [
      "completed 100%Training Accuracy: 86.67%\n",
      "Testing Accuracy: 91.67%\n",
      "Training Confusion Matrix:\n",
      "[[20  0 10]\n",
      " [ 0 30  0]\n",
      " [ 2  0 28]]\n",
      "Testing Confusion Matrix:\n",
      "[[15  0  5]\n",
      " [ 0 20  0]\n",
      " [ 0  0 20]]\n"
     ]
    }
   ],
   "source": [
    "model = MLP([3,4], 0.01, activation='sigmoid', epochs=1000)\n",
    "model.fit(Xtrain, ytrain)\n",
    "#model.save(\"sigmoid_weights4.txt\")\n",
    "model.calculate_accuracy_and_confusion_matrix(Xtrain, ytrain, Xtest, ytest)\n",
    "#model.load()\n"
   ]
  },
  {
   "cell_type": "markdown",
   "metadata": {},
   "source": [
    "## load sigmoid_weights"
   ]
  },
  {
   "cell_type": "code",
   "execution_count": null,
   "metadata": {},
   "outputs": [
    {
     "name": "stdout",
     "output_type": "stream",
     "text": [
      "Training Accuracy: 93.33%\n",
      "Testing Accuracy: 88.33%\n",
      "Training Confusion Matrix:\n",
      "[[30  0  0]\n",
      " [ 0 30  0]\n",
      " [ 6  0 24]]\n",
      "Testing Confusion Matrix:\n",
      "[[20  0  0]\n",
      " [ 0 20  0]\n",
      " [ 5  2 13]]\n"
     ]
    }
   ],
   "source": [
    "# model = MLP([3,4], 0.01, activation='sigmoid', epochs=1000)\n",
    "# #model.fit(Xtrain, ytrain)\n",
    "# #model.save(\"sigmoid_weights4.txt\")\n",
    "# model.load(\"sigmoid_weights3.txt\")\n",
    "# model.calculate_accuracy_and_confusion_matrix(Xtrain, ytrain, Xtest, ytest)\n",
    "\n"
   ]
  },
  {
   "cell_type": "code",
   "execution_count": null,
   "metadata": {},
   "outputs": [],
   "source": [
    "# seed = [np.array([[ 0.69506727, -0.48667016,  0.26852711],\n",
    "#        [ 0.16406203,  0.83477334, -0.99975602],\n",
    "#        [ 0.16063209,  0.27740719, -0.36662438],\n",
    "#        [ 0.07552176, -0.27534146,  0.65307344],\n",
    "#        [ 0.24160272,  0.82922276,  0.81540669],\n",
    "#        [ 0.59949699,  0.80282486,  0.27493933]]), np.array([[ 0.03065245,  0.32238248,  0.97783286, -0.50961645],\n",
    "#        [ 0.98635309, -0.08478647,  0.09932797, -0.56563766],\n",
    "#        [ 0.44839273,  0.00998966, -0.69873867,  0.79362428],\n",
    "#        [ 0.56171304, -0.57550867, -0.45102524,  0.99946301]]), np.array([[ 0.21680518, -0.75688903,  0.57178616],\n",
    "#        [-0.42424101,  0.10064444, -0.529735  ],\n",
    "#        [ 0.68066055,  0.43603743,  0.75536626],\n",
    "#        [ 0.40871426, -0.82451724, -0.92979592],\n",
    "#        [-0.72846831,  0.09768811, -0.23434191]])]\n",
    "# model.calculate_accuracy_and_confusion_matrix(Xtrain, ytrain, Xtest, ytest, seed)"
   ]
  },
  {
   "cell_type": "code",
   "execution_count": 124,
   "metadata": {},
   "outputs": [],
   "source": [
    "# model.calculate_accuracy_and_confusion_matrix(Xtrain, ytrain, Xtest, ytest)"
   ]
  },
  {
   "cell_type": "markdown",
   "metadata": {},
   "source": [
    "## tanh model "
   ]
  },
  {
   "cell_type": "code",
   "execution_count": null,
   "metadata": {},
   "outputs": [
    {
     "name": "stdout",
     "output_type": "stream",
     "text": [
      "completed 100%Training Accuracy: 98.89%\n",
      "Testing Accuracy: 98.33%\n",
      "Training Confusion Matrix:\n",
      "[[30  0  0]\n",
      " [ 0 30  0]\n",
      " [ 1  0 29]]\n",
      "Testing Confusion Matrix:\n",
      "[[20  0  0]\n",
      " [ 0 20  0]\n",
      " [ 1  0 19]]\n"
     ]
    }
   ],
   "source": [
    "\n",
    "model = MLP([5], 0.001, activation='tanh', epochs=5000)\n",
    "model.fit(Xtrain, ytrain)\n",
    "#model.save(\"tanh2.txt\")\n",
    "model.calculate_accuracy_and_confusion_matrix(Xtrain, ytrain, Xtest, ytest)\n"
   ]
  },
  {
   "cell_type": "code",
   "execution_count": 126,
   "metadata": {},
   "outputs": [],
   "source": [
    "# model = MLP([3,4], 0.01, activation='sigmoid', epochs=1)"
   ]
  },
  {
   "cell_type": "code",
   "execution_count": 127,
   "metadata": {},
   "outputs": [],
   "source": [
    "# model = MLP(layers=[5, [3,4], 3], learning_rate=0.01, activation='sigmoid', epochs=1000)\n",
    "# best_weights = model.fit(Xtrain, ytrain)\n",
    "# model.calculate_accuracy_and_confusion_matrix(Xtrain, ytrain, Xtest, ytest)"
   ]
  },
  {
   "cell_type": "code",
   "execution_count": 128,
   "metadata": {},
   "outputs": [],
   "source": [
    "X = Xtrain\n",
    "\n",
    "X_sample = X.iloc[0].values.reshape(1, -1)"
   ]
  },
  {
   "cell_type": "code",
   "execution_count": 129,
   "metadata": {},
   "outputs": [],
   "source": [
    "def sigmoid(x):\n",
    "    return 1 / (1 + np.exp(-x))"
   ]
  },
  {
   "cell_type": "code",
   "execution_count": 130,
   "metadata": {},
   "outputs": [],
   "source": [
    "weights =  [np.array([[ 0.0610259 , -0.11868473,  0.19167696],\n",
    "       [ 0.09293665,  0.00103983, -0.13324832],\n",
    "       [-0.00237433,  0.01167979,  0.01780459],\n",
    "       [-0.03013405,  0.03615819, -0.08002573],\n",
    "       [-0.06259181, -0.21435596, -0.0503132 ]]), np.array([[ 0.00709197, -0.08306363, -0.0095609 ,  0.02822289],\n",
    "       [ 0.19463308,  0.06623523, -0.0424625 ,  0.09085919],\n",
    "       [-0.01691818, -0.1171061 , -0.04754496, -0.07305191]]), np.array([[-0.05476062,  0.02802921, -0.02102756],\n",
    "       [-0.05706505,  0.01814017,  0.01677369],\n",
    "       [ 0.13903822,  0.21813122,  0.11241118],\n",
    "       [ 0.00651469, -0.10144174, -0.2170584 ]])]\n",
    "\n",
    "\n",
    "biases =  [np.array([[ 0.26423625,  0.110432  , -0.10540333]]), \n",
    "           np.array([[ 0.00130979, -0.09972528,  0.06601507,  0.11844253]]), \n",
    "           np.array([[-0.27820958, -0.05036378, -0.05838289]])]"
   ]
  },
  {
   "cell_type": "code",
   "execution_count": 131,
   "metadata": {},
   "outputs": [],
   "source": [
    "def forward2(X):    \n",
    "    # Forward pass\n",
    "    activations = [X]\n",
    "    for w, b in zip(weights, biases):\n",
    "        activations.append(sigmoid(np.dot(activations[-1], w) + b))\n",
    "    print(activations)\n",
    "    # return activations\n",
    "\n"
   ]
  },
  {
   "cell_type": "code",
   "execution_count": 132,
   "metadata": {},
   "outputs": [],
   "source": [
    "weights2 = [np.array([[ 0.0610259 , -0.11868473,  0.19167696],\n",
    "       [ 0.09293665,  0.00103983, -0.13324832],\n",
    "       [-0.00237433,  0.01167979,  0.01780459],\n",
    "       [-0.03013405,  0.03615819, -0.08002573],\n",
    "       [-0.06259181, -0.21435596, -0.0503132 ],\n",
    "       [ 0.26423625,  0.110432  , -0.10540333]]), \n",
    "       \n",
    "       np.array([[ 0.00709197, -0.08306363, -0.0095609 ,  0.02822289],\n",
    "       [ 0.19463308,  0.06623523, -0.0424625 ,  0.09085919],\n",
    "       [-0.01691818, -0.1171061 , -0.04754496, -0.07305191],\n",
    "       [ 0.00130979, -0.09972528,  0.06601507,  0.11844253]]), \n",
    "       \n",
    "       np.array([[-0.05476062,  0.02802921, -0.02102756],\n",
    "       [-0.05706505,  0.01814017,  0.01677369],\n",
    "       [ 0.13903822,  0.21813122,  0.11241118],\n",
    "       [ 0.00651469, -0.10144174, -0.2170584 ],\n",
    "       [-0.27820958, -0.05036378, -0.05838289]])]"
   ]
  },
  {
   "cell_type": "code",
   "execution_count": 133,
   "metadata": {},
   "outputs": [],
   "source": [
    "def forward1(X):\n",
    "    activations = [X]\n",
    "    layersNets = []\n",
    "    for i in range(len(weights2)):\n",
    "        activations[i] = np.array(activations[i]).reshape(1, -1)\n",
    "        CurrentLayerNets = np.dot(activations[i], weights2[i])\n",
    "        layersNets.append(CurrentLayerNets)\n",
    "        CurrentLayerNets = sigmoid(CurrentLayerNets)\n",
    "        # # Apply activation function (sigmoid for hidden layers, no activation for output layer)\n",
    "        if i != len(weights2) - 1:  # If not the output layer\n",
    "            # Add bias to the next layer input\n",
    "            CurrentLayerNets = np.append(CurrentLayerNets, 1)\n",
    "        # Append the result to the activations list\n",
    "        activations.append(CurrentLayerNets)    \n",
    "    print(activations)\n",
    "    # return activations"
   ]
  },
  {
   "cell_type": "code",
   "execution_count": 134,
   "metadata": {},
   "outputs": [],
   "source": [
    "# forward2(X_sample)\n"
   ]
  },
  {
   "cell_type": "code",
   "execution_count": 135,
   "metadata": {},
   "outputs": [],
   "source": [
    "# X_sample = np.append(X_sample, 1)\n",
    "# forward1(X_sample)"
   ]
  },
  {
   "cell_type": "code",
   "execution_count": null,
   "metadata": {},
   "outputs": [],
   "source": []
  }
 ],
 "metadata": {
  "kernelspec": {
   "display_name": "base",
   "language": "python",
   "name": "python3"
  },
  "language_info": {
   "codemirror_mode": {
    "name": "ipython",
    "version": 3
   },
   "file_extension": ".py",
   "mimetype": "text/x-python",
   "name": "python",
   "nbconvert_exporter": "python",
   "pygments_lexer": "ipython3",
   "version": "3.9.13"
  }
 },
 "nbformat": 4,
 "nbformat_minor": 2
}
