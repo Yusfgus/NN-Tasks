{
 "cells": [
  {
   "cell_type": "code",
   "execution_count": 3,
   "metadata": {},
   "outputs": [],
   "source": [
    "from tensorflow.keras.preprocessing.text import Tokenizer\n",
    "from tensorflow.keras.preprocessing.sequence import pad_sequences"
   ]
  },
  {
   "cell_type": "code",
   "execution_count": 4,
   "metadata": {},
   "outputs": [],
   "source": [
    "import pandas as pd"
   ]
  },
  {
   "cell_type": "code",
   "execution_count": 5,
   "metadata": {},
   "outputs": [],
   "source": [
    "train_data = pd.read_csv('Data/train.csv')"
   ]
  },
  {
   "cell_type": "code",
   "execution_count": 6,
   "metadata": {},
   "outputs": [],
   "source": [
    "X_train = train_data['Discussion']"
   ]
  },
  {
   "cell_type": "code",
   "execution_count": 7,
   "metadata": {},
   "outputs": [],
   "source": [
    "X_train = X_train.astype(str)"
   ]
  },
  {
   "cell_type": "code",
   "execution_count": 8,
   "metadata": {},
   "outputs": [],
   "source": [
    "# Tokenize the text data\n",
    "tokenizer = Tokenizer(num_words=59373)  # Set max vocabulary size\n",
    "tokenizer.fit_on_texts(X_train)         # Fit tokenizer on training data"
   ]
  },
  {
   "cell_type": "code",
   "execution_count": 9,
   "metadata": {},
   "outputs": [],
   "source": [
    "# Convert text to sequences\n",
    "X_train_seq = tokenizer.texts_to_sequences(X_train)\n",
    "# X_test_seq = tokenizer.texts_to_sequences(X_test)"
   ]
  },
  {
   "cell_type": "code",
   "execution_count": 10,
   "metadata": {},
   "outputs": [
    {
     "data": {
      "text/plain": [
       "24989"
      ]
     },
     "execution_count": 10,
     "metadata": {},
     "output_type": "execute_result"
    }
   ],
   "source": [
    "len(X_train_seq)"
   ]
  },
  {
   "cell_type": "code",
   "execution_count": 12,
   "metadata": {},
   "outputs": [
    {
     "data": {
      "text/plain": [
       "[237,\n",
       " 2023,\n",
       " 148,\n",
       " 4,\n",
       " 286,\n",
       " 10,\n",
       " 4491,\n",
       " 6,\n",
       " 169,\n",
       " 104,\n",
       " 60,\n",
       " 16701,\n",
       " 238,\n",
       " 40,\n",
       " 15,\n",
       " 502,\n",
       " 130,\n",
       " 9,\n",
       " 37,\n",
       " 11,\n",
       " 6,\n",
       " 28,\n",
       " 255,\n",
       " 12,\n",
       " 916,\n",
       " 830,\n",
       " 10,\n",
       " 25,\n",
       " 10,\n",
       " 630,\n",
       " 2,\n",
       " 34,\n",
       " 1,\n",
       " 212,\n",
       " 7,\n",
       " 70,\n",
       " 51,\n",
       " 255,\n",
       " 35,\n",
       " 1,\n",
       " 491,\n",
       " 198,\n",
       " 862,\n",
       " 3527,\n",
       " 29178,\n",
       " 191,\n",
       " 29179,\n",
       " 225,\n",
       " 2560,\n",
       " 29180,\n",
       " 12476]"
      ]
     },
     "execution_count": 12,
     "metadata": {},
     "output_type": "execute_result"
    }
   ],
   "source": [
    "X_train_seq[0]"
   ]
  },
  {
   "cell_type": "code",
   "execution_count": 11,
   "metadata": {},
   "outputs": [
    {
     "data": {
      "text/plain": [
       "41"
      ]
     },
     "execution_count": 11,
     "metadata": {},
     "output_type": "execute_result"
    }
   ],
   "source": [
    "len(X_train_seq[200])"
   ]
  },
  {
   "cell_type": "code",
   "execution_count": 13,
   "metadata": {},
   "outputs": [
    {
     "name": "stdout",
     "output_type": "stream",
     "text": [
      "52.69474568810276\n"
     ]
    }
   ],
   "source": [
    "max_sequence_length = sum(len(s) for s in X_train_seq) / len(X_train_seq)\n",
    "print(max_sequence_length)"
   ]
  },
  {
   "cell_type": "code",
   "execution_count": null,
   "metadata": {},
   "outputs": [],
   "source": [
    "# Pad sequences to ensure uniform length\n",
    "X_train_padded = pad_sequences(X_train_seq, maxlen=max_sequence_length, padding='post')\n",
    "X_test_padded = pad_sequences(X_test_seq, maxlen=max_sequence_length, padding='post')"
   ]
  },
  {
   "cell_type": "code",
   "execution_count": 1,
   "metadata": {},
   "outputs": [
    {
     "name": "stdout",
     "output_type": "stream",
     "text": [
      "Average length of strings: 5.25\n"
     ]
    }
   ],
   "source": [
    "# List of strings\n",
    "strings = [\"hello\", \"world\", \"Python\", \"rocks\"]\n",
    "\n",
    "# Calculate the total length of all strings\n",
    "total_length = sum(len(s) for s in strings)\n",
    "\n",
    "# Calculate the average length\n",
    "average_length = total_length / len(strings)\n",
    "\n",
    "print(\"Average length of strings:\", average_length)"
   ]
  }
 ],
 "metadata": {
  "kernelspec": {
   "display_name": "deeplearning",
   "language": "python",
   "name": "python3"
  },
  "language_info": {
   "codemirror_mode": {
    "name": "ipython",
    "version": 3
   },
   "file_extension": ".py",
   "mimetype": "text/x-python",
   "name": "python",
   "nbconvert_exporter": "python",
   "pygments_lexer": "ipython3",
   "version": "3.9.20"
  }
 },
 "nbformat": 4,
 "nbformat_minor": 2
}
