{
 "cells": [
  {
   "cell_type": "markdown",
   "metadata": {
    "id": "vX01Uj0LHQTf"
   },
   "source": [
    "# Import"
   ]
  },
  {
   "cell_type": "code",
   "execution_count": 1,
   "metadata": {
    "colab": {
     "base_uri": "https://localhost:8080/"
    },
    "id": "_sIfi93eHjTv",
    "outputId": "32efa752-798e-423b-9291-2415b5b20c1d"
   },
   "outputs": [
    {
     "name": "stderr",
     "output_type": "stream",
     "text": [
      "Downloading...\n",
      "From: https://drive.google.com/uc?id=1-0A3obqFnABamVwIRGBKTgG2mQ1mrtI2\n",
      "To: /content/train_data.csv\n",
      "100%|██████████| 7.75M/7.75M [00:00<00:00, 57.6MB/s]"
     ]
    },
    {
     "name": "stdout",
     "output_type": "stream",
     "text": [
      "File downloaded to: /content/train_data.csv\n"
     ]
    },
    {
     "name": "stderr",
     "output_type": "stream",
     "text": [
      "\n"
     ]
    }
   ],
   "source": [
    "import gdown\n",
    "\n",
    "# Specify the file ID and output path\n",
    "file_id = \"1-0A3obqFnABamVwIRGBKTgG2mQ1mrtI2\"\n",
    "destination = \"/content/train_data.csv\"  # Change the filename and extension if necessary\n",
    "\n",
    "# Download the file\n",
    "gdown.download(f\"https://drive.google.com/uc?id={file_id}\", destination, quiet=False)\n",
    "\n",
    "print(\"File downloaded to:\", destination)"
   ]
  },
  {
   "cell_type": "code",
   "execution_count": 2,
   "metadata": {
    "colab": {
     "base_uri": "https://localhost:8080/"
    },
    "id": "rbUyzxxlTeZw",
    "outputId": "2f41f9aa-ddae-4c68-a787-5d5dda5419c6"
   },
   "outputs": [
    {
     "name": "stderr",
     "output_type": "stream",
     "text": [
      "Downloading...\n",
      "From: https://drive.google.com/uc?id=1do5Bafv-8tIJ72U5trb1MLJrtUqUxoxN\n",
      "To: /content/test_data.csv\n",
      "100%|██████████| 3.18M/3.18M [00:00<00:00, 107MB/s]"
     ]
    },
    {
     "name": "stdout",
     "output_type": "stream",
     "text": [
      "File downloaded to: /content/test_data.csv\n"
     ]
    },
    {
     "name": "stderr",
     "output_type": "stream",
     "text": [
      "\n"
     ]
    }
   ],
   "source": [
    "\n",
    "import gdown\n",
    "\n",
    "# Specify the file ID and output path\n",
    "file_id = \"1do5Bafv-8tIJ72U5trb1MLJrtUqUxoxN\"\n",
    "destination = \"/content/test_data.csv\"  # Change the filename and extension if necessary\n",
    "\n",
    "# Download the file\n",
    "gdown.download(f\"https://drive.google.com/uc?id={file_id}\", destination, quiet=False)\n",
    "\n",
    "print(\"File downloaded to:\", destination)"
   ]
  },
  {
   "cell_type": "code",
   "execution_count": 3,
   "metadata": {
    "id": "bPIFHzXPHQTi"
   },
   "outputs": [],
   "source": [
    "import pandas as pd\n",
    "import numpy as np\n",
    "import os\n",
    "from sklearn.metrics import accuracy_score"
   ]
  },
  {
   "cell_type": "code",
   "execution_count": 4,
   "metadata": {
    "colab": {
     "base_uri": "https://localhost:8080/"
    },
    "id": "wUMIZUnqIaG-",
    "outputId": "3c11e19c-6b83-4f41-9c88-4119cbb12df6"
   },
   "outputs": [
    {
     "name": "stderr",
     "output_type": "stream",
     "text": [
      "[nltk_data] Downloading package stopwords to /root/nltk_data...\n",
      "[nltk_data]   Unzipping corpora/stopwords.zip.\n",
      "[nltk_data] Downloading package punkt to /root/nltk_data...\n",
      "[nltk_data]   Unzipping tokenizers/punkt.zip.\n",
      "[nltk_data] Downloading package wordnet to /root/nltk_data...\n",
      "[nltk_data] Downloading package averaged_perceptron_tagger to\n",
      "[nltk_data]     /root/nltk_data...\n",
      "[nltk_data]   Unzipping taggers/averaged_perceptron_tagger.zip.\n"
     ]
    },
    {
     "data": {
      "text/plain": [
       "True"
      ]
     },
     "execution_count": 4,
     "metadata": {},
     "output_type": "execute_result"
    }
   ],
   "source": [
    "# # # Define preprocessing functions\n",
    "import nltk\n",
    "nltk.download('stopwords')\n",
    "nltk.download('punkt')\n",
    "nltk.download('wordnet')\n",
    "nltk.download('averaged_perceptron_tagger')"
   ]
  },
  {
   "cell_type": "code",
   "execution_count": 5,
   "metadata": {
    "id": "br3UVaVtHQTm"
   },
   "outputs": [],
   "source": [
    "train_data = pd.read_csv('/content/train_data.csv')\n",
    "test_data = pd.read_csv('/content/test_data.csv')\n",
    "#test_data = None"
   ]
  },
  {
   "cell_type": "code",
   "execution_count": 6,
   "metadata": {
    "colab": {
     "base_uri": "https://localhost:8080/",
     "height": 206
    },
    "id": "zRQx7oAiHQTm",
    "outputId": "e3ce61f9-034d-412b-b258-342103d26f62"
   },
   "outputs": [
    {
     "data": {
      "application/vnd.google.colaboratory.intrinsic+json": {
       "summary": "{\n  \"name\": \"train_data\",\n  \"rows\": 24989,\n  \"fields\": [\n    {\n      \"column\": \"SampleID\",\n      \"properties\": {\n        \"dtype\": \"number\",\n        \"std\": 7213,\n        \"min\": 1,\n        \"max\": 24989,\n        \"num_unique_values\": 24989,\n        \"samples\": [\n          21151,\n          9254,\n          8410\n        ],\n        \"semantic_type\": \"\",\n        \"description\": \"\"\n      }\n    },\n    {\n      \"column\": \"Discussion\",\n      \"properties\": {\n        \"dtype\": \"string\",\n        \"num_unique_values\": 24494,\n        \"samples\": [\n          \"First off, no, the comment is inane and offensive.\\\\n\\\\nSecond, to dispute other posts - asymmetrical warfare is what we face when we fight suicide bombers. They blow up a bomb and kill 50 people, we can't retaliate by killing 50 of the Jihadists, because we don't know who or where they are. We have to try to track them down one by one. This creates the asymmetry.\",\n          \"One of the hottest holiday gifts this year is the Apple iPod, the digital-age equivalent of the Sony Walkman. The iPod, which stores music files downloaded from a computer \",\n          \"Sen. Mary Landrieu, D-La., is shown in Washington in this Nov. 11, 2003, file photo. Known as one of the Senate #39;s more moderate Democrats, Landrieu undertook a fiery defense Sunday, Oct. 10, 2004, of military \"\n        ],\n        \"semantic_type\": \"\",\n        \"description\": \"\"\n      }\n    },\n    {\n      \"column\": \"Category\",\n      \"properties\": {\n        \"dtype\": \"category\",\n        \"num_unique_values\": 5,\n        \"samples\": [\n          \"STEM\",\n          \"Market & Economy\",\n          \"Politics\"\n        ],\n        \"semantic_type\": \"\",\n        \"description\": \"\"\n      }\n    }\n  ]\n}",
       "type": "dataframe",
       "variable_name": "train_data"
      },
      "text/html": [
       "\n",
       "  <div id=\"df-f9999f7c-fdf5-4c8b-80e6-c66775059ded\" class=\"colab-df-container\">\n",
       "    <div>\n",
       "<style scoped>\n",
       "    .dataframe tbody tr th:only-of-type {\n",
       "        vertical-align: middle;\n",
       "    }\n",
       "\n",
       "    .dataframe tbody tr th {\n",
       "        vertical-align: top;\n",
       "    }\n",
       "\n",
       "    .dataframe thead th {\n",
       "        text-align: right;\n",
       "    }\n",
       "</style>\n",
       "<table border=\"1\" class=\"dataframe\">\n",
       "  <thead>\n",
       "    <tr style=\"text-align: right;\">\n",
       "      <th></th>\n",
       "      <th>SampleID</th>\n",
       "      <th>Discussion</th>\n",
       "      <th>Category</th>\n",
       "    </tr>\n",
       "  </thead>\n",
       "  <tbody>\n",
       "    <tr>\n",
       "      <th>0</th>\n",
       "      <td>1</td>\n",
       "      <td>Without sitting down and doing it manually, yo...</td>\n",
       "      <td>Sports</td>\n",
       "    </tr>\n",
       "    <tr>\n",
       "      <th>1</th>\n",
       "      <td>2</td>\n",
       "      <td>All your Search ends with this link.</td>\n",
       "      <td>STEM</td>\n",
       "    </tr>\n",
       "    <tr>\n",
       "      <th>2</th>\n",
       "      <td>3</td>\n",
       "      <td>No, the program you're using is made to be com...</td>\n",
       "      <td>STEM</td>\n",
       "    </tr>\n",
       "    <tr>\n",
       "      <th>3</th>\n",
       "      <td>4</td>\n",
       "      <td>Mike Woicik\\n\\nThe correct answer is: Mike Woi...</td>\n",
       "      <td>Sports</td>\n",
       "    </tr>\n",
       "    <tr>\n",
       "      <th>4</th>\n",
       "      <td>5</td>\n",
       "      <td>No, but not because of why you might think. Wh...</td>\n",
       "      <td>Politics</td>\n",
       "    </tr>\n",
       "  </tbody>\n",
       "</table>\n",
       "</div>\n",
       "    <div class=\"colab-df-buttons\">\n",
       "\n",
       "  <div class=\"colab-df-container\">\n",
       "    <button class=\"colab-df-convert\" onclick=\"convertToInteractive('df-f9999f7c-fdf5-4c8b-80e6-c66775059ded')\"\n",
       "            title=\"Convert this dataframe to an interactive table.\"\n",
       "            style=\"display:none;\">\n",
       "\n",
       "  <svg xmlns=\"http://www.w3.org/2000/svg\" height=\"24px\" viewBox=\"0 -960 960 960\">\n",
       "    <path d=\"M120-120v-720h720v720H120Zm60-500h600v-160H180v160Zm220 220h160v-160H400v160Zm0 220h160v-160H400v160ZM180-400h160v-160H180v160Zm440 0h160v-160H620v160ZM180-180h160v-160H180v160Zm440 0h160v-160H620v160Z\"/>\n",
       "  </svg>\n",
       "    </button>\n",
       "\n",
       "  <style>\n",
       "    .colab-df-container {\n",
       "      display:flex;\n",
       "      gap: 12px;\n",
       "    }\n",
       "\n",
       "    .colab-df-convert {\n",
       "      background-color: #E8F0FE;\n",
       "      border: none;\n",
       "      border-radius: 50%;\n",
       "      cursor: pointer;\n",
       "      display: none;\n",
       "      fill: #1967D2;\n",
       "      height: 32px;\n",
       "      padding: 0 0 0 0;\n",
       "      width: 32px;\n",
       "    }\n",
       "\n",
       "    .colab-df-convert:hover {\n",
       "      background-color: #E2EBFA;\n",
       "      box-shadow: 0px 1px 2px rgba(60, 64, 67, 0.3), 0px 1px 3px 1px rgba(60, 64, 67, 0.15);\n",
       "      fill: #174EA6;\n",
       "    }\n",
       "\n",
       "    .colab-df-buttons div {\n",
       "      margin-bottom: 4px;\n",
       "    }\n",
       "\n",
       "    [theme=dark] .colab-df-convert {\n",
       "      background-color: #3B4455;\n",
       "      fill: #D2E3FC;\n",
       "    }\n",
       "\n",
       "    [theme=dark] .colab-df-convert:hover {\n",
       "      background-color: #434B5C;\n",
       "      box-shadow: 0px 1px 3px 1px rgba(0, 0, 0, 0.15);\n",
       "      filter: drop-shadow(0px 1px 2px rgba(0, 0, 0, 0.3));\n",
       "      fill: #FFFFFF;\n",
       "    }\n",
       "  </style>\n",
       "\n",
       "    <script>\n",
       "      const buttonEl =\n",
       "        document.querySelector('#df-f9999f7c-fdf5-4c8b-80e6-c66775059ded button.colab-df-convert');\n",
       "      buttonEl.style.display =\n",
       "        google.colab.kernel.accessAllowed ? 'block' : 'none';\n",
       "\n",
       "      async function convertToInteractive(key) {\n",
       "        const element = document.querySelector('#df-f9999f7c-fdf5-4c8b-80e6-c66775059ded');\n",
       "        const dataTable =\n",
       "          await google.colab.kernel.invokeFunction('convertToInteractive',\n",
       "                                                    [key], {});\n",
       "        if (!dataTable) return;\n",
       "\n",
       "        const docLinkHtml = 'Like what you see? Visit the ' +\n",
       "          '<a target=\"_blank\" href=https://colab.research.google.com/notebooks/data_table.ipynb>data table notebook</a>'\n",
       "          + ' to learn more about interactive tables.';\n",
       "        element.innerHTML = '';\n",
       "        dataTable['output_type'] = 'display_data';\n",
       "        await google.colab.output.renderOutput(dataTable, element);\n",
       "        const docLink = document.createElement('div');\n",
       "        docLink.innerHTML = docLinkHtml;\n",
       "        element.appendChild(docLink);\n",
       "      }\n",
       "    </script>\n",
       "  </div>\n",
       "\n",
       "\n",
       "<div id=\"df-01cb4271-037e-4d2d-8979-261828ae5c5f\">\n",
       "  <button class=\"colab-df-quickchart\" onclick=\"quickchart('df-01cb4271-037e-4d2d-8979-261828ae5c5f')\"\n",
       "            title=\"Suggest charts\"\n",
       "            style=\"display:none;\">\n",
       "\n",
       "<svg xmlns=\"http://www.w3.org/2000/svg\" height=\"24px\"viewBox=\"0 0 24 24\"\n",
       "     width=\"24px\">\n",
       "    <g>\n",
       "        <path d=\"M19 3H5c-1.1 0-2 .9-2 2v14c0 1.1.9 2 2 2h14c1.1 0 2-.9 2-2V5c0-1.1-.9-2-2-2zM9 17H7v-7h2v7zm4 0h-2V7h2v10zm4 0h-2v-4h2v4z\"/>\n",
       "    </g>\n",
       "</svg>\n",
       "  </button>\n",
       "\n",
       "<style>\n",
       "  .colab-df-quickchart {\n",
       "      --bg-color: #E8F0FE;\n",
       "      --fill-color: #1967D2;\n",
       "      --hover-bg-color: #E2EBFA;\n",
       "      --hover-fill-color: #174EA6;\n",
       "      --disabled-fill-color: #AAA;\n",
       "      --disabled-bg-color: #DDD;\n",
       "  }\n",
       "\n",
       "  [theme=dark] .colab-df-quickchart {\n",
       "      --bg-color: #3B4455;\n",
       "      --fill-color: #D2E3FC;\n",
       "      --hover-bg-color: #434B5C;\n",
       "      --hover-fill-color: #FFFFFF;\n",
       "      --disabled-bg-color: #3B4455;\n",
       "      --disabled-fill-color: #666;\n",
       "  }\n",
       "\n",
       "  .colab-df-quickchart {\n",
       "    background-color: var(--bg-color);\n",
       "    border: none;\n",
       "    border-radius: 50%;\n",
       "    cursor: pointer;\n",
       "    display: none;\n",
       "    fill: var(--fill-color);\n",
       "    height: 32px;\n",
       "    padding: 0;\n",
       "    width: 32px;\n",
       "  }\n",
       "\n",
       "  .colab-df-quickchart:hover {\n",
       "    background-color: var(--hover-bg-color);\n",
       "    box-shadow: 0 1px 2px rgba(60, 64, 67, 0.3), 0 1px 3px 1px rgba(60, 64, 67, 0.15);\n",
       "    fill: var(--button-hover-fill-color);\n",
       "  }\n",
       "\n",
       "  .colab-df-quickchart-complete:disabled,\n",
       "  .colab-df-quickchart-complete:disabled:hover {\n",
       "    background-color: var(--disabled-bg-color);\n",
       "    fill: var(--disabled-fill-color);\n",
       "    box-shadow: none;\n",
       "  }\n",
       "\n",
       "  .colab-df-spinner {\n",
       "    border: 2px solid var(--fill-color);\n",
       "    border-color: transparent;\n",
       "    border-bottom-color: var(--fill-color);\n",
       "    animation:\n",
       "      spin 1s steps(1) infinite;\n",
       "  }\n",
       "\n",
       "  @keyframes spin {\n",
       "    0% {\n",
       "      border-color: transparent;\n",
       "      border-bottom-color: var(--fill-color);\n",
       "      border-left-color: var(--fill-color);\n",
       "    }\n",
       "    20% {\n",
       "      border-color: transparent;\n",
       "      border-left-color: var(--fill-color);\n",
       "      border-top-color: var(--fill-color);\n",
       "    }\n",
       "    30% {\n",
       "      border-color: transparent;\n",
       "      border-left-color: var(--fill-color);\n",
       "      border-top-color: var(--fill-color);\n",
       "      border-right-color: var(--fill-color);\n",
       "    }\n",
       "    40% {\n",
       "      border-color: transparent;\n",
       "      border-right-color: var(--fill-color);\n",
       "      border-top-color: var(--fill-color);\n",
       "    }\n",
       "    60% {\n",
       "      border-color: transparent;\n",
       "      border-right-color: var(--fill-color);\n",
       "    }\n",
       "    80% {\n",
       "      border-color: transparent;\n",
       "      border-right-color: var(--fill-color);\n",
       "      border-bottom-color: var(--fill-color);\n",
       "    }\n",
       "    90% {\n",
       "      border-color: transparent;\n",
       "      border-bottom-color: var(--fill-color);\n",
       "    }\n",
       "  }\n",
       "</style>\n",
       "\n",
       "  <script>\n",
       "    async function quickchart(key) {\n",
       "      const quickchartButtonEl =\n",
       "        document.querySelector('#' + key + ' button');\n",
       "      quickchartButtonEl.disabled = true;  // To prevent multiple clicks.\n",
       "      quickchartButtonEl.classList.add('colab-df-spinner');\n",
       "      try {\n",
       "        const charts = await google.colab.kernel.invokeFunction(\n",
       "            'suggestCharts', [key], {});\n",
       "      } catch (error) {\n",
       "        console.error('Error during call to suggestCharts:', error);\n",
       "      }\n",
       "      quickchartButtonEl.classList.remove('colab-df-spinner');\n",
       "      quickchartButtonEl.classList.add('colab-df-quickchart-complete');\n",
       "    }\n",
       "    (() => {\n",
       "      let quickchartButtonEl =\n",
       "        document.querySelector('#df-01cb4271-037e-4d2d-8979-261828ae5c5f button');\n",
       "      quickchartButtonEl.style.display =\n",
       "        google.colab.kernel.accessAllowed ? 'block' : 'none';\n",
       "    })();\n",
       "  </script>\n",
       "</div>\n",
       "\n",
       "    </div>\n",
       "  </div>\n"
      ],
      "text/plain": [
       "   SampleID                                         Discussion  Category\n",
       "0         1  Without sitting down and doing it manually, yo...    Sports\n",
       "1         2               All your Search ends with this link.      STEM\n",
       "2         3  No, the program you're using is made to be com...      STEM\n",
       "3         4  Mike Woicik\\n\\nThe correct answer is: Mike Woi...    Sports\n",
       "4         5  No, but not because of why you might think. Wh...  Politics"
      ]
     },
     "execution_count": 6,
     "metadata": {},
     "output_type": "execute_result"
    }
   ],
   "source": [
    "train_data.head()"
   ]
  },
  {
   "cell_type": "code",
   "execution_count": 7,
   "metadata": {
    "id": "a26MwYqRHQTo"
   },
   "outputs": [],
   "source": [
    "# test_data.head(3)"
   ]
  },
  {
   "cell_type": "markdown",
   "metadata": {
    "id": "KVrdjcizHQTp"
   },
   "source": [
    "# Preprocessing"
   ]
  },
  {
   "cell_type": "code",
   "execution_count": 8,
   "metadata": {
    "colab": {
     "base_uri": "https://localhost:8080/"
    },
    "id": "V-jxiHRoI_yD",
    "outputId": "36f86056-01b1-4be2-99fd-9ba64b52ba4f"
   },
   "outputs": [
    {
     "name": "stdout",
     "output_type": "stream",
     "text": [
      "Requirement already satisfied: nltk in /usr/local/lib/python3.10/dist-packages (3.9.1)\n",
      "Requirement already satisfied: click in /usr/local/lib/python3.10/dist-packages (from nltk) (8.1.7)\n",
      "Requirement already satisfied: joblib in /usr/local/lib/python3.10/dist-packages (from nltk) (1.4.2)\n",
      "Requirement already satisfied: regex>=2021.8.3 in /usr/local/lib/python3.10/dist-packages (from nltk) (2024.9.11)\n",
      "Requirement already satisfied: tqdm in /usr/local/lib/python3.10/dist-packages (from nltk) (4.66.6)\n"
     ]
    },
    {
     "name": "stderr",
     "output_type": "stream",
     "text": [
      "[nltk_data] Downloading package punkt_tab to /root/nltk_data...\n",
      "[nltk_data]   Unzipping tokenizers/punkt_tab.zip.\n",
      "[nltk_data] Downloading package words to /root/nltk_data...\n",
      "[nltk_data]   Unzipping corpora/words.zip.\n"
     ]
    },
    {
     "data": {
      "text/plain": [
       "True"
      ]
     },
     "execution_count": 8,
     "metadata": {},
     "output_type": "execute_result"
    }
   ],
   "source": [
    "!pip install nltk\n",
    "import nltk\n",
    "nltk.download('punkt_tab')\n",
    "nltk.download('words')"
   ]
  },
  {
   "cell_type": "code",
   "execution_count": 9,
   "metadata": {
    "colab": {
     "base_uri": "https://localhost:8080/"
    },
    "id": "NqrIeHccHQTl",
    "outputId": "84687729-bab1-42e1-9d7d-5d20dd104b4a"
   },
   "outputs": [
    {
     "name": "stdout",
     "output_type": "stream",
     "text": [
      "--2024-12-10 22:02:09--  http://nlp.stanford.edu/data/glove.6B.zip\n",
      "Resolving nlp.stanford.edu (nlp.stanford.edu)... 171.64.67.140\n",
      "Connecting to nlp.stanford.edu (nlp.stanford.edu)|171.64.67.140|:80... connected.\n",
      "HTTP request sent, awaiting response... 302 Found\n",
      "Location: https://nlp.stanford.edu/data/glove.6B.zip [following]\n",
      "--2024-12-10 22:02:09--  https://nlp.stanford.edu/data/glove.6B.zip\n",
      "Connecting to nlp.stanford.edu (nlp.stanford.edu)|171.64.67.140|:443... connected.\n",
      "HTTP request sent, awaiting response... 301 Moved Permanently\n",
      "Location: https://downloads.cs.stanford.edu/nlp/data/glove.6B.zip [following]\n",
      "--2024-12-10 22:02:09--  https://downloads.cs.stanford.edu/nlp/data/glove.6B.zip\n",
      "Resolving downloads.cs.stanford.edu (downloads.cs.stanford.edu)... 171.64.64.22\n",
      "Connecting to downloads.cs.stanford.edu (downloads.cs.stanford.edu)|171.64.64.22|:443... connected.\n",
      "HTTP request sent, awaiting response... 200 OK\n",
      "Length: 862182613 (822M) [application/zip]\n",
      "Saving to: ‘glove.6B.zip’\n",
      "\n",
      "glove.6B.zip        100%[===================>] 822.24M  5.01MB/s    in 2m 39s  \n",
      "\n",
      "2024-12-10 22:04:48 (5.16 MB/s) - ‘glove.6B.zip’ saved [862182613/862182613]\n",
      "\n",
      "Archive:  glove.6B.zip\n",
      "  inflating: glove.6B.50d.txt        \n",
      "  inflating: glove.6B.100d.txt       \n",
      "  inflating: glove.6B.200d.txt       \n",
      "  inflating: glove.6B.300d.txt       \n",
      "-rw-rw-r-- 1 root root 332M Aug  4  2014 glove.6B.100d.txt\n",
      "-rw-rw-r-- 1 root root 662M Aug  4  2014 glove.6B.200d.txt\n",
      "-rw-rw-r-- 1 root root 990M Aug 27  2014 glove.6B.300d.txt\n",
      "-rw-rw-r-- 1 root root 164M Aug  4  2014 glove.6B.50d.txt\n",
      "-rw-r--r-- 1 root root 823M Oct 25  2015 glove.6B.zip\n"
     ]
    }
   ],
   "source": [
    "# Step 1: Download GloVe embeddings\n",
    "!wget http://nlp.stanford.edu/data/glove.6B.zip\n",
    "\n",
    "# Step 2: Unzip the downloaded file\n",
    "!unzip glove.6B.zip\n",
    "\n",
    "# Step 3: Verify the files\n",
    "!ls -lh glove.6B.*\n",
    "\n"
   ]
  },
  {
   "cell_type": "code",
   "execution_count": 40,
   "metadata": {
    "id": "gDtza1RhjtR5"
   },
   "outputs": [],
   "source": [
    "import Preprocessing  # Import the entire module\n",
    "import importlib\n",
    "importlib.reload(Preprocessing)  # Reload the module\n",
    "from Preprocessing import preprocess\n"
   ]
  },
  {
   "cell_type": "code",
   "execution_count": 11,
   "metadata": {
    "id": "oWnANxDdSYRF"
   },
   "outputs": [],
   "source": [
    "import numpy as np\n",
    "import tensorflow as tf\n",
    "from tensorflow.keras import layers, models\n",
    "from tensorflow.keras.utils import to_categorical\n",
    "from tensorflow.keras.models import Sequential\n",
    "from tensorflow.keras.layers import Embedding, SimpleRNN, Dense, Dropout\n",
    "from tensorflow.keras.layers import Input, Embedding, Dense, Dropout\n",
    "from tensorflow.keras.layers import MultiHeadAttention, LayerNormalization\n",
    "from tensorflow.keras.models import Model"
   ]
  },
  {
   "cell_type": "code",
   "execution_count": 12,
   "metadata": {
    "id": "FppBzwiTQD7B"
   },
   "outputs": [],
   "source": [
    "from tensorflow.keras.layers import (\n",
    "    Input, Embedding, Dense, Dropout,\n",
    "    MultiHeadAttention, LayerNormalization, GlobalAveragePooling1D\n",
    ")\n",
    "from tensorflow.keras.models import Model\n",
    "\n",
    "def create_transformer_model(embedding_matrix, max_sequence_length, embedding_dim, num_heads=4, ff_dim=128, num_classes=5):\n",
    "    input_layer = Input(shape=(max_sequence_length,))\n",
    "\n",
    "    # Embedding layer with pre-trained GloVe embeddings\n",
    "    embedding_layer = Embedding(\n",
    "        input_dim=embedding_matrix.shape[0],\n",
    "        output_dim=embedding_dim,\n",
    "        weights=[embedding_matrix],\n",
    "        input_length=max_sequence_length,\n",
    "        trainable=False\n",
    "    )(input_layer)\n",
    "\n",
    "    # Transformer block\n",
    "    attention_output = MultiHeadAttention(num_heads=num_heads, key_dim=embedding_dim)(\n",
    "        query=embedding_layer, key=embedding_layer, value=embedding_layer\n",
    "    )\n",
    "    attention_output = LayerNormalization(epsilon=1e-6)(attention_output + embedding_layer)\n",
    "\n",
    "    ff_output = Dense(ff_dim, activation='relu')(attention_output)\n",
    "    ff_output = Dense(embedding_dim)(ff_output)\n",
    "    ff_output = LayerNormalization(epsilon=1e-6)(ff_output + attention_output)\n",
    "\n",
    "    # Pooling and output\n",
    "    global_avg_pool = GlobalAveragePooling1D()(ff_output)\n",
    "    dropout_layer = Dropout(0.3)(global_avg_pool)\n",
    "    output_layer = Dense(num_classes, activation='softmax')(dropout_layer)\n",
    "\n",
    "    model = Model(inputs=input_layer, outputs=output_layer)\n",
    "    return model\n"
   ]
  },
  {
   "cell_type": "code",
   "execution_count": 41,
   "metadata": {
    "colab": {
     "base_uri": "https://localhost:8080/"
    },
    "id": "tXWpeYqluX7m",
    "outputId": "98ce9953-db90-4ebc-eae3-44dd4d046e98"
   },
   "outputs": [
    {
     "name": "stdout",
     "output_type": "stream",
     "text": [
      "Drop Nan...\n",
      "\ttrain_data.shape before (24989, 3)\n",
      "\ttrain_data.shape after (24646, 3)\n",
      "start preprocessing...\n",
      "Encoding Y_train...\n",
      "Unique words in the dataset:\n",
      "['a', 'aa', 'aardvark', 'aba', 'abacus', 'abandon', 'abandoned', 'abandonment', 'abas', 'abate', 'abatement', 'abb', 'abbey', 'abbot', 'abbreviate', 'abbreviation', 'abdominal', 'aberrant', 'aberration', 'abhor', 'abidal', 'abide', 'abiding', 'abigail', 'ability', 'abject', 'abjure', 'ablaze', 'able', 'abnormal', 'abnormality', 'abnormally', 'aboard', 'abode', 'abolish', 'abolition', 'abomination', 'aborad', 'abord', 'aboriginal', 'abort', 'aborted', 'abortion', 'abound', 'abreast', 'abroad', 'abruptly', 'absence', 'absent', 'absentee', 'absinthe', 'absinthium', 'absolute', 'absolutely', 'absolve', 'absorb', 'absorbed', 'absorbing', 'abstain', 'abstinence', 'abstract', 'abstraction', 'absurd', 'absurdly', 'abu', 'abundance', 'abundant', 'abuse', 'abuser', 'abusive', 'abut', 'aby', 'abyss', 'academe', 'academic', 'academy', 'accelerate', 'accelerated', 'acceleration', 'accelerator', 'accent', 'accept', 'acceptable', 'acceptably', 'acceptance', 'accepted', 'access', 'accessibility', 'accessible', 'accessory', 'accident', 'accidental', 'accidentally', 'accidently', 'acclaim', 'accolade', 'accommodate', 'accommodation', 'accompaniment', 'accompany', 'accomplice', 'accomplish', 'accomplished', 'accomplishment', 'accord', 'accordance', 'according', 'accordingly', 'account', 'accountability', 'accountable', 'accountant', 'accounting', 'accreditation', 'accredited', 'accrue', 'accumulate', 'accumulation', 'accuracy', 'accurate', 'accurately', 'accursed', 'accusation', 'accusatory', 'accuse', 'accused', 'accuser', 'ace', 'achievable', 'achieve', 'achievement', 'achy', 'acid', 'acidic', 'acker', 'acknowledge', 'acknowledged', 'acme', 'acorn', 'acoustic', 'acquaintance', 'acquainted', 'acquire', 'acquired', 'acquisition', 'acre', 'acrimonious', 'acrobat', 'acrobatic', 'acrobatics', 'acronym', 'across', 'act', 'actin', 'acting', 'action', 'activate', 'activation', 'active', 'actively', 'activism', 'activist', 'activity', 'acton', 'actor', 'actress', 'actual', 'actuality', 'actually', 'acuity', 'acumen', 'acupuncture', 'acute', 'ad', 'adage', 'adapt', 'adaptable', 'adaptation', 'adapter', 'adaptor', 'add', 'added', 'addendum', 'addict', 'addicted', 'addiction', 'addition', 'additional', 'additionally', 'additive', 'address', 'addressee', 'adequate', 'adequately', 'adhere', 'adherence', 'adieu', 'adjacent', 'adjectival', 'adjective', 'adjoint', 'adjust', 'adjustable', 'adjustment', 'administer', 'administration', 'administrative', 'administratively', 'administrator', 'admiral', 'admiration', 'admire', 'admired', 'admirer', 'admiring', 'admission', 'admit', 'admitted', 'admittedly', 'admonishment', 'ado', 'adobe', 'adolescence', 'adolescent', 'adopt', 'adopted', 'adopter', 'adoption', 'adoptive', 'adorable', 'adoration', 'adore', 'adorer', 'adrenaline', 'adulation', 'adult', 'adultery', 'adulthood', 'advance', 'advanced', 'advancement', 'advancing', 'advantage', 'advantageous', 'adventure', 'adversary', 'adverse', 'adversely', 'advert', 'advertise', 'advertisement', 'advertiser', 'advertising', 'advice', 'advisable', 'advise', 'advised', 'adviser', 'advisor', 'advisory', 'advocacy', 'advocate', 'advocation', 'ae', 'aegis', 'aer', 'aerial', 'aerobic', 'aeronautic', 'aeronautical', 'aerosol', 'aesthetic', 'affability', 'affable', 'affair', 'affect', 'affected', 'affecting', 'affection', 'affective', 'affidavit', 'affiliate', 'affiliation', 'affinity', 'affirm', 'affirmation', 'affirmative', 'afflicted', 'affliction', 'affluence', 'affluent', 'afford', 'affordable', 'affront', 'afloat', 'afoul', 'afraid', 'aft', 'after', 'aftereffect', 'afterglow', 'afterhours', 'afterlife', 'aftermath', 'afternoon', 'afternoons', 'afterschool', 'afterthought', 'afterward', 'afterwards', 'aga', 'again', 'against', 'agaric', 'age', 'aged', 'ageless', 'agency', 'agenda', 'agent', 'ager', 'aggravation', 'aggregate', 'aggression', 'aggressive', 'aggressively', 'aggressiveness', 'aggressor', 'agile', 'agility', 'aging', 'aglow', 'ago', 'agonistic', 'agony', 'agrarian', 'agree', 'agreeable', 'agreed', 'agreeing', 'agreement', 'agricultural', 'agriculture', 'ah', 'aha', 'ahead', 'ahem', 'ai', 'aid', 'aide', 'aile', 'ailing', 'ailment', 'aim', 'aiming', 'aimlessly', 'aint', 'aion', 'air', 'aircraft', 'airfield', 'airframe', 'airplane', 'airport', 'airy', 'aisle', 'ait', 'ajar', 'ak', 'aka', 'akin', 'ako', 'al', 'ala', 'alamo', 'alan', 'alarm', 'alarmed', 'alarming', 'alarmist', 'alas', 'alba', 'alban', 'albeit', 'albino', 'album', 'alchemist', 'alchemy', 'alcohol', 'alcoholic', 'alcoholism', 'alder', 'ale', 'alec', 'alert', 'alfonso', 'algae', 'algaecide', 'algorithm', 'alias', 'alien', 'alienate', 'alight', 'align', 'alignment', 'alike', 'alimony', 'aliso', 'alison', 'alist', 'alive', 'aliyah', 'all', 'allan', 'allegation', 'allege', 'allegedly', 'allegiance', 'allegro', 'allemand', 'aller', 'alleviate', 'alley', 'alliance', 'allied', 'allies', 'allocate', 'allocation', 'allot', 'allover', 'allow', 'allowable', 'allowance', 'alloy', 'allure', 'ally', 'alma', 'almanac', 'almighty', 'almost', 'aloft', 'alone', 'along', 'alongside', 'aloud', 'alpaca', 'alpha', 'alphabet', 'alphabetical', 'alphabetize', 'already', 'alright', 'also', 'alt', 'altar', 'alter', 'alteration', 'altercate', 'alternate', 'alternately', 'alternating', 'alternative', 'alternatively', 'although', 'altitude', 'alto', 'altogether', 'altruism', 'altruistic', 'aluminium', 'aluminum', 'alumni', 'alumnus', 'alway', 'always', 'aly', 'am', 'ama', 'amalgamation', 'amani', 'amarillo', 'amass', 'amateur', 'amateurishly', 'amatol', 'amaze', 'amazed', 'amazement', 'amazing', 'amazingly', 'ambassador', 'amber', 'ambient', 'ambiguous', 'ambition', 'ambitious', 'ambulance', 'ambush', 'amelia', 'amen', 'amend', 'amendment', 'amends', 'amethyst', 'ami', 'amid', 'amidst', 'amin', 'amir', 'amma', 'ammo', 'ammonia', 'ammonium', 'ammunition', 'amnesia', 'amnesty', 'amoke', 'among', 'amongst', 'amor', 'amoral', 'amount', 'ampersand', 'amphibious', 'ample', 'amplification', 'amputee', 'amt', 'amulet', 'amuse', 'amused', 'amusement', 'amusing', 'amy', 'an', 'ana', 'anabolic', 'anachronism', 'anagrams', 'anal', 'anally', 'analogous', 'analogue', 'analogy', 'analyse', 'analyses', 'analysis', 'analyst', 'analytic', 'analytical', 'analytics', 'analyze', 'anarchism', 'anarchist', 'anarchy', 'anathema', 'anatomy', 'ancestor', 'ancestry', 'anchor', 'anchored', 'ancient', 'ancillary', 'and', 'androgynous', 'anecdotal', 'anemia', 'anemic', 'anesthesia', 'aneurysm', 'angel', 'anger', 'angle', 'angry', 'angst', 'angular', 'anil', 'animal', 'animated', 'animation', 'animator', 'anime', 'anise', 'ankle', 'ann', 'anna', 'annal', 'annals', 'annexation', 'annihilation', 'anniversary', 'announce', 'announcement', 'announcer', 'annoy', 'annoyance', 'annoying', 'annoyingly', 'annual', 'annually', 'annuity', 'anomalous', 'anomaly', 'anon', 'anonymity', 'anonymous', 'anonymously', 'another', 'answer', 'answerable', 'answerer', 'ant', 'antarctica', 'ante', 'antenna', 'antennae', 'anterior', 'anthem', 'anthology', 'anthrax', 'anthropology', 'anti', 'antibiotic', 'antibody', 'antichrist', 'anticipate', 'anticipation', 'anticlimactic', 'anticommunist', 'antieducation', 'antigenic', 'antiliberal', 'antimilitary', 'antioxidant', 'antipersonnel', 'antipollution', 'antiquated', 'antique', 'antismoking', 'antisocial', 'antitheft', 'antitrust', 'antivirus', 'antiwar', 'anvil', 'anxiety', 'anxious', 'anxiously', 'any', 'anybody', 'anyhow', 'anyone', 'anyplace', 'anything', 'anyway', 'anyways', 'anywhere', 'apache', 'apart', 'apartheid', 'apartment', 'apathetic', 'apathy', 'ape', 'aperture', 'apex', 'apiece', 'aplenty', 'apocalypse', 'apologize', 'apology', 'apostrophe', 'apparatus', 'apparel', 'apparent', 'apparently', 'appeal', 'appealing', 'appear', 'appearance', 'appease', 'appeasement', 'appeasing', 'appellate', 'appetite', 'applaud', 'applause', 'apple', 'applesauce', 'appliance', 'applicable', 'applicant', 'application', 'applied', 'applier', 'apply', 'appoint', 'appointee', 'appointment', 'apportionment', 'appraisal', 'appraiser', 'appraising', 'appreciate', 'appreciation', 'apprehension', 'apprehensive', 'apprentice', 'apprenticeship', 'approach', 'approachability', 'approachable', 'approaching', 'appropriate', 'appropriately', 'appropriation', 'approval', 'approve', 'approximate', 'approximately', 'approximation', 'apron', 'apt', 'aptitude', 'aptly', 'aqua', 'aquarian', 'aqueduct', 'aqueous', 'aquiver', 'ar', 'arbiter', 'arbitrarily', 'arbitrary', 'arbitration', 'arbor', 'arc', 'arcade', 'arch', 'archaeological', 'archaeologist', 'archaic', 'archangel', 'archbishop', 'arched', 'archer', 'archery', 'archetypal', 'archetype', 'archipelago', 'architect', 'architectural', 'architecture', 'archival', 'archive', 'arctic', 'ardent', 'are', 'area', 'arena', 'arent', 'argentine', 'argue', 'arguer', 'argument', 'aria', 'ariel', 'arise', 'arisen', 'aristocracy', 'arithmetic', 'arjun', 'ark', 'arm', 'armament', 'armchair', 'armed', 'armigerous', 'arming', 'armistice', 'armor', 'armored', 'armory', 'arms', 'army', 'arn', 'arnica', 'arose', 'around', 'arouse', 'arrange', 'arrangement', 'arranger', 'array', 'arrest', 'arresting', 'arris', 'arrival', 'arrive', 'arrogance', 'arrogant', 'arrow', 'arrowed', 'arrowhead', 'arroyo', 'arse', 'arsenal', 'arses', 'arson', 'art', 'arteriosclerotic', 'arthritis', 'artichoke', 'article', 'articulable', 'articulate', 'artificial', 'artificially', 'artillery', 'artilleryman', 'artisan', 'artist', 'artistic', 'artistically', 'as', 'asbestos', 'ascendancy', 'ascending', 'ascension', 'ascent', 'ascertain', 'ascertainable', 'ascetic', 'ascii', 'ascot', 'asexual', 'ash', 'ashamed', 'ashes', 'ashore', 'aside', 'ask', 'asker', 'asleep', 'asp', 'aspect', 'aspen', 'aspirant', 'aspirin', 'aspiring', 'ass', 'assassin', 'assassinate', 'assassination', 'assault', 'assemble', 'assembler', 'assembly', 'assert', 'assertion', 'assertive', 'assess', 'assessed', 'assessment', 'assessor', 'asset', 'assets', 'assign', 'assigned', 'assignment', 'assimilate', 'assis', 'assist', 'assistance', 'assistant', 'associate', 'associated', 'association', 'assorted', 'assortment', 'assumable', 'assume', 'assumed', 'assuming', 'assumption', 'assure', 'assured', 'assuring', 'asterisk', 'asteroid', 'asthma', 'astonishing', 'astonishingly', 'astonishment', 'astounding', 'astoundingly', 'astrodome', 'astroid', 'astrologer', 'astrological', 'astrologically', 'astrology', 'astronaut', 'astronautics', 'astronomer', 'astronomical', 'astronomically', 'astronomy', 'asunder', 'aswell', 'asylum', 'asymmetrical', 'asymmetry', 'at', 'atavism', 'ate', 'atheist', 'athlete', 'athletic', 'athletically', 'athleticism', 'athletics', 'atlantic', 'atlas', 'atmosphere', 'atmospheric', 'atom', 'atomic', 'atonement', 'atop', 'atrium', 'atrocious', 'attach', 'attache', 'attached', 'attachment', 'attack', 'attacker', 'attain', 'attainable', 'attainment', 'attar', 'attempt', 'attend', 'attendance', 'attendant', 'attention', 'attentive', 'attest', 'attic', 'attire', 'attitude', 'attorney', 'attract', 'attractant', 'attraction', 'attractive', 'attractively', 'attractiveness', 'attributable', 'attribute', 'attribution', 'attrition', 'atypical', 'aube', 'auburn', 'auction', 'audacious', 'audacity', 'audible', 'audience', 'audio', 'audit', 'audition', 'auditor', 'auditorium', 'augment', 'august', 'auld', 'aunt', 'aura', 'aurora', 'auspices', 'austerity', 'authentic', 'authenticate', 'authentication', 'authenticity', 'author', 'authoritarian', 'authoritative', 'authority', 'authorization', 'authorize', 'authorized', 'autism', 'autistic', 'auto', 'autobiography', 'autocratic', 'autograph', 'automatic', 'automatically', 'automobile', 'automotive', 'autonomic', 'autonomous', 'autonomy', 'autopilot', 'autopsy', 'autumn', 'auxiliary', 'ava', 'avail', 'availability', 'available', 'avalanche', 'avast', 'ave', 'avenging', 'avenue', 'average', 'aversion', 'avert', 'averted', 'aviation', 'avid', 'avidly', 'avoid', 'avoidance', 'aw', 'awa', 'await', 'awake', 'awakening', 'award', 'aware', 'awareness', 'away', 'awd', 'awe', 'awesome', 'awful', 'awfully', 'awhile', 'awkward', 'ax', 'axe', 'axes', 'axiom', 'axis', 'axle', 'ay', 'aye', 'ayin', 'azimuth', 'b', 'ba', 'baa', 'baba', 'babble', 'babbling', 'babe', 'baby', 'baccalaureate', 'baccarat', 'bach', 'bachelor', 'back', 'backboard', 'backbone', 'backbreaking', 'backcast', 'backcourt', 'backdoor', 'backdrop', 'backed', 'backfield', 'backfire', 'backflow', 'background', 'backing', 'backlash', 'backpedal', 'backside', 'backspace', 'backspin', 'backstage', 'backstop', 'backstroke', 'backtrack', 'backup', 'backward', 'backwardness', 'backwards', 'backwash', 'backwater', 'bacon', 'bacteria', 'bacteriological', 'bad', 'badge', 'badger', 'badly', 'badminton', 'bae', 'baffling', 'bag', 'baggage', 'bagged', 'bagger', 'bagging', 'baggy', 'bagpipes', 'bah', 'bahar', 'bail', 'bailey', 'bain', 'bait', 'bake', 'baked', 'baker', 'bakery', 'baking', 'bal', 'balance', 'balanced', 'balancing', 'bald', 'baleen', 'bali', 'ball', 'ballad', 'ballerina', 'ballet', 'ballistic', 'ballistically', 'balloon', 'ballot', 'balloting', 'ballplayer', 'ballroom', 'balsamo', 'bam', 'bambino', 'bamboo', 'ban', 'banana', 'banc', 'banco', 'band', 'bandage', 'banded', 'bandmaster', 'bane', 'bang', 'banger', 'banging', 'bangkok', 'banish', 'banishment', 'banjo', 'bank', 'banker', 'banking', 'bankrupt', 'bankruptcy', 'banner', 'banning', 'bannister', 'banquet', 'banshee', 'banter', 'bap', 'bar', 'bara', 'barbarian', 'barbaric', 'barbas', 'barbecue', 'barber', 'barbershop', 'barcelona', 'bard', 'bare', 'barefoot', 'barely', 'barfly', 'bargain', 'barge', 'bari', 'bark', 'barker', 'barley', 'barman', 'barn', 'barney', 'baron', 'barrack', 'barred', 'barrel', 'barret', 'barrier', 'barring', 'barroom', 'barry', 'bartender', 'bartending', 'barter', 'bas', 'base', 'baseball', 'based', 'baseless', 'baseman', 'basement', 'bases', 'bash', 'bashful', 'bashfulness', 'basic', 'basically', 'basil', 'basin', 'basis', 'basket', 'basketball', 'bass', 'bassist', 'basso', 'bastard', 'bastardize', 'baster', 'bastille', 'bat', 'batch', 'bateaux', 'bateman', 'bath', 'bathing', 'bathroom', 'bathtub', 'batman', 'baton', 'batsman', 'battalion', 'battel', 'batter', 'battered', 'battery', 'batting', 'battle', 'battled', 'battlefield', 'battleground', 'battleship', 'batty', 'baud', 'baxter', 'bay', 'bayou', 'baze', 'bazooka', 'be', 'beach', 'beacon', 'beaded', 'beagle', 'beak', 'beal', 'beam', 'beamer', 'bean', 'beanie', 'bear', 'beard', 'bearer', 'bearing', 'bearish', 'beast', 'beastie', 'beat', 'beatable', 'beaten', 'beating', 'beau', 'beautiful', 'beautifully', 'beauty', 'beaux', 'beaver', 'bebop', 'because', 'beck', 'becker', 'beckoning', 'become', 'becomes', 'becoming', 'bed', 'bedding', 'bedridden', 'bedroom', 'bedtime', 'bee', 'beechy', 'beef', 'beer', 'beermaker', 'bees', 'beforehand', 'befriend', 'beg', 'begging', 'begin', 'beginner', 'beginning', 'begum', 'begun', 'behalf', 'behave', 'behavior', 'behavioral', 'behaviour', 'behead', 'behind', 'behold', 'beholder', 'behoove', 'beige', 'being', 'bel', 'bela', 'belated', 'beleave', 'belief', 'believable', 'believe', 'believer', 'believing', 'belittle', 'belive', 'bell', 'belle', 'belled', 'bellhop', 'belligerently', 'bellow', 'bellwether', 'belly', 'belong', 'beloved', 'below', 'belt', 'belted', 'bemoan', 'ben', 'bench', 'bend', 'bender', 'bending', 'beneath', 'benedict', 'benefice', 'beneficence', 'beneficial', 'beneficiary', 'benefit', 'benevolence', 'benevolent', 'benign', 'benjamin', 'benny', 'bent', 'ber', 'berger', 'berlin', 'berry', 'berth', 'bes', 'beset', 'beside', 'besides', 'besieged', 'best', 'bestow', 'bet', 'beta', 'betis', 'betray', 'better', 'betterment', 'betters', 'betting', 'betty', 'beverage', 'beware', 'bewildered', 'beyond', 'bias', 'bibi', 'bicameral', 'bice', 'bicentennial', 'biceps', 'bicolor', 'bicycle', 'bid', 'bidder', 'bidding', 'biding', 'bien', 'biennial', 'biff', 'big', 'bigamy', 'bigger', 'biggest', 'bigmouth', 'bigoted', 'bigotry', 'bijou', 'bike', 'bikini', 'bilateral', 'bilbo', 'bilingual', 'bilious', 'bill', 'billabong', 'billboard', 'billed', 'billeting', 'billiard', 'billiards', 'billing', 'billion', 'billionaire', 'billy', 'bin', 'binary', 'bind', 'binder', 'binding', 'bingo', 'biochemical', 'biogen', 'biographic', 'biographical', 'biography', 'biological', 'biologically', 'biologist', 'biology', 'biometric', 'bios', 'biotin', 'bipartisan', 'bipolar', 'birch', 'bird', 'birdhouse', 'birdie', 'birk', 'birth', 'birthday', 'birthplace', 'birthright', 'birthstone', 'biscuit', 'bisexual', 'bishop', 'bison', 'bit', 'bitch', 'bite', 'biti', 'biting', 'bitten', 'bitter', 'bitterly', 'bitterness', 'bittersweet', 'biweekly', 'biz', 'bizarre', 'blab', 'black', 'blackberry', 'blackboard', 'blackjack', 'blackmail', 'blackmailer', 'blackout', 'blacksmith', 'blackwork', 'bladder', 'blade', 'blah', 'blair', 'blake', 'blame', 'blamed', 'blameless', 'blaming', 'blan', 'blanc', 'blanca', 'blancmange', 'bland', 'blank', 'blanket', 'blanketing', 'blasphemy', 'blast', 'blasted', 'blaster', 'blasting', 'blatant', 'blatantly', 'blather', 'blatter', 'blaze', 'blazer', 'blazing', 'bleach', 'bleached', 'bleacher', 'bleak', 'bleed', 'bleeding', 'blemish', 'blend', 'blended', 'blending', 'bless', 'blessed', 'blessing', 'blight', 'blind', 'blinded', 'blinding', 'blindly', 'blindness', 'blink', 'blinked', 'blinkered', 'blinking', 'blinks', 'blip', 'bliss', 'blister', 'blistering', 'blitz', 'blizzard', 'blo', 'bloated', 'bloating', 'blob', 'bloc', 'block', 'blockade', 'blockage', 'blockbuster', 'blocked', 'blocker', 'blockhead', 'blocking', 'blonde', 'blood', 'bloodline', 'bloodshed', 'bloodthirsty', 'bloody', 'bloom', 'blossom', 'blotter', 'blouse', 'blow', 'blower', 'blowfish', 'blowing', 'blown', 'blowout', 'bludgeoned', 'blue', 'bluebird', 'bluebook', 'bluefish', 'bluegill', 'bluegrass', 'blueprint', 'blues', 'bluff', 'blunt', 'blur', 'blurb', 'blurred', 'blurry', 'bo', 'board', 'boarder', 'boarding', 'boardwalk', 'boast', 'boat', 'boatload', 'boatswain', 'bob', 'boba', 'bobber', 'bobbin', 'bobby', 'bobsleigh', 'bod', 'bode', 'bodily', 'body', 'bodyguard', 'bog', 'bogey', 'bogie', 'bogle', 'bogus', 'boil', 'boiled', 'boiler', 'boiling', 'boke', 'bold', 'bolden', 'boldly', 'bolivia', 'boller', 'boloney', 'bolster', 'bolt', 'bolting', 'bomb', 'bombard', 'bombardier', 'bombardment', 'bombed', 'bomber', 'bombo', 'bombshell', 'bon', 'bonanza', 'bond', 'bondage', 'bonded', 'bonderman', 'bondsman', 'bone', 'boner', 'bong', 'bonny', 'bonus', 'boo', 'boob', 'book', 'bookable', 'booked', 'booker', 'bookie', 'booking', 'bookkeeping', 'booklet', 'bookmark', 'bookseller', 'bookstore', 'boom', 'booming', 'boondocks', 'boondoggle', 'boorish', 'boost', 'booster', 'boot', 'booted', 'booth', 'booting', 'bootlegger', 'boots', 'bootstrap', 'booty', 'booze', 'boozer', 'bora', 'border', 'bordering', 'borderline', 'bore', 'boredom', 'borg', 'boring', 'boringly', 'born', 'borne', 'boro', 'borough', 'borrow', 'borrower', 'borrowing', 'bose', 'bosh', 'boss', 'bossed', 'bossy', 'boston', 'bot', 'botched', 'bother', 'bottle', 'bottled', 'bottler', 'bottling', 'bottom', 'botulism', 'boucher', 'bough', 'bought', 'boulevard', 'bounce', 'bouncing', 'bound', 'boundary', 'bounded', 'bourbon', 'bout', 'bow', 'bowed', 'bowel', 'bowels', 'bower', 'bowie', 'bowing', 'bowl', 'bowler', 'bowling', 'bowls', 'bowman', 'bowwow', 'box', 'boxer', 'boxing', 'boy', 'boycott', 'bra', 'brace', 'braced', 'bracelet', 'braces', 'brack', 'bracket', 'brad', 'brag', 'bragging', 'braid', 'brail', 'brain', 'brainless', 'brains', 'brainwashing', 'brainy', 'brake', 'bramble', 'branch', 'branching', 'brand', 'branded', 'brandy', 'brash', 'brass', 'brat', 'bratstvo', 'bravado', 'brave', 'bravely', 'bravery', 'bravo', 'brawl', 'brazenly', 'brazil', 'breach', 'bread', 'breadth', 'breadwinner', 'break', 'breakaway', 'breakdown', 'breaker', 'breakfast', 'breaking', 'breakout', 'breakthrough', 'breakup', 'bream', 'breast', 'breath', 'breathable', 'breathe', 'breathed', 'breather', 'breathing', 'bred', 'bree', 'breech', 'breeches', 'breed', 'breeding', 'breeze', 'breezy', 'brent', 'bret', 'brethren', 'brett', 'brevet', 'brewer', 'brewery', 'brewing', 'bribe', 'bribery', 'brick', 'bride', 'bridesmaid', 'bridge', 'bridger', 'bridging', 'brief', 'briefing', 'briefly', 'briefs', 'brigade', 'bright', 'brighten', 'brightness', 'brill', 'brilliance', 'brilliant', 'brilliantly', 'brimful', 'brimming', 'brimstone', 'brin', 'bring', 'brink', 'brisk', 'briskly', 'brit', 'broad', 'broadcast', 'broadcaster', 'broaden', 'broadly', 'broadsheet', 'broadway', 'broccoli', 'brochure', 'brock', 'broke', 'broken', 'brokenhearted', 'broker', 'brokerage', 'bronchial', 'bronze', 'bronzed', 'brood', 'brooding', 'broom', 'broth', 'brothel', 'brother', 'brotherhood', 'brotherly', 'brought', 'brow', 'brown', 'brownie', 'browning', 'browny', 'browse', 'browser', 'browsing', 'bruise', 'bruising', 'bruit', 'brunette', 'brunswick', 'brunt', 'brush', 'brushed', 'brushes', 'brushing', 'brushless', 'brutal', 'brutality', 'brutally', 'brute', 'bu', 'bubble', 'buck', 'bucked', 'bucket', 'buckle', 'buckled', 'buckling', 'bucky', 'bud', 'budding', 'buddy', 'budge', 'budget', 'budgetary', 'buff', 'buffalo', 'buffer', 'buffet', 'buffoonish', 'buffy', 'bug', 'bugbear', 'bugger', 'bugle', 'bugler', 'build', 'builder', 'building', 'buildup', 'built', 'bulb', 'bulge', 'bulger', 'bulimia', 'bulimic', 'bulk', 'bulky', 'bull', 'bulldog', 'bullet', 'bulletin', 'bulletlike', 'bulletproof', 'bullfrog', 'bullheaded', 'bullhorn', 'bulling', 'bullion', 'bullish', 'bullock', 'bully', 'bullying', 'bum', 'bumble', 'bummed', 'bummer', 'bump', 'bumper', 'bumping', 'bumpy', 'bunch', 'bundle', 'bundy', 'bungee', 'bungling', 'bunker', 'bunny', 'bunt', 'bunty', 'buoyancy', 'buoyant', 'bur', 'burden', 'bureau', 'bureaucracy', 'bureaucrat', 'bureaucratic', 'burg', 'burgess', 'burglar', 'burglary', 'burial', 'buried', 'burke', 'burn', 'burnable', 'burned', 'burner', 'burning', 'burnout', 'burnt', 'burp', 'burr', 'burrow', 'burry', 'burst', 'burt', 'burton', 'bury', 'bus', 'bush', 'bushing', 'busily', 'business', 'businessman', 'bust', 'busted', 'buster', 'bustling', 'busy', 'but', 'butane', 'butch', 'butler', 'butt', 'butte', 'butter', 'butterfly', 'button', 'buttons', 'buy', 'buyer', 'buzz', 'buzzing', 'by', 'bye', 'bygone', 'bylaw', 'bypass', 'bystander', 'c', 'ca', 'cab', 'cabaret', 'cabbage', 'cabby', 'cabin', 'cabinet', 'cable', 'cabling', 'cabot', 'cachalot', 'cache', 'cad', 'cadaver', 'caddie', 'caddy', 'cadet', 'cadre', 'cafeteria', 'cage', 'cain', 'cairn', 'caisson', 'cajun', 'cake', 'cakewalk', 'cal', 'calcium', 'calculable', 'calculate', 'calculated', 'calculating', 'calculation', 'calculator', 'calculus', 'calendar', 'calender', 'calf', 'caliber', 'calibrate', 'calibration', 'calibre', 'calico', 'calisthenics', 'call', 'caller', 'calling', 'callous', 'calm', 'calmer', 'calmly', 'calorie', 'calves', 'calypso', 'cam', 'camara', 'camaraderie', 'came', 'camel', 'cameo', 'camera', 'cameraman', 'camouflage', 'camp', 'campaign', 'camper', 'campground', 'campus', 'canada', 'canal', 'canary', 'cancel', 'cancellation', 'cancer', 'cand', 'candela', 'candid', 'candidacy', 'candidate', 'candidly', 'candied', 'candle', 'candor', 'candy', 'cane', 'canned', 'cannibal', 'canning', 'cannon', 'canoe', 'canon', 'canonic', 'canonical', 'canonization', 'canopy', 'cant', 'cantina', 'canton', 'canvas', 'canvass', 'canyon', 'cap', 'capability', 'capable', 'capacity', 'cape', 'capel', 'capital', 'capitalism', 'capitalist', 'capitalistic', 'capitalization', 'capitalize', 'capitulation', 'capote', 'capped', 'capping', 'cappy', 'capricious', 'capsule', 'captain', 'captaincy', 'caption', 'captive', 'captivity', 'capture', 'car', 'caramel', 'carat', 'carbolic', 'carbon', 'carbonation', 'carburetor', 'carcass', 'card', 'cardboard', 'carded', 'cardinal', 'cardiologist', 'cardiovascular', 'care', 'career', 'carefree', 'careful', 'carefully', 'careless', 'carelessly', 'carelessness', 'caretaker', 'caretaking', 'cargo', 'caribou', 'caricature', 'carl', 'carling', 'carnage', 'carnal', 'carnivorous', 'carol', 'caroline', 'carom', 'carp', 'carpal', 'carpenter', 'carpentry', 'carpet', 'carpetbagger', 'carpeting', 'carr', 'carriage', 'carrick', 'carried', 'carrier', 'carrot', 'carry', 'carrying', 'cart', 'carte', 'cartel', 'carter', 'carton', 'cartoon', 'cartridge', 'cartwright', 'carve', 'cascade', 'case', 'cash', 'cashbox', 'cashew', 'cashier', 'casing', 'casino', 'casket', 'casse', 'casserole', 'cassie', 'cast', 'caste', 'caster', 'casting', 'castle', 'castrate', 'casual', 'casually', 'casualty', 'cat', 'catalina', 'catalogue', 'catalyst', 'catapult', 'catastrophe', 'catastrophic', 'catbird', 'catch', 'catchall', 'catcher', 'catching', 'catchy', 'cate', 'catechism', 'categorization', 'categorize', 'category', 'cater', 'caterpillar', 'catfish', 'catharsis', 'catheter', 'catholic', 'cattle', 'caucho', 'caucus', 'caudal', 'caught', 'cause', 'causing', 'caution', 'cautionary', 'cautious', 'cautiously', 'cavalry', 'cave', 'caveat', 'cavendish', 'cavernous', 'cavity', 'cavort', 'cayman', 'ce', 'cease', 'cedar', 'ceiling', 'celebrate', 'celebrated', 'celebration', 'celebratory', 'celebrity', 'celery', 'celibacy', 'celibate', 'cell', 'cello', 'cellophane', 'cellular', 'celluloid', 'cement', 'cemetery', 'cense', 'censor', 'censorship', 'censure', 'census', 'cent', 'centaur', 'centenary', 'center', 'centered', 'centerpiece', 'central', 'centralism', 'centralization', 'centralize', 'centrally', 'centrist', 'century', 'ceramic', 'cereal', 'cerebral', 'ceremonial', 'ceremony', 'cern', 'certain', 'certainly', 'certainty', 'certifiable', 'certificate', 'certification', 'certified', 'certiorari', 'cervix', 'cess', 'cessation', 'cest', 'cha', 'chad', 'chaff', 'chaffing', 'chagrin', 'chai', 'chain', 'chair', 'chairman', 'chakra', 'chalet', 'chalk', 'challenge', 'challenger', 'chamber', 'chambered', 'chamberlain', 'chambermaid', 'champ', 'champagne', 'champaign', 'champion', 'championship', 'chance', 'chancellor', 'chancery', 'chandler', 'chang', 'change', 'changeable', 'changer', 'channel', 'channeled', 'chant', 'chanting', 'chao', 'chaos', 'chaotic', 'chap', 'chapeau', 'chaperon', 'chapin', 'chaplain', 'chapman', 'chappy', 'chaps', 'chapter', 'char', 'character', 'characteristic', 'characterization', 'characterize', 'charade', 'charcoal', 'charette', 'charge', 'chargeable', 'charger', 'charging', 'charisma', 'charismatic', 'charitable', 'charity', 'charm', 'charmer', 'charming', 'chart', 'charter', 'chartered', 'charting', 'chartreuse', 'chase', 'chaser', 'chasing', 'chassis', 'chastity', 'chat', 'chattel', 'chatter', 'chattering', 'chatting', 'chatty', 'chauffeur', 'che', 'cheap', 'cheaping', 'cheaply', 'cheapness', 'cheat', 'cheater', 'cheating', 'check', 'checkbook', 'checked', 'checker', 'checkered', 'checkers', 'cheek', 'cheeky', 'cheeper', 'cheer', 'cheered', 'cheerful', 'cheerfully', 'cheerily', 'cheering', 'cheerleader', 'cheery', 'cheese', 'cheeseburger', 'cheesy', 'cheet', 'cheetah', 'chef', 'chemical', 'chemically', 'chemistry', 'chemotherapy', 'cheque', 'cherish', 'cherry', 'chess', 'chest', 'chester', 'chesterfield', 'chestnut', 'chevron', 'chevy', 'chew', 'chi', 'chic', 'chick', 'chickadee', 'chicken', 'chico', 'chief', 'chiefly', 'chiffon', 'child', 'childbearing', 'childbirth', 'childhood', 'childish', 'chile', 'chili', 'chill', 'chilled', 'chilling', 'chilly', 'chime', 'chin', 'china', 'chine', 'chinny', 'chino', 'chip', 'chipped', 'chipper', 'chipping', 'chips', 'chiropractor', 'chirping', 'chocolate', 'choice', 'choir', 'choke', 'choking', 'cholesterol', 'choose', 'choosing', 'chop', 'chopped', 'chopper', 'chopping', 'choppy', 'chord', 'chore', 'chorus', 'chose', 'chosen', 'chowder', 'chromatic', 'chrome', 'chromosome', 'chronic', 'chronically', 'chronicle', 'chronological', 'chronologically', 'chubby', 'chuck', 'chucking', 'chuckle', 'chum', 'chump', 'chunk', 'chunky', 'church', 'churn', 'churning', 'cider', 'cig', 'cigar', 'cigarette', 'cine', 'cinema', 'cinematic', 'cinematography', 'cingular', 'cipher', 'circa', 'circle', 'circling', 'circuit', 'circular', 'circularly', 'circulate', 'circulation', 'circulatory', 'circumference', 'circumflex', 'circumnavigation', 'circumstance', 'circumvent', 'circus', 'cisco', 'cistern', 'citadel', 'citation', 'cite', 'citer', 'citizen', 'citizenry', 'citizenship', 'citrus', 'city', 'civic', 'civics', 'civil', 'civilian', 'civility', 'civilization', 'civilized', 'clad', 'claim', 'clam', 'clamp', 'clan', 'clap', 'clapped', 'clapping', 'clarendon', 'clarification', 'clarify', 'clarinet', 'clarity', 'clark', 'clash', 'clasp', 'class', 'classed', 'classes', 'classic', 'classical', 'classification', 'classified', 'classis', 'classmate', 'classroom', 'classy', 'clause', 'claw', 'clay', 'clean', 'cleaner', 'cleaning', 'cleanliness', 'cleanly', 'cleanse', 'cleansing', 'cleanup', 'clear', 'clearance', 'clearer', 'clearing', 'clearly', 'cleat', 'cleavage', 'cleaver', 'clef', 'cleft', 'clemency', 'clement', 'clench', 'cleric', 'clerical', 'clerk', 'clever', 'cleverness', 'cliche', 'click', 'clicker', 'client', 'clientele', 'cliff', 'climate', 'climatic', 'climax', 'climb', 'climber', 'climbing', 'clinch', 'clincher', 'cline', 'cling', 'clinging', 'clingy', 'clinic', 'clinical', 'clinically', 'clink', 'clint', 'clip', 'clipped', 'clipper', 'clipping', 'clips', 'clique', 'clive', 'clock', 'clocked', 'clockface', 'clockmaker', 'clockwise', 'clone', 'close', 'closed', 'closely', 'closeness', 'closer', 'closet', 'closure', 'cloth', 'clothe', 'clothes', 'clothing', 'cloture', 'cloud', 'clouded', 'cloudy', 'clough', 'clout', 'cloven', 'clown', 'club', 'clubbed', 'clubber', 'clubbing', 'clubhouse', 'clue', 'clumsily', 'clumsy', 'clunk', 'cluster', 'clustering', 'clutch', 'clutter', 'coach', 'coaching', 'coal', 'coalition', 'coarse', 'coast', 'coastal', 'coaster', 'coat', 'coated', 'coating', 'coax', 'cob', 'cobalt', 'cobra', 'coca', 'cocaine', 'cock', 'cocked', 'cockeyed', 'cockroach', 'cocktail', 'cocky', 'coco', 'cocoa', 'coconspirator', 'coconut', 'cod', 'code', 'coder', 'codex', 'coe', 'coed', 'coefficient', 'coelho', 'coercion', 'coexist', 'coffee', 'coffeehouse', 'coffin', 'cofounder', 'cog', 'cognitive', 'cognizant', 'coherent', 'cohesive', 'coil', 'coin', 'coincide', 'coincidence', 'coincidental', 'coincidentally', 'coke', 'coker', 'col', 'cola', 'cold', 'colder', 'coldly', 'cole', 'colima', 'colin', 'coliseum', 'collaborate', 'collaboration', 'collage', 'collagen', 'collapse', 'collar', 'collard', 'collateral', 'colleague', 'collect', 'collectable', 'collected', 'collectible', 'collection', 'collective', 'collectively', 'collectivism', 'collectivization', 'collector', 'college', 'collegiate', 'collide', 'collier', 'collin', 'collins', 'collision', 'colloquial', 'colloquially', 'colon', 'colonel', 'colonial', 'colonist', 'colonization', 'colony', 'color', 'colorado', 'colored', 'colorful', 'coloring', 'colorless', 'colors', 'colour', 'colt', 'columbine', 'column', 'columned', 'columnist', 'coma', 'combat', 'combatant', 'combination', 'combine', 'combined', 'combining', 'combustible', 'combustion', 'come', 'comeback', 'comedian', 'comedic', 'comedy', 'comes', 'comet', 'comfort', 'comfortable', 'comfortably', 'comforting', 'comfy', 'comic', 'comical', 'comically', 'coming', 'comingle', 'comitatus', 'comma', 'command', 'commander', 'commanding', 'commandment', 'commando', 'commemorate', 'commemoration', 'commemorative', 'commence', 'commend', 'commendable', 'comment', 'commentary', 'commerce', 'commercial', 'commercialism', 'commercialization', 'commercialize', 'commercially', 'commie', 'commissary', 'commission', 'commissioner', 'commit', 'commitment', 'committee', 'commodity', 'common', 'commonly', 'commonplace', 'commonwealth', 'communal', 'communalism', 'communally', 'communicate', 'communicating', 'communication', 'communicator', 'communism', 'communist', 'community', 'commute', 'commuter', 'commuting', 'compact', 'companion', 'companionship', 'company', 'comparable', 'comparably', 'comparative', 'comparatively', 'compare', 'comparison', 'compartment', 'compass', 'compassion', 'compassionate', 'compatibility', 'compatible', 'compatriot', 'compel', 'compelling', 'compendium', 'compensate', 'compensation', 'compete', 'competence', 'competent', 'competition', 'competitive', 'competitively', 'competitiveness', 'competitor', 'compilation', 'compile', 'compiler', 'complacency', 'complacent', 'complain', 'complainant', 'complaint', 'complement', 'complementary', 'complete', 'completely', 'completion', 'complex', 'complexion', 'complexity', 'compliance', 'compliancy', 'compliant', 'complicate', 'complicated', 'complication', 'complicity', 'complier', 'compliment', 'complimentary', 'comply', 'component', 'compose', 'composed', 'composer', 'composite', 'composition', 'compost', 'composure', 'compound', 'compounding', 'comprehend', 'comprehensive', 'compress', 'compressed', 'compression', 'compressor', 'comprise', 'comprised', 'compromise', 'compromising', 'compter', 'comptroller', 'compulsion', 'compulsive', 'compulsory', 'computation', 'computational', 'compute', 'computer', 'con', 'conational', 'concave', 'conceal', 'concealed', 'conceded', 'conceit', 'conceive', 'concentrate', 'concentrated', 'concentration', 'concept', 'conception', 'conceptual', 'concern', 'concerned', 'concerning', 'concert', 'concerted', 'concerto', 'concession', 'concierge', 'conciliation', 'concise', 'conclude', 'concluding', 'conclusion', 'conclusively', 'concoction', 'concord', 'concordance', 'concreate', 'concrete', 'concubine', 'concur', 'concurrent', 'concussion', 'cond', 'condemn', 'condemnation', 'condemned', 'condemning', 'condensation', 'condensed', 'condescending', 'condition', 'conditional', 'conditioned', 'conditioner', 'condominium', 'condone', 'condor', 'conduct', 'conductor', 'conduit', 'cone', 'cones', 'confectionery', 'confederate', 'confederation', 'conference', 'confess', 'confessing', 'confession', 'confessional', 'confidant', 'confidence', 'confident', 'confidential', 'confidentiality', 'confidentially', 'confidently', 'configuration', 'configure', 'confined', 'confirm', 'confirmation', 'confirmed', 'confirmer', 'confirming', 'confiscation', 'conflict', 'conflicting', 'conform', 'confounding', 'confront', 'confrontation', 'confuse', 'confused', 'confusion', 'congeniality', 'congestion', 'conglomerate', 'congratulate', 'congregate', 'congress', 'congressional', 'congressman', 'conical', 'conjoined', 'conjointly', 'conjunction', 'conjure', 'connect', 'connected', 'connection', 'connectivity', 'connector', 'conner', 'connexion', 'connotation', 'connote', 'conquer', 'conquest', 'conquistador', 'conscience', 'conscious', 'consciously', 'consciousness', 'conscript', 'consecrate', 'consecrated', 'consecutive', 'consecutively', 'consensual', 'consensus', 'consent', 'consenting', 'consequence', 'consequent', 'consequently', 'conservancy', 'conservation', 'conservatism', 'conservative', 'conserve', 'conserver', 'consider', 'considerable', 'considerably', 'considerate', 'consideration', 'considered', 'considering', 'consignee', 'consignment', 'consignor', 'consist', 'consistency', 'consistent', 'consistently', 'consolation', 'console', 'consolidate', 'consolidated', 'consolidation', 'consonant', 'consort', 'consortium', 'conspicuous', 'conspiracy', 'conspiratorially', 'conspire', 'constable', 'constant', 'constantly', 'constellation', 'constituency', 'constituent', 'constitute', 'constitution', 'constitutional', 'constitutionality', 'constitutionalize', 'constrained', 'construct', 'construction', 'constructionist', 'constructive', 'constructively', 'consular', 'consulate', 'consult', 'consultant', 'consultation', 'consulting', 'consumable', 'consume', 'consumer', 'consuming', 'consummate', 'consumption', 'contact', 'contagious', 'contain', 'container', 'contamination', 'contemplate', 'contemplation', 'contemplative', 'contemporary', 'contempt', 'contender', 'contending', 'content', 'contented', 'contention', 'contentious', 'contents', 'contest', 'contestant', 'contestation', 'context', 'contextual', 'contiguous', 'continent', 'continental', 'contingency', 'contingent', 'continually', 'continuance', 'continuation', 'continue', 'continued', 'continuer', 'continuity', 'continuous', 'continuously', 'continuum', 'contorted', 'contour', 'contra', 'contraband', 'contraception', 'contract', 'contracted', 'contraction', 'contractor', 'contractual', 'contractually', 'contradict', 'contrapuntally', 'contrary', 'contrast', 'contribute', 'contribution', 'contributor', 'contributory', 'contrite', 'control', 'controllable', 'controller', 'controversial', 'controversy', 'convenience', 'convenient', 'conveniently', 'convention', 'conventional', 'converge', 'convergence', 'conversation', 'conversational', 'converse', 'conversely', 'conversion', 'convert', 'converted', 'converter', 'convertible', 'converting', 'convertor', 'convex', 'convey', 'convict', 'conviction', 'convince', 'convinced', 'convincing', 'convincingly', 'convoluted', 'convoy', 'cook', 'cookbook', 'cooking', 'cool', 'cooler', 'cooling', 'coop', 'cooper', 'cop', 'copa', 'cope', 'copied', 'copier', 'copilot', 'coping', 'copped', 'copper', 'copperhead', 'copy', 'copyright', 'cor', 'cord', 'cordial', 'cordially', 'core', 'corinne', 'cork', 'corked', 'corn', 'corner', 'cornered', 'cornerstone', 'cornet', 'cornfield', 'cornice', 'corning', 'corny', 'corollary', 'coronary', 'coroner', 'corp', 'corporate', 'corporation', 'corps', 'corpse', 'corpsman', 'corpus', 'correct', 'corrected', 'correcting', 'correction', 'correctional', 'corrective', 'correctly', 'correctness', 'correlate', 'correlated', 'correlation', 'correspond', 'correspondence', 'correspondent', 'corresponding', 'correspondingly', 'corridor', 'corrugated', 'corrupt', 'corrupted', 'corrupting', 'corruption', 'corse', 'cortex', 'cortez', 'corvette', 'cos', 'cosigner', 'cosmetology', 'cosmic', 'cosmopolitan', 'cosmos', 'cost', 'costa', 'costing', 'costly', 'costume', 'costumer', 'cot', 'cote', 'coterie', 'cotillion', 'cotta', 'cottage', 'cotter', 'cotton', 'couch', 'cougar', 'cough', 'coul', 'could', 'council', 'counsel', 'counselor', 'count', 'counter', 'counterclockwise', 'counterespionage', 'counterfeit', 'counterintelligence', 'counterpart', 'counterrevolutionary', 'counting', 'countless', 'country', 'countryfolk', 'countryside', 'county', 'coup', 'coupe', 'couple', 'coupled', 'coupon', 'courage', 'courageous', 'courant', 'courier', 'course', 'court', 'courter', 'courtesy', 'courthouse', 'courtlike', 'courtroom', 'courtship', 'cousin', 'covariance', 'covenant', 'cover', 'coverage', 'covered', 'covering', 'covert', 'covet', 'cow', 'coward', 'cowardice', 'cowardly', 'cowboy', 'cox', 'coy', 'coz', 'cozy', 'crab', 'crabbed', 'crabbing', 'crablike', 'crack', 'crackable', 'crackdown', 'cracked', 'cracker', 'crackers', 'cracking', 'cradle', 'cradling', 'craft', 'craftsman', 'crafty', 'crake', 'cram', 'cramped', 'crampy', 'cranberry', 'crane', 'cranial', 'cranium', 'crank', 'cranked', 'crankshaft', 'cranky', 'crap', 'craps', 'crash', 'crass', 'crate', 'crater', 'cratered', 'crave', 'craven', 'craw', 'crawl', 'crawling', 'crayon', 'craze', 'crazed', 'craziness', 'crazy', 'creaky', 'cream', 'crease', 'creat', 'create', 'creation', 'creative', 'creatively', 'creativity', 'creator', 'creature', 'credence', 'credential', 'credibility', 'credible', 'credit', 'creditor', 'credulous', 'cree', 'creed', 'creek', 'creep', 'creepy', 'cremation', 'creole', 'crest', 'crested', 'crevice', 'crew', 'crewman', 'crib', 'cricket', 'cricketer', 'cricketing', 'cried', 'crime', 'criminal', 'criminally', 'crimp', 'cringe', 'cripes', 'cripple', 'crippling', 'crisis', 'crisp', 'crispy', 'criss', 'criteria', 'criterion', 'critic', 'critical', 'critically', 'criticism', 'criticize', 'critique', 'croak', 'crock', 'crocker', 'crocodile', 'crook', 'crooked', 'crop', 'croquet', 'cross', 'crossbar', 'crossed', 'crossing', 'crossover', 'crossroads', 'crotch', 'crouch', 'crow', 'crowd', 'crowded', 'crown', 'crowned', 'crucial', 'cruciate', 'crucifixion', 'crude', 'cruel', 'cruelty', 'cruise', 'cruiser', 'crummy', 'crump', 'crumpler', 'crunch', 'crunchy', 'crunk', 'crusade', 'crusader', 'crush', 'crushed', 'crushing', 'crust', 'crusty', 'crutch', 'crux', 'cry', 'crybaby', 'crying', 'cryptic', 'crystal', 'crystallized', 'cub', 'cube', 'cubic', 'cubicle', 'cuckoo', 'cucumber', 'cud', 'cuddle', 'cue', 'cuff', 'cuisine', 'culinary', 'culmination', 'culpable', 'culprit', 'cult', 'cultivate', 'cultivated', 'cultivation', 'cultural', 'culturally', 'culture', 'culvert', 'cum', 'cumulate', 'cumulative', 'cunning', 'cup', 'curb', 'cure', 'curfew', 'curiosity', 'curious', 'curl', 'curled', 'curlew', 'curling', 'curly', 'curr', 'currency', 'current', 'currently', 'curricular', 'curriculum', 'curry', 'curse', 'cursed', 'curser', 'cursor', 'curt', 'curtail', 'curvature', 'curve', 'curved', 'cush', 'cushion', 'cushy', 'cusp', 'custodial', 'custodian', 'custody', 'custom', 'customarily', 'customer', 'customs', 'cut', 'cute', 'cutie', 'cutler', 'cutlery', 'cutoff', 'cutout', 'cutter', 'cutthroat', 'cutting', 'cyan', 'cycle', 'cyclic', 'cyclical', 'cycling', 'cyclist', 'cylinder', 'cynical', 'cynicism', 'cyrus', 'cyst', 'czar', 'czarina', 'd', 'da', 'dabble', 'dad', 'daddy', 'dade', 'daffy', 'daft', 'dagger', 'dah', 'daily', 'dairy', 'daisy', 'dal', 'dale', 'dalton', 'dam', 'damage', 'damages', 'dame', 'damme', 'damn', 'damnation', 'damned', 'damp', 'dampener', 'dampness', 'dan', 'dance', 'dancer', 'dancing', 'dandruff', 'dandy', 'dang', 'danger', 'dangerous', 'dangerously', 'dangle', 'dangling', 'dap', 'darby', 'dare', 'dari', 'daring', 'dark', 'darkly', 'darkness', 'darling', 'darn', 'dart', 'das', 'dash', 'dashed', 'dashing', 'dastardly', 'data', 'date', 'dating', 'datum', 'daughter', 'daunting', 'dauphin', 'davenport', 'davy', 'dawn', 'day', 'daydream', 'daylight', 'daylong', 'days', 'daytime', 'daze', 'dazed', 'dazzle', 'de', 'deacon', 'deactivate', 'dead', 'deadline', 'deadly', 'deadman', 'deadwood', 'deaf', 'deafness', 'deal', 'dealer', 'dealership', 'dealing', 'dealt', 'dean', 'dear', 'dearborn', 'dearly', 'dearth', 'deary', 'death', 'deathbed', 'debase', 'debatable', 'debate', 'debating', 'debit', 'debris', 'debt', 'debtor', 'debut', 'decade', 'decadence', 'decadent', 'decapitate', 'decapitation', 'decay', 'decayed', 'deceased', 'decedent', 'deceit', 'deceitful', 'deceive', 'deceiving', 'decency', 'decent', 'decently', 'deception', 'deceptive', 'decide', 'decided', 'decider', 'decimal', 'decimate', 'decipher', 'decision', 'decisive', 'decisively', 'deck', 'declaration', 'declare', 'declared', 'declassify', 'decline', 'declined', 'decode', 'decomposition', 'decorate', 'decorated', 'decoration', 'decorative', 'decoy', 'decrease', 'decreasing', 'decree', 'decry', 'dedicate', 'dedication', 'deduct', 'deductible', 'deduction', 'dee', 'deed', 'deem', 'deep', 'deeply', 'deepness', 'deer', 'defamation', 'defamed', 'default', 'defeat', 'defeatist', 'defect', 'defection', 'defective', 'defence', 'defend', 'defendant', 'defender', 'defense', 'defenseless', 'defensible', 'defensive', 'defensively', 'defer', 'deference', 'deferential', 'deferment', 'deferral', 'deferred', 'defiance', 'defiant', 'defiantly', 'deficiency', 'deficient', 'deficit', 'define', 'defined', 'definite', 'definitely', 'definition', 'definitive', 'definitively', 'deflate', 'deflation', 'deflected', 'deformed', 'deformity', 'defraud', 'defray', 'deft', 'deftly', 'defuse', 'defy', 'deg', 'degauss', 'degeneration', 'degradation', 'degrade', 'degraded', 'degrading', 'degree', 'dehumanize', 'dehydration', 'deign', 'deity', 'delay', 'delaying', 'delegate', 'delegation', 'delete', 'deletion', 'deliberate', 'deliberately', 'deliberation', 'deliberative', 'delicate', 'delicious', 'deliciousness', 'delight', 'delighted', 'delightful', 'delineate', 'delineation', 'delinquency', 'delinquent', 'delirious', 'deliver', 'delivery', 'dell', 'delta', 'deluge', 'delusion', 'delusional', 'deluxe', 'demand', 'demanding', 'demeanor', 'demented', 'demersal', 'demi', 'demise', 'democracy', 'democrat', 'democratic', 'democratically', 'demographic', 'demolish', 'demolition', 'demon', 'demonstrate', 'demonstration', 'demoralize', 'demos', 'demure', 'den', 'denial', 'denomination', 'denominator', 'denote', 'denounce', 'dense', 'densely', 'density', 'dent', 'dental', 'dentist', 'denudation', 'deny', 'deodorant', 'depart', 'departed', 'department', 'departmental', 'departure', 'depend', 'dependability', 'dependable', 'dependence', 'dependency', 'dependent', 'depending', 'depersonalization', 'depict', 'deplete', 'deploy', 'deployment', 'deport', 'deportation', 'depose', 'deposit', 'deposition', 'depository', 'depot', 'depraved', 'depreciation', 'depredation', 'depress', 'depressed', 'depressing', 'depression', 'deprivation', 'deprive', 'depth', 'deputy', 'deranged', 'derby', 'derisively', 'derivative', 'derive', 'derived', 'dernier', 'derogatory', 'derrick', 'derry', 'descend', 'descendant', 'descent', 'describe', 'description', 'descriptive', 'desert', 'deserted', 'desertion', 'deserve', 'deserved', 'deserving', 'deservingly', 'design', 'designate', 'designation', 'designator', 'designed', 'designer', 'designing', 'desirable', 'desire', 'desired', 'desk', 'despair', 'desperate', 'desperately', 'desperation', 'despicable', 'despite', 'despotic', 'dessert', 'destabilize', 'destination', 'destiny', 'destitution', 'destroy', 'destroyer', 'destructible', 'destruction', 'destructive', 'detach', 'detail', 'detailed', 'detain', 'detainment', 'detect', 'detectable', 'detection', 'detective', 'detector', 'detention', 'deter', 'detergent', 'deterioration', 'determination', 'determine', 'determined', 'deterrence', 'deterrent', 'dethrone', 'detract', 'detriment', 'detrimental', 'deuce', 'deuterocanonical', 'dev', 'devastating', 'devastatingly', 'devastation', 'develop', 'developer', 'development', 'developmental', 'deviant', 'deviate', 'deviation', 'device', 'devil', 'devious', 'devise', 'devoid', 'devolve', 'devonshire', 'devote', 'devoted', 'devotion', 'devout', 'dew', 'dexter', 'dey', 'dharma', 'dhoni', 'di', 'diabetes', 'diabetic', 'diagnosable', 'diagnose', 'diagnoses', 'diagnosis', 'diagnostic', 'diagnostics', 'diagram', 'dial', 'dialect', 'dialer', 'dialogue', 'dialysis', 'diameter', 'diamond', 'diapering', 'diaphragm', 'diarchy', 'diary', 'dice', 'dichotomy', 'dick', 'dickens', 'dictate', 'dictation', 'dictator', 'dictatorial', 'dictatorship', 'dictionary', 'dictum', 'did', 'diddle', 'diddy', 'didnt', 'die', 'diehard', 'diem', 'diesel', 'diet', 'dietician', 'differ', 'difference', 'different', 'differential', 'differentiate', 'differentiation', 'differently', 'difficile', 'difficult', 'difficulty', 'diffused', 'dig', 'digest', 'digested', 'digger', 'digging', 'digit', 'digital', 'digitally', 'dignified', 'dignity', 'digress', 'dika', 'dilation', 'dildo', 'dilemma', 'diligence', 'diligent', 'diligently', 'dill', 'dilute', 'diluted', 'dim', 'dime', 'dimension', 'dimensional', 'dimensionally', 'diminish', 'diminution', 'diminutive', 'dimmed', 'din', 'dine', 'diner', 'dinero', 'ding', 'dingdong', 'dingle', 'dingy', 'dining', 'dinner', 'dinnertime', 'dinosaur', 'dioxide', 'dip', 'diploma', 'diplomacy', 'diplomat', 'diplomatic', 'diplomatically', 'dipped', 'dipping', 'dire', 'direct', 'directed', 'direction', 'directional', 'directive', 'directly', 'director', 'directorate', 'directory', 'dirk', 'dirt', 'dirty', 'dis', 'disability', 'disable', 'disabled', 'disadvantage', 'disaffected', 'disagree', 'disagreed', 'disagreement', 'disallow', 'disappear', 'disappearance', 'disappearing', 'disappoint', 'disappointed', 'disappointing', 'disappointment', 'disapprove', 'disarm', 'disarmed', 'disarray', 'disassociation', 'disaster', 'disastrous', 'disbelief', 'disburse', 'disc', 'discard', 'discern', 'discernible', 'discerning', 'discharge', 'discharging', 'disciple', 'disciplinary', 'discipline', 'disclaim', 'disclaimer', 'disclose', 'disclosed', 'disclosure', 'discoid', 'discoloration', 'discomfort', 'disconnect', 'disconnected', 'discontent', 'discount', 'discounter', 'discourage', 'discourse', 'discover', 'discovered', 'discoverer', 'discovery', 'discredit', 'discreetly', 'discrepancy', 'discrete', 'discretion', 'discretionary', 'discriminate', 'discrimination', 'discriminatory', 'discus', 'discuss', 'discussion', 'disdain', 'disease', 'diseased', 'disenfranchisement', 'disengaged', 'disestablishment', 'disfigurement', 'disgrace', 'disgraceful', 'disguise', 'disguised', 'disguising', 'disgust', 'disgusted', 'disgusting', 'dish', 'dishonest', 'dishonorable', 'dishwasher', 'dishwashing', 'disingenuous', 'disinterested', 'disk', 'dislike', 'dislocated', 'dismal', 'dismantle', 'dismay', 'dismiss', 'dismissal', 'disobedience', 'disobey', 'disorder', 'disorderly', 'disown', 'disparate', 'disparity', 'dispassionate', 'dispatch', 'dispatcher', 'dispenser', 'disperse', 'displace', 'display', 'displayed', 'displeasure', 'disposable', 'disposal', 'dispose', 'disposed', 'disposition', 'disproportionately', 'disprove', 'disproven', 'dispute', 'disputer', 'disqualification', 'disqualify', 'disregard', 'disrepair', 'disrespect', 'disrespectful', 'disrupt', 'disruption', 'diss', 'dissemination', 'dissension', 'dissent', 'dissenting', 'dissertation', 'disservice', 'dissimilar', 'dissolution', 'dissolve', 'dissuade', 'distaff', 'distance', 'distant', 'distaste', 'distillation', 'distilled', 'distinct', 'distinction', 'distinctive', 'distinctly', 'distinguish', 'distinguishable', 'distinguished', 'distinguishing', 'distort', 'distorted', 'distortion', 'distract', 'distracted', 'distraction', 'distress', 'distressed', 'distribute', 'distributed', 'distribution', 'distributor', 'district', 'distrust', 'distrustful', 'disturb', 'disturbed', 'disturbing', 'dit', 'ditch', 'ditto', 'div', 'diva', 'dive', 'diver', 'divergence', 'diverging', 'divers', 'diverse', 'diversification', 'diversified', 'diversify', 'diversity', 'diverticulitis', 'diverting', 'divide', 'divided', 'dividend', 'divider', 'dividing', 'divine', 'diving', 'divisible', 'division', 'divisional', 'divisive', 'divorce', 'divulge', 'divvy', 'dixie', 'dixit', 'dizzy', 'do', 'doable', 'dob', 'dobra', 'dobson', 'doc', 'docile', 'dock', 'docket', 'doctor', 'doctoral', 'doctorate', 'doctrine', 'document', 'documentary', 'documentation', 'dod', 'dodd', 'dodecagon', 'dodecahedron', 'dodge', 'dodger', 'dodgy', 'doe', 'doesnt', 'dog', 'dogface', 'dogfish', 'doggedly', 'dogma', 'dogs', 'dogwood', 'doing', 'doit', 'doldrums', 'dole', 'doll', 'dollar', 'dolly', 'dolomite', 'dolor', 'dom', 'domain', 'dome', 'domestic', 'domestically', 'domicile', 'dominance', 'dominant', 'dominate', 'dominated', 'domination', 'dominion', 'domino', 'don', 'donate', 'donated', 'donation', 'done', 'dong', 'donkey', 'donna', 'donor', 'dont', 'doodle', 'doohickey', 'doom', 'doomsday', 'door', 'doorbell', 'doorknob', 'doorman', 'doorway', 'dop', 'dope', 'dor', 'dorado', 'dorm', 'dormant', 'dorn', 'dory', 'dos', 'dosage', 'dose', 'dossier', 'dot', 'dotted', 'double', 'doubled', 'doubler', 'doubletree', 'doubling', 'doubly', 'doubt', 'doubtful', 'douche', 'dough', 'dove', 'dover', 'dow', 'dowd', 'down', 'downcast', 'downfall', 'downgrade', 'downhill', 'downright', 'downside', 'downstage', 'downstairs', 'downtown', 'downtrodden', 'downward', 'doze', 'dozen', 'draft', 'drafter', 'drafting', 'draftsman', 'drag', 'dragged', 'dragging', 'drago', 'dragon', 'drain', 'drainage', 'drained', 'drake', 'dram', 'drama', 'dramatic', 'dramatically', 'dramaturgy', 'drank', 'draper', 'drastic', 'drastically', 'draught', 'draw', 'drawback', 'drawer', 'drawers', 'drawing', 'drawl', 'drawn', 'dread', 'dreadful', 'dream', 'dreamer', 'dreamland', 'dreamy', 'dress', 'dressage', 'dressed', 'dresser', 'dressing', 'dressy', 'drew', 'dribble', 'dribbler', 'dried', 'drift', 'drifting', 'drill', 'drilling', 'drink', 'drinkable', 'drinker', 'drinking', 'drip', 'dripping', 'dripple', 'drive', 'drivel', 'driven', 'driver', 'driveway', 'driving', 'droit', 'drone', 'drop', 'dropout', 'dropping', 'dross', 'drove', 'drown', 'drowsy', 'drubbing', 'drug', 'drugstore', 'drum', 'drummer', 'drumming', 'drunk', 'drunken', 'drunkenness', 'dry', 'drying', 'dual', 'duality', 'dub', 'dubs', 'duchess', 'duck', 'ducking', 'duckling', 'duct', 'dud', 'dude', 'dudley', 'due', 'duel', 'dueling', 'duff', 'dug', 'dugout', 'duke', 'dull', 'duly', 'dumb', 'dumba', 'dumbbell', 'dumbledore', 'dummy', 'dump', 'dumping', 'dun', 'dunder', 'dune', 'dungy', 'dunk', 'duo', 'duper', 'duplicate', 'duplication', 'dura', 'durable', 'duration', 'during', 'durst', 'dusk', 'dust', 'duster', 'dusting', 'dusty', 'dutch', 'dutifully', 'duty', 'dux', 'dwarf', 'dwell', 'dwelling', 'dye', 'dyer', 'dying', 'dynamic', 'dynamically', 'dynamics', 'dynamism', 'dynamite', 'dynamo', 'dynasty', 'e', 'ea', 'eager', 'eagerly', 'eagle', 'ear', 'earl', 'early', 'earmark', 'earn', 'earner', 'earnest', 'earning', 'earnings', 'earpiece', 'earth', 'earthly', 'earthquake', 'ease', 'easement', 'easer', 'easier', 'easiest', 'easily', 'easing', 'east', 'easter', 'eastern', 'easy', 'easygoing', 'eat', 'eaten', 'eater', 'eating', 'eats', 'eavesdropping', 'ebonite', 'eccentric', 'ecclesiastic', 'ecclesiastical', 'echelon', 'echidna', 'echo', 'eclectic', 'eclipse', 'ecological', 'ecology', 'economic', 'economical', 'economically', 'economics', 'economist', 'economy', 'ecosystem', 'ecstasy', 'ecstatic', 'ectopic', 'ecumenical', 'eddy', 'edge', 'edged', 'edgy', 'edible', 'edict', 'edit', 'edition', 'editor', 'editorial', 'educate', 'educated', 'education', 'educational', 'educationist', 'eel', 'eerily', 'effect', 'effective', 'effectively', 'effectiveness', 'effects', 'efficacy', 'efficiency', 'efficient', 'efficiently', 'effort', 'effortlessly', 'eft', 'egg', 'eggplant', 'ego', 'egoism', 'egotistical', 'egregious', 'egress', 'eh', 'eight', 'eighteen', 'eighth', 'either', 'eject', 'ejection', 'el', 'elaborate', 'elaine', 'elastic', 'elated', 'elbow', 'elder', 'elderly', 'eldest', 'elect', 'election', 'elective', 'electoral', 'electorate', 'electric', 'electrical', 'electrician', 'electricity', 'electrochemical', 'electromagnetic', 'electron', 'electronic', 'electronics', 'elegance', 'elegant', 'element', 'elemental', 'elementary', 'elephant', 'elevate', 'elevated', 'elevation', 'elevator', 'eleven', 'eleventh', 'elf', 'eligibility', 'eligible', 'eliminate', 'elimination', 'eliminator', 'elite', 'elk', 'elle', 'elm', 'elongated', 'eloquence', 'eloquent', 'eloquently', 'els', 'else', 'elsewhere', 'elusive', 'elusiveness', 'em', 'emanation', 'emancipate', 'emancipation', 'embargo', 'embark', 'embarras', 'embarrass', 'embarrassed', 'embarrassing', 'embarrassment', 'embassy', 'embattled', 'embed', 'embellishment', 'emblem', 'embodiment', 'embody', 'embolden', 'embrace', 'embracing', 'embroidery', 'embryo', 'embryonic', 'eme', 'emerald', 'emerge', 'emergency', 'emery', 'emigrant', 'eminence', 'eminent', 'emir', 'emissary', 'emission', 'emit', 'emitter', 'emma', 'emmet', 'emotion', 'emotional', 'emotionally', 'emotivity', 'emperor', 'emphasis', 'emphasize', 'emphatically', 'empire', 'employ', 'employable', 'employed', 'employee', 'employer', 'employment', 'emporia', 'empower', 'empowerment', 'empress', 'emptiness', 'emptor', 'empty', 'emulation', 'emulator', 'en', 'enable', 'enact', 'enamored', 'enclosure', 'encode', 'encore', 'encounter', 'encourage', 'encouragement', 'encouraging', 'encrypt', 'encryption', 'encyclopedia', 'end', 'endanger', 'endearment', 'endeavor', 'ended', 'endemic', 'ending', 'endless', 'endocrine', 'endorse', 'endorsed', 'endorsement', 'endowment', 'endurance', 'endure', 'enduring', 'enemy', 'energetic', 'energize', 'energizer', 'energy', 'enforce', 'enforceable', 'enforced', 'enforcement', 'engage', 'engaged', 'engagement', 'engaging', 'engender', 'engine', 'engineer', 'engineering', 'engrave', 'engraver', 'engraving', 'enhance', 'enhanced', 'enhancement', 'enigma', 'enigmatic', 'enjoy', 'enjoyable', 'enjoying', 'enjoyment', 'enlarge', 'enlarged', 'enlargement', 'enlighten', 'enlightened', 'enlightening', 'enlightenment', 'enlist', 'enlisted', 'enlistment', 'enormous', 'enough', 'enquirer', 'enquiry', 'enraged', 'enrich', 'enriching', 'enroll', 'enrolled', 'enrolment', 'ensemble', 'enslave', 'enslavement', 'ensure', 'entail', 'entangle', 'entente', 'enter', 'entering', 'enterprise', 'enterprising', 'entertain', 'entertainer', 'entertaining', 'entertainment', 'enthusiasm', 'enthusiastic', 'enthusiastically', 'entice', 'enticing', 'entire', 'entirely', 'entirety', 'entitle', 'entitlement', 'entity', 'entourage', 'entrainer', 'entrance', 'entrapment', 'entrepreneur', 'entrepreneurial', 'entrepreneurship', 'entry', 'enumeration', 'enunciate', 'envelope', 'enviable', 'envied', 'envious', 'environment', 'environmental', 'environmentalist', 'environmentally', 'envision', 'envoy', 'envy', 'enzymatic', 'epic', 'epidemic', 'epidemiologist', 'epilepsy', 'epileptic', 'epimer', 'episode', 'epistemological', 'epithet', 'epoch', 'equal', 'equality', 'equalization', 'equalize', 'equalizer', 'equalizing', 'equalling', 'equally', 'equate', 'equation', 'equator', 'equatorial', 'equine', 'equip', 'equipment', 'equitable', 'equitably', 'equity', 'equivalent', 'er', 'era', 'eradicate', 'erase', 'erased', 'eraser', 'erd', 'ere', 'erect', 'erecting', 'erection', 'eric', 'erode', 'eroded', 'erosion', 'erotic', 'err', 'errand', 'errant', 'erratic', 'erratically', 'error', 'ers', 'eruption', 'erythroid', 'erythropoiesis', 'es', 'escalate', 'escape', 'escapist', 'escort', 'escrow', 'escutcheon', 'especially', 'esperance', 'espionage', 'esquire', 'ess', 'essay', 'essence', 'essential', 'essentially', 'establish', 'established', 'establishment', 'estadio', 'estate', 'esteem', 'estimate', 'estimation', 'estoppel', 'estrogen', 'etch', 'eternal', 'eternally', 'eternity', 'ethane', 'ethanol', 'ethel', 'ethereal', 'ethic', 'ethical', 'ethically', 'ethics', 'ethnic', 'ethnically', 'ethnocentric', 'ethos', 'etiquette', 'etymology', 'eu', 'euphemism', 'euphemistically', 'euphoria', 'euthanasia', 'evacuate', 'evacuation', 'evade', 'evaluate', 'evaluation', 'evanescence', 'evangelical', 'evangelist', 'evaporate', 'evaporation', 'evasion', 'eve', 'even', 'evening', 'evenly', 'evens', 'event', 'eventual', 'eventuality', 'eventually', 'ever', 'evergreen', 'everlasting', 'every', 'everybody', 'everyday', 'everyone', 'everything', 'everywhere', 'evict', 'eviction', 'evidence', 'evident', 'evidential', 'evidentiary', 'evidently', 'evil', 'evoke', 'evolution', 'evolutionary', 'evolve', 'ewe', 'ex', 'exact', 'exacting', 'exactly', 'exaggerate', 'exaggerated', 'exaggerating', 'exalted', 'exam', 'examination', 'examine', 'examiner', 'examining', 'example', 'exasperated', 'exceed', 'exceeding', 'exceedingly', 'excel', 'excelente', 'excellence', 'excellent', 'except', 'exception', 'exceptional', 'exceptionally', 'excerpt', 'excess', 'excessive', 'excessively', 'exchange', 'exchequer', 'excise', 'excited', 'excitement', 'exciting', 'exclaim', 'exclamation', 'exclude', 'excluding', 'exclusion', 'exclusionary', 'exclusive', 'exclusively', 'exclusiveness', 'excrete', 'excruciating', 'excusable', 'excuse', 'executable', 'execute', 'executed', 'execution', 'executive', 'executor', 'executrix', 'exegesis', 'exemplary', 'exempt', 'exemption', 'exercise', 'exert', 'exertion', 'exhalation', 'exhale', 'exhaust', 'exhausted', 'exhausting', 'exhaustion', 'exhaustive', 'exhaustively', 'exhibit', 'exhibition', 'exhilarating', 'exhilaration', 'exile', 'exist', 'existence', 'existent', 'exit', 'exodus', 'exorbitant', 'exorcist', 'exotic', 'expand', 'expanded', 'expanding', 'expansion', 'expansionism', 'expect', 'expectancy', 'expectation', 'expedite', 'expedited', 'expedition', 'expend', 'expendable', 'expenditure', 'expense', 'expensive', 'experience', 'experienced', 'experiment', 'experimental', 'experimentation', 'expert', 'expertly', 'expiration', 'expire', 'expiring', 'expiry', 'explain', 'explaining', 'explanation', 'explanatory', 'explicit', 'explicitly', 'explode', 'exploded', 'exploder', 'exploit', 'exploitation', 'exploration', 'exploratory', 'explore', 'explorer', 'exploring', 'explosion', 'explosive', 'exponent', 'export', 'exporter', 'expose', 'exposed', 'exposure', 'express', 'expressed', 'expression', 'expressionist', 'expropriate', 'expropriation', 'expungement', 'extend', 'extended', 'extending', 'extensible', 'extension', 'extensive', 'extensively', 'extent', 'extenuating', 'exterior', 'exterminate', 'extermination', 'extern', 'external', 'externally', 'extinct', 'extinction', 'extinguish', 'extinguished', 'extinguisher', 'extra', 'extract', 'extracted', 'extraction', 'extradite', 'extradition', 'extraneous', 'extraordinarily', 'extraordinary', 'extrapolate', 'extrasolar', 'extraterrestrial', 'extreme', 'extremely', 'extremist', 'exude', 'ey', 'eye', 'eyeball', 'eyed', 'eyesight', 'eyewitness', 'eying', 'f', 'fa', 'fabled', 'fabric', 'fabricate', 'fabrication', 'fabricator', 'fabulous', 'fabulously', 'facade', 'face', 'faced', 'faceless', 'facial', 'facile', 'facilitate', 'facility', 'facing', 'fact', 'faction', 'factor', 'factory', 'factual', 'faculty', 'fad', 'faddle', 'faddy', 'fade', 'faded', 'fading', 'fae', 'fag', 'fail', 'failing', 'failure', 'fain', 'faint', 'fair', 'fairer', 'fairly', 'fairness', 'fairway', 'fairy', 'faith', 'faithful', 'faithfully', 'faithfulness', 'fake', 'fall', 'fallacious', 'fallback', 'fallen', 'falling', 'fallow', 'false', 'falsehood', 'falsely', 'falsification', 'fame', 'familia', 'familiar', 'familiarity', 'family', 'famine', 'famous', 'famously', 'fan', 'fanatic', 'fanatically', 'fanaticism', 'fancy', 'fandango', 'fanfare', 'fanning', 'fantasia', 'fantastic', 'fantasy', 'far', 'faraway', 'farce', 'fare', 'farewell', 'farm', 'farmer', 'farmhouse', 'farming', 'farther', 'fascinated', 'fascinating', 'fascination', 'fascism', 'fascist', 'fashion', 'fashionable', 'fashioned', 'fashionist', 'fast', 'fasten', 'faster', 'fastidious', 'fat', 'fatal', 'fatality', 'fate', 'father', 'fathered', 'fatherland', 'fathom', 'fatigue', 'fatten', 'fatter', 'fattish', 'fatty', 'fault', 'faultlessly', 'faulty', 'favor', 'favorable', 'favorably', 'favored', 'favoring', 'favorite', 'favoritism', 'fe', 'feal', 'fear', 'feared', 'fearful', 'fearless', 'fearlessly', 'fearlessness', 'feasibility', 'feasible', 'feast', 'feat', 'featherweight', 'feature', 'featured', 'fecal', 'feckless', 'fed', 'federal', 'federalism', 'federalist', 'federation', 'fee', 'feeble', 'feebly', 'feed', 'feedback', 'feeder', 'feeding', 'feel', 'feeling', 'feigning', 'feist', 'feisty', 'fell', 'feller', 'felling', 'fellow', 'felon', 'felonious', 'felony', 'felt', 'female', 'feminine', 'feminism', 'feminist', 'fence', 'fencing', 'fend', 'fender', 'fermentation', 'ferocious', 'ferocity', 'ferret', 'ferrous', 'ferry', 'fertile', 'fertility', 'fertilization', 'fertilizer', 'fervent', 'fervor', 'fest', 'fester', 'festival', 'festive', 'fetch', 'fetish', 'fetus', 'feu', 'feud', 'feuille', 'fever', 'feverfew', 'fey', 'fez', 'fi', 'fiance', 'fiancee', 'fiasco', 'fiat', 'fiber', 'fiberboard', 'fickle', 'fico', 'fiction', 'fictional', 'fictious', 'fictitious', 'fid', 'fiddle', 'fide', 'fidelity', 'fidget', 'fidgeting', 'fie', 'field', 'fielded', 'fielder', 'fiend', 'fierce', 'fiercely', 'fierceness', 'fiery', 'fifteen', 'fifteenth', 'fifth', 'fifty', 'fig', 'fight', 'fighter', 'fighting', 'figurative', 'figuratively', 'figure', 'figured', 'filament', 'file', 'filer', 'filibuster', 'filing', 'filings', 'filippo', 'fill', 'fillable', 'filled', 'filling', 'film', 'filo', 'fils', 'filter', 'filtering', 'filth', 'filthy', 'fin', 'final', 'finale', 'finalist', 'finalize', 'finally', 'finance', 'financial', 'financially', 'find', 'finder', 'finding', 'fine', 'finely', 'finery', 'finesse', 'finger', 'fingernail', 'fingerprint', 'fingerprinting', 'fingertip', 'finical', 'fining', 'finish', 'finished', 'finisher', 'finishing', 'finite', 'finjan', 'finland', 'fire', 'firearm', 'fireball', 'firebird', 'firecracker', 'fired', 'firefall', 'firehouse', 'fireman', 'fireplace', 'firepower', 'firestone', 'firewood', 'firework', 'firing', 'firm', 'firmer', 'firmly', 'firmness', 'first', 'firsthand', 'firstly', 'fiscal', 'fiscally', 'fish', 'fished', 'fisher', 'fisherman', 'fishing', 'fishy', 'fissure', 'fist', 'fisted', 'fit', 'fitness', 'fitted', 'fitting', 'five', 'fix', 'fixable', 'fixation', 'fixed', 'fixer', 'fixing', 'fixture', 'fizz', 'fizzle', 'flack', 'flag', 'flagging', 'flagpole', 'flagship', 'flair', 'flak', 'flakiness', 'flaky', 'flamboyant', 'flame', 'flaming', 'flammable', 'flap', 'flapjack', 'flare', 'flash', 'flasher', 'flashing', 'flashlight', 'flashy', 'flat', 'flatness', 'flatten', 'flaunt', 'flavor', 'flavored', 'flavour', 'flaw', 'flawed', 'flawless', 'flawlessly', 'flea', 'fled', 'fledgling', 'flee', 'fleece', 'fleet', 'flesh', 'fleshy', 'fletcher', 'flew', 'flex', 'flexed', 'flexibility', 'flexible', 'flexor', 'flick', 'flicker', 'flier', 'flight', 'flimsy', 'fling', 'flint', 'flip', 'flirt', 'flirtatious', 'flirting', 'flix', 'float', 'floating', 'flock', 'flocking', 'flogging', 'flood', 'flooded', 'flooding', 'floor', 'flooring', 'flop', 'floppy', 'floral', 'florence', 'florent', 'florist', 'floss', 'flossing', 'flotation', 'flounder', 'flourish', 'flourishing', 'flow', 'flower', 'flowing', 'flown', 'flu', 'flub', 'fluctuate', 'fluent', 'fluently', 'fluffy', 'fluid', 'fluke', 'flung', 'flurry', 'flush', 'flushing', 'flute', 'flutter', 'fly', 'flyer', 'flying', 'flyleaf', 'flytrap', 'flywheel', 'foal', 'foaming', 'foamy', 'fob', 'focal', 'focus', 'fod', 'fodder', 'foe', 'fog', 'foggy', 'foil', 'fold', 'folded', 'folder', 'folding', 'foliage', 'folk', 'folklore', 'folksy', 'follicular', 'follow', 'follower', 'following', 'folly', 'foment', 'fondling', 'font', 'foo', 'food', 'fool', 'fooling', 'foolish', 'foolishness', 'foolproof', 'foot', 'footage', 'football', 'footballer', 'footed', 'footer', 'foothold', 'footing', 'footnote', 'footpath', 'footprint', 'foots', 'footwear', 'footwork', 'for', 'fora', 'foray', 'forbid', 'forbidden', 'forbidding', 'forby', 'force', 'forced', 'forceful', 'forcefully', 'forcible', 'forcibly', 'forcing', 'ford', 'fore', 'forecast', 'foreclose', 'foreclosure', 'forefit', 'forefront', 'foregoing', 'foregone', 'forehead', 'foreign', 'foreigner', 'foreman', 'foremost', 'forensic', 'forerunner', 'foresee', 'foreseeable', 'foresight', 'forest', 'forestry', 'forever', 'forfeiture', 'forge', 'forged', 'forgery', 'forget', 'forgetfulness', 'forgetting', 'forging', 'forgive', 'forgiveness', 'forgiving', 'forgot', 'forgotten', 'fork', 'forlorn', 'form', 'formal', 'formaldehyde', 'formality', 'formally', 'format', 'formate', 'formation', 'forme', 'formed', 'former', 'formerly', 'formidable', 'forming', 'formula', 'formulaic', 'formulate', 'formule', 'forsake', 'forsaken', 'fort', 'forte', 'forth', 'forthcoming', 'forthright', 'forties', 'fortitude', 'fortress', 'fortunate', 'fortunately', 'fortune', 'forty', 'forum', 'forward', 'forwarder', 'forwarding', 'forwards', 'fossil', 'foster', 'fought', 'foul', 'fouling', 'found', 'foundation', 'foundational', 'founder', 'founding', 'four', 'fourteen', 'fourteenth', 'fourth', 'fourthly', 'fowl', 'fox', 'foxy', 'fra', 'fraction', 'fractional', 'fractious', 'fracture', 'fragile', 'fragment', 'fragmentation', 'fragmented', 'frail', 'frame', 'framed', 'framer', 'framework', 'framing', 'franc', 'franchise', 'frank', 'franklin', 'frankly', 'frantic', 'frantically', 'frat', 'fraternal', 'fraternity', 'fraternization', 'fraternize', 'fraud', 'fraudulent', 'fray', 'frayed', 'freak', 'freaky', 'freckle', 'freckled', 'free', 'freed', 'freedom', 'freehold', 'freeholder', 'freeing', 'freely', 'freeman', 'freemasonry', 'freer', 'freeway', 'freeze', 'freezer', 'freezing', 'freight', 'freighter', 'frenetic', 'frenzied', 'frenzy', 'frequency', 'frequent', 'frequently', 'fresh', 'freshman', 'freshness', 'fresnel', 'fresno', 'fret', 'friar', 'friction', 'fried', 'friend', 'friendless', 'friendly', 'friendship', 'frig', 'frighten', 'frightened', 'frightening', 'frighteningly', 'frigid', 'fringe', 'frist', 'fro', 'frog', 'front', 'frontal', 'frontier', 'fronting', 'froom', 'frost', 'frosted', 'frosty', 'frothy', 'frown', 'froze', 'frozen', 'fruit', 'fruitcake', 'fruitful', 'fruitless', 'fruity', 'frump', 'frustrate', 'frustration', 'fry', 'fu', 'fud', 'fudge', 'fuel', 'fugitive', 'fuji', 'fulfill', 'fulfillment', 'fulham', 'full', 'fullback', 'fuller', 'fullness', 'fully', 'fumble', 'fun', 'function', 'functional', 'functionality', 'functionally', 'fund', 'fundamental', 'fundamentalism', 'fundamentalist', 'fundamentally', 'funded', 'funds', 'funeral', 'fungal', 'fungus', 'funk', 'funky', 'funnel', 'funneled', 'funny', 'fur', 'furcal', 'furious', 'furnace', 'furnish', 'furnished', 'furnishing', 'furniture', 'furry', 'furthermore', 'fury', 'fusion', 'fuss', 'fut', 'futile', 'future', 'futuristic', 'fuzz', 'fuzzy', 'g', 'ga', 'gab', 'gadget', 'gag', 'gage', 'gain', 'gainful', 'gainfully', 'gaining', 'gains', 'gait', 'gal', 'gala', 'galactic', 'galaxy', 'gale', 'galea', 'gallant', 'gallery', 'galley', 'gallon', 'galloping', 'galvanized', 'gamble', 'gambler', 'gambling', 'game', 'gamely', 'gaming', 'gamma', 'gan', 'gander', 'gang', 'gangster', 'gansey', 'gap', 'gar', 'garage', 'garbage', 'garden', 'gargoyle', 'garland', 'garlic', 'garner', 'garnett', 'garnish', 'garnishment', 'garret', 'garrison', 'garth', 'gas', 'gaseous', 'gashes', 'gasoline', 'gasp', 'gassing', 'gastric', 'gastrointestinal', 'gat', 'gate', 'gated', 'gatekeeper', 'gateway', 'gather', 'gathering', 'gator', 'gauge', 'gauging', 'gauze', 'gave', 'gavel', 'gavotte', 'gay', 'gaze', 'gazelle', 'gazer', 'gazing', 'gazon', 'ge', 'gear', 'gearbox', 'geared', 'gearing', 'ged', 'gee', 'geek', 'geisha', 'gel', 'gelatin', 'gelignite', 'gem', 'gen', 'gender', 'gene', 'genealogy', 'general', 'generalization', 'generalize', 'generalized', 'generall', 'generally', 'generate', 'generating', 'generation', 'generational', 'generator', 'generic', 'generosity', 'generous', 'genesis', 'genetic', 'genetically', 'genetics', 'geneva', 'genie', 'genital', 'genitalia', 'genitals', 'genius', 'genocide', 'genome', 'genre', 'gens', 'gent', 'gentle', 'gentleman', 'gently', 'genuflect', 'genuine', 'genuinely', 'geo', 'geographic', 'geographical', 'geographically', 'geography', 'geological', 'geology', 'geometry', 'geopolitical', 'geothermal', 'gerbil', 'germ', 'german', 'gestion', 'gesture', 'get', 'getting', 'gherkin', 'ghetto', 'ghost', 'ghostlike', 'giant', 'gib', 'gid', 'giddiness', 'gif', 'gift', 'gifted', 'gig', 'gigantic', 'giggle', 'giggling', 'gilbert', 'gilder', 'gill', 'gim', 'gimmick', 'gimp', 'gin', 'ginger', 'gingerly', 'giraffe', 'girl', 'girly', 'giro', 'gist', 'git', 'give', 'giveaway', 'given', 'giving', 'glace', 'glacial', 'glad', 'gladly', 'glamorize', 'glamorous', 'glamour', 'glance', 'glancing', 'glare', 'glaring', 'glass', 'glasser', 'glasses', 'glassy', 'glaucoma', 'glaze', 'glazer', 'gleefully', 'glen', 'glib', 'glide', 'glider', 'gliding', 'glimpse', 'glitter', 'gloat', 'global', 'globally', 'globe', 'gloomy', 'glorious', 'glory', 'gloss', 'glove', 'glow', 'glowing', 'glue', 'glued', 'glumly', 'glutton', 'gluttony', 'glycerin', 'gnat', 'gnome', 'gnu', 'go', 'goal', 'goalie', 'goalkeeper', 'goalkeeping', 'goalless', 'goat', 'gob', 'gobble', 'gobi', 'goblet', 'gobo', 'gocart', 'god', 'goddard', 'goddess', 'godfather', 'godlike', 'godly', 'godsend', 'goes', 'gogo', 'going', 'gol', 'gold', 'golden', 'goldeneye', 'goldfish', 'goldie', 'goldsmith', 'goldwater', 'golf', 'golfer', 'goliath', 'golly', 'gon', 'gone', 'gong', 'gonorrhea', 'goo', 'good', 'goodman', 'goodness', 'goods', 'goodwill', 'goody', 'goof', 'goofy', 'goon', 'goose', 'gopher', 'gor', 'gora', 'goran', 'gore', 'gorge', 'gorgeous', 'gorgeously', 'gorilla', 'goring', 'gosh', 'gosling', 'gospel', 'gossip', 'got', 'gotra', 'gotten', 'gourmet', 'gove', 'govern', 'governance', 'governing', 'government', 'governmental', 'governor', 'governorship', 'grab', 'grace', 'graceful', 'gracefully', 'gracious', 'graciously', 'grad', 'grade', 'graded', 'grader', 'grading', 'gradual', 'gradually', 'graduate', 'graduated', 'graduating', 'graduation', 'graff', 'graham', 'grail', 'grain', 'grammar', 'grammatical', 'grammatically', 'gramme', 'granary', 'grand', 'grandchild', 'granddaughter', 'grandfather', 'grandiose', 'grandma', 'grandmother', 'grandpa', 'grandson', 'grange', 'granite', 'granny', 'grant', 'grape', 'graph', 'graphic', 'graphical', 'graphically', 'graphics', 'graphite', 'grapple', 'grappling', 'grasp', 'grasping', 'grass', 'grassy', 'grat', 'grateful', 'grater', 'gratification', 'gratifying', 'gratis', 'gratitude', 'gratuitous', 'gratuity', 'grave', 'gravel', 'gravitate', 'gravitational', 'gravity', 'gravy', 'gray', 'grayish', 'grease', 'greaser', 'greasy', 'great', 'greater', 'greatly', 'greatness', 'greaves', 'greed', 'greedily', 'greediness', 'greedy', 'green', 'greenback', 'greener', 'greenhouse', 'greenish', 'greenkeeper', 'greeter', 'greeting', 'grenade', 'grew', 'grey', 'greyhound', 'grid', 'gridiron', 'grief', 'grievance', 'grieved', 'grieving', 'griffin', 'grill', 'grilled', 'grim', 'grime', 'grin', 'grinch', 'grind', 'grinding', 'gringo', 'grinning', 'grip', 'gripe', 'gripping', 'grisly', 'grit', 'grits', 'gritty', 'groan', 'grocer', 'grocery', 'groin', 'groom', 'groove', 'groping', 'gros', 'gross', 'grosser', 'grossly', 'grosso', 'grouchy', 'ground', 'grounded', 'grounder', 'grounding', 'groundless', 'grounds', 'groundwork', 'group', 'grouper', 'grouping', 'grove', 'grovel', 'grow', 'growing', 'grown', 'grownup', 'growth', 'grub', 'grubs', 'grudge', 'grudgingly', 'grueling', 'gruff', 'grumpy', 'grun', 'grunt', 'grunting', 'guarantee', 'guard', 'guarded', 'guardian', 'guarding', 'gubernatorial', 'gud', 'guerrilla', 'guess', 'guessable', 'guessing', 'guesswork', 'guest', 'guidance', 'guide', 'guideline', 'guild', 'guillotine', 'guilt', 'guilty', 'guinea', 'guise', 'guitar', 'guitarist', 'gulf', 'gullible', 'gully', 'gum', 'gumbo', 'gump', 'gumption', 'gun', 'gunman', 'gunner', 'gunnery', 'gunning', 'gunpowder', 'gunsmith', 'gurl', 'guru', 'gushing', 'gut', 'gutless', 'gutter', 'guy', 'gym', 'gymnasium', 'gymnast', 'gymnastics', 'gypsy', 'h', 'ha', 'habeas', 'habile', 'habit', 'habitat', 'habitation', 'hack', 'hacked', 'hacker', 'hacking', 'hackney', 'hackneyed', 'hade', 'hah', 'hail', 'hair', 'haircut', 'hairdresser', 'haired', 'hairless', 'hairline', 'hairy', 'hakim', 'hale', 'half', 'halfback', 'halfway', 'hall', 'hallelujah', 'hallmark', 'hallow', 'hallowed', 'hallway', 'halo', 'halogen', 'halt', 'halting', 'halved', 'halves', 'ham', 'hamburger', 'hammer', 'hammering', 'hamper', 'hamster', 'hamstring', 'han', 'hand', 'handbag', 'handball', 'handbook', 'handcuff', 'handed', 'hander', 'handful', 'handgun', 'handicap', 'handicapped', 'handkerchief', 'handle', 'handled', 'handler', 'handling', 'handmade', 'handout', 'handset', 'handshaking', 'handsome', 'handstand', 'handwriting', 'handy', 'hangar', 'hanger', 'hanging', 'hangout', 'hank', 'hanna', 'hao', 'haphazard', 'haphazardly', 'hapless', 'happen', 'happening', 'happier', 'happiest', 'happily', 'happiness', 'happing', 'happy', 'harass', 'harassment', 'harbinger', 'harbor', 'harbour', 'hard', 'hardback', 'harden', 'hardening', 'harder', 'hardheaded', 'hardly', 'hardship', 'hardware', 'hardwood', 'hardy', 'harem', 'hark', 'harlequin', 'harm', 'harman', 'harmful', 'harmless', 'harmonics', 'harmony', 'harness', 'harp', 'harper', 'harpoon', 'harrow', 'harry', 'harsh', 'hart', 'harvest', 'hasan', 'hassle', 'haste', 'hastings', 'hasty', 'hat', 'hatch', 'hatchet', 'hate', 'hateful', 'hater', 'hath', 'hatred', 'hatter', 'haul', 'hauler', 'haunt', 'hause', 'hauteur', 'have', 'havent', 'havoc', 'hawk', 'hay', 'haystack', 'hayward', 'haywire', 'hazard', 'hazardous', 'haze', 'hazy', 'he', 'head', 'headache', 'headed', 'header', 'heading', 'headlight', 'headline', 'headmaster', 'headmistress', 'headphone', 'headquarters', 'headset', 'headstrong', 'heady', 'heal', 'heald', 'healer', 'healing', 'health', 'healthy', 'heap', 'heaps', 'hear', 'hearing', 'heart', 'heartache', 'heartbeat', 'heartbreak', 'hearted', 'heartedly', 'heartening', 'heartfelt', 'heartily', 'heartland', 'heartless', 'hearts', 'hearty', 'heat', 'heatedly', 'heater', 'heath', 'heather', 'heating', 'heave', 'heaven', 'heavenly', 'heavens', 'heavily', 'heavy', 'heavyweight', 'heck', 'heckle', 'hectare', 'hectic', 'hector', 'hedge', 'hedgehog', 'hedging', 'heed', 'heel', 'heeled', 'hefty', 'hegemonic', 'heifer', 'height', 'heighten', 'helicopter', 'helio', 'hell', 'heller', 'hellhole', 'hellish', 'hello', 'helm', 'helmet', 'help', 'helper', 'helpful', 'helpfully', 'helping', 'helpless', 'hem', 'hematopoietic', 'hematuria', 'hemisphere', 'hemlock', 'hemophilia', 'hemorrhage', 'hemp', 'hen', 'hence', 'henhouse', 'henny', 'henry', 'her', 'herald', 'heraldry', 'herb', 'herbal', 'herd', 'here', 'hereafter', 'hereby', 'heretical', 'heritage', 'hermit', 'hero', 'heroic', 'heroin', 'heroine', 'herpes', 'herring', 'herringbone', 'hertz', 'hesitancy', 'hesitant', 'hesitantly', 'hesitate', 'hesitating', 'hesitation', 'hest', 'heterogeneous', 'heterosexual', 'heterosexuality', 'hex', 'hey', 'heyday', 'hi', 'hiatus', 'hibernate', 'hibernation', 'hiccup', 'hick', 'hickey', 'hickory', 'hidalgo', 'hidden', 'hide', 'hideous', 'hierarchical', 'hierarchically', 'high', 'higher', 'highest', 'highland', 'highlander', 'highlight', 'highly', 'hight', 'hightop', 'highway', 'hijack', 'hike', 'hilarious', 'hilarity', 'hill', 'hillbilly', 'hiller', 'hillman', 'hillside', 'hilly', 'hilt', 'him', 'hin', 'hind', 'hinder', 'hindsight', 'hinge', 'hint', 'hip', 'hippopotamus', 'hippy', 'hiragana', 'hire', 'hired', 'hiro', 'his', 'hiss', 'historian', 'historic', 'historical', 'historically', 'history', 'hit', 'hitch', 'hitchhiker', 'hitless', 'hitter', 'hive', 'ho', 'hoarse', 'hoax', 'hobby', 'hockey', 'hod', 'hoe', 'hog', 'hogan', 'hogwash', 'hoin', 'hold', 'holder', 'holding', 'holdout', 'holdover', 'hole', 'holiday', 'holiness', 'holla', 'holler', 'hollow', 'holly', 'holm', 'holocaust', 'holographic', 'holster', 'holt', 'holy', 'homage', 'home', 'homeland', 'homeless', 'homemade', 'homeowner', 'homer', 'homesickness', 'homestead', 'homework', 'homicide', 'homo', 'homosexual', 'homosexuality', 'honda', 'hone', 'honest', 'honestly', 'honesty', 'honey', 'honeymoon', 'hong', 'honk', 'honor', 'honorable', 'honorary', 'hooch', 'hood', 'hoodlum', 'hoodoo', 'hoof', 'hook', 'hooked', 'hooker', 'hookup', 'hoop', 'hoot', 'hop', 'hope', 'hoped', 'hopeful', 'hopefully', 'hopped', 'hopper', 'horizon', 'horizontal', 'horn', 'horned', 'hornet', 'hornish', 'horny', 'horoscope', 'horrendous', 'horrible', 'horribly', 'horrid', 'horrific', 'horror', 'horse', 'horseback', 'horsehair', 'horsehide', 'horsepower', 'hose', 'hospice', 'hospital', 'hospitality', 'host', 'hostage', 'hostel', 'hoster', 'hostess', 'hostile', 'hostility', 'hosting', 'hot', 'hotel', 'hothead', 'hothearted', 'hotly', 'hotspur', 'hotter', 'hound', 'hounding', 'hour', 'hourly', 'house', 'houseful', 'household', 'housekeeper', 'housekeeping', 'houseman', 'houser', 'housewife', 'housing', 'hove', 'hover', 'hovering', 'how', 'howdy', 'howe', 'however', 'howling', 'hoy', 'hub', 'hubble', 'hubby', 'huck', 'huckleberry', 'huckster', 'hud', 'hue', 'huff', 'huffy', 'hug', 'huge', 'hugely', 'hugger', 'hugging', 'huh', 'hulk', 'hulking', 'hull', 'hum', 'human', 'humane', 'humanely', 'humanitarian', 'humanity', 'humble', 'humbug', 'humid', 'humidity', 'humidor', 'humiliate', 'humiliating', 'humiliation', 'humility', 'hummel', 'hummer', 'humming', 'humor', 'humoral', 'humorous', 'humour', 'hump', 'hundred', 'hundredth', 'hung', 'hunger', 'hungry', 'hunk', 'hunt', 'hunting', 'hurdle', 'hurled', 'hurley', 'hurling', 'huron', 'hurrah', 'hurricane', 'hurry', 'hurst', 'hurt', 'hurtful', 'hurting', 'husband', 'hush', 'husker', 'hustle', 'hustler', 'hut', 'hutch', 'hybrid', 'hydrated', 'hydration', 'hydraulic', 'hydro', 'hydrocarbon', 'hydroelectric', 'hydrogen', 'hygiene', 'hymn', 'hyper', 'hyperbole', 'hypercube', 'hypersonic', 'hyphen', 'hypnotize', 'hypocrisy', 'hypocrite', 'hypocritical', 'hypomanic', 'hypothermia', 'hypothesis', 'hypothetical', 'hypothetically', 'hypothyroidism', 'hysteria', 'hysterical', 'hysterically', 'i', 'ice', 'icecap', 'iced', 'icehouse', 'iceland', 'iceman', 'ich', 'icon', 'iconic', 'iconoclastic', 'icy', 'id', 'ide', 'idea', 'ideal', 'idealism', 'idealistic', 'ideally', 'identical', 'identifiable', 'identification', 'identifier', 'identify', 'identity', 'ideological', 'ideologically', 'ideology', 'ides', 'idiocy', 'idiom', 'idiot', 'idiotic', 'idle', 'idol', 'idolize', 'ie', 'if', 'iffy', 'igloo', 'ignite', 'ignominy', 'ignorance', 'ignorant', 'ignorantly', 'ignore', 'ill', 'illegal', 'illegally', 'illegitimate', 'illicit', 'illiquid', 'illiterate', 'illness', 'illogical', 'illuminating', 'illusion', 'illusionary', 'illusionist', 'illustration', 'illustrious', 'image', 'imagery', 'imaginable', 'imaginary', 'imagination', 'imaginative', 'imagine', 'imagines', 'imam', 'imbecile', 'imitate', 'imitation', 'immaculate', 'immature', 'immeasurable', 'immediate', 'immediately', 'immense', 'immensely', 'immerse', 'immigrant', 'immigrate', 'immigration', 'imminent', 'immobilization', 'immoral', 'immortal', 'immovable', 'immune', 'immunity', 'immunization', 'immunologically', 'immutable', 'imp', 'impact', 'impacted', 'impair', 'impairment', 'impartial', 'impasse', 'impatient', 'impeach', 'impeachable', 'impeachment', 'impedance', 'impede', 'impending', 'imperative', 'imperceptibly', 'imperfection', 'imperial', 'imperialism', 'imperialist', 'imperialistic', 'imperious', 'impermissible', 'impersonate', 'impersonation', 'impervious', 'impetus', 'implacable', 'implant', 'implement', 'implementation', 'implication', 'implicit', 'implode', 'imply', 'import', 'importance', 'important', 'importantly', 'importation', 'importer', 'impose', 'imposer', 'imposing', 'imposition', 'impossible', 'impossibly', 'imposter', 'impostor', 'impot', 'impotent', 'impound', 'impractical', 'impress', 'impression', 'impressionable', 'impressionist', 'impressive', 'impressively', 'imprint', 'imprinter', 'imprison', 'imprisonment', 'improbable', 'improper', 'improperly', 'impropriety', 'improve', 'improvement', 'improving', 'improvise', 'impulse', 'impunity', 'impure', 'in', 'inability', 'inaccuracy', 'inaccurate', 'inaction', 'inactive', 'inactivity', 'inadequate', 'inadvertently', 'inalienable', 'inane', 'inappropriate', 'inappropriately', 'inasmuch', 'inaugural', 'inauguration', 'inauthentic', 'inborn', 'inbound', 'inbread', 'inbred', 'inbuilt', 'incapable', 'incapacitate', 'incapacitation', 'incapacity', 'incarcerate', 'incarceration', 'incarnation', 'incase', 'incense', 'incentive', 'inception', 'incestuous', 'inch', 'incidence', 'incident', 'incidentally', 'incidently', 'incite', 'inclination', 'include', 'included', 'inclusion', 'inclusive', 'income', 'incoming', 'incomparable', 'incompatible', 'incompetence', 'incompetency', 'incompetent', 'incomplete', 'inconclusive', 'inconsequential', 'inconsiderate', 'inconsistency', 'inconsistent', 'inconvenience', 'inconvenient', 'incorporate', 'incorporated', 'incorporation', 'incorrect', 'incorrectly', 'increase', 'increasing', 'increasingly', 'incredible', 'incredibly', 'increment', 'incremental', 'incubus', 'incumbent', 'incur', 'incurable', 'indebtedness', 'indecency', 'indecent', 'indecisive', 'indecisiveness', 'indeed', 'indefensible', 'indefinite', 'indefinitely', 'indelibly', 'indentation', 'indented', 'indenture', 'independence', 'independent', 'independently', 'indestructible', 'index', 'indexed', 'indexing', 'indic', 'indicate', 'indication', 'indicative', 'indicator', 'indices', 'indicia', 'indict', 'indictment', 'indifferent', 'indigenous', 'indignation', 'indigo', 'indirect', 'indirectly', 'individual', 'individualism', 'individualistic', 'individuality', 'individually', 'indoctrination', 'indoor', 'indoors', 'induce', 'induced', 'induction', 'indulge', 'indulgent', 'industrial', 'industrialism', 'industrialization', 'industrious', 'industry', 'indy', 'ineffective', 'ineffectual', 'inefficiency', 'inefficient', 'inept', 'ineptitude', 'ineptness', 'inequality', 'inertia', 'inertial', 'inescapable', 'inevitable', 'inevitably', 'inexcusable', 'inexhaustible', 'inexpedience', 'inexpediency', 'inexpensive', 'inexpensively', 'inexperience', 'inexperienced', 'inexplicably', 'infamous', 'infamy', 'infancy', 'infant', 'infante', 'infantry', 'infantryman', 'infatuation', 'infeasible', 'infect', 'infected', 'infection', 'infectious', 'infer', 'inferior', 'inferiority', 'infernal', 'inferno', 'infest', 'infestation', 'infidel', 'infidelity', 'infield', 'infielder', 'infighting', 'infiltration', 'infinite', 'infinitely', 'infinity', 'inflamed', 'inflammatory', 'inflate', 'inflated', 'inflation', 'inflationary', 'inflexible', 'inflict', 'inflow', 'influence', 'influential', 'influx', 'inform', 'informal', 'informally', 'informant', 'information', 'informational', 'informative', 'informed', 'infraction', 'infrared', 'infrastructure', 'infrequently', 'infringe', 'infringement', 'infuse', 'infusion', 'ing', 'ingenious', 'ingrained', 'ingrateful', 'ingredient', 'ingress', 'inhabit', 'inhabitant', 'inhalation', 'inhale', 'inhaler', 'inherent', 'inherently', 'inherit', 'inheritance', 'inhibitive', 'inhibitor', 'inhumane', 'inimitable', 'initial', 'initialize', 'initially', 'initiate', 'initiative', 'initiatory', 'inject', 'injection', 'injunction', 'injunctive', 'injure', 'injured', 'injurious', 'injury', 'injustice', 'ink', 'inket', 'inks', 'inland', 'inmate', 'inn', 'innate', 'innately', 'inner', 'innermost', 'inning', 'innocence', 'innocent', 'innovate', 'innovation', 'innovative', 'innuendo', 'innumerable', 'inordinate', 'inorganic', 'inport', 'input', 'inquire', 'inquirer', 'inquiring', 'inquiry', 'insane', 'insanely', 'insanity', 'insatiable', 'inscription', 'insect', 'insecure', 'insecurity', 'insemination', 'insert', 'inserted', 'insertion', 'inside', 'insider', 'insidious', 'insight', 'insightful', 'insignificant', 'insincere', 'insipid', 'insist', 'insistence', 'insistent', 'insofar', 'insolvent', 'insomniac', 'inspect', 'inspection', 'inspector', 'inspiration', 'inspirational', 'inspire', 'inspired', 'inspiring', 'instability', 'install', 'installation', 'installer', 'installment', 'instance', 'instant', 'instantaneous', 'instantly', 'instate', 'instead', 'instigate', 'instill', 'instinct', 'instinctive', 'institute', 'institution', 'institutional', 'instruct', 'instructed', 'instruction', 'instructional', 'instructor', 'instrument', 'instrumental', 'insufferable', 'insufficient', 'insular', 'insulation', 'insulin', 'insult', 'insulting', 'insurable', 'insurance', 'insure', 'insured', 'insurer', 'insurgency', 'insurgent', 'insurrection', 'intact', 'intake', 'intangible', 'integer', 'integral', 'integrate', 'integration', 'integrator', 'integrity', 'intellect', 'intellectual', 'intellectually', 'intelligence', 'intelligent', 'intelligently', 'intelligentsia', 'intend', 'intended', 'intending', 'intense', 'intensely', 'intensification', 'intension', 'intensity', 'intensive', 'intent', 'intention', 'intentional', 'intentionally', 'inter', 'interact', 'interaction', 'interactive', 'interbank', 'intercept', 'interception', 'intercoastal', 'intercollegiate', 'interconnect', 'intercontinental', 'intercourse', 'interdiction', 'interest', 'interested', 'interesting', 'interestingly', 'interface', 'interfere', 'interference', 'interfering', 'interim', 'interior', 'interjection', 'interlobular', 'intermarriage', 'intermarry', 'intermediary', 'intermediate', 'interminable', 'intermittent', 'intern', 'internal', 'internally', 'internation', 'international', 'internationalist', 'internationally', 'internist', 'internship', 'interpersonal', 'interplanetary', 'interpret', 'interpretation', 'interpreter', 'interpretive', 'interracial', 'interregnum', 'interrogate', 'interrogation', 'interrogator', 'interrupted', 'interrupting', 'interruption', 'intersect', 'intersection', 'interstate', 'interstitial', 'intertwine', 'interval', 'intervene', 'intervention', 'interview', 'interviewer', 'interwar', 'intext', 'intimate', 'intimately', 'intimidation', 'intolerable', 'intolerant', 'intoxicated', 'intoxication', 'intractable', 'intramural', 'intrepid', 'intricate', 'intrigue', 'intriguing', 'intrinsic', 'introduce', 'introduction', 'introductory', 'introspective', 'introverted', 'intrude', 'intruder', 'intrusion', 'intrusive', 'intuit', 'intuition', 'intuitive', 'intuitively', 'inturn', 'invade', 'invalid', 'invalidate', 'invaluable', 'invariably', 'invasion', 'invasive', 'invent', 'invention', 'inventive', 'inventiveness', 'inventor', 'inventory', 'inverse', 'inversion', 'inverted', 'invest', 'investigate', 'investigating', 'investigation', 'investigative', 'investigator', 'investment', 'investor', 'invincible', 'invisible', 'invisibly', 'invitation', 'invitational', 'invite', 'inviting', 'invocation', 'invoice', 'invoke', 'involuntarily', 'involuntary', 'involve', 'involved', 'involvement', 'inwards', 'io', 'ion', 'ionization', 'iota', 'irate', 'irene', 'iris', 'iron', 'ironclad', 'ironically', 'ironsides', 'irony', 'irrational', 'irregular', 'irrelevance', 'irrelevant', 'irresistible', 'irrespective', 'irresponsible', 'irresponsibly', 'irreversibly', 'irrevocable', 'irrigate', 'irrigation', 'irritate', 'irritating', 'irritation', 'is', 'ischemic', 'island', 'isle', 'islet', 'ism', 'iso', 'isolate', 'isolated', 'isolation', 'isolationism', 'isolationist', 'issuance', 'issue', 'issuer', 'issuing', 'ist', 'it', 'italics', 'itch', 'itching', 'item', 'itemize', 'iteration', 'iterative', 'itinerant', 'its', 'iva', 'ivory', 'ivy', 'j', 'jab', 'jabber', 'jack', 'jackal', 'jackass', 'jacket', 'jackknife', 'jade', 'jag', 'jaguar', 'jail', 'jake', 'jalousie', 'jam', 'jambalaya', 'jami', 'jane', 'janitor', 'janitorial', 'jap', 'japan', 'jar', 'jargon', 'jarring', 'jasper', 'jass', 'javelin', 'jaw', 'jay', 'jayhawk', 'jazz', 'jealous', 'jealously', 'jealousy', 'jean', 'jeans', 'jed', 'jeep', 'jeff', 'jelly', 'jellyfish', 'jenna', 'jenny', 'jeopardize', 'jeopardy', 'jerk', 'jerky', 'jerry', 'jersey', 'jess', 'jest', 'jet', 'jetty', 'jewel', 'jewelry', 'jig', 'jigger', 'jiggle', 'jihad', 'jimmy', 'jingle', 'jingoism', 'jinn', 'jinx', 'jitterbug', 'jittery', 'jive', 'jo', 'job', 'jobless', 'jock', 'jockey', 'jocko', 'joe', 'joey', 'jog', 'jogger', 'join', 'joining', 'joint', 'jointly', 'joke', 'joker', 'jokingly', 'jolly', 'jolt', 'jordan', 'josh', 'joshi', 'josie', 'jot', 'journal', 'journalism', 'journalist', 'journey', 'journeyman', 'jours', 'joust', 'joy', 'jubilee', 'judge', 'judgment', 'judicial', 'judiciary', 'judo', 'jug', 'juger', 'juggernaut', 'juggle', 'juggling', 'juice', 'juicy', 'juju', 'juke', 'jukebox', 'julio', 'jumble', 'jump', 'jumper', 'jumpy', 'junction', 'june', 'jungle', 'junior', 'juniper', 'junk', 'jurisdiction', 'jurist', 'jury', 'just', 'justice', 'justifiable', 'justification', 'justify', 'justifying', 'justly', 'jut', 'juvenile', 'k', 'kai', 'kaiser', 'kaka', 'kamikaze', 'kan', 'kangaroo', 'kappa', 'karaoke', 'karate', 'karma', 'karmic', 'karo', 'kat', 'kay', 'kayak', 'ked', 'keen', 'keenly', 'keep', 'keeper', 'keeping', 'keg', 'kelly', 'kelvin', 'kemp', 'ken', 'kent', 'kept', 'keralite', 'kernel', 'kerplunk', 'kerry', 'ketchup', 'kettle', 'key', 'keyboard', 'keyed', 'keyhole', 'keynote', 'khan', 'kick', 'kickback', 'kicker', 'kicking', 'kickoff', 'kiddy', 'kidnap', 'kidney', 'kiki', 'kil', 'kill', 'killas', 'killer', 'killing', 'kilo', 'kilogram', 'kiloton', 'kim', 'kimono', 'kin', 'kind', 'kindly', 'kindness', 'kinesthetic', 'kinetic', 'king', 'kingdom', 'kingship', 'kinky', 'kino', 'kinship', 'kirk', 'kiss', 'kissable', 'kissing', 'kit', 'kitchen', 'kite', 'kittles', 'kitty', 'kiwi', 'knack', 'knee', 'kneecap', 'kneel', 'kneeling', 'knell', 'knelt', 'knew', 'knife', 'knight', 'knit', 'knob', 'knobby', 'knock', 'knockdown', 'knocking', 'knockoff', 'knockout', 'knoll', 'knot', 'know', 'knowe', 'knowing', 'knowingly', 'knowledge', 'knowledgeable', 'known', 'knuckle', 'ko', 'koala', 'kodak', 'koller', 'kon', 'kona', 'kooka', 'kore', 'kos', 'kowtow', 'kraft', 'kremlin', 'kronor', 'kudos', 'kulak', 'kung', 'kwan', 'kyle', 'l', 'la', 'lab', 'label', 'labor', 'laboratory', 'labored', 'laborer', 'labour', 'labyrinth', 'lac', 'lace', 'laced', 'lacing', 'lack', 'lackluster', 'lacrosse', 'lactic', 'lacuna', 'lacy', 'lad', 'ladder', 'laden', 'ladies', 'lading', 'lady', 'lafayette', 'lag', 'lager', 'laggard', 'lagged', 'lagoon', 'laid', 'lain', 'lake', 'laker', 'lama', 'lamb', 'lamba', 'lambeau', 'lame', 'laminate', 'laminitis', 'lamp', 'lampoon', 'lan', 'lance', 'land', 'landed', 'landing', 'landlady', 'landline', 'landlord', 'landmark', 'landowner', 'landowning', 'landscape', 'landslide', 'lane', 'laney', 'language', 'lanky', 'lantern', 'lap', 'lapse', 'lapsed', 'larceny', 'lard', 'large', 'largely', 'larry', 'las', 'laser', 'lash', 'last', 'laster', 'lasting', 'lastly', 'lat', 'latch', 'late', 'lately', 'latency', 'latent', 'later', 'lateral', 'latest', 'latex', 'lathe', 'lather', 'latitude', 'latrobe', 'latter', 'lattice', 'laugh', 'laughable', 'laughing', 'laughter', 'launch', 'launder', 'laundry', 'laura', 'laureate', 'laurel', 'lava', 'laver', 'lavish', 'law', 'lawbreaking', 'lawful', 'lawfully', 'lawless', 'lawmaking', 'lawman', 'lawn', 'lawsuit', 'lawyer', 'lax', 'laxly', 'lay', 'layer', 'layered', 'laying', 'layman', 'layne', 'layoff', 'layout', 'laziness', 'lazy', 'leach', 'lead', 'leaden', 'leader', 'leadership', 'leading', 'leadoff', 'leaf', 'leafy', 'league', 'leak', 'leakage', 'leaky', 'lean', 'leaning', 'leant', 'leap', 'leapfrog', 'leaping', 'leapt', 'lear', 'learn', 'learned', 'learner', 'learning', 'learnt', 'lease', 'leasehold', 'leaseholder', 'leash', 'leasing', 'least', 'leather', 'leave', 'leaves', 'leaving', 'lectern', 'lecture', 'lecturer', 'led', 'ledge', 'ledger', 'lee', 'leeches', 'leed', 'leery', 'left', 'leftist', 'leftover', 'leg', 'legacy', 'legal', 'legalese', 'legality', 'legalization', 'legalize', 'legally', 'legato', 'legend', 'legendary', 'legendry', 'legged', 'leggy', 'legion', 'legislate', 'legislation', 'legislative', 'legislator', 'legislature', 'legit', 'legitimacy', 'legitimate', 'legitimately', 'leisure', 'lemon', 'lemonade', 'lemony', 'lend', 'lender', 'length', 'lengthways', 'lengthwise', 'lengthy', 'lenient', 'leniently', 'lens', 'lent', 'leopard', 'leprechaun', 'less', 'lessen', 'lesser', 'lesson', 'lest', 'let', 'letdown', 'lethal', 'lethargic', 'lethargy', 'letter', 'lettered', 'lettering', 'letup', 'lev', 'level', 'levelheaded', 'leveling', 'leverage', 'leviathan', 'levin', 'levy', 'lew', 'lewd', 'lewis', 'lexicon', 'leyland', 'li', 'liability', 'liable', 'liang', 'liar', 'libel', 'libelous', 'liberal', 'liberalism', 'liberalization', 'liberate', 'liberation', 'libertarian', 'liberty', 'libra', 'librarian', 'library', 'libretto', 'license', 'licensed', 'licensure', 'lick', 'licking', 'lid', 'lie', 'lied', 'lien', 'lier', 'lieu', 'lieutenant', 'life', 'lifeblood', 'lifeguard', 'lifeline', 'lifelong', 'lifetime', 'lift', 'lifting', 'ligament', 'light', 'lighten', 'lightening', 'lighter', 'lighthearted', 'lighthouse', 'lighting', 'lightly', 'lightning', 'lightweight', 'ligne', 'likable', 'like', 'likelihood', 'likely', 'likeness', 'likewise', 'liking', 'lilac', 'lim', 'limb', 'limbed', 'limbo', 'lime', 'limelight', 'limestone', 'limey', 'limit', 'limitation', 'limited', 'limiter', 'limiting', 'limitless', 'limousine', 'limp', 'linden', 'line', 'lineage', 'linear', 'lined', 'lineman', 'liner', 'lingerie', 'lingo', 'linguistics', 'lining', 'link', 'linkage', 'linked', 'linking', 'links', 'linn', 'linter', 'lion', 'lionel', 'lionization', 'lip', 'lipstick', 'liqueur', 'liquid', 'liquidate', 'liquidation', 'liquidity', 'liquor', 'lira', 'lire', 'lisp', 'list', 'listed', 'listen', 'listener', 'listening', 'lister', 'listing', 'lit', 'litany', 'lite', 'liter', 'literacy', 'literal', 'literally', 'literate', 'literature', 'lithium', 'litigation', 'litmus', 'litter', 'litterer', 'little', 'littoral', 'live', 'lived', 'livelihood', 'lively', 'liven', 'liver', 'livestock', 'livid', 'living', 'lizard', 'llyn', 'lo', 'load', 'loaded', 'loader', 'loading', 'loan', 'loaner', 'loath', 'loathe', 'loathing', 'lob', 'lobby', 'lobo', 'lobotomy', 'lobster', 'local', 'locale', 'locality', 'locally', 'locate', 'location', 'locator', 'lock', 'locked', 'locker', 'locking', 'lockout', 'lockup', 'locomotion', 'locomotive', 'locust', 'lode', 'lodge', 'lodged', 'lodging', 'lodgings', 'loft', 'lofty', 'log', 'logarithmic', 'logbook', 'logged', 'logger', 'logging', 'logic', 'logical', 'logically', 'login', 'logistic', 'logistical', 'logistics', 'logos', 'logy', 'lohan', 'loin', 'loka', 'loll', 'lone', 'loneliness', 'lonely', 'long', 'longbow', 'longer', 'longevity', 'longhorn', 'longing', 'longingly', 'longitudinal', 'longs', 'longshanks', 'longshoreman', 'longue', 'loo', 'look', 'looking', 'lookout', 'looming', 'loon', 'looney', 'loony', 'loop', 'loophole', 'looping', 'loose', 'loosely', 'loosen', 'looser', 'loosing', 'loot', 'lop', 'lord', 'lordy', 'lore', 'lors', 'lose', 'loser', 'losing', 'loss', 'lost', 'lot', 'lotion', 'lots', 'lottery', 'lotto', 'lotus', 'loud', 'louden', 'loudly', 'loudness', 'lounge', 'lour', 'lousy', 'lout', 'lovable', 'love', 'lovely', 'lover', 'lovesick', 'loving', 'lovingly', 'low', 'lower', 'lowering', 'lowly', 'loyal', 'loyalty', 'lube', 'luce', 'lucent', 'lucidly', 'luck', 'luckily', 'lucky', 'lucrative', 'lucratively', 'lucy', 'ludicrous', 'luge', 'luger', 'luggage', 'luke', 'lull', 'lumber', 'lumbering', 'lumberjack', 'lump', 'luna', 'lunar', 'lunatic', 'lunch', 'lune', 'lung', 'lupe', 'lupus', 'lure', 'lurk', 'lusher', 'lust', 'luxury', 'lying', 'lymph', 'lymphoid', 'lymphoma', 'lynch', 'lynx', 'lyric', 'lyrical', 'lyricist', 'lys', 'm', 'ma', 'maam', 'mac', 'mace', 'machete', 'machine', 'machinery', 'machinist', 'mack', 'macro', 'macrocephalus', 'macular', 'mad', 'madame', 'madden', 'maddening', 'made', 'madman', 'madness', 'maduro', 'mae', 'maestro', 'mag', 'magazine', 'magenta', 'maggot', 'magic', 'magical', 'magically', 'magician', 'magistrate', 'magnanimously', 'magnate', 'magnesium', 'magnet', 'magnetic', 'magnetism', 'magneto', 'magnificent', 'magnify', 'magnitude', 'magnolia', 'magnum', 'maid', 'maiden', 'mail', 'mailbox', 'mailed', 'mailer', 'maimed', 'main', 'mainly', 'mains', 'maintain', 'maintenance', 'maire', 'majestic', 'majesty', 'major', 'majority', 'make', 'maker', 'making', 'mal', 'malaria', 'male', 'malevolent', 'malfeasance', 'mali', 'malice', 'malicious', 'maliciously', 'malignant', 'mall', 'malpractice', 'malt', 'mamba', 'mambo', 'mamma', 'man', 'mana', 'manage', 'manageable', 'management', 'manager', 'managerial', 'mandate', 'mandatory', 'mandolin', 'mandrake', 'mandrill', 'mane', 'maneuverable', 'manga', 'manganese', 'manger', 'manhood', 'mania', 'maniac', 'manic', 'manicure', 'manifest', 'manifestation', 'manifested', 'manifesto', 'manifold', 'manila', 'manille', 'manioc', 'manipulate', 'manipulation', 'manipulative', 'manipulator', 'mankind', 'manliness', 'manly', 'mannequin', 'manner', 'manners', 'manning', 'manny', 'manor', 'manque', 'mansion', 'manslaughter', 'mantal', 'mantel', 'mantle', 'mantra', 'manual', 'manually', 'manufacture', 'manufacturer', 'manure', 'many', 'mao', 'map', 'maple', 'mapper', 'mar', 'maracan', 'marajuana', 'marathon', 'marauder', 'marble', 'marblehead', 'marbles', 'marc', 'marcel', 'marcello', 'march', 'marcher', 'marchetto', 'marco', 'mardy', 'mare', 'margarine', 'margarita', 'marge', 'margin', 'marginal', 'marginally', 'maria', 'marijuana', 'marimba', 'marina', 'marine', 'mariner', 'marionette', 'maris', 'marital', 'maritime', 'mark', 'marked', 'markedly', 'marker', 'market', 'marketable', 'marketer', 'marketing', 'marking', 'markup', 'marlin', 'maroon', 'marquee', 'marriage', 'married', 'marrow', 'marry', 'marrying', 'marsh', 'mart', 'marten', 'martial', 'martially', 'martin', 'martyr', 'martyrdom', 'marvel', 'marvelous', 'marvelously', 'mary', 'mas', 'mascara', 'mascot', 'masculine', 'mask', 'masked', 'mason', 'masonic', 'masonry', 'masquerade', 'mass', 'massa', 'massacre', 'massage', 'massive', 'massively', 'mast', 'master', 'masterly', 'mastermind', 'masterpiece', 'mastery', 'masthead', 'mastitis', 'masturbate', 'mat', 'matador', 'match', 'matchbook', 'matchbox', 'matching', 'matchless', 'matchmaking', 'matchstick', 'mate', 'mater', 'material', 'materialistic', 'materialize', 'materially', 'maternal', 'maternity', 'math', 'mathematical', 'mathematically', 'mathematician', 'mathematics', 'matin', 'matinee', 'mating', 'matrix', 'matta', 'matter', 'mattress', 'maturation', 'mature', 'maturing', 'maturity', 'maul', 'maverick', 'mavis', 'maxim', 'maximization', 'maximize', 'maximum', 'may', 'maya', 'maybe', 'mayhem', 'mayonnaise', 'mayor', 'maze', 'mazy', 'me', 'meadow', 'meager', 'meal', 'mean', 'meaning', 'meaningful', 'meaningless', 'meant', 'meanwhile', 'measly', 'measurable', 'measure', 'measured', 'measurement', 'measuring', 'meat', 'meaty', 'mechanic', 'mechanical', 'mechanically', 'mechanics', 'mechanism', 'mechanization', 'medal', 'medalist', 'meddle', 'meddling', 'media', 'median', 'mediation', 'mediator', 'medic', 'medical', 'medically', 'medication', 'medicine', 'medieval', 'mediocre', 'mediocrity', 'meditating', 'meditation', 'mediterranean', 'medium', 'medley', 'meed', 'meek', 'meekly', 'meet', 'meeting', 'megalomaniac', 'megalomaniacal', 'mein', 'mel', 'melamine', 'melange', 'melee', 'mellon', 'mellow', 'melody', 'melon', 'melt', 'melted', 'melting', 'member', 'membership', 'membrane', 'memento', 'memo', 'memorabilia', 'memorable', 'memorably', 'memorandum', 'memoria', 'memorial', 'memorialize', 'memorize', 'memory', 'men', 'mend', 'menhaden', 'menial', 'mental', 'mentality', 'mentally', 'mention', 'mentor', 'menu', 'mercantile', 'mercer', 'merchandise', 'merchandiser', 'merchant', 'mercy', 'mere', 'merely', 'merge', 'merger', 'meridian', 'merit', 'merlin', 'merry', 'mesa', 'mesh', 'mesmerize', 'mesopotamia', 'mess', 'message', 'messenger', 'messer', 'messin', 'messing', 'messman', 'messy', 'met', 'meta', 'metabolic', 'metabolism', 'metal', 'metallic', 'metallicity', 'metamorphosis', 'metaphor', 'metaphorical', 'metaphorically', 'metaphysics', 'metatarsal', 'meteorological', 'meter', 'methane', 'method', 'methodically', 'methodist', 'methodology', 'meticulous', 'metier', 'metric', 'metrics', 'metronome', 'metropolis', 'metropolitan', 'mew', 'mezzo', 'mi', 'mib', 'mice', 'michigan', 'mick', 'micro', 'microbe', 'microbial', 'microbiology', 'microcosm', 'microfilm', 'microphone', 'microscopic', 'microwave', 'mid', 'midafternoon', 'middle', 'middleweight', 'midget', 'midland', 'midmorning', 'midnight', 'midrange', 'mids', 'midseason', 'midsentence', 'midst', 'midsummer', 'midway', 'midweek', 'midwife', 'mien', 'mig', 'might', 'mightiness', 'mighty', 'migraine', 'migrant', 'migrate', 'migration', 'migratory', 'mike', 'mil', 'mild', 'milder', 'mildew', 'mildly', 'mile', 'mileage', 'milestone', 'milieu', 'militant', 'militarily', 'militarism', 'militarist', 'militaristic', 'military', 'militia', 'milk', 'milky', 'mill', 'milla', 'mille', 'millennium', 'miller', 'million', 'millionaire', 'millions', 'millionth', 'millisecond', 'milner', 'mim', 'mime', 'mimic', 'min', 'mince', 'mind', 'minded', 'minding', 'mindless', 'mine', 'miner', 'mineral', 'mines', 'ming', 'mingle', 'miniature', 'minimal', 'minimally', 'minimize', 'minimum', 'mining', 'minister', 'ministerial', 'ministership', 'ministry', 'minnie', 'minnow', 'minny', 'minor', 'minority', 'minot', 'mint', 'minus', 'minute', 'minuteman', 'mir', 'miracle', 'miraculous', 'mirage', 'miro', 'mirror', 'mirrored', 'misandry', 'misapprehend', 'misbehavior', 'miscalculation', 'miscarriage', 'miscellaneous', 'mischief', 'misconception', 'misconduct', 'misdemeanor', 'mise', 'miser', 'miserable', 'miserably', 'misery', 'misfire', 'misfortune', 'misguide', 'misguided', 'mishap', 'misidentification', 'misinformation', 'misinterpretation', 'misjudge', 'mislead', 'misleading', 'misled', 'mismatch', 'misnomer', 'misplace', 'misquote', 'misrepresent', 'miss', 'missile', 'missing', 'mission', 'missionary', 'misspelling', 'missy', 'mist', 'mistake', 'mistaken', 'mistakenly', 'mistaking', 'mister', 'mistletoe', 'mistral', 'mistrial', 'mistrust', 'misty', 'misunderstand', 'misunderstanding', 'misunderstood', 'misuse', 'mite', 'mitigate', 'mitigation', 'mitre', 'mitt', 'mix', 'mixed', 'mixer', 'mixture', 'mo', 'moan', 'moaning', 'mob', 'mobile', 'mobility', 'mobster', 'mocha', 'mock', 'mockery', 'mockingbird', 'mode', 'model', 'modeling', 'modena', 'moderate', 'moderately', 'moderation', 'modern', 'modernize', 'modest', 'modestly', 'modesty', 'modicum', 'modification', 'modifier', 'modify', 'modular', 'module', 'moist', 'moisture', 'mojo', 'moksha', 'molasses', 'mold', 'moldy', 'mole', 'molecular', 'molecule', 'molest', 'molestation', 'molester', 'molly', 'molten', 'moment', 'momentous', 'momentum', 'mommy', 'momo', 'mon', 'mona', 'monarch', 'monarchical', 'monarchy', 'monastery', 'monastic', 'monastically', 'monetary', 'monetization', 'monetize', 'money', 'moneybag', 'monger', 'mongering', 'moniker', 'monitor', 'monk', 'monkey', 'mono', 'monochromatic', 'monochrome', 'monocultural', 'monolithic', 'monologue', 'monopoly', 'monosyllabic', 'monotonous', 'monster', 'monstrously', 'montana', 'monte', 'month', 'monthly', 'monument', 'monumental', 'mood', 'moody', 'moon', 'mooning', 'moonraker', 'moonshiner', 'moor', 'moors', 'moose', 'moot', 'mope', 'mor', 'mora', 'moraine', 'moral', 'morale', 'morality', 'morally', 'morals', 'morass', 'moratorium', 'morbid', 'more', 'moreover', 'mores', 'morgan', 'mormon', 'morn', 'morning', 'mornings', 'morocco', 'moron', 'moronic', 'morph', 'morphology', 'morris', 'morrow', 'mort', 'mortality', 'mortally', 'mortar', 'mortgage', 'mortgagee', 'mortified', 'mosaic', 'mosque', 'mosquito', 'moss', 'most', 'mostly', 'motel', 'mother', 'motherhood', 'mothering', 'motherly', 'motion', 'motionless', 'motivate', 'motivation', 'motivational', 'motive', 'motley', 'motor', 'motorcycle', 'motorcyclist', 'motoring', 'motorist', 'mott', 'motto', 'mould', 'moulin', 'mound', 'mount', 'mountain', 'mountainous', 'mounted', 'mounting', 'mourning', 'mouse', 'mouth', 'mouthed', 'mouthing', 'mouthpiece', 'move', 'movement', 'mover', 'movie', 'moving', 'mow', 'mower', 'mowing', 'moyenne', 'mozambique', 'mu', 'much', 'mud', 'muddy', 'mudslinging', 'muffet', 'muffin', 'muffled', 'muffler', 'mug', 'mugger', 'muid', 'mule', 'muller', 'mullets', 'mulligatawny', 'multicore', 'multidimensional', 'multifaceted', 'multilingual', 'multimillion', 'multimillionaire', 'multinational', 'multiple', 'multiplex', 'multiplication', 'multiply', 'multiplying', 'multithreaded', 'multitude', 'mum', 'mummify', 'mummy', 'mundane', 'municipal', 'municipality', 'munition', 'munitions', 'murder', 'murderer', 'murdering', 'murderous', 'murky', 'murphy', 'muscle', 'muscular', 'muse', 'museum', 'mushroom', 'mushy', 'music', 'musical', 'musician', 'musicology', 'musk', 'musky', 'must', 'mustache', 'mustang', 'mustard', 'muster', 'mutable', 'mutant', 'mutation', 'mutch', 'mute', 'mutilation', 'mutiny', 'mutt', 'mutton', 'mutual', 'mutually', 'muzz', 'muzzle', 'my', 'myriad', 'myron', 'myrrh', 'mysterious', 'mysteriously', 'mystery', 'mystic', 'mystical', 'myth', 'mythical', 'mythological', 'mythology', 'n', 'na', 'naa', 'nab', 'nach', 'nag', 'nagging', 'nail', 'nailing', 'naissance', 'naive', 'naiveness', 'naked', 'nam', 'name', 'nameless', 'namely', 'naming', 'nana', 'nancy', 'nanny', 'nap', 'napalm', 'napkin', 'napoleon', 'nappy', 'narcissism', 'narcissist', 'narcissistic', 'narcotic', 'narrative', 'narrator', 'narrow', 'narrower', 'narrowly', 'nasal', 'nasally', 'nash', 'nasty', 'nat', 'nation', 'national', 'nationalism', 'nationalist', 'nationalistic', 'nationality', 'nationally', 'nationhood', 'nationwide', 'native', 'natively', 'nativity', 'natural', 'naturalism', 'naturalization', 'naturalize', 'naturally', 'nature', 'naughty', 'nausea', 'nautical', 'naval', 'nave', 'navigate', 'navigation', 'navigational', 'navigator', 'navy', 'naw', 'nawab', 'naysayer', 'ne', 'neal', 'near', 'nearby', 'nearest', 'nearly', 'neat', 'neath', 'neatly', 'neb', 'nebula', 'necessarily', 'necessary', 'necessity', 'neck', 'necked', 'necropolis', 'need', 'needham', 'needing', 'needle', 'needles', 'needless', 'needlessly', 'needs', 'needy', 'nefarious', 'negate', 'negative', 'negatively', 'negativity', 'neglect', 'negligence', 'negligent', 'negligible', 'negotiable', 'negotiate', 'negotiation', 'negotiator', 'negro', 'neighbor', 'neighborhood', 'neighboring', 'neither', 'nelson', 'neo', 'neon', 'nephew', 'nerve', 'nervous', 'nervousness', 'nest', 'nestle', 'nestling', 'net', 'netball', 'nether', 'netted', 'netting', 'nettle', 'network', 'neurological', 'neurology', 'neurone', 'neurotic', 'neutral', 'neutrality', 'neutrino', 'neutron', 'neve', 'never', 'neverland', 'nevertheless', 'new', 'newly', 'news', 'newsletter', 'newspaper', 'newsroom', 'newsworthy', 'newt', 'newton', 'next', 'nexus', 'ni', 'niacin', 'nibble', 'nice', 'nicely', 'niche', 'nick', 'nickel', 'nickle', 'nickname', 'nicky', 'nicotine', 'nidal', 'niece', 'nifty', 'niggardly', 'niggling', 'nigh', 'night', 'nightfall', 'nightgown', 'nightingale', 'nightly', 'nightmare', 'nightmarish', 'nights', 'nighttime', 'nihilism', 'nihilistic', 'nil', 'nimble', 'nincompoop', 'nine', 'nineteen', 'nineteenth', 'ninety', 'ninth', 'nipping', 'nirvana', 'nit', 'nitrate', 'nitro', 'nitrogen', 'no', 'nob', 'nobility', 'noble', 'nobly', 'nobody', 'nod', 'nodding', 'node', 'noel', 'noir', 'noise', 'noisily', 'noisy', 'nolo', 'nomadic', 'nominal', 'nominally', 'nominate', 'nominated', 'nomination', 'nominee', 'non', 'nonacademic', 'nonalcoholic', 'noncabinet', 'noncitizen', 'noncombatant', 'noncommercial', 'noncommissioned', 'noncompeting', 'nonconformity', 'noncontact', 'noncorrosive', 'nondemocratic', 'nondenominational', 'nondestructive', 'none', 'nonetheless', 'nonexempt', 'nonexistent', 'nonfarm', 'nonfatal', 'nonfiction', 'nongovernmental', 'nonhostile', 'nonimmigrant', 'noninterference', 'nonmilitary', 'nonnative', 'nonpartisan', 'nonperforming', 'nonpolitical', 'nonproductive', 'nonprofit', 'nonproprietary', 'nonrecurring', 'nonreligious', 'nonrenewable', 'nonresident', 'nonsense', 'nonsensical', 'nonsignature', 'nonsocialistic', 'nonstop', 'nontaxable', 'nontechnical', 'nontoxic', 'nontransposing', 'nonunion', 'nonwhite', 'nonworking', 'noodle', 'noon', 'nope', 'norm', 'norma', 'normal', 'normalize', 'normally', 'north', 'northeast', 'northeastern', 'norther', 'northern', 'northland', 'northwest', 'northwesterly', 'northwestern', 'nose', 'nosed', 'nosey', 'nostalgia', 'nostalgic', 'not', 'notable', 'notably', 'notarial', 'notary', 'notation', 'notch', 'notched', 'note', 'notebook', 'noted', 'noteworthy', 'nothing', 'notice', 'noticeable', 'notification', 'notified', 'notifier', 'notify', 'notion', 'notoriety', 'notorious', 'notoriously', 'notwithstanding', 'nought', 'noun', 'nourishment', 'nous', 'nova', 'novel', 'novelty', 'novice', 'now', 'nowadays', 'noway', 'nowhere', 'noy', 'nth', 'nu', 'nuance', 'nuclear', 'nude', 'nudge', 'nudity', 'nuisance', 'nuke', 'nul', 'null', 'nullify', 'numb', 'number', 'numbing', 'numerate', 'numerical', 'numerically', 'numero', 'numerology', 'numerous', 'nun', 'nuncio', 'nurse', 'nursery', 'nursing', 'nut', 'nutcracker', 'nutrition', 'nutritional', 'nutshell', 'nutter', 'nutty', 'nye', 'nylon', 'nymphomaniac', 'o', 'oak', 'oasis', 'oath', 'oatmeal', 'obe', 'obedience', 'obese', 'obesity', 'obey', 'obi', 'obituary', 'object', 'objectification', 'objection', 'objective', 'objectively', 'obligation', 'obligatory', 'obliged', 'obliterate', 'oblivion', 'oblivious', 'oblong', 'obnoxious', 'obscene', 'obscenely', 'obscenity', 'obscure', 'obscurity', 'obsequious', 'observable', 'observance', 'observation', 'observatory', 'observe', 'observer', 'obsession', 'obsessive', 'obsolete', 'obstacle', 'obstetrician', 'obstinate', 'obstruction', 'obtain', 'obtainable', 'obvious', 'obviously', 'occasion', 'occasional', 'occasionally', 'occultist', 'occupancy', 'occupant', 'occupation', 'occupational', 'occupy', 'occur', 'occurrence', 'ocean', 'oceanic', 'oceanographic', 'oceanside', 'ocellated', 'oclock', 'octave', 'octet', 'octopus', 'od', 'odd', 'oddly', 'odds', 'ode', 'odometer', 'of', 'off', 'offbeat', 'offend', 'offended', 'offender', 'offense', 'offensive', 'offensively', 'offer', 'offering', 'offhand', 'office', 'officeholder', 'officer', 'official', 'officially', 'officious', 'offset', 'offshore', 'offspring', 'often', 'oftentimes', 'oh', 'oil', 'oiled', 'oilman', 'oily', 'ointment', 'okra', 'old', 'olden', 'older', 'oligarch', 'oligarchic', 'olive', 'om', 'ombudsman', 'omen', 'ominous', 'omit', 'omnibus', 'omniform', 'omnipotence', 'omnipotent', 'omnipresent', 'omniscience', 'on', 'once', 'oncoming', 'one', 'oner', 'oneself', 'onetime', 'onewhere', 'ongoing', 'onion', 'only', 'onrushing', 'ons', 'onset', 'onside', 'onslaught', 'onto', 'onus', 'onward', 'onwards', 'onyx', 'ooze', 'opacity', 'opal', 'opaque', 'open', 'opener', 'opening', 'openly', 'openness', 'opera', 'operate', 'operating', 'operation', 'operational', 'operative', 'operator', 'opinion', 'opinionated', 'opium', 'opponent', 'opportunist', 'opportunistic', 'opportunity', 'oppose', 'opposed', 'opposing', 'opposite', 'opposition', 'oppress', 'oppression', 'oppressive', 'opt', 'optical', 'optics', 'optimal', 'optimism', 'optimist', 'optimistic', 'optimization', 'optimize', 'optimum', 'option', 'optional', 'optionally', 'optometrist', 'opulence', 'opulent', 'or', 'oracle', 'oral', 'orally', 'orange', 'orb', 'orbit', 'orbital', 'orchard', 'orchestra', 'orchestral', 'orchestrate', 'orchid', 'ordain', 'ordeal', 'order', 'ordered', 'orderly', 'ordinance', 'ordinarily', 'ordinary', 'ordination', 'ordinator', 'ordnance', 'ore', 'organ', 'organic', 'organism', 'organization', 'organizational', 'organize', 'organized', 'organizer', 'orgasm', 'orgasmic', 'orgy', 'orient', 'oriental', 'orientation', 'origin', 'original', 'originally', 'originate', 'origination', 'originator', 'orignal', 'orlean', 'ornament', 'ornamental', 'orphan', 'orthodox', 'orthopedics', 'os', 'ostensibly', 'ostentatiously', 'ostrich', 'other', 'otherwise', 'otology', 'otto', 'ouch', 'ought', 'ounce', 'our', 'oust', 'ouster', 'out', 'outage', 'outback', 'outboard', 'outbound', 'outbox', 'outbreak', 'outcast', 'outcome', 'outcry', 'outdated', 'outdoor', 'outdoors', 'outed', 'outer', 'outfield', 'outfielder', 'outfit', 'outflow', 'outgoing', 'outing', 'outlandish', 'outlaw', 'outlet', 'outline', 'outlined', 'outlook', 'outlying', 'outmoded', 'outnumber', 'outperform', 'outplay', 'outplayed', 'outpost', 'outpouring', 'output', 'outrage', 'outrageous', 'outrageously', 'outreach', 'outright', 'outscore', 'outset', 'outshine', 'outside', 'outsider', 'outspoken', 'outstanding', 'outstrip', 'outward', 'outwardly', 'outweigh', 'ova', 'oval', 'ovarian', 'ovation', 'oven', 'over', 'overall', 'overalls', 'overbearing', 'overblown', 'overcome', 'overcritical', 'overcrowded', 'overdone', 'overdose', 'overdraft', 'overdrive', 'overdubbed', 'overdue', 'overemotional', 'overestimate', 'overextend', 'overflow', 'overgeneralize', 'overhand', 'overhaul', 'overhead', 'overheat', 'overlaid', 'overlap', 'overlay', 'overload', 'overlook', 'overly', 'overnight', 'overpay', 'overpayment', 'overpopulation', 'overreaching', 'override', 'overrule', 'oversea', 'overseas', 'oversee', 'overseen', 'overseer', 'oversight', 'oversized', 'overspeed', 'overspend', 'overstatement', 'overstay', 'overstock', 'overt', 'overtake', 'overtax', 'overthrow', 'overtime', 'overtly', 'overture', 'overturn', 'overtype', 'overuse', 'overvaluation', 'overview', 'overweight', 'overwhelming', 'overwhelmingly', 'overwrite', 'ovum', 'owe', 'ower', 'owing', 'owl', 'owner', 'ownership', 'oxygen', 'oxymoron', 'ozone', 'p', 'pa', 'pablo', 'pac', 'pace', 'pacer', 'pacific', 'pacificism', 'pack', 'package', 'packet', 'pact', 'pad', 'padding', 'paddle', 'paddling', 'paddock', 'paddy', 'padlock', 'padre', 'pagan', 'page', 'pageant', 'pager', 'pain', 'pained', 'painful', 'painkiller', 'painlessly', 'paint', 'painted', 'painting', 'pair', 'paired', 'pal', 'palace', 'paladin', 'palatable', 'pale', 'palet', 'palette', 'palladium', 'palm', 'palma', 'palmer', 'paltry', 'pam', 'pampered', 'pamphlet', 'pan', 'panama', 'pancreas', 'pancreatic', 'panda', 'pandora', 'pane', 'panel', 'panhead', 'panic', 'panicked', 'panne', 'pannel', 'panoply', 'pansy', 'pant', 'panther', 'panties', 'panting', 'pantothenic', 'pants', 'paolo', 'papa', 'papal', 'paper', 'paperback', 'papoose', 'par', 'para', 'parabola', 'parachute', 'parade', 'paradigm', 'paradise', 'paradox', 'paraffin', 'paragraph', 'parallel', 'paralyze', 'param', 'parameter', 'paramilitary', 'paramount', 'paranoia', 'paranoid', 'paraphrase', 'parasite', 'paratrooper', 'parcel', 'pardo', 'pardon', 'pardoning', 'pare', 'parent', 'parental', 'parentheses', 'parenthesis', 'parenthood', 'pariah', 'parimutuel', 'parish', 'parity', 'park', 'parker', 'parkin', 'parking', 'parkway', 'parlance', 'parlay', 'parliament', 'parliamentary', 'parlor', 'parma', 'parody', 'parole', 'parrot', 'parse', 'part', 'parted', 'parter', 'partial', 'partially', 'participant', 'participate', 'participation', 'participle', 'particle', 'particular', 'particularly', 'particulate', 'partisan', 'partisanship', 'partition', 'partitioned', 'partitioning', 'partly', 'partner', 'partnership', 'party', 'pass', 'passable', 'passage', 'passe', 'passenger', 'passer', 'passerine', 'passing', 'passion', 'passionate', 'passive', 'passover', 'passport', 'password', 'past', 'paste', 'pasted', 'pastel', 'pastime', 'pastor', 'pastry', 'pat', 'patch', 'patel', 'patent', 'patently', 'pater', 'paternalistic', 'paternity', 'path', 'pathetic', 'pathologic', 'patience', 'patient', 'patiently', 'patriarch', 'patriot', 'patriotic', 'patriotism', 'patrol', 'patron', 'patronage', 'patronize', 'patten', 'pattern', 'patterned', 'patty', 'pau', 'paucity', 'pauper', 'pause', 'pave', 'pavement', 'pavilion', 'paving', 'pawn', 'pay', 'payable', 'payday', 'payed', 'payer', 'paying', 'payment', 'payoff', 'payroll', 'pea', 'peace', 'peaceableness', 'peaceably', 'peaceful', 'peacefully', 'peacetime', 'peach', 'peacock', 'peak', 'peaked', 'peanut', 'pearl', 'pearly', 'peart', 'peasant', 'peavey', 'pebble', 'peck', 'pecker', 'peculiar', 'pecuniary', 'pedal', 'peddling', 'pedestal', 'pedestrian', 'pediatric', 'pediatrician', 'pedicure', 'pedigree', 'pedophilia', 'pedro', 'pee', 'peed', 'peek', 'peel', 'peep', 'peer', 'peeve', 'peewee', 'peg', 'peggy', 'peine', 'pejorative', 'peller', 'pellet', 'peloton', 'pen', 'penal', 'penalize', 'penalty', 'penang', 'penchant', 'pencil', 'pendant', 'pending', 'penduline', 'pendulum', 'penetrating', 'penetration', 'penguin', 'penial', 'peninsula', 'penis', 'penitentiary', 'pennant', 'penniless', 'penning', 'penny', 'pension', 'pentagon', 'pentathlon', 'people', 'pep', 'pepper', 'per', 'perceive', 'percent', 'percentage', 'perception', 'perceptive', 'perceptual', 'percolate', 'percussion', 'perdu', 'pereira', 'perennial', 'perfect', 'perfected', 'perfecting', 'perfection', 'perfectionist', 'perfectly', 'perfectness', 'perforated', 'perform', 'performance', 'performer', 'perfume', 'perhaps', 'peri', 'peril', 'perimeter', 'period', 'periodic', 'periodical', 'periodically', 'peripheral', 'perish', 'perished', 'perjury', 'perky', 'perle', 'perm', 'permanent', 'permanently', 'permissible', 'permission', 'permissive', 'permit', 'permitted', 'pern', 'perorate', 'peroxide', 'perpendicular', 'perpetrator', 'perpetual', 'perpetually', 'perpetuate', 'perpetuity', 'perplexed', 'perry', 'persecuting', 'persecution', 'perseverance', 'persevere', 'persist', 'persistence', 'persistent', 'person', 'persona', 'personable', 'personal', 'personality', 'personalization', 'personalize', 'personally', 'personalty', 'personnel', 'perspective', 'persuade', 'persuaded', 'persuasion', 'pertain', 'pertaining', 'pertinent', 'peruse', 'pervasive', 'perverse', 'pervert', 'perverted', 'pesky', 'peso', 'pessimist', 'pessimistic', 'pest', 'pesticide', 'pestilence', 'pet', 'petal', 'pete', 'peter', 'petit', 'petite', 'petition', 'petitioner', 'petrified', 'petrol', 'petroleum', 'petter', 'pettiness', 'petty', 'petulance', 'pew', 'peyton', 'phantom', 'pharmaceutical', 'pharmacist', 'pharmacy', 'phase', 'phases', 'pheasant', 'phenomena', 'phenomenal', 'phenomenon', 'phenylalanine', 'phi', 'philanthropic', 'philosopher', 'philosophical', 'philosophy', 'phoenix', 'phone', 'phonetic', 'phonics', 'phonograph', 'phony', 'phosphate', 'phosphorus', 'photo', 'photocopy', 'photogenic', 'photograph', 'photographer', 'photographic', 'photography', 'phrase', 'phrasing', 'phylum', 'physical', 'physically', 'physician', 'physicist', 'physics', 'physiology', 'physique', 'pi', 'pia', 'pianist', 'piano', 'piazza', 'pic', 'piccolo', 'pick', 'picked', 'picker', 'picket', 'pickings', 'pickle', 'pickler', 'pickup', 'picky', 'picnic', 'picture', 'pictured', 'picturesque', 'pidgin', 'pie', 'piece', 'pied', 'pier', 'pierce', 'pierced', 'piercing', 'piety', 'pig', 'pigeon', 'pigskin', 'pike', 'pile', 'piled', 'piles', 'pilgrimage', 'pilgrimess', 'piling', 'pill', 'pillage', 'pillar', 'pillory', 'pillow', 'pilot', 'pilotless', 'pimp', 'pimpernel', 'pimple', 'pimply', 'pin', 'pinch', 'pinching', 'pine', 'pineapple', 'pinfall', 'ping', 'pinion', 'pink', 'pinkie', 'pinnacle', 'pinpoint', 'pint', 'pioneer', 'pious', 'pipe', 'pipeline', 'piper', 'pique', 'piquet', 'piracy', 'pirate', 'pirouette', 'piss', 'pistol', 'piston', 'pit', 'pitch', 'pitcher', 'pitchfork', 'pitching', 'pitiful', 'pitted', 'pitting', 'pity', 'pivot', 'pivotal', 'pix', 'pizza', 'place', 'placement', 'placid', 'placidly', 'plague', 'plagued', 'plaid', 'plain', 'plainer', 'plainly', 'plaintiff', 'plaintive', 'plait', 'plan', 'planchette', 'plane', 'planet', 'planeta', 'planetary', 'planner', 'plant', 'plantation', 'planting', 'plasma', 'plaster', 'plastering', 'plastic', 'plastics', 'plate', 'platform', 'platinum', 'platitude', 'platoon', 'platter', 'plausibility', 'plausible', 'plausibly', 'play', 'playa', 'playable', 'playback', 'playbook', 'playboy', 'player', 'playground', 'playmaker', 'playmaking', 'playmate', 'playwright', 'plaza', 'plea', 'plead', 'pleading', 'pleasant', 'pleasantly', 'please', 'pleasing', 'pleasure', 'pled', 'pledge', 'plentiful', 'plenty', 'pliers', 'plight', 'plot', 'plotting', 'plow', 'ploy', 'plucked', 'plucker', 'plucky', 'plug', 'plugged', 'plugging', 'plum', 'plumage', 'plumber', 'plumbing', 'plummer', 'plummet', 'plunder', 'plundering', 'plunge', 'plunging', 'plunk', 'plural', 'pluralism', 'plurality', 'plus', 'plush', 'pneumonia', 'po', 'pocket', 'pocketbook', 'pocketing', 'pocketknife', 'pocketless', 'pod', 'poe', 'poem', 'poet', 'poetic', 'poetry', 'point', 'pointed', 'pointer', 'pointing', 'pointless', 'pointy', 'poise', 'poised', 'poison', 'poisoning', 'poisonous', 'poke', 'poker', 'pokey', 'pol', 'polar', 'polarity', 'pole', 'police', 'policeman', 'policy', 'polish', 'polished', 'polite', 'politely', 'politic', 'political', 'politically', 'politician', 'politics', 'polk', 'polka', 'poll', 'polled', 'polling', 'pollock', 'pollute', 'polluted', 'polluting', 'pollution', 'polo', 'poltergeist', 'poly', 'polygon', 'polygraph', 'polyhedron', 'polymer', 'polymorphism', 'polyphenol', 'polyphonic', 'pom', 'pommel', 'pompano', 'pompey', 'pompous', 'poncho', 'pond', 'ponder', 'pondering', 'pong', 'pontificate', 'pontification', 'pony', 'pooch', 'poof', 'pooh', 'pooka', 'pool', 'poop', 'pooped', 'poor', 'poorly', 'poot', 'pop', 'popcorn', 'pope', 'poplar', 'poppa', 'poppy', 'poppycock', 'populace', 'popular', 'popularity', 'popularize', 'popularly', 'populate', 'population', 'populous', 'porbeagle', 'porcelain', 'porch', 'pore', 'pored', 'poring', 'pork', 'porky', 'pornographic', 'pornography', 'porous', 'port', 'porta', 'portability', 'portable', 'portal', 'ported', 'porter', 'portfolio', 'portion', 'portlet', 'portman', 'portmanteau', 'porto', 'portrait', 'portraiture', 'portray', 'portugais', 'pose', 'poser', 'posh', 'posing', 'position', 'positional', 'positioned', 'positive', 'positively', 'posse', 'possess', 'possessed', 'possessing', 'possession', 'possessive', 'possessory', 'possibility', 'possible', 'possibly', 'possum', 'post', 'postage', 'postal', 'postbag', 'posted', 'poster', 'posterity', 'postfix', 'posting', 'postman', 'postmaster', 'postpone', 'postponement', 'postscript', 'postseason', 'postulate', 'posture', 'postwar', 'pot', 'potassium', 'potato', 'potatoes', 'potency', 'potent', 'potential', 'potentially', 'potion', 'potter', 'pottery', 'poultry', 'pounce', 'pounced', 'pound', 'pounder', 'pounding', 'poundstone', 'pour', 'pouring', 'pout', 'pouting', 'pouty', 'poverty', 'pow', 'powder', 'powdered', 'power', 'powered', 'powerful', 'powerfulness', 'powerhouse', 'powerless', 'powerlessness', 'pox', 'practic', 'practical', 'practicality', 'practically', 'practice', 'practiced', 'practitioner', 'pragmatic', 'pragmatism', 'pragmatist', 'prairie', 'praise', 'praising', 'prank', 'praxis', 'pray', 'prayer', 'praying', 'preach', 'preacher', 'preaching', 'preamble', 'preapproval', 'precarious', 'precariously', 'precaution', 'precautionary', 'precede', 'precedence', 'precedent', 'preceding', 'precious', 'precipitous', 'precise', 'precisely', 'precision', 'preclude', 'precondition', 'predation', 'predator', 'predatory', 'predecessor', 'predicament', 'predict', 'predictable', 'prediction', 'predictive', 'predictor', 'predilection', 'predisposed', 'predominance', 'predominant', 'predominantly', 'predominate', 'predominately', 'preen', 'preface', 'prefect', 'prefectly', 'prefer', 'preferably', 'preference', 'preferred', 'prefix', 'preflight', 'preformed', 'pregnancy', 'pregnant', 'prehistoric', 'prejudice', 'prejudiced', 'prejudicial', 'preliminary', 'prelude', 'prematch', 'premature', 'prematurely', 'premier', 'premiere', 'premiership', 'premise', 'premium', 'prenatal', 'prenatally', 'prendre', 'preorder', 'prep', 'preparation', 'prepare', 'prepared', 'preparedness', 'prepayment', 'prepubescent', 'prequalify', 'prerelease', 'prerequisite', 'prerogative', 'preschool', 'prescribe', 'prescription', 'preseason', 'presence', 'present', 'presentable', 'presentation', 'presentence', 'presently', 'preservation', 'preserve', 'preset', 'preside', 'presidency', 'president', 'presidente', 'presidential', 'press', 'pressing', 'pression', 'pressure', 'pressureless', 'prestation', 'prestige', 'presto', 'presumably', 'presume', 'presuming', 'presumption', 'pretend', 'pretense', 'pretentious', 'pretest', 'pretty', 'pretzel', 'prevail', 'prevalence', 'prevalent', 'prevent', 'preventative', 'prevention', 'preventive', 'preview', 'previous', 'previously', 'prey', 'price', 'priced', 'priceless', 'prick', 'pricks', 'pride', 'prideful', 'priest', 'priesthood', 'priestly', 'prima', 'primarily', 'primary', 'primate', 'prime', 'primer', 'priming', 'primitive', 'primogeniture', 'primordial', 'primus', 'prince', 'princely', 'princess', 'principal', 'principally', 'principle', 'print', 'printable', 'printed', 'printer', 'printing', 'prior', 'priority', 'prison', 'prisoner', 'privacy', 'private', 'privately', 'privation', 'privilege', 'privileged', 'privy', 'prize', 'pro', 'prob', 'probability', 'probable', 'probably', 'probate', 'probation', 'probationary', 'probe', 'problem', 'problematic', 'probusiness', 'procedural', 'procedure', 'proceed', 'proceeding', 'proceeds', 'process', 'processor', 'proclaim', 'proclaiming', 'proclamation', 'procrastinate', 'procreative', 'proctor', 'procure', 'prodigy', 'produce', 'produced', 'producer', 'product', 'productid', 'production', 'productive', 'productively', 'productivity', 'prof', 'profane', 'profanity', 'profess', 'profession', 'professional', 'professionalism', 'professionally', 'professor', 'proficiency', 'proficient', 'profile', 'profit', 'profitability', 'profitable', 'profitably', 'profiteering', 'profiter', 'profiting', 'profound', 'profoundly', 'profusely', 'prog', 'progeny', 'prognosis', 'program', 'programmer', 'progress', 'progresser', 'progression', 'progressive', 'progressively', 'progressivism', 'prohibit', 'prohibition', 'prohibitive', 'project', 'projectile', 'projecting', 'projection', 'projector', 'proletariat', 'proliferation', 'prolific', 'prolongation', 'prominence', 'prominent', 'prominently', 'promiscuity', 'promiscuous', 'promise', 'promising', 'promissory', 'promotable', 'promote', 'promoter', 'promotion', 'promotional', 'prompt', 'promulgate', 'promulgation', 'prone', 'prong', 'pronger', 'pronoun', 'pronounce', 'pronounced', 'pronouncement', 'pronunciation', 'proof', 'proofread', 'proofreader', 'prop', 'propaganda', 'propagate', 'propane', 'propellant', 'propeller', 'propensity', 'proper', 'properly', 'property', 'prophecy', 'prophet', 'proportion', 'proportional', 'proportionally', 'proportionate', 'proposal', 'propose', 'proposer', 'proposition', 'proprietary', 'proprietor', 'proprietorship', 'proprietory', 'props', 'propulsion', 'proscription', 'prosecute', 'prosecution', 'prosecutor', 'prospect', 'prospective', 'prospectus', 'prosper', 'prosperity', 'prostate', 'prostitute', 'prostitution', 'prostrate', 'protect', 'protecting', 'protection', 'protective', 'protector', 'protectorate', 'protein', 'protest', 'protestant', 'protestantism', 'protester', 'protocol', 'prototype', 'prototypical', 'protracted', 'proudly', 'prounion', 'prove', 'proved', 'proven', 'proverb', 'proverbial', 'provide', 'provided', 'providence', 'provident', 'provider', 'providing', 'province', 'provincial', 'proving', 'provision', 'provisional', 'provisionally', 'provocative', 'provocatively', 'provoke', 'provoking', 'provost', 'prowar', 'prowess', 'proximity', 'proxy', 'prudence', 'prudish', 'prune', 'psalm', 'pseudo', 'psi', 'pst', 'psyche', 'psychiatric', 'psychiatrist', 'psychic', 'psychics', 'psychological', 'psychologist', 'psychology', 'psychometric', 'psychopath', 'psychopathic', 'psychosis', 'psychotic', 'pu', 'pub', 'puberty', 'pubic', 'pubis', 'public', 'publican', 'publication', 'publicity', 'publicly', 'publish', 'publisher', 'puck', 'pud', 'puddle', 'pudge', 'puerile', 'puff', 'puffing', 'puffy', 'pug', 'puke', 'pull', 'pulldown', 'pulley', 'pulp', 'pulse', 'puma', 'pummel', 'pump', 'pumpkin', 'pun', 'punch', 'puncher', 'punching', 'punctual', 'punctuation', 'pundit', 'punish', 'punishable', 'punishment', 'punitive', 'punk', 'punt', 'punta', 'punter', 'puny', 'pupil', 'puppet', 'puppetmaster', 'puppy', 'purchase', 'pure', 'purely', 'purgatory', 'purge', 'purgery', 'purification', 'purify', 'purist', 'purity', 'purple', 'purpose', 'purposely', 'purposive', 'purse', 'pursuant', 'pursue', 'pursuit', 'purveyor', 'pus', 'push', 'pusher', 'pushing', 'pushover', 'puss', 'pussycat', 'pustule', 'put', 'putt', 'putter', 'putty', 'puzzle', 'puzzled', 'puzzling', 'pygmy', 'pyramid', 'python', 'q', 'quad', 'quadrangular', 'quadrant', 'quadrennial', 'quadriceps', 'quadruple', 'quagmire', 'quail', 'quake', 'quaker', 'qualification', 'qualified', 'qualifier', 'qualify', 'quality', 'quandary', 'quant', 'quantify', 'quantitative', 'quantity', 'quantum', 'quarantine', 'quark', 'quarrel', 'quart', 'quarter', 'quarterback', 'quartering', 'quarterly', 'quarters', 'quartet', 'quartz', 'quash', 'queen', 'queer', 'quell', 'quench', 'query', 'querying', 'quest', 'question', 'questionable', 'questioner', 'questionnaire', 'queue', 'quick', 'quicken', 'quickie', 'quickly', 'quickness', 'quicksilver', 'quickstep', 'quiet', 'quieter', 'quietly', 'quilt', 'quirky', 'quit', 'quite', 'quits', 'quiver', 'quiz', 'quo', 'quorum', 'quot', 'quota', 'quotation', 'quote', 'quotient', 'r', 'ra', 'rabbi', 'rabbit', 'raccoon', 'race', 'racer', 'raceway', 'rach', 'racial', 'racially', 'racing', 'racism', 'racist', 'rack', 'racket', 'racking', 'racy', 'rad', 'radar', 'radiance', 'radiate', 'radiation', 'radical', 'radically', 'radio', 'radioactive', 'radioactivity', 'radius', 'raffle', 'raft', 'rag', 'rage', 'ragged', 'raging', 'rah', 'raid', 'raider', 'rail', 'railing', 'railroad', 'railway', 'rain', 'rainbow', 'rainfall', 'rainy', 'raise', 'raised', 'raisin', 'raising', 'raj', 'rake', 'raking', 'rally', 'ralph', 'ram', 'ramble', 'rambling', 'rampant', 'ran', 'ranch', 'rancher', 'rancid', 'rand', 'random', 'randomly', 'randomness', 'randy', 'rang', 'range', 'ranged', 'ranger', 'ranging', 'rank', 'ranked', 'ransom', 'rant', 'ranting', 'rap', 'rape', 'rapid', 'rapidly', 'raping', 'rapist', 'rapper', 'rapping', 'rapport', 'raptor', 'rapture', 'rare', 'rarely', 'rarity', 'rascal', 'rash', 'raspberry', 'raster', 'rat', 'rate', 'rated', 'rather', 'ratification', 'ratify', 'rating', 'ratio', 'ration', 'rational', 'rationale', 'rationality', 'rationalization', 'rationalize', 'rationally', 'rattle', 'rattled', 'rattling', 'raucous', 'rave', 'raven', 'ravens', 'raving', 'raw', 'ray', 'razor', 're', 'reach', 'reaching', 'reacquisition', 'react', 'reaction', 'reactionary', 'reactor', 'read', 'readable', 'readdition', 'reader', 'readership', 'readily', 'reading', 'readjust', 'readjustment', 'ready', 'reaffirm', 'reak', 'real', 'realign', 'realignment', 'realistic', 'realistically', 'reality', 'realization', 'realize', 'realizing', 'really', 'realm', 'realtor', 'realty', 'reap', 'reaper', 'reappear', 'reapply', 'rear', 'rearm', 'rearrange', 'rearward', 'reason', 'reasonable', 'reasonably', 'reasoned', 'reasoning', 'reassign', 'reassure', 'reassuring', 'rebalance', 'rebate', 'rebel', 'rebellion', 'rebellious', 'rebelliousness', 'rebid', 'rebirth', 'reboard', 'reborn', 'reborrow', 'rebound', 'rebounder', 'rebuild', 'rebuilt', 'reburn', 'rebuttal', 'recalculate', 'recalibrate', 'recall', 'recap', 'recapture', 'recast', 'receipt', 'receipts', 'receivable', 'receivables', 'receive', 'received', 'receiver', 'recent', 'recently', 'reception', 'receptionist', 'receptive', 'recess', 'recession', 'rechange', 'recharge', 'recheck', 'recipe', 'recipient', 'reciprocal', 'recission', 'recite', 'reckless', 'recklessly', 'reckon', 'reckoning', 'reclaim', 'recline', 'reclusive', 'recognition', 'recognizable', 'recognize', 'recoil', 'recollection', 'recommand', 'recommend', 'recommendation', 'recon', 'reconcile', 'reconciliation', 'reconnect', 'reconsider', 'reconstructed', 'reconstruction', 'record', 'recordable', 'recorder', 'recording', 'recount', 'recoup', 'recourse', 'recover', 'recoverable', 'recovery', 'recreate', 'recreation', 'recreational', 'recruit', 'recruiter', 'recruiting', 'recruitment', 'rectangle', 'rectangular', 'rectifier', 'rectify', 'rectum', 'recurring', 'recursion', 'recursive', 'recut', 'recycle', 'red', 'redd', 'redden', 'redeem', 'redefine', 'redemption', 'redemptive', 'redeploy', 'redhead', 'redirect', 'rediscover', 'redisplay', 'redistribution', 'redo', 'redraft', 'redress', 'reduce', 'reduced', 'reducing', 'reduction', 'redundancy', 'redundant', 'redwood', 'reed', 'reef', 'reel', 'reeled', 'reese', 'reeve', 'ref', 'refect', 'refer', 'referee', 'reference', 'referendum', 'referral', 'referrer', 'refetch', 'refill', 'refillable', 'refinance', 'refind', 'refine', 'refined', 'refinery', 'refining', 'refinish', 'reflect', 'reflected', 'reflecting', 'reflection', 'reflective', 'reflectiveness', 'reflector', 'reflex', 'reflexive', 'reflexively', 'reflux', 'refold', 'reform', 'reformation', 'reformed', 'refraction', 'refractor', 'refrain', 'refresh', 'refreshing', 'refrigeration', 'refuel', 'refueling', 'refuge', 'refugee', 'refund', 'refurbish', 'refusal', 'refuse', 'refusing', 'refute', 'reg', 'regain', 'regal', 'regard', 'regarder', 'regarding', 'regardless', 'regency', 'regenerate', 'regent', 'regime', 'regimen', 'regiment', 'regimental', 'region', 'regional', 'register', 'registered', 'registrant', 'registrar', 'registration', 'registry', 'regress', 'regression', 'regret', 'regrettably', 'regroup', 'regular', 'regularly', 'regulate', 'regulated', 'regulation', 'regulator', 'regulatory', 'regurgitate', 'rehabilitate', 'rehabilitation', 'rehash', 'rehearsal', 'reification', 'reign', 'reimage', 'reimburse', 'reimbursement', 'rein', 'reincarnation', 'reindeer', 'reinforce', 'reins', 'reinsert', 'reinstall', 'reinstate', 'reinstatement', 'reinstitute', 'reintroduce', 'reinvent', 'reinvest', 'reinvestment', 'reissue', 'reit', 'reiterated', 'reject', 'rejection', 'rejoice', 'rejoin', 'rejuvenation', 'rel', 'relate', 'related', 'relation', 'relational', 'relationship', 'relative', 'relatively', 'relativity', 'relator', 'relax', 'relaxation', 'relaxed', 'relay', 'relearn', 'release', 'relegation', 'relentless', 'relevance', 'relevant', 'reliability', 'reliable', 'reliably', 'reliance', 'reliant', 'relief', 'relieve', 'relieved', 'reliever', 'relieving', 'religion', 'religious', 'religiously', 'relinquish', 'reload', 'relocate', 'relocation', 'reluctance', 'reluctant', 'rely', 'remade', 'remail', 'remain', 'remainder', 'remains', 'remake', 'remand', 'remark', 'remarkable', 'remarkably', 'remarque', 'rematch', 'remedial', 'remedy', 'remember', 'remembrance', 'remind', 'reminder', 'remission', 'remit', 'remix', 'remodel', 'remorse', 'remorseful', 'remote', 'remotely', 'removable', 'removal', 'remove', 'removed', 'remover', 'removing', 'renaissance', 'renal', 'rename', 'render', 'rendering', 'rendezvous', 'rendition', 'renegotiate', 'renegotiation', 'renew', 'renewable', 'renewal', 'renounce', 'renovation', 'renown', 'renowned', 'rent', 'rental', 'rented', 'renter', 'renunciation', 'reopen', 'reorder', 'reorganization', 'reorganize', 'rep', 'repair', 'repairer', 'repatriate', 'repatriation', 'repay', 'repaying', 'repayment', 'repeal', 'repeat', 'repeatability', 'repeatable', 'repeated', 'repeatedly', 'repeater', 'repellant', 'repent', 'repentant', 'repertoire', 'repetition', 'repetitive', 'repetitively', 'rephrase', 'replace', 'replacement', 'replay', 'replica', 'replicate', 'replicated', 'reply', 'report', 'reportedly', 'reporter', 'reposition', 'repository', 'repossess', 'repossession', 'repost', 'reprehensible', 'represent', 'representation', 'representative', 'repressed', 'repression', 'repressive', 'reprieve', 'reprimand', 'reprimanding', 'reprint', 'reproduce', 'reproduction', 'reproductive', 'reproof', 'reps', 'republic', 'republican', 'repulse', 'repulsion', 'repurchase', 'reputable', 'reputation', 'repute', 'reputed', 'reputedly', 'request', 'requiem', 'require', 'requirement', 'reread', 'rerent', 'rerun', 'resale', 'reschedule', 'rescue', 'reseal', 'research', 'researcher', 'reseat', 'reseed', 'resell', 'reseller', 'resemblance', 'resemble', 'resend', 'resent', 'resentful', 'resentment', 'reservation', 'reserve', 'reserved', 'reservist', 'reservoir', 'reset', 'resettlement', 'reside', 'residence', 'residency', 'resident', 'residental', 'residential', 'residual', 'residue', 'resign', 'resignation', 'resigned', 'resilience', 'resin', 'resist', 'resistance', 'resistant', 'resisting', 'resize', 'resolute', 'resolution', 'resolve', 'resolved', 'resonance', 'resonate', 'resort', 'resounding', 'resoundingly', 'resource', 'resourceful', 'respect', 'respectable', 'respectful', 'respectfully', 'respecting', 'respective', 'respectively', 'respiratory', 'respite', 'respond', 'responder', 'response', 'responsibility', 'responsible', 'responsibly', 'responsive', 'responsiveness', 'rest', 'restart', 'restate', 'restaurant', 'rester', 'resting', 'restitution', 'restless', 'restoration', 'restore', 'restrained', 'restraining', 'restraint', 'restrict', 'restricted', 'restriction', 'restrictive', 'result', 'resultant', 'resulting', 'resume', 'resumption', 'resurgence', 'resurrection', 'ret', 'retail', 'retailer', 'retain', 'retainer', 'retaining', 'retake', 'retaliate', 'retaliation', 'retard', 'retarded', 'retention', 'retentive', 'rethink', 'reticle', 'retina', 'retire', 'retired', 'retirement', 'retiring', 'retort', 'retorted', 'retractable', 'retreat', 'retribution', 'retrieval', 'retrieve', 'retroactive', 'retrospect', 'return', 'returned', 'retype', 'reunion', 'reunite', 'reuse', 'rev', 'revamp', 'reveal', 'revealed', 'revealing', 'revel', 'revelation', 'revenge', 'revenue', 'reverb', 'revere', 'reverence', 'reverend', 'reversable', 'reverse', 'reversed', 'reversion', 'reversionary', 'reversioner', 'revert', 'review', 'reviewer', 'revile', 'revise', 'revision', 'revisionism', 'revisit', 'revitalization', 'revival', 'revive', 'revocation', 'revoke', 'revolt', 'revolution', 'revolutionary', 'revolutionize', 'revolver', 'revolving', 'reward', 'rewarding', 'rewind', 'reworked', 'rewrite', 'rex', 'rhapsody', 'rhea', 'rhetoric', 'rhetorical', 'rheumatism', 'rheumatoid', 'rhine', 'rhino', 'rhinoceros', 'rhyme', 'rhythm', 'rhythmic', 'rib', 'ribband', 'ribble', 'ribbon', 'rice', 'rich', 'riches', 'richness', 'rick', 'rid', 'ridden', 'ridder', 'ridding', 'riddle', 'ride', 'rider', 'ridge', 'ridicule', 'ridiculous', 'ridiculously', 'riding', 'rife', 'rifle', 'rifling', 'rift', 'rig', 'rigging', 'right', 'righteous', 'righteousness', 'rightful', 'rightly', 'rightness', 'rigid', 'rigor', 'rigorous', 'riley', 'rim', 'rimfire', 'ring', 'ringed', 'ringer', 'ringing', 'ringleader', 'rink', 'rinse', 'rio', 'riot', 'rioting', 'rip', 'ripa', 'ripe', 'ripper', 'ripping', 'ripple', 'rise', 'risen', 'riser', 'rising', 'risk', 'riskless', 'risky', 'risque', 'rita', 'rite', 'ritual', 'rival', 'rivalry', 'rive', 'river', 'rix', 'roach', 'road', 'roadblock', 'roadside', 'roadway', 'roam', 'roaming', 'roanoke', 'roar', 'roaring', 'roast', 'roasting', 'rob', 'robber', 'robbery', 'robbing', 'robe', 'rober', 'robin', 'robot', 'robust', 'robustness', 'rocher', 'rock', 'rocker', 'rocket', 'rocking', 'rocky', 'rod', 'rode', 'rodeo', 'rodman', 'rodney', 'roe', 'roebuck', 'roger', 'rogue', 'roi', 'role', 'roll', 'rollback', 'rolled', 'roller', 'rolling', 'romance', 'romantic', 'romp', 'rond', 'rondo', 'roof', 'roofing', 'rook', 'rookie', 'room', 'roommate', 'rooster', 'roosters', 'root', 'rooted', 'rope', 'ropes', 'roque', 'rory', 'rosario', 'rosary', 'rose', 'rosin', 'ross', 'roster', 'rosy', 'rot', 'rotate', 'rotating', 'rotation', 'rotator', 'rotella', 'roto', 'rotten', 'rotting', 'roue', 'rouge', 'rough', 'rougher', 'roughing', 'roughly', 'roughness', 'roughshod', 'round', 'roundabout', 'rounded', 'roundhouse', 'rounding', 'roundup', 'rout', 'route', 'router', 'routine', 'routinely', 'routing', 'rove', 'rover', 'roving', 'row', 'rowdy', 'rower', 'rowing', 'royal', 'royalist', 'royally', 'royalty', 'rub', 'rubber', 'rubbing', 'rubbish', 'ruby', 'ruck', 'ruckus', 'rudd', 'rude', 'rudely', 'rudimentary', 'rue', 'ruffle', 'rufus', 'rug', 'rugged', 'ruin', 'ruined', 'rukh', 'rule', 'ruler', 'ruling', 'rumble', 'rumor', 'rump', 'run', 'runaway', 'rung', 'runner', 'running', 'runny', 'runway', 'rupee', 'ruptured', 'rural', 'ruse', 'rush', 'rushed', 'rusher', 'rushing', 'ruskin', 'russel', 'russia', 'rust', 'rusty', 'rut', 'ruth', 'rutherford', 'ruthless', 'ruthlessly', 'ryder', 'rye', 's', 'sa', 'sabbath', 'sabbatical', 'saber', 'sabina', 'sabine', 'sabotage', 'sac', 'sack', 'sacked', 'sacrament', 'sacred', 'sacrifice', 'sacrificing', 'sacrosanct', 'sad', 'saddening', 'saddle', 'saddler', 'sade', 'sadistic', 'sadly', 'sadness', 'safari', 'safe', 'safeguard', 'safekeeping', 'safely', 'safety', 'saffron', 'sag', 'saga', 'sage', 'sagging', 'sagittarius', 'saic', 'said', 'sail', 'sailboat', 'sailed', 'sailing', 'sailor', 'saint', 'sake', 'salaam', 'salad', 'salamander', 'salaried', 'salary', 'sale', 'salesman', 'salespeople', 'salesperson', 'salinity', 'saliva', 'salivate', 'salle', 'sally', 'salmon', 'salomon', 'salon', 'saloon', 'salt', 'salted', 'saltpeter', 'salty', 'salute', 'salvage', 'salvation', 'salve', 'salvo', 'sam', 'sammy', 'sample', 'sampling', 'samson', 'samsonite', 'samurai', 'san', 'sanctify', 'sanction', 'sanctuary', 'sand', 'sandbox', 'sanders', 'sanding', 'sandman', 'sandwich', 'sandy', 'sane', 'sang', 'sanguine', 'sanitation', 'sanity', 'sank', 'sans', 'sant', 'sao', 'sap', 'sapphire', 'sar', 'sarcasm', 'sarcastic', 'sarcastically', 'sarwan', 'sassy', 'sat', 'satan', 'satanic', 'satanist', 'sate', 'satellite', 'satin', 'satire', 'satirical', 'satisfaction', 'satisfactorily', 'satisfactory', 'satisfied', 'satisfy', 'satisfying', 'saturate', 'saturated', 'sauce', 'saucerful', 'sauf', 'sault', 'saunders', 'saute', 'savage', 'save', 'saved', 'saver', 'saving', 'savior', 'savoy', 'savvy', 'saw', 'sawdust', 'sawed', 'sawyer', 'saxophone', 'say', 'saya', 'sayid', 'saying', 'scaffold', 'scalable', 'scale', 'scaled', 'scales', 'scalpel', 'scalper', 'scaly', 'scam', 'scan', 'scandal', 'scandalous', 'scanner', 'scanning', 'scant', 'scape', 'scapegoat', 'scar', 'scarce', 'scarcity', 'scare', 'scarface', 'scarlet', 'scarred', 'scarring', 'scary', 'scat', 'scathing', 'scattered', 'scattering', 'scavenging', 'scenario', 'scene', 'scenery', 'scenic', 'scent', 'scented', 'schedule', 'schema', 'scheme', 'scheming', 'schilling', 'schizophrenic', 'schneider', 'scholar', 'scholarly', 'scholarship', 'school', 'schooling', 'schoolyard', 'schwarz', 'science', 'scientific', 'scientifically', 'scientist', 'scissor', 'scissors', 'sclerosis', 'scoff', 'scold', 'scoliosis', 'scoop', 'scooped', 'scoot', 'scooter', 'scope', 'scorched', 'scorching', 'score', 'scoreboard', 'scored', 'scoreless', 'scorer', 'scoring', 'scorn', 'scorned', 'scorpion', 'scot', 'scotch', 'scotia', 'scour', 'scoured', 'scouring', 'scouse', 'scout', 'scouting', 'scrabble', 'scramble', 'scrambler', 'scrambling', 'scrap', 'scraped', 'scraping', 'scrapped', 'scratch', 'scratches', 'scratching', 'scream', 'screamer', 'screaming', 'screen', 'screened', 'screener', 'screening', 'screenplay', 'screw', 'screwball', 'screwdriver', 'screwed', 'screwing', 'screwy', 'scrimmage', 'script', 'scripture', 'scroll', 'scrolled', 'scrubbed', 'scruffy', 'scrutiny', 'scudder', 'scuff', 'scull', 'sculptor', 'scum', 'scurry', 'scuttle', 'se', 'sea', 'seal', 'sealed', 'sealing', 'seaman', 'seamer', 'seamlessly', 'sear', 'search', 'searchable', 'searching', 'seashore', 'seaside', 'season', 'seasonal', 'seasonally', 'seasoned', 'seasoning', 'seat', 'seated', 'seater', 'seating', 'sebaceous', 'sec', 'secession', 'second', 'secondary', 'seconde', 'secondhand', 'secondly', 'secrecy', 'secret', 'secretarial', 'secretariat', 'secretary', 'secrete', 'secretive', 'secretly', 'sect', 'sectarian', 'sectarianism', 'section', 'sectional', 'sector', 'secular', 'secure', 'securely', 'security', 'sedan', 'sedate', 'seditious', 'seducing', 'seductive', 'seductively', 'see', 'seed', 'seeded', 'seeing', 'seek', 'seeker', 'seeking', 'seem', 'seeming', 'seemingly', 'seen', 'seep', 'seeped', 'seesaw', 'segment', 'segmentation', 'segregation', 'seismic', 'seismograph', 'seismometer', 'seize', 'seizing', 'seizure', 'seldom', 'sele', 'select', 'selected', 'selection', 'selective', 'selectively', 'selector', 'self', 'selfish', 'selfishly', 'selfless', 'sell', 'sellable', 'seller', 'selling', 'sellout', 'semantic', 'semantically', 'semantics', 'semblable', 'semen', 'semester', 'semi', 'semiannual', 'semiautomatic', 'semicolon', 'semiconductor', 'semifinal', 'semiformal', 'seminary', 'semipro', 'semis', 'sen', 'senate', 'senator', 'send', 'sender', 'sending', 'senior', 'seniority', 'senna', 'sensable', 'sensation', 'sensational', 'sense', 'senseless', 'sensible', 'sensitive', 'sensitivity', 'sensor', 'sensual', 'sensuality', 'sent', 'sentence', 'sentiment', 'sentimental', 'separable', 'separate', 'separately', 'separates', 'separating', 'separation', 'separatism', 'separatist', 'separator', 'sept', 'septic', 'sequel', 'sequence', 'sequential', 'ser', 'sera', 'serenade', 'serene', 'serf', 'sergeant', 'serial', 'series', 'serif', 'serious', 'seriously', 'seriousness', 'serrated', 'servant', 'serve', 'server', 'service', 'servile', 'serving', 'servitude', 'servo', 'sesame', 'session', 'sessions', 'set', 'setback', 'seth', 'seton', 'setter', 'setting', 'settle', 'settled', 'settlement', 'settling', 'setup', 'seven', 'sevenfold', 'seventeen', 'seventeenth', 'seventh', 'seventy', 'sever', 'several', 'severance', 'severe', 'severely', 'severity', 'sew', 'sewage', 'sewer', 'sewn', 'sex', 'sexual', 'sexuality', 'sexually', 'sexy', 'sh', 'shabby', 'shack', 'shad', 'shade', 'shaded', 'shader', 'shadow', 'shady', 'shaft', 'shafted', 'shag', 'shah', 'shake', 'shaken', 'shaker', 'shaking', 'shaky', 'shale', 'shall', 'shallow', 'shallowness', 'shallows', 'shalt', 'sham', 'shamble', 'shame', 'shameful', 'shameless', 'shampoo', 'shanghai', 'shank', 'shape', 'shaped', 'shaping', 'sharable', 'share', 'shareholder', 'shark', 'sharp', 'sharpen', 'sharper', 'sharpie', 'sharply', 'sharpshooter', 'shatter', 'shattering', 'shaul', 'shave', 'shaved', 'shaver', 'shaving', 'shay', 'she', 'shea', 'shear', 'shearer', 'shearing', 'shears', 'shed', 'shedding', 'sheen', 'sheep', 'sheepishly', 'sheer', 'sheet', 'sheik', 'shelf', 'shell', 'shellacking', 'shelled', 'shelling', 'shelly', 'shelter', 'sheltered', 'shelving', 'shepherd', 'sher', 'sheriff', 'sherry', 'shi', 'shied', 'shield', 'shielding', 'shift', 'shifter', 'shifting', 'shikari', 'shill', 'shin', 'shine', 'shining', 'shinning', 'shinny', 'shiny', 'ship', 'shipbuilder', 'shipbuilding', 'shipment', 'shipped', 'shipping', 'shipwreck', 'shire', 'shirt', 'shiv', 'shiver', 'shock', 'shocker', 'shocking', 'shockingly', 'shod', 'shoddy', 'shoe', 'shoeless', 'shoestring', 'shogi', 'shola', 'shone', 'shoo', 'shook', 'shoot', 'shooter', 'shooting', 'shop', 'shoplifter', 'shoplifting', 'shopper', 'shopping', 'shore', 'short', 'shortage', 'shorten', 'shorter', 'shortfall', 'shorthand', 'shortly', 'shorts', 'shortsighted', 'shortstop', 'shot', 'shotgun', 'should', 'shoulder', 'shouldnt', 'shout', 'shouting', 'shove', 'show', 'showcase', 'showdown', 'shower', 'showing', 'showman', 'shown', 'showroom', 'shrank', 'shredder', 'shrewd', 'shrimp', 'shrine', 'shrink', 'shrinkage', 'shrinking', 'shrivel', 'shriver', 'shrug', 'shucks', 'shudder', 'shuffle', 'shuffling', 'shun', 'shut', 'shutdown', 'shutoff', 'shutout', 'shutter', 'shutting', 'shuttle', 'shy', 'shyly', 'shyness', 'si', 'sibling', 'sice', 'sicilian', 'sick', 'sickness', 'side', 'sidearm', 'sided', 'sideline', 'sides', 'sidewalk', 'sideways', 'siding', 'siege', 'sierra', 'sift', 'sig', 'sigh', 'sighing', 'sight', 'sighted', 'sigma', 'sign', 'signal', 'signatory', 'signature', 'signer', 'significance', 'significant', 'significantly', 'signify', 'sil', 'silence', 'silenced', 'silent', 'silently', 'silhouette', 'silica', 'silicon', 'silicone', 'silk', 'silly', 'silt', 'silva', 'silvan', 'silver', 'silvery', 'simian', 'similar', 'similarity', 'similarly', 'simple', 'simpler', 'simplicity', 'simplified', 'simplify', 'simplistic', 'simply', 'simulant', 'simular', 'simulate', 'simulation', 'simulator', 'simulcast', 'simultaneous', 'simultaneously', 'sin', 'since', 'sincere', 'sincerely', 'sincerity', 'sine', 'sing', 'singer', 'singh', 'singing', 'single', 'singled', 'singlehandedly', 'singles', 'singular', 'singularly', 'sinister', 'sink', 'sinkage', 'sinker', 'sinking', 'sinless', 'sinner', 'sinus', 'sinusitis', 'sip', 'sir', 'siren', 'sis', 'sissy', 'sister', 'sisterhood', 'sit', 'site', 'sith', 'sitter', 'sitting', 'situated', 'situation', 'situational', 'six', 'sixteen', 'sixth', 'sixty', 'sizable', 'size', 'sized', 'sizes', 'sizing', 'sizzle', 'sizzling', 'skate', 'skater', 'skating', 'skeletal', 'skeleton', 'sken', 'skeptical', 'skepticism', 'sketch', 'sketchy', 'skewed', 'ski', 'skid', 'skidding', 'skies', 'skiing', 'skill', 'skilled', 'skillet', 'skilling', 'skim', 'skimming', 'skimp', 'skin', 'skinned', 'skinner', 'skinny', 'skip', 'skipper', 'skipping', 'skirmish', 'skirt', 'skit', 'skittish', 'skittle', 'skull', 'skunk', 'sky', 'skyway', 'sla', 'slab', 'slack', 'slacker', 'slag', 'slagging', 'slain', 'slam', 'slander', 'slanderous', 'slang', 'slant', 'slanting', 'slap', 'slapping', 'slash', 'slashed', 'slasher', 'slate', 'slaughter', 'slaughterhouse', 'slave', 'slavery', 'slaving', 'slavishly', 'slay', 'slayer', 'slaying', 'sleazy', 'sledge', 'sleek', 'sleeker', 'sleep', 'sleeper', 'sleeping', 'sleepless', 'sleepwalk', 'sleepwalking', 'sleepy', 'sleeve', 'slept', 'slew', 'slice', 'sliced', 'slick', 'slid', 'slide', 'slider', 'sliding', 'slight', 'slightly', 'slim', 'slime', 'slimy', 'sling', 'slinging', 'slink', 'slinky', 'slip', 'slipknot', 'slipover', 'slippage', 'slipped', 'slippery', 'slipping', 'slit', 'sloan', 'slog', 'slogan', 'sloop', 'slop', 'slope', 'sloping', 'sloppy', 'slot', 'sloth', 'slotting', 'slow', 'slowdown', 'slowly', 'slows', 'sludge', 'slugger', 'slugging', 'sluggish', 'sluggishness', 'slum', 'slump', 'slur', 'slush', 'slut', 'sly', 'slyly', 'smack', 'smacking', 'small', 'smaller', 'smallpox', 'smarmy', 'smart', 'smarting', 'smartly', 'smash', 'smashing', 'smashup', 'smear', 'smeared', 'smell', 'smelled', 'smelling', 'smelly', 'smelt', 'smile', 'smiling', 'smirk', 'smith', 'smithing', 'smitten', 'smog', 'smoke', 'smoked', 'smokeless', 'smoker', 'smoking', 'smooth', 'smoother', 'smoothing', 'smoothly', 'smother', 'smothered', 'smothering', 'smudge', 'smug', 'smuggle', 'smuggling', 'snack', 'snag', 'snagged', 'snail', 'snails', 'snake', 'snakehead', 'snap', 'snape', 'snapped', 'snapper', 'snapping', 'snappy', 'snaps', 'snapshot', 'snatch', 'snatching', 'sneak', 'sneaking', 'sneaky', 'snicket', 'sniff', 'sniffer', 'sniffing', 'sniffy', 'snipe', 'sniper', 'snipping', 'snob', 'snobby', 'snook', 'snooker', 'snoop', 'snoopy', 'snoring', 'snorkel', 'snort', 'snot', 'snow', 'snowball', 'snowmobile', 'snowy', 'snub', 'snuck', 'snuff', 'snuffer', 'snug', 'snugly', 'so', 'soak', 'soaked', 'soaking', 'soap', 'soar', 'soaring', 'sob', 'sobbing', 'sober', 'sobriety', 'soccer', 'social', 'socialism', 'socialist', 'socialistic', 'socialize', 'socially', 'societal', 'society', 'socioeconomic', 'sociological', 'sociology', 'sociopolitical', 'sock', 'socket', 'soco', 'sod', 'soda', 'sodium', 'sofa', 'sofar', 'soft', 'softball', 'soften', 'softener', 'softly', 'softness', 'softwood', 'sog', 'soggy', 'soho', 'soil', 'soiled', 'sol', 'solar', 'sold', 'solder', 'soldering', 'soldier', 'soldiering', 'sole', 'soleil', 'solely', 'solemn', 'solemnly', 'soles', 'solicited', 'soliciting', 'solicitor', 'solid', 'solidarity', 'solidly', 'solitaire', 'solitary', 'solitude', 'solo', 'soluble', 'solute', 'solution', 'solve', 'solvent', 'somber', 'some', 'somebody', 'someday', 'somehow', 'someone', 'someplace', 'somers', 'something', 'sometime', 'sometimes', 'somewhat', 'somewhere', 'sommelier', 'son', 'sonar', 'song', 'songbook', 'sonic', 'sonny', 'sons', 'soon', 'sooner', 'soothing', 'sooty', 'sophia', 'sophisticated', 'sophistication', 'sophomore', 'soprano', 'sore', 'sorely', 'sorrow', 'sorry', 'sort', 'sorted', 'sorter', 'sortie', 'soso', 'sou', 'sought', 'soul', 'soulless', 'sound', 'sounding', 'soup', 'sour', 'source', 'soured', 'south', 'southbound', 'southeast', 'southeastern', 'southern', 'southerner', 'southernmost', 'southwest', 'southwestern', 'souvenir', 'sov', 'sovereign', 'sovereignty', 'soviet', 'sow', 'soy', 'soybean', 'spa', 'space', 'spaceship', 'spacing', 'spacious', 'spack', 'spaghetti', 'span', 'spangled', 'spank', 'spanking', 'spare', 'spark', 'sparked', 'sparking', 'sparkle', 'sparkling', 'sparks', 'sparred', 'sparring', 'sparrow', 'sparse', 'sparsely', 'spat', 'spate', 'spatial', 'spawn', 'speak', 'speaker', 'speaking', 'spear', 'spearfish', 'spearhead', 'spec', 'special', 'specialist', 'specialization', 'specialize', 'specialized', 'specially', 'specialty', 'species', 'specific', 'specifically', 'specification', 'specifier', 'specify', 'specs', 'spectacle', 'spectacular', 'spectator', 'specter', 'spectrometer', 'spectrum', 'speculate', 'speculation', 'speculative', 'sped', 'speech', 'speechless', 'speed', 'speeding', 'speedometer', 'speedster', 'speedway', 'speedy', 'spell', 'spellbinding', 'spelling', 'spelt', 'spence', 'spencer', 'spend', 'spending', 'spent', 'sperm', 'spermaceti', 'spew', 'sphagnum', 'sphere', 'spherical', 'spice', 'spicer', 'spicy', 'spider', 'spied', 'spiegel', 'spike', 'spiking', 'spiky', 'spill', 'spin', 'spinal', 'spindle', 'spindly', 'spine', 'spineless', 'spinner', 'spinning', 'spiral', 'spirit', 'spirited', 'spiritual', 'spirituality', 'spiritually', 'spirt', 'spit', 'spite', 'spiteful', 'spitfire', 'spitting', 'spitz', 'splash', 'splashy', 'spleen', 'splendidly', 'spline', 'splinter', 'split', 'splitter', 'splitting', 'spoil', 'spoilage', 'spoiled', 'spoiler', 'spoiling', 'spoilt', 'spoke', 'spoken', 'spokesman', 'spokeswoman', 'sponge', 'sponsor', 'sponsorship', 'spontaneous', 'spontaneously', 'spoof', 'spook', 'spooler', 'spoon', 'spoonful', 'sporadic', 'sporadically', 'sport', 'sporting', 'sportive', 'sports', 'sportsman', 'sportswear', 'spot', 'spotless', 'spotlessly', 'spotlight', 'spotted', 'spotter', 'spotting', 'spotty', 'spousal', 'spouse', 'spout', 'spouting', 'sprawling', 'spray', 'spread', 'spreading', 'spree', 'spreng', 'spring', 'springboard', 'springer', 'springing', 'springtime', 'springwood', 'springy', 'sprinkled', 'sprint', 'sprinter', 'sprite', 'spruce', 'sprung', 'spun', 'spung', 'spur', 'spurious', 'spurred', 'spurrier', 'sputter', 'sputtering', 'spy', 'spyglass', 'squad', 'squadron', 'square', 'squarely', 'squash', 'squat', 'squatting', 'squeak', 'squeaky', 'squeeze', 'squeezing', 'squid', 'squiggly', 'squire', 'squirt', 'squishy', 'sri', 'st', 'stab', 'stabbing', 'stability', 'stabilize', 'stable', 'staccato', 'stack', 'stacker', 'stade', 'stadia', 'stadium', 'staff', 'staffed', 'staffer', 'stage', 'staged', 'staggering', 'staging', 'stagnant', 'stagnation', 'staid', 'stain', 'stainless', 'stair', 'stairway', 'stake', 'stale', 'stalemate', 'stalk', 'stalking', 'stall', 'stalling', 'stamina', 'stamp', 'stampede', 'stamping', 'stance', 'stand', 'standard', 'standardbred', 'standardization', 'standardized', 'standing', 'standout', 'standpoint', 'standstill', 'stanhope', 'stank', 'staple', 'stapled', 'star', 'starboard', 'starch', 'stardom', 'stare', 'staring', 'stark', 'starkly', 'starred', 'starring', 'starship', 'start', 'starter', 'starting', 'startling', 'starvation', 'starve', 'starved', 'stash', 'stasis', 'state', 'stated', 'statehood', 'stateless', 'stately', 'statement', 'stateside', 'statesman', 'statesmanlike', 'static', 'statics', 'station', 'stationary', 'statistic', 'statistical', 'statistically', 'statistics', 'statue', 'stature', 'status', 'statute', 'statutorily', 'statutory', 'stave', 'stay', 'stayed', 'stays', 'stead', 'steadfast', 'steadier', 'steadily', 'steady', 'steak', 'steal', 'stealing', 'stealth', 'steam', 'steaming', 'steamy', 'steel', 'steeler', 'steelmaker', 'steely', 'steep', 'steeper', 'steeplechase', 'steeply', 'steer', 'steering', 'stell', 'stellar', 'stem', 'stemmed', 'stemming', 'stench', 'stencil', 'stent', 'step', 'stepparent', 'stepped', 'stepper', 'stepping', 'stereo', 'stereotype', 'stereotyped', 'stereotyping', 'sterling', 'stern', 'steroid', 'steven', 'stew', 'steward', 'stewardship', 'stick', 'sticker', 'stickers', 'sticking', 'sticks', 'sticky', 'stiff', 'stiffness', 'stifle', 'stifling', 'stigma', 'still', 'stillborn', 'stiller', 'stimulant', 'stimulate', 'stimulation', 'stimulus', 'sting', 'stinging', 'stingy', 'stink', 'stint', 'stipulate', 'stipulation', 'stir', 'stirrer', 'stirring', 'stitch', 'stock', 'stockbroker', 'stocker', 'stockholder', 'stocking', 'stockpile', 'stocks', 'stocky', 'stoic', 'stoke', 'stoker', 'stole', 'stolen', 'stomach', 'stomp', 'stone', 'stoned', 'stoner', 'stong', 'stood', 'stooge', 'stool', 'stoop', 'stop', 'stopgap', 'stoping', 'stoppage', 'stopped', 'stopper', 'stopping', 'storage', 'store', 'storied', 'storm', 'storming', 'stormy', 'story', 'stout', 'stove', 'strad', 'straight', 'straighten', 'straightforward', 'strain', 'strained', 'straining', 'strait', 'strange', 'strangely', 'stranger', 'strangle', 'strap', 'strapped', 'strata', 'strategic', 'strategically', 'strategist', 'strategy', 'stratosphere', 'stratus', 'straw', 'strawberry', 'stray', 'strayer', 'streak', 'streaked', 'stream', 'streaming', 'streamline', 'streamlined', 'streep', 'street', 'streetcar', 'streets', 'strength', 'strengthen', 'strengthening', 'strenth', 'strenuous', 'stress', 'stressful', 'stretch', 'stretcher', 'stretchy', 'strick', 'stricken', 'stricker', 'strict', 'strictly', 'stride', 'strike', 'striker', 'striking', 'string', 'stringent', 'stringently', 'stringer', 'strip', 'stripe', 'striped', 'stripped', 'stripper', 'stripping', 'strive', 'strived', 'striving', 'strode', 'stroke', 'stroking', 'stroll', 'stroller', 'strong', 'strongly', 'struck', 'structural', 'structure', 'structured', 'struggle', 'struggling', 'strum', 'strung', 'strut', 'stub', 'stubb', 'stubborn', 'stubby', 'stuck', 'stud', 'student', 'studied', 'studio', 'study', 'stuff', 'stuffed', 'stuffy', 'stumble', 'stump', 'stun', 'stung', 'stunk', 'stunner', 'stunning', 'stunningly', 'stunt', 'stunted', 'stupid', 'stupidity', 'stupidly', 'sturdy', 'stuttering', 'style', 'styling', 'stylish', 'sub', 'subatomic', 'subbase', 'subbing', 'subcategory', 'subcommittee', 'subconsciously', 'subcontinent', 'subcontract', 'subdivision', 'subdue', 'subdued', 'subframe', 'subgrade', 'subject', 'subjected', 'subjective', 'sublet', 'sublime', 'subliminal', 'submarine', 'submerged', 'submission', 'submit', 'submitter', 'suborbital', 'subordinate', 'subphylum', 'subpoena', 'subscribe', 'subscriber', 'subscript', 'subscription', 'subsea', 'subsection', 'subsequent', 'subsequently', 'subsidiary', 'subsidize', 'subsidy', 'subsistence', 'subspecies', 'substance', 'substandard', 'substantial', 'substantially', 'substantiate', 'substantive', 'substitute', 'substituted', 'substitution', 'subsurface', 'subterranean', 'subtitle', 'subtle', 'subtly', 'subtract', 'subtype', 'suburb', 'suburban', 'subversion', 'subversive', 'subway', 'succeed', 'succeeding', 'success', 'successful', 'successfully', 'succession', 'successive', 'successor', 'succumb', 'suck', 'sucker', 'suckhole', 'sucking', 'sucrose', 'suction', 'sud', 'sudden', 'suddenly', 'sue', 'suede', 'suffer', 'sufferer', 'suffering', 'suffice', 'sufficiency', 'sufficient', 'sufficiently', 'sugar', 'sugary', 'suggest', 'suggesting', 'suggestion', 'suggestive', 'suicidal', 'suicide', 'suing', 'suit', 'suitability', 'suitable', 'suitcase', 'suite', 'suitor', 'sulky', 'sulphur', 'sultan', 'sultana', 'sum', 'sumatra', 'summarize', 'summary', 'summer', 'summerize', 'summertime', 'summery', 'summit', 'summons', 'sumner', 'sun', 'sunburn', 'sundae', 'sundown', 'sundry', 'sunflower', 'sung', 'sunk', 'sunlight', 'sunny', 'sunset', 'sunshine', 'super', 'superb', 'superbly', 'superbrain', 'superdifficult', 'superficial', 'superficially', 'superhero', 'superhighway', 'superhuman', 'superimposed', 'superimposition', 'superintendent', 'superior', 'superiority', 'superlative', 'superman', 'supermarket', 'supernatural', 'supernova', 'superpower', 'supersafe', 'superstition', 'supersweet', 'supervise', 'supervision', 'supervisor', 'supervisory', 'superwoman', 'supper', 'supple', 'supplement', 'supplemental', 'supplementary', 'supplier', 'supply', 'support', 'supporter', 'supporting', 'supportive', 'suppose', 'supposed', 'supposedly', 'supposition', 'suppress', 'suppressed', 'suppressor', 'supremacy', 'supreme', 'supremely', 'sur', 'surcharge', 'sure', 'surely', 'surety', 'surf', 'surface', 'surfaced', 'surfacing', 'surfer', 'surge', 'surgeon', 'surgery', 'surgical', 'surging', 'surliness', 'surname', 'surpass', 'surpassing', 'surplus', 'surprise', 'surprising', 'surprisingly', 'surrender', 'surreptitiously', 'surrey', 'surrogate', 'surround', 'surrounded', 'surrounding', 'surroundings', 'surtout', 'surveillance', 'survey', 'surveying', 'surveyor', 'survivable', 'survival', 'survive', 'surviving', 'survivor', 'survivorship', 'susceptible', 'suspect', 'suspected', 'suspectible', 'suspend', 'suspended', 'suspense', 'suspension', 'suspicion', 'suspicious', 'sustain', 'sustainable', 'sustained', 'sustaining', 'sustenance', 'susu', 'suttle', 'swab', 'swallow', 'swam', 'swamp', 'swan', 'swanky', 'swap', 'swapping', 'sware', 'swarming', 'swashbuckling', 'swat', 'swatch', 'sway', 'swayed', 'swear', 'sweat', 'sweater', 'sweating', 'sweaty', 'sweep', 'sweeper', 'sweeping', 'sweepings', 'sweet', 'sweeten', 'sweetheart', 'sweetie', 'sweetly', 'sweetness', 'sweety', 'swelled', 'swelling', 'swept', 'swift', 'swim', 'swimmer', 'swimming', 'swindle', 'swine', 'swing', 'swinger', 'swinging', 'swirl', 'swish', 'swiss', 'switch', 'switchboard', 'switched', 'switching', 'swith', 'swivel', 'swollen', 'swoop', 'swoosh', 'sword', 'swore', 'sworn', 'swot', 'swung', 'sycamore', 'syllable', 'syllabus', 'sylvester', 'symbiote', 'symbol', 'symbolic', 'symbolically', 'symbolism', 'symbolize', 'symmetric', 'symmetrical', 'symmetry', 'sympathetic', 'sympathize', 'sympathy', 'symphonic', 'symphony', 'symposium', 'symptom', 'synaptic', 'sync', 'synchronize', 'synchronized', 'syndicate', 'syndication', 'syndrome', 'syne', 'synergy', 'synod', 'synonym', 'synonymous', 'synonymously', 'synopsis', 'syntactically', 'syntax', 'synthesizer', 'syphilis', 'syringe', 'system', 'systematic', 'systematically', 'systemic', 't', 'ta', 'tab', 'tabby', 'tabid', 'tablature', 'table', 'tables', 'tablet', 'tabloid', 'taboo', 'tabor', 'tabular', 'tabulate', 'tackle', 'tackled', 'tackling', 'tacky', 'tact', 'tactfully', 'tactic', 'tactical', 'tactics', 'tactless', 'tad', 'tae', 'taffy', 'taft', 'tag', 'tagged', 'tai', 'tail', 'tailor', 'taint', 'taipan', 'tait', 'take', 'takedown', 'taken', 'taker', 'takin', 'taking', 'takings', 'tale', 'talent', 'talented', 'tales', 'talk', 'talkative', 'talking', 'tall', 'taller', 'tallet', 'tallow', 'tally', 'tamely', 'tammy', 'tampon', 'tan', 'tandem', 'tang', 'tangle', 'tango', 'tank', 'tanked', 'tanker', 'tanner', 'tanning', 'tantalum', 'tantamount', 'tantrum', 'tap', 'tape', 'taper', 'tapping', 'taps', 'tar', 'tara', 'target', 'targeted', 'tariff', 'tarot', 'tarp', 'tarpon', 'tart', 'tasco', 'task', 'taste', 'tasted', 'taster', 'tasting', 'tasty', 'tat', 'tate', 'tattered', 'tattoo', 'taught', 'taunt', 'taurean', 'tawny', 'tax', 'taxable', 'taxation', 'taxed', 'taxi', 'taxidermy', 'taxing', 'taxis', 'taxman', 'taxpayer', 'tch', 'te', 'tea', 'teach', 'teacher', 'teaching', 'teacup', 'team', 'teaming', 'teammate', 'teamster', 'teamwork', 'teapot', 'tear', 'tearing', 'teary', 'tease', 'teasing', 'teat', 'teather', 'tec', 'tech', 'technica', 'technical', 'technicality', 'technically', 'technician', 'technique', 'technological', 'technologically', 'technology', 'ted', 'tedious', 'tee', 'teeming', 'teen', 'teenage', 'teens', 'teeny', 'teeth', 'teethbrush', 'telecast', 'telecommunication', 'telegram', 'telemetry', 'telephone', 'telephony', 'telescope', 'television', 'tell', 'teller', 'telling', 'telltale', 'temp', 'temper', 'temperament', 'temperamental', 'temperate', 'temperature', 'tempered', 'template', 'temple', 'tempo', 'temporal', 'temporally', 'temporarily', 'temporary', 'tempt', 'temptation', 'tempting', 'ten', 'tenacity', 'tenancy', 'tenant', 'tend', 'tendance', 'tendency', 'tender', 'tenderly', 'tenderness', 'tending', 'tendon', 'tenner', 'tennis', 'tenor', 'tense', 'tension', 'tent', 'tentative', 'tenth', 'tenuous', 'tenure', 'tepid', 'tera', 'term', 'terminal', 'terminally', 'terminate', 'termination', 'terminator', 'terminology', 'termite', 'terrace', 'terrain', 'terrestrial', 'terrible', 'terribly', 'terrific', 'terrify', 'terrifying', 'territorial', 'territory', 'terror', 'terrorism', 'terrorist', 'terrorize', 'terry', 'tertiary', 'test', 'testament', 'tested', 'tester', 'testify', 'testimonial', 'testimony', 'testing', 'testosterone', 'testy', 'text', 'textbook', 'textile', 'texture', 'th', 'tha', 'thank', 'thankful', 'thankfully', 'thanks', 'thanksgiving', 'that', 'thatcher', 'thatn', 'thats', 'thaught', 'thaw', 'the', 'theat', 'theater', 'theatrical', 'thee', 'theft', 'their', 'them', 'theme', 'then', 'thence', 'theocracy', 'theology', 'theoretical', 'theoretically', 'theory', 'therapeutic', 'therapeutics', 'therapist', 'therapy', 'there', 'thereabouts', 'thereafter', 'thereby', 'therefor', 'therefore', 'therein', 'thereof', 'theres', 'thermal', 'thermite', 'thermostat', 'thesaurus', 'these', 'theses', 'thesis', 'theta', 'they', 'theyll', 'theyre', 'thick', 'thickness', 'thief', 'thievery', 'thieving', 'thigh', 'thin', 'thing', 'thingy', 'think', 'thinker', 'thinking', 'thinner', 'thinning', 'third', 'thirdly', 'thirst', 'thirsty', 'thirteen', 'thirteenth', 'thirty', 'this', 'thistle', 'tho', 'thorn', 'thorough', 'thoroughbred', 'thoroughly', 'thou', 'though', 'thought', 'thoughtful', 'thoughtfully', 'thoughtless', 'thousand', 'thousandth', 'thrash', 'thrashing', 'thread', 'threadbare', 'threat', 'threaten', 'threatening', 'three', 'threesome', 'threshold', 'threw', 'thrice', 'thrift', 'thrill', 'thriller', 'thrilling', 'thring', 'thrive', 'thriving', 'throat', 'throne', 'throng', 'throttle', 'throughout', 'throughput', 'throw', 'throwaway', 'thrower', 'throwing', 'thrown', 'thrust', 'thruster', 'thug', 'thumb', 'thumbkin', 'thumbnail', 'thunder', 'thunderbird', 'thundering', 'thus', 'thwart', 'thy', 'ti', 'tibet', 'tic', 'tick', 'ticked', 'ticker', 'ticket', 'ticking', 'tickle', 'tickling', 'ticklish', 'tid', 'tidal', 'tidbit', 'tide', 'tie', 'tied', 'tier', 'tiered', 'tiff', 'tiffany', 'tiger', 'tight', 'tighten', 'tightly', 'tights', 'til', 'tilde', 'tile', 'till', 'tilt', 'timber', 'timberland', 'time', 'timed', 'timeless', 'timely', 'timer', 'times', 'timetable', 'timid', 'timing', 'timon', 'timor', 'tin', 'tind', 'tingling', 'tingly', 'tinker', 'tinsel', 'tint', 'tinted', 'tiny', 'tip', 'tipe', 'tipped', 'tipping', 'tippy', 'tipsy', 'tiptoe', 'tiptop', 'tire', 'tired', 'tirelessly', 'tirer', 'tiresome', 'tiring', 'tissue', 'tit', 'titanic', 'titanium', 'tite', 'titi', 'title', 'titled', 'titlist', 'titmouse', 'titre', 'to', 'toad', 'toast', 'toaster', 'tobacco', 'tobe', 'toby', 'today', 'toddler', 'toe', 'together', 'toggle', 'toi', 'toil', 'toiled', 'toilet', 'toiletry', 'token', 'tol', 'told', 'tolerable', 'tolerance', 'tolerant', 'tolerate', 'toll', 'tolt', 'tomahawk', 'tomboy', 'tombstone', 'tomcat', 'tome', 'tommy', 'tomorrow', 'ton', 'tonal', 'tone', 'toned', 'toner', 'tonga', 'tongue', 'tonic', 'tonight', 'tony', 'too', 'took', 'tool', 'toon', 'tooth', 'toothbrush', 'toothed', 'toothless', 'top', 'topflight', 'topic', 'topless', 'topmost', 'topnotch', 'topography', 'topped', 'topping', 'topple', 'tops', 'tor', 'tora', 'toral', 'torch', 'torchlight', 'tore', 'torment', 'torn', 'tornado', 'torpedo', 'torque', 'torrent', 'torrential', 'torrid', 'torso', 'tort', 'tortilla', 'tortuous', 'torture', 'tortured', 'torturer', 'torturing', 'tosh', 'toss', 'tosser', 'tossing', 'tossup', 'total', 'totalitarian', 'totally', 'tote', 'totem', 'toto', 'touch', 'touchback', 'touchdown', 'touched', 'touching', 'touchpiece', 'touchstone', 'touchy', 'tough', 'toughen', 'toughness', 'tought', 'toup', 'toupee', 'tour', 'touring', 'tourism', 'tourist', 'tournament', 'tourney', 'tout', 'tow', 'toward', 'towards', 'towel', 'tower', 'towering', 'towing', 'town', 'townsfolk', 'township', 'toxic', 'toxicity', 'toy', 'trace', 'tracer', 'tracing', 'track', 'tracked', 'tracker', 'tract', 'tractable', 'traction', 'tradable', 'trade', 'trader', 'trading', 'tradition', 'traditional', 'traditionally', 'traffic', 'tragedy', 'tragic', 'tragically', 'trail', 'trailer', 'trailing', 'train', 'trainable', 'trained', 'trainee', 'trainer', 'training', 'trait', 'traitor', 'traitorous', 'trajectory', 'tramp', 'trampoline', 'tranquil', 'transaction', 'transatlantic', 'transatlanticism', 'transcend', 'transcending', 'transcontinental', 'transcript', 'transcription', 'transfer', 'transferable', 'transferred', 'transferring', 'transform', 'transformable', 'transformation', 'transforming', 'transient', 'transistor', 'transit', 'transition', 'transitional', 'translate', 'translation', 'translator', 'transmissible', 'transmission', 'transmit', 'transnational', 'transparency', 'transparent', 'transplant', 'transport', 'transportation', 'transported', 'transporter', 'transporting', 'transposition', 'transvestite', 'trap', 'trapeze', 'trapezius', 'trapped', 'trappist', 'traps', 'trash', 'trashy', 'trauma', 'travail', 'travel', 'traveled', 'traveler', 'traveling', 'travelled', 'traverse', 'traversing', 'travesty', 'travis', 'trawl', 'tray', 'treacherous', 'treacle', 'tread', 'treadmill', 'treason', 'treasonous', 'treasure', 'treasurer', 'treasury', 'treat', 'treatable', 'treating', 'treatise', 'treatment', 'treaty', 'treble', 'tree', 'trek', 'tremble', 'trembling', 'tremendous', 'tremendously', 'tremor', 'trend', 'trey', 'tri', 'trial', 'triangle', 'triangular', 'triazine', 'tribal', 'tribe', 'tribunal', 'tribune', 'tribute', 'trice', 'triceps', 'trick', 'tricker', 'trickery', 'tricky', 'tricycle', 'trident', 'tried', 'trifle', 'trigger', 'triggered', 'trigonometric', 'trilateral', 'trillion', 'trilogy', 'trim', 'trimester', 'trimming', 'trinity', 'trio', 'trip', 'tripe', 'triple', 'tripod', 'tripoli', 'tripper', 'tripping', 'tripple', 'trite', 'triton', 'triumph', 'triumphant', 'triumvirate', 'trivia', 'trivial', 'trod', 'troika', 'troll', 'trolling', 'trolly', 'trombone', 'troop', 'trophy', 'tropical', 'trot', 'trotter', 'trouble', 'troublesome', 'troubling', 'trough', 'trounce', 'trouser', 'trousers', 'trout', 'trow', 'troy', 'truce', 'truck', 'trucker', 'trucking', 'trucks', 'trudge', 'true', 'truly', 'trump', 'trumpet', 'trumpeter', 'truncate', 'truncated', 'trunk', 'trust', 'trustee', 'trusting', 'trustworthiness', 'trustworthy', 'trusty', 'truth', 'truthful', 'truthfully', 'truthtelling', 'try', 'trying', 'tryout', 'tsunami', 'tu', 'tub', 'tube', 'tuberculosis', 'tubing', 'tubman', 'tubular', 'tuck', 'tucker', 'tue', 'tufted', 'tug', 'tuition', 'tulip', 'tum', 'tumble', 'tumbling', 'tummy', 'tumor', 'tumultuous', 'tuna', 'tune', 'tuned', 'tuner', 'tungsten', 'tuning', 'tunnel', 'tunneling', 'turban', 'turbo', 'turbulence', 'turbulent', 'turd', 'turf', 'turion', 'turkey', 'turmoil', 'turn', 'turnabout', 'turnaround', 'turnbuckle', 'turncoat', 'turned', 'turner', 'turning', 'turnout', 'turnover', 'turnpike', 'turns', 'turpentine', 'turpitude', 'turret', 'turtle', 'tusk', 'tut', 'tutor', 'tutorial', 'tux', 'twain', 'twang', 'twat', 'tweak', 'tweed', 'twelfth', 'twelve', 'twentieth', 'twenty', 'twice', 'twiddle', 'twiddling', 'twilight', 'twin', 'twine', 'twinkle', 'twinkling', 'twirl', 'twist', 'twisted', 'twister', 'twisting', 'twit', 'twitch', 'twitchy', 'two', 'twofold', 'tycoon', 'tye', 'tying', 'type', 'typer', 'typewriter', 'typhoon', 'typical', 'typically', 'typo', 'tyrannical', 'tyranny', 'tyrant', 'tyre', 'tyrone', 'u', 'ubiquitous', 'ugh', 'ugly', 'ull', 'ulterior', 'ultimate', 'ultimately', 'ultimatum', 'ultra', 'ultraliberal', 'ultraviolet', 'um', 'umbilical', 'umbrella', 'ump', 'umpire', 'un', 'unabated', 'unable', 'unacceptable', 'unaccountable', 'unaddressed', 'unaffected', 'unaffiliated', 'unaired', 'unalterably', 'unanimously', 'unannounced', 'unappreciated', 'unarmored', 'unassailable', 'unassisted', 'unattended', 'unattractive', 'unaudited', 'unauthorized', 'unavailable', 'unavoidable', 'unaware', 'unbearable', 'unbearably', 'unbeatable', 'unbeaten', 'unbelievable', 'unbelievably', 'unbias', 'unbiased', 'unblock', 'unborn', 'unbossed', 'uncalled', 'uncanny', 'uncapped', 'uncaring', 'uncertain', 'uncertainty', 'unchained', 'unchanged', 'uncharted', 'uncheck', 'unchecked', 'unchristian', 'unclaimed', 'unclassifying', 'uncle', 'unclear', 'unclick', 'uncluttered', 'uncomfortable', 'uncomforting', 'uncommitted', 'uncommon', 'unconditional', 'unconditionally', 'unconfident', 'unconnected', 'unconscionable', 'unconscious', 'unconsciously', 'unconsistent', 'unconstitutional', 'unconstitutionally', 'unconstrained', 'uncontrolled', 'unconventional', 'uncork', 'uncorrupted', 'uncouth', 'uncover', 'uncovered', 'uncut', 'undated', 'undecided', 'undeclared', 'undefeated', 'undefined', 'undeliverable', 'undelivered', 'undeniable', 'undeniably', 'under', 'underage', 'undercoating', 'undercover', 'undercurrent', 'undercut', 'underdog', 'underdressed', 'undereducated', 'underemployment', 'underestimate', 'underfed', 'underfire', 'undergarment', 'undergo', 'undergoing', 'undergraduate', 'underground', 'underhanded', 'underline', 'underlining', 'underlying', 'undermine', 'undermining', 'underneath', 'underpaid', 'underpants', 'underpass', 'underpay', 'underpayment', 'underprivileged', 'underqualified', 'underrun', 'underscore', 'undersea', 'undersheriff', 'undershirt', 'underside', 'undersized', 'understand', 'understandable', 'understandably', 'understanding', 'understood', 'undertake', 'undertaker', 'undertaking', 'undertone', 'undertook', 'undertow', 'underwater', 'underway', 'underwear', 'underweight', 'underwent', 'underwood', 'underworld', 'underwrite', 'underwriter', 'underwriting', 'undescribable', 'undeserved', 'undesirable', 'undesired', 'undetectable', 'undetermined', 'undiagnosed', 'undigestible', 'undisciplined', 'undisclosed', 'undisputed', 'undisturbed', 'undo', 'undocumented', 'undoing', 'undone', 'undoubtedly', 'undue', 'unearned', 'uneasiness', 'uneasy', 'uneconomical', 'uneducated', 'unemotional', 'unemployable', 'unemployed', 'unemployment', 'unending', 'unequal', 'unequaled', 'unequivocally', 'unerasable', 'unethical', 'uneven', 'unexpected', 'unexpectedly', 'unexplainable', 'unexplained', 'unexploded', 'unfair', 'unfairly', 'unfaithful', 'unfamiliar', 'unfavorable', 'unfettered', 'unfilled', 'unfiltered', 'unfit', 'unflinching', 'unflinchingly', 'unfold', 'unfolded', 'unfolding', 'unforeseen', 'unforgettable', 'unfortunate', 'unfortunately', 'unfounded', 'unfulfilled', 'unfunded', 'ungaro', 'unglued', 'ungrateful', 'unhandiness', 'unhappiness', 'unhappy', 'unharmed', 'unhealthy', 'unheard', 'unheralded', 'unhidden', 'unhide', 'unholy', 'unicorn', 'unidentified', 'unification', 'unified', 'uniform', 'uniformed', 'uniformity', 'unify', 'unilateral', 'unimaginable', 'unimportant', 'unincorporated', 'uninflated', 'uninformed', 'uninspired', 'uninspiring', 'uninstalled', 'uninsured', 'unintended', 'unintentionally', 'uninterested', 'uninvested', 'union', 'unionization', 'unique', 'uniquely', 'unison', 'unit', 'unite', 'united', 'uniter', 'unity', 'universal', 'universally', 'universe', 'university', 'unjust', 'unjustifiably', 'unjustified', 'unjustly', 'unjustness', 'unkeyed', 'unkind', 'unkindly', 'unknowingly', 'unknown', 'unlatch', 'unlawful', 'unleashed', 'unless', 'unlicensed', 'unlike', 'unlikeable', 'unlikely', 'unlimited', 'unlisted', 'unload', 'unlock', 'unlocked', 'unlocking', 'unloved', 'unlucky', 'unmake', 'unmanned', 'unmarked', 'unmarried', 'unmatchable', 'unmatched', 'unmistakable', 'unmodest', 'unmolested', 'unmotivated', 'unmovable', 'unnamed', 'unnecessary', 'unneeded', 'unnoticed', 'unobjective', 'unoccupied', 'unoffensive', 'unofficial', 'unofficially', 'unorganized', 'unoriginal', 'unorthodox', 'unpack', 'unpaid', 'unpalatable', 'unparallel', 'unpartitioned', 'unpatched', 'unpatriotic', 'unpaved', 'unplanned', 'unpleasant', 'unplug', 'unplugged', 'unplugging', 'unpopular', 'unpopularity', 'unpractical', 'unprecedented', 'unpredictable', 'unpredictably', 'unpredictedness', 'unprejudiced', 'unprepared', 'unproductive', 'unprofessional', 'unprofitable', 'unprotected', 'unproven', 'unprovoked', 'unpunished', 'unqualified', 'unquestionably', 'unquestioned', 'unquestioning', 'unquestioningly', 'unravel', 'unreachable', 'unread', 'unreal', 'unrealistic', 'unreasonable', 'unrecoverable', 'unregulated', 'unrehearsed', 'unrelated', 'unreliable', 'unremarkable', 'unrepentant', 'unreported', 'unrequited', 'unresolved', 'unrest', 'unrestricted', 'unruliness', 'unruly', 'unsafe', 'unsatisfactory', 'unseat', 'unsecure', 'unsecured', 'unseeded', 'unseen', 'unselect', 'unselfish', 'unsigned', 'unskilled', 'unsolicited', 'unsolved', 'unsophisticated', 'unspoken', 'unstable', 'unsteadiness', 'unstoppable', 'unsubscribing', 'unsubstantiated', 'unsuccessful', 'unsuccessfully', 'unsung', 'unsupported', 'unsure', 'unsurpassed', 'unsuspecting', 'unsustainable', 'unsystematic', 'untangle', 'untapped', 'untested', 'unthinkable', 'unthinking', 'untied', 'untill', 'untimely', 'unto', 'untouched', 'untoward', 'untrained', 'untrue', 'untrustworthy', 'unusable', 'unused', 'unusual', 'unveil', 'unveiled', 'unveiling', 'unverified', 'unwanted', 'unwelcome', 'unwell', 'unwieldy', 'unwilling', 'unwillingness', 'unwind', 'unwinding', 'unwinnable', 'unwise', 'unwitting', 'unwittingly', 'unworthy', 'unwrap', 'unwrapped', 'unwritten', 'unyielding', 'up', 'upbeat', 'upcoming', 'update', 'upgrade', 'upheld', 'uphill', 'uphold', 'upkeep', 'upland', 'uplift', 'uplifting', 'upline', 'upon', 'upper', 'uppermost', 'upping', 'uppity', 'upright', 'uprise', 'uprising', 'uproar', 'uproariously', 'upscale', 'upset', 'upsetting', 'upside', 'upsides', 'upstairs', 'upstanding', 'upstart', 'upstate', 'upsurge', 'upswing', 'uptake', 'uptown', 'upward', 'upwards', 'ur', 'uranium', 'urban', 'urbanization', 'ure', 'urge', 'urgency', 'urgent', 'urgently', 'urinary', 'urinate', 'urine', 'urn', 'us', 'usability', 'usable', 'usage', 'usar', 'use', 'used', 'useful', 'usefulness', 'useless', 'user', 'usher', 'usual', 'usually', 'usurping', 'usury', 'ut', 'uterus', 'utility', 'utilization', 'utilize', 'utmost', 'utopian', 'utter', 'utterly', 'v', 'vacancy', 'vacant', 'vacate', 'vacation', 'vaccine', 'vacillator', 'vacuous', 'vacuum', 'vagas', 'vagina', 'vaginal', 'vague', 'vaguely', 'vain', 'vale', 'valentine', 'valeur', 'valiant', 'valiantly', 'valid', 'validate', 'validation', 'validity', 'vall', 'valley', 'valor', 'valuable', 'valuation', 'value', 'valued', 'valve', 'valved', 'vampire', 'vampirism', 'van', 'vandalism', 'vanguard', 'vanilla', 'vanish', 'vanity', 'vapid', 'vapor', 'variable', 'variant', 'variation', 'varied', 'variety', 'various', 'variously', 'varnish', 'varsity', 'vary', 'vas', 'vase', 'vassal', 'vast', 'vastly', 'vat', 'vault', 'vaulted', 'vaulter', 'veal', 'vector', 'vegetable', 'vegetarian', 'vegetation', 'vehicle', 'vehicular', 'vela', 'velocity', 'velvet', 'vendetta', 'vending', 'vendor', 'venerable', 'vengeance', 'venom', 'venomous', 'vent', 'ventilation', 'ventilator', 'ventriloquist', 'venture', 'venue', 'vera', 'verb', 'verbal', 'verbally', 'verbatim', 'verdict', 'verdin', 'verge', 'verifiable', 'verification', 'verify', 'veritable', 'verity', 'versatile', 'versatility', 'verse', 'versed', 'version', 'versus', 'vert', 'vertebrae', 'vertical', 'vertically', 'vertigo', 'verve', 'vessel', 'vest', 'vesting', 'vet', 'veteran', 'veterinarian', 'veterinary', 'veto', 'via', 'viability', 'viable', 'vial', 'vibrant', 'vibrating', 'vibration', 'vibrator', 'vice', 'vicinity', 'vicious', 'victim', 'victor', 'victorious', 'victory', 'video', 'vie', 'view', 'viewer', 'viewpoint', 'vigilant', 'vigorous', 'viking', 'vile', 'villa', 'village', 'villain', 'villar', 'ville', 'vincent', 'vindicate', 'vindictive', 'vine', 'vinegar', 'vint', 'vintage', 'vinyl', 'viola', 'violate', 'violation', 'violence', 'violent', 'violet', 'violin', 'viral', 'virgin', 'virginity', 'virile', 'virtual', 'virtualize', 'virtually', 'virtue', 'virtuosity', 'virtuoso', 'virtuous', 'virulent', 'virus', 'vis', 'visa', 'visage', 'vise', 'visibility', 'visible', 'vision', 'visionary', 'visit', 'visitation', 'visiting', 'visitor', 'vison', 'vista', 'visual', 'visualize', 'visually', 'vital', 'vitamin', 'viva', 'vive', 'vivid', 'vividly', 'vocabulary', 'vocal', 'vocalist', 'vocally', 'vocational', 'vociferous', 'vodka', 'vogue', 'voice', 'voiced', 'voicing', 'void', 'vol', 'volatile', 'volatility', 'volcanic', 'volcano', 'vole', 'volition', 'volley', 'volleyball', 'volt', 'voltage', 'volume', 'voluntarily', 'voluntary', 'volunteer', 'vomit', 'vomiting', 'voodoo', 'votation', 'vote', 'voter', 'voting', 'vouch', 'voucher', 'vow', 'vowed', 'vowel', 'voyage', 'voyeur', 'vulgar', 'vulnerability', 'vulnerable', 'vulture', 'vying', 'w', 'wa', 'wack', 'wacker', 'wad', 'wade', 'wafer', 'waffle', 'wag', 'wage', 'waged', 'wager', 'wages', 'wagon', 'wagoner', 'wail', 'wainwright', 'waist', 'waistline', 'wait', 'waiter', 'waiting', 'waitress', 'waive', 'waiver', 'wake', 'wakes', 'waking', 'walk', 'walker', 'walking', 'walkout', 'wall', 'waller', 'wallet', 'walleye', 'wallflower', 'walloon', 'wallpaper', 'wally', 'walnut', 'walsh', 'walt', 'walter', 'waltz', 'wan', 'wand', 'wander', 'wandering', 'wang', 'waning', 'want', 'wanting', 'wap', 'war', 'warcraft', 'ward', 'warden', 'wardrobe', 'wardroom', 'ware', 'warehouse', 'warfare', 'warlike', 'warlock', 'warm', 'warmed', 'warmer', 'warming', 'warmly', 'warmongering', 'warmth', 'warn', 'warner', 'warning', 'warp', 'warrant', 'warrantable', 'warranted', 'warranty', 'warren', 'warrior', 'warsaw', 'warted', 'wartime', 'warty', 'wary', 'was', 'wash', 'washcloth', 'washed', 'washer', 'washing', 'washout', 'washy', 'wasnt', 'wast', 'waste', 'wasted', 'wasteful', 'wasteland', 'waster', 'wasting', 'wat', 'watch', 'watchdog', 'watched', 'watcher', 'watching', 'water', 'waterfall', 'waterfront', 'watering', 'watermark', 'waterproofer', 'watershed', 'waterway', 'watt', 'wattage', 'wattle', 'wattmeter', 'waugh', 'wave', 'waved', 'waving', 'wawa', 'wax', 'way', 'wayback', 'waybill', 'ways', 'we', 'weak', 'weaken', 'weakening', 'weakness', 'weald', 'wealth', 'wealthy', 'weapon', 'weaponry', 'wear', 'wearable', 'wearer', 'wearing', 'weary', 'weasel', 'weather', 'weathered', 'weave', 'weaver', 'web', 'webbed', 'webber', 'weber', 'webster', 'wed', 'wedded', 'wedding', 'wedge', 'wedged', 'wedlock', 'wee', 'weed', 'weedless', 'week', 'weekend', 'weekly', 'weeny', 'weep', 'weeping', 'weeps', 'weepy', 'weevil', 'weigh', 'weighed', 'weighing', 'weight', 'weighted', 'weighting', 'weightless', 'weird', 'welcome', 'welcoming', 'welding', 'welfare', 'well', 'wellington', 'wellness', 'welsh', 'welterweight', 'wen', 'went', 'wer', 'were', 'werent', 'west', 'westerly', 'western', 'westerner', 'westernization', 'westward', 'wet', 'wether', 'wetter', 'weve', 'wey', 'wha', 'whack', 'whacker', 'whale', 'whaling', 'wham', 'wharf', 'what', 'whatever', 'whats', 'whatso', 'whatsoever', 'wheat', 'wheel', 'wheeler', 'wheeling', 'wheezer', 'when', 'whence', 'whenever', 'whereabouts', 'whereas', 'whereby', 'wherein', 'wherever', 'wherewithal', 'whet', 'whether', 'whew', 'whey', 'whichever', 'while', 'whiles', 'whilst', 'whim', 'whimsical', 'whin', 'whine', 'whiner', 'whiny', 'whip', 'whipped', 'whippy', 'whirled', 'whirlpool', 'whirlwind', 'whisk', 'whiskey', 'whisky', 'whisper', 'whistle', 'whistler', 'whistling', 'whit', 'white', 'whites', 'whiteside', 'whitewash', 'whiting', 'whiz', 'who', 'whoa', 'whoever', 'whole', 'wholeheartedly', 'wholesale', 'wholesaler', 'wholly', 'whomever', 'whoo', 'whoop', 'whooper', 'whoops', 'whop', 'whopper', 'whopping', 'whore', 'whose', 'why', 'wi', 'wick', 'wicked', 'wickedly', 'wicken', 'wicket', 'wicketkeeper', 'wicketkeeping', 'wide', 'widely', 'widen', 'widespread', 'widow', 'widowed', 'widower', 'width', 'wife', 'wig', 'wigan', 'wiggle', 'wild', 'wildcat', 'wilder', 'wilderness', 'wildlife', 'wildly', 'will', 'willed', 'willful', 'willfully', 'willie', 'willies', 'willing', 'willingly', 'willingness', 'willow', 'willy', 'wilt', 'win', 'wince', 'wind', 'windage', 'windfall', 'winding', 'window', 'windshield', 'windup', 'windy', 'wine', 'wing', 'winged', 'winger', 'wink', 'winner', 'winning', 'winnings', 'winnow', 'winter', 'winterless', 'wipe', 'wir', 'wire', 'wired', 'wireless', 'wirelessly', 'wiring', 'wis', 'wisdom', 'wise', 'wisely', 'wiser', 'wish', 'wishbone', 'wished', 'wishing', 'wistfully', 'wit', 'witch', 'witchcraft', 'with', 'withdraw', 'withdrawal', 'withdrawing', 'withdrawn', 'withe', 'wither', 'withered', 'withheld', 'withhold', 'within', 'without', 'withstand', 'witness', 'witter', 'witty', 'wizard', 'wo', 'woe', 'woeful', 'wog', 'woke', 'wolf', 'wolverine', 'woman', 'womanhood', 'womb', 'wombat', 'won', 'wonder', 'wonderful', 'wonderfully', 'wondering', 'wonderland', 'wong', 'wont', 'woo', 'wood', 'woodchuck', 'wooden', 'woodrow', 'woodward', 'woody', 'woofed', 'woohoo', 'wool', 'word', 'worded', 'wording', 'wordplay', 'wordy', 'wore', 'work', 'workable', 'workbook', 'workday', 'worked', 'worker', 'working', 'workman', 'workmanship', 'workout', 'workplace', 'works', 'workshop', 'world', 'worldly', 'worm', 'wormhole', 'worn', 'worried', 'worrisome', 'worry', 'worrying', 'worse', 'worsen', 'worsening', 'worship', 'worst', 'worth', 'worthiness', 'worthless', 'worthy', 'wot', 'would', 'wouldnt', 'wound', 'wounded', 'wounder', 'wounding', 'wounds', 'woven', 'wow', 'wraith', 'wrap', 'wrapped', 'wrapping', 'wrath', 'wreck', 'wreckage', 'wrecker', 'wrecking', 'wrench', 'wrest', 'wrestle', 'wrestler', 'wrestling', 'wriggle', 'wright', 'wring', 'wrinkle', 'wrist', 'wrister', 'writ', 'write', 'writer', 'writing', 'written', 'writter', 'wro', 'wrong', 'wrongdoing', 'wronged', 'wrongful', 'wrongfully', 'wrongly', 'wrote', 'wrought', 'wud', 'wuss', 'wut', 'wyn', 'wynn', 'x', 'xenon', 'xenophobia', 'xi', 'xylophone', 'y', 'ya', 'yacht', 'yachting', 'yah', 'yahoo', 'yale', 'yang', 'yank', 'yanking', 'yapping', 'yard', 'yardage', 'yardstick', 'yawn', 'ye', 'yea', 'yeah', 'year', 'yearbook', 'yearlong', 'yearly', 'yearning', 'yeat', 'yell', 'yelling', 'yellow', 'yen', 'yep', 'yer', 'yes', 'yesterday', 'yesteryear', 'yet', 'yez', 'yield', 'yis', 'ym', 'yo', 'yodel', 'yoga', 'yogi', 'yok', 'yolk', 'yor', 'york', 'yorker', 'you', 'youd', 'young', 'younger', 'youngster', 'your', 'yourself', 'youth', 'youthful', 'youve', 'yr', 'yuan', 'yuck', 'yucky', 'yule', 'yuletide', 'yummy', 'z', 'za', 'zac', 'zak', 'zany', 'zeal', 'zealot', 'zealous', 'zee', 'zenith', 'zeppelin', 'zero', 'zest', 'zimbabwe', 'zip', 'zipper', 'zipping', 'zirconium', 'zodiac', 'zombie', 'zone', 'zoned', 'zoning', 'zoo', 'zoology', 'zoom', 'zygote']\n",
      "\n",
      "Unique words saved to 'unique_words.csv'\n",
      "Using GloVe embeddings with Transformer model...\n"
     ]
    }
   ],
   "source": [
    "\n",
    "glove_path = '/content/glove.6B.100d.txt'\n",
    "embedding_dim = 100\n",
    "pre_method = 2\n",
    "fx_opt = 3\n",
    "X_train, Y_train, X_test, embedding_matrix, max_sequence_length = preprocess(\n",
    "    train_data, test_data, pre_method, fx_opt, glove_path, embedding_dim\n",
    ")\n"
   ]
  },
  {
   "cell_type": "code",
   "execution_count": 42,
   "metadata": {
    "colab": {
     "base_uri": "https://localhost:8080/"
    },
    "id": "o7UM8QEYbipI",
    "outputId": "3a1ff8e2-9d07-42f8-8ca2-ccd827cf2c0b"
   },
   "outputs": [
    {
     "name": "stdout",
     "output_type": "stream",
     "text": [
      "397\n"
     ]
    }
   ],
   "source": [
    "print(max_sequence_length)"
   ]
  },
  {
   "cell_type": "code",
   "execution_count": 44,
   "metadata": {
    "colab": {
     "base_uri": "https://localhost:8080/",
     "height": 648
    },
    "id": "v04hjqDqUBT3",
    "outputId": "6e0c49fe-378c-4e67-a742-5ced94b478bc"
   },
   "outputs": [
    {
     "data": {
      "text/html": [
       "<pre style=\"white-space:pre;overflow-x:auto;line-height:normal;font-family:Menlo,'DejaVu Sans Mono',consolas,'Courier New',monospace\"><span style=\"font-weight: bold\">Model: \"functional_2\"</span>\n",
       "</pre>\n"
      ],
      "text/plain": [
       "\u001b[1mModel: \"functional_2\"\u001b[0m\n"
      ]
     },
     "metadata": {},
     "output_type": "display_data"
    },
    {
     "data": {
      "text/html": [
       "<pre style=\"white-space:pre;overflow-x:auto;line-height:normal;font-family:Menlo,'DejaVu Sans Mono',consolas,'Courier New',monospace\">┏━━━━━━━━━━━━━━━━━━━━━━━━━━━┳━━━━━━━━━━━━━━━━━━━━━━━━┳━━━━━━━━━━━━━━━━┳━━━━━━━━━━━━━━━━━━━━━━━━┓\n",
       "┃<span style=\"font-weight: bold\"> Layer (type)              </span>┃<span style=\"font-weight: bold\"> Output Shape           </span>┃<span style=\"font-weight: bold\">        Param # </span>┃<span style=\"font-weight: bold\"> Connected to           </span>┃\n",
       "┡━━━━━━━━━━━━━━━━━━━━━━━━━━━╇━━━━━━━━━━━━━━━━━━━━━━━━╇━━━━━━━━━━━━━━━━╇━━━━━━━━━━━━━━━━━━━━━━━━┩\n",
       "│ input_layer_2             │ (<span style=\"color: #00d7ff; text-decoration-color: #00d7ff\">None</span>, <span style=\"color: #00af00; text-decoration-color: #00af00\">397</span>)            │              <span style=\"color: #00af00; text-decoration-color: #00af00\">0</span> │ -                      │\n",
       "│ (<span style=\"color: #0087ff; text-decoration-color: #0087ff\">InputLayer</span>)              │                        │                │                        │\n",
       "├───────────────────────────┼────────────────────────┼────────────────┼────────────────────────┤\n",
       "│ embedding_2 (<span style=\"color: #0087ff; text-decoration-color: #0087ff\">Embedding</span>)   │ (<span style=\"color: #00d7ff; text-decoration-color: #00d7ff\">None</span>, <span style=\"color: #00af00; text-decoration-color: #00af00\">397</span>, <span style=\"color: #00af00; text-decoration-color: #00af00\">100</span>)       │      <span style=\"color: #00af00; text-decoration-color: #00af00\">1,696,100</span> │ input_layer_2[<span style=\"color: #00af00; text-decoration-color: #00af00\">0</span>][<span style=\"color: #00af00; text-decoration-color: #00af00\">0</span>]    │\n",
       "├───────────────────────────┼────────────────────────┼────────────────┼────────────────────────┤\n",
       "│ multi_head_attention_2    │ (<span style=\"color: #00d7ff; text-decoration-color: #00d7ff\">None</span>, <span style=\"color: #00af00; text-decoration-color: #00af00\">397</span>, <span style=\"color: #00af00; text-decoration-color: #00af00\">100</span>)       │        <span style=\"color: #00af00; text-decoration-color: #00af00\">161,300</span> │ embedding_2[<span style=\"color: #00af00; text-decoration-color: #00af00\">0</span>][<span style=\"color: #00af00; text-decoration-color: #00af00\">0</span>],     │\n",
       "│ (<span style=\"color: #0087ff; text-decoration-color: #0087ff\">MultiHeadAttention</span>)      │                        │                │ embedding_2[<span style=\"color: #00af00; text-decoration-color: #00af00\">0</span>][<span style=\"color: #00af00; text-decoration-color: #00af00\">0</span>],     │\n",
       "│                           │                        │                │ embedding_2[<span style=\"color: #00af00; text-decoration-color: #00af00\">0</span>][<span style=\"color: #00af00; text-decoration-color: #00af00\">0</span>]      │\n",
       "├───────────────────────────┼────────────────────────┼────────────────┼────────────────────────┤\n",
       "│ add_4 (<span style=\"color: #0087ff; text-decoration-color: #0087ff\">Add</span>)               │ (<span style=\"color: #00d7ff; text-decoration-color: #00d7ff\">None</span>, <span style=\"color: #00af00; text-decoration-color: #00af00\">397</span>, <span style=\"color: #00af00; text-decoration-color: #00af00\">100</span>)       │              <span style=\"color: #00af00; text-decoration-color: #00af00\">0</span> │ multi_head_attention_… │\n",
       "│                           │                        │                │ embedding_2[<span style=\"color: #00af00; text-decoration-color: #00af00\">0</span>][<span style=\"color: #00af00; text-decoration-color: #00af00\">0</span>]      │\n",
       "├───────────────────────────┼────────────────────────┼────────────────┼────────────────────────┤\n",
       "│ layer_normalization_4     │ (<span style=\"color: #00d7ff; text-decoration-color: #00d7ff\">None</span>, <span style=\"color: #00af00; text-decoration-color: #00af00\">397</span>, <span style=\"color: #00af00; text-decoration-color: #00af00\">100</span>)       │            <span style=\"color: #00af00; text-decoration-color: #00af00\">200</span> │ add_4[<span style=\"color: #00af00; text-decoration-color: #00af00\">0</span>][<span style=\"color: #00af00; text-decoration-color: #00af00\">0</span>]            │\n",
       "│ (<span style=\"color: #0087ff; text-decoration-color: #0087ff\">LayerNormalization</span>)      │                        │                │                        │\n",
       "├───────────────────────────┼────────────────────────┼────────────────┼────────────────────────┤\n",
       "│ dense_6 (<span style=\"color: #0087ff; text-decoration-color: #0087ff\">Dense</span>)           │ (<span style=\"color: #00d7ff; text-decoration-color: #00d7ff\">None</span>, <span style=\"color: #00af00; text-decoration-color: #00af00\">397</span>, <span style=\"color: #00af00; text-decoration-color: #00af00\">128</span>)       │         <span style=\"color: #00af00; text-decoration-color: #00af00\">12,928</span> │ layer_normalization_4… │\n",
       "├───────────────────────────┼────────────────────────┼────────────────┼────────────────────────┤\n",
       "│ dense_7 (<span style=\"color: #0087ff; text-decoration-color: #0087ff\">Dense</span>)           │ (<span style=\"color: #00d7ff; text-decoration-color: #00d7ff\">None</span>, <span style=\"color: #00af00; text-decoration-color: #00af00\">397</span>, <span style=\"color: #00af00; text-decoration-color: #00af00\">100</span>)       │         <span style=\"color: #00af00; text-decoration-color: #00af00\">12,900</span> │ dense_6[<span style=\"color: #00af00; text-decoration-color: #00af00\">0</span>][<span style=\"color: #00af00; text-decoration-color: #00af00\">0</span>]          │\n",
       "├───────────────────────────┼────────────────────────┼────────────────┼────────────────────────┤\n",
       "│ add_5 (<span style=\"color: #0087ff; text-decoration-color: #0087ff\">Add</span>)               │ (<span style=\"color: #00d7ff; text-decoration-color: #00d7ff\">None</span>, <span style=\"color: #00af00; text-decoration-color: #00af00\">397</span>, <span style=\"color: #00af00; text-decoration-color: #00af00\">100</span>)       │              <span style=\"color: #00af00; text-decoration-color: #00af00\">0</span> │ dense_7[<span style=\"color: #00af00; text-decoration-color: #00af00\">0</span>][<span style=\"color: #00af00; text-decoration-color: #00af00\">0</span>],         │\n",
       "│                           │                        │                │ layer_normalization_4… │\n",
       "├───────────────────────────┼────────────────────────┼────────────────┼────────────────────────┤\n",
       "│ layer_normalization_5     │ (<span style=\"color: #00d7ff; text-decoration-color: #00d7ff\">None</span>, <span style=\"color: #00af00; text-decoration-color: #00af00\">397</span>, <span style=\"color: #00af00; text-decoration-color: #00af00\">100</span>)       │            <span style=\"color: #00af00; text-decoration-color: #00af00\">200</span> │ add_5[<span style=\"color: #00af00; text-decoration-color: #00af00\">0</span>][<span style=\"color: #00af00; text-decoration-color: #00af00\">0</span>]            │\n",
       "│ (<span style=\"color: #0087ff; text-decoration-color: #0087ff\">LayerNormalization</span>)      │                        │                │                        │\n",
       "├───────────────────────────┼────────────────────────┼────────────────┼────────────────────────┤\n",
       "│ global_average_pooling1d… │ (<span style=\"color: #00d7ff; text-decoration-color: #00d7ff\">None</span>, <span style=\"color: #00af00; text-decoration-color: #00af00\">100</span>)            │              <span style=\"color: #00af00; text-decoration-color: #00af00\">0</span> │ layer_normalization_5… │\n",
       "│ (<span style=\"color: #0087ff; text-decoration-color: #0087ff\">GlobalAveragePooling1D</span>)  │                        │                │                        │\n",
       "├───────────────────────────┼────────────────────────┼────────────────┼────────────────────────┤\n",
       "│ dropout_5 (<span style=\"color: #0087ff; text-decoration-color: #0087ff\">Dropout</span>)       │ (<span style=\"color: #00d7ff; text-decoration-color: #00d7ff\">None</span>, <span style=\"color: #00af00; text-decoration-color: #00af00\">100</span>)            │              <span style=\"color: #00af00; text-decoration-color: #00af00\">0</span> │ global_average_poolin… │\n",
       "├───────────────────────────┼────────────────────────┼────────────────┼────────────────────────┤\n",
       "│ dense_8 (<span style=\"color: #0087ff; text-decoration-color: #0087ff\">Dense</span>)           │ (<span style=\"color: #00d7ff; text-decoration-color: #00d7ff\">None</span>, <span style=\"color: #00af00; text-decoration-color: #00af00\">5</span>)              │            <span style=\"color: #00af00; text-decoration-color: #00af00\">505</span> │ dropout_5[<span style=\"color: #00af00; text-decoration-color: #00af00\">0</span>][<span style=\"color: #00af00; text-decoration-color: #00af00\">0</span>]        │\n",
       "└───────────────────────────┴────────────────────────┴────────────────┴────────────────────────┘\n",
       "</pre>\n"
      ],
      "text/plain": [
       "┏━━━━━━━━━━━━━━━━━━━━━━━━━━━┳━━━━━━━━━━━━━━━━━━━━━━━━┳━━━━━━━━━━━━━━━━┳━━━━━━━━━━━━━━━━━━━━━━━━┓\n",
       "┃\u001b[1m \u001b[0m\u001b[1mLayer (type)             \u001b[0m\u001b[1m \u001b[0m┃\u001b[1m \u001b[0m\u001b[1mOutput Shape          \u001b[0m\u001b[1m \u001b[0m┃\u001b[1m \u001b[0m\u001b[1m       Param #\u001b[0m\u001b[1m \u001b[0m┃\u001b[1m \u001b[0m\u001b[1mConnected to          \u001b[0m\u001b[1m \u001b[0m┃\n",
       "┡━━━━━━━━━━━━━━━━━━━━━━━━━━━╇━━━━━━━━━━━━━━━━━━━━━━━━╇━━━━━━━━━━━━━━━━╇━━━━━━━━━━━━━━━━━━━━━━━━┩\n",
       "│ input_layer_2             │ (\u001b[38;5;45mNone\u001b[0m, \u001b[38;5;34m397\u001b[0m)            │              \u001b[38;5;34m0\u001b[0m │ -                      │\n",
       "│ (\u001b[38;5;33mInputLayer\u001b[0m)              │                        │                │                        │\n",
       "├───────────────────────────┼────────────────────────┼────────────────┼────────────────────────┤\n",
       "│ embedding_2 (\u001b[38;5;33mEmbedding\u001b[0m)   │ (\u001b[38;5;45mNone\u001b[0m, \u001b[38;5;34m397\u001b[0m, \u001b[38;5;34m100\u001b[0m)       │      \u001b[38;5;34m1,696,100\u001b[0m │ input_layer_2[\u001b[38;5;34m0\u001b[0m][\u001b[38;5;34m0\u001b[0m]    │\n",
       "├───────────────────────────┼────────────────────────┼────────────────┼────────────────────────┤\n",
       "│ multi_head_attention_2    │ (\u001b[38;5;45mNone\u001b[0m, \u001b[38;5;34m397\u001b[0m, \u001b[38;5;34m100\u001b[0m)       │        \u001b[38;5;34m161,300\u001b[0m │ embedding_2[\u001b[38;5;34m0\u001b[0m][\u001b[38;5;34m0\u001b[0m],     │\n",
       "│ (\u001b[38;5;33mMultiHeadAttention\u001b[0m)      │                        │                │ embedding_2[\u001b[38;5;34m0\u001b[0m][\u001b[38;5;34m0\u001b[0m],     │\n",
       "│                           │                        │                │ embedding_2[\u001b[38;5;34m0\u001b[0m][\u001b[38;5;34m0\u001b[0m]      │\n",
       "├───────────────────────────┼────────────────────────┼────────────────┼────────────────────────┤\n",
       "│ add_4 (\u001b[38;5;33mAdd\u001b[0m)               │ (\u001b[38;5;45mNone\u001b[0m, \u001b[38;5;34m397\u001b[0m, \u001b[38;5;34m100\u001b[0m)       │              \u001b[38;5;34m0\u001b[0m │ multi_head_attention_… │\n",
       "│                           │                        │                │ embedding_2[\u001b[38;5;34m0\u001b[0m][\u001b[38;5;34m0\u001b[0m]      │\n",
       "├───────────────────────────┼────────────────────────┼────────────────┼────────────────────────┤\n",
       "│ layer_normalization_4     │ (\u001b[38;5;45mNone\u001b[0m, \u001b[38;5;34m397\u001b[0m, \u001b[38;5;34m100\u001b[0m)       │            \u001b[38;5;34m200\u001b[0m │ add_4[\u001b[38;5;34m0\u001b[0m][\u001b[38;5;34m0\u001b[0m]            │\n",
       "│ (\u001b[38;5;33mLayerNormalization\u001b[0m)      │                        │                │                        │\n",
       "├───────────────────────────┼────────────────────────┼────────────────┼────────────────────────┤\n",
       "│ dense_6 (\u001b[38;5;33mDense\u001b[0m)           │ (\u001b[38;5;45mNone\u001b[0m, \u001b[38;5;34m397\u001b[0m, \u001b[38;5;34m128\u001b[0m)       │         \u001b[38;5;34m12,928\u001b[0m │ layer_normalization_4… │\n",
       "├───────────────────────────┼────────────────────────┼────────────────┼────────────────────────┤\n",
       "│ dense_7 (\u001b[38;5;33mDense\u001b[0m)           │ (\u001b[38;5;45mNone\u001b[0m, \u001b[38;5;34m397\u001b[0m, \u001b[38;5;34m100\u001b[0m)       │         \u001b[38;5;34m12,900\u001b[0m │ dense_6[\u001b[38;5;34m0\u001b[0m][\u001b[38;5;34m0\u001b[0m]          │\n",
       "├───────────────────────────┼────────────────────────┼────────────────┼────────────────────────┤\n",
       "│ add_5 (\u001b[38;5;33mAdd\u001b[0m)               │ (\u001b[38;5;45mNone\u001b[0m, \u001b[38;5;34m397\u001b[0m, \u001b[38;5;34m100\u001b[0m)       │              \u001b[38;5;34m0\u001b[0m │ dense_7[\u001b[38;5;34m0\u001b[0m][\u001b[38;5;34m0\u001b[0m],         │\n",
       "│                           │                        │                │ layer_normalization_4… │\n",
       "├───────────────────────────┼────────────────────────┼────────────────┼────────────────────────┤\n",
       "│ layer_normalization_5     │ (\u001b[38;5;45mNone\u001b[0m, \u001b[38;5;34m397\u001b[0m, \u001b[38;5;34m100\u001b[0m)       │            \u001b[38;5;34m200\u001b[0m │ add_5[\u001b[38;5;34m0\u001b[0m][\u001b[38;5;34m0\u001b[0m]            │\n",
       "│ (\u001b[38;5;33mLayerNormalization\u001b[0m)      │                        │                │                        │\n",
       "├───────────────────────────┼────────────────────────┼────────────────┼────────────────────────┤\n",
       "│ global_average_pooling1d… │ (\u001b[38;5;45mNone\u001b[0m, \u001b[38;5;34m100\u001b[0m)            │              \u001b[38;5;34m0\u001b[0m │ layer_normalization_5… │\n",
       "│ (\u001b[38;5;33mGlobalAveragePooling1D\u001b[0m)  │                        │                │                        │\n",
       "├───────────────────────────┼────────────────────────┼────────────────┼────────────────────────┤\n",
       "│ dropout_5 (\u001b[38;5;33mDropout\u001b[0m)       │ (\u001b[38;5;45mNone\u001b[0m, \u001b[38;5;34m100\u001b[0m)            │              \u001b[38;5;34m0\u001b[0m │ global_average_poolin… │\n",
       "├───────────────────────────┼────────────────────────┼────────────────┼────────────────────────┤\n",
       "│ dense_8 (\u001b[38;5;33mDense\u001b[0m)           │ (\u001b[38;5;45mNone\u001b[0m, \u001b[38;5;34m5\u001b[0m)              │            \u001b[38;5;34m505\u001b[0m │ dropout_5[\u001b[38;5;34m0\u001b[0m][\u001b[38;5;34m0\u001b[0m]        │\n",
       "└───────────────────────────┴────────────────────────┴────────────────┴────────────────────────┘\n"
      ]
     },
     "metadata": {},
     "output_type": "display_data"
    },
    {
     "data": {
      "text/html": [
       "<pre style=\"white-space:pre;overflow-x:auto;line-height:normal;font-family:Menlo,'DejaVu Sans Mono',consolas,'Courier New',monospace\"><span style=\"font-weight: bold\"> Total params: </span><span style=\"color: #00af00; text-decoration-color: #00af00\">1,884,133</span> (7.19 MB)\n",
       "</pre>\n"
      ],
      "text/plain": [
       "\u001b[1m Total params: \u001b[0m\u001b[38;5;34m1,884,133\u001b[0m (7.19 MB)\n"
      ]
     },
     "metadata": {},
     "output_type": "display_data"
    },
    {
     "data": {
      "text/html": [
       "<pre style=\"white-space:pre;overflow-x:auto;line-height:normal;font-family:Menlo,'DejaVu Sans Mono',consolas,'Courier New',monospace\"><span style=\"font-weight: bold\"> Trainable params: </span><span style=\"color: #00af00; text-decoration-color: #00af00\">188,033</span> (734.50 KB)\n",
       "</pre>\n"
      ],
      "text/plain": [
       "\u001b[1m Trainable params: \u001b[0m\u001b[38;5;34m188,033\u001b[0m (734.50 KB)\n"
      ]
     },
     "metadata": {},
     "output_type": "display_data"
    },
    {
     "data": {
      "text/html": [
       "<pre style=\"white-space:pre;overflow-x:auto;line-height:normal;font-family:Menlo,'DejaVu Sans Mono',consolas,'Courier New',monospace\"><span style=\"font-weight: bold\"> Non-trainable params: </span><span style=\"color: #00af00; text-decoration-color: #00af00\">1,696,100</span> (6.47 MB)\n",
       "</pre>\n"
      ],
      "text/plain": [
       "\u001b[1m Non-trainable params: \u001b[0m\u001b[38;5;34m1,696,100\u001b[0m (6.47 MB)\n"
      ]
     },
     "metadata": {},
     "output_type": "display_data"
    }
   ],
   "source": [
    "model_2 = create_transformer_model(\n",
    "    embedding_matrix, max_sequence_length, embedding_dim, num_classes=5\n",
    ")\n",
    "\n",
    "model_2.compile(optimizer='adam', loss='sparse_categorical_crossentropy', metrics=['accuracy'])\n",
    "model_2.summary()\n",
    "\n"
   ]
  },
  {
   "cell_type": "code",
   "execution_count": 49,
   "metadata": {
    "colab": {
     "base_uri": "https://localhost:8080/"
    },
    "id": "gPsKtuyeVExo",
    "outputId": "30dad054-dbf9-446c-9693-1b978c399894"
   },
   "outputs": [
    {
     "name": "stdout",
     "output_type": "stream",
     "text": [
      "Epoch 1/10\n",
      "\u001b[1m617/617\u001b[0m \u001b[32m━━━━━━━━━━━━━━━━━━━━\u001b[0m\u001b[37m\u001b[0m \u001b[1m14s\u001b[0m 23ms/step - accuracy: 0.7209 - loss: 0.7154 - val_accuracy: 0.6416 - val_loss: 0.9938\n",
      "Epoch 2/10\n",
      "\u001b[1m617/617\u001b[0m \u001b[32m━━━━━━━━━━━━━━━━━━━━\u001b[0m\u001b[37m\u001b[0m \u001b[1m14s\u001b[0m 23ms/step - accuracy: 0.7170 - loss: 0.7116 - val_accuracy: 0.6396 - val_loss: 1.0284\n",
      "Epoch 3/10\n",
      "\u001b[1m617/617\u001b[0m \u001b[32m━━━━━━━━━━━━━━━━━━━━\u001b[0m\u001b[37m\u001b[0m \u001b[1m14s\u001b[0m 23ms/step - accuracy: 0.7252 - loss: 0.6952 - val_accuracy: 0.6450 - val_loss: 1.0475\n",
      "Epoch 4/10\n",
      "\u001b[1m617/617\u001b[0m \u001b[32m━━━━━━━━━━━━━━━━━━━━\u001b[0m\u001b[37m\u001b[0m \u001b[1m20s\u001b[0m 23ms/step - accuracy: 0.7224 - loss: 0.7039 - val_accuracy: 0.6377 - val_loss: 1.0513\n",
      "Epoch 5/10\n",
      "\u001b[1m617/617\u001b[0m \u001b[32m━━━━━━━━━━━━━━━━━━━━\u001b[0m\u001b[37m\u001b[0m \u001b[1m20s\u001b[0m 23ms/step - accuracy: 0.7205 - loss: 0.6919 - val_accuracy: 0.6290 - val_loss: 1.0341\n",
      "Epoch 6/10\n",
      "\u001b[1m617/617\u001b[0m \u001b[32m━━━━━━━━━━━━━━━━━━━━\u001b[0m\u001b[37m\u001b[0m \u001b[1m14s\u001b[0m 23ms/step - accuracy: 0.7220 - loss: 0.6935 - val_accuracy: 0.6375 - val_loss: 1.0350\n",
      "Epoch 7/10\n",
      "\u001b[1m617/617\u001b[0m \u001b[32m━━━━━━━━━━━━━━━━━━━━\u001b[0m\u001b[37m\u001b[0m \u001b[1m14s\u001b[0m 23ms/step - accuracy: 0.7239 - loss: 0.6873 - val_accuracy: 0.6325 - val_loss: 1.0274\n",
      "Epoch 8/10\n",
      "\u001b[1m617/617\u001b[0m \u001b[32m━━━━━━━━━━━━━━━━━━━━\u001b[0m\u001b[37m\u001b[0m \u001b[1m16s\u001b[0m 25ms/step - accuracy: 0.7319 - loss: 0.6725 - val_accuracy: 0.6333 - val_loss: 1.0589\n",
      "Epoch 9/10\n",
      "\u001b[1m617/617\u001b[0m \u001b[32m━━━━━━━━━━━━━━━━━━━━\u001b[0m\u001b[37m\u001b[0m \u001b[1m19s\u001b[0m 23ms/step - accuracy: 0.7331 - loss: 0.6714 - val_accuracy: 0.6394 - val_loss: 1.0973\n",
      "Epoch 10/10\n",
      "\u001b[1m617/617\u001b[0m \u001b[32m━━━━━━━━━━━━━━━━━━━━\u001b[0m\u001b[37m\u001b[0m \u001b[1m21s\u001b[0m 23ms/step - accuracy: 0.7367 - loss: 0.6579 - val_accuracy: 0.6355 - val_loss: 1.1106\n"
     ]
    },
    {
     "data": {
      "text/plain": [
       "<keras.src.callbacks.history.History at 0x7a78ee52afe0>"
      ]
     },
     "execution_count": 49,
     "metadata": {},
     "output_type": "execute_result"
    }
   ],
   "source": [
    "model_2.fit(X_train, Y_train, epochs=10, batch_size=32, validation_split=0.2)"
   ]
  },
  {
   "cell_type": "code",
   "execution_count": 48,
   "metadata": {
    "colab": {
     "base_uri": "https://localhost:8080/"
    },
    "id": "xQEN0F3KZYDS",
    "outputId": "6af9084f-9310-4950-dc00-affc6786ee6c"
   },
   "outputs": [
    {
     "name": "stderr",
     "output_type": "stream",
     "text": [
      "WARNING:absl:You are saving your model as an HDF5 file via `model.save()` or `keras.saving.save_model(model)`. This file format is considered legacy. We recommend using instead the native Keras format, e.g. `model.save('my_model.keras')` or `keras.saving.save_model(model, 'my_model.keras')`. \n"
     ]
    }
   ],
   "source": [
    "file_name = f'transformer-golve-len(seq=max)-new_preproccing-{pre_method}-e{10}-a{int(0.7107*100)}'\n",
    "model_2.save(f'{file_name}.h5')"
   ]
  },
  {
   "cell_type": "code",
   "execution_count": null,
   "metadata": {
    "colab": {
     "base_uri": "https://localhost:8080/"
    },
    "id": "T3x4PE4fHQTq",
    "outputId": "083a9162-df72-4f67-e884-98920f64b9a8"
   },
   "outputs": [
    {
     "name": "stdout",
     "output_type": "stream",
     "text": [
      "X_train.shape: (24646, 809)\n",
      "Y_train.shape: (24646,)\n"
     ]
    }
   ],
   "source": [
    "print(f\"X_train.shape: {X_train_padded.shape}\")\n",
    "# print(f\"X_test.shape: {X_test_padded.shape}\")\n",
    "print(f\"Y_train.shape: {Y_train.shape}\")"
   ]
  },
  {
   "cell_type": "markdown",
   "metadata": {
    "id": "ZdhjnZzQHQTw"
   },
   "source": [
    "### Test"
   ]
  },
  {
   "cell_type": "code",
   "execution_count": null,
   "metadata": {
    "id": "Eq2iCeiouIna"
   },
   "outputs": [],
   "source": []
  },
  {
   "cell_type": "code",
   "execution_count": null,
   "metadata": {
    "id": "IF0KX28cHQTw"
   },
   "outputs": [],
   "source": [
    "# Y_test_pred = ffnn_model.predict(X = X_test)"
   ]
  },
  {
   "cell_type": "code",
   "execution_count": null,
   "metadata": {
    "id": "5hlGQ3fUHQTw"
   },
   "outputs": [],
   "source": [
    "# file_name = f'FFNN-m{pre_method}-e{epochs}'\n",
    "# save_csv(data=Y_test_pred, file_name=file_name, header=['SampleID', 'Category'], numbering=True)"
   ]
  },
  {
   "cell_type": "code",
   "execution_count": null,
   "metadata": {
    "colab": {
     "base_uri": "https://localhost:8080/",
     "height": 321
    },
    "id": "X4Hjj1JaeEJd",
    "outputId": "767cef72-38fa-4373-d26d-cb5d68f42797"
   },
   "outputs": [
    {
     "ename": "TypeError",
     "evalue": "too many positional arguments",
     "output_type": "error",
     "traceback": [
      "\u001b[0;31m---------------------------------------------------------------------------\u001b[0m",
      "\u001b[0;31mTypeError\u001b[0m                                 Traceback (most recent call last)",
      "\u001b[0;32m<ipython-input-18-656ac72ab58d>\u001b[0m in \u001b[0;36m<cell line: 3>\u001b[0;34m()\u001b[0m\n\u001b[1;32m      1\u001b[0m \u001b[0;32mfrom\u001b[0m \u001b[0mkeras\u001b[0m\u001b[0;34m.\u001b[0m\u001b[0mmodels\u001b[0m \u001b[0;32mimport\u001b[0m \u001b[0mload_model\u001b[0m\u001b[0;34m\u001b[0m\u001b[0;34m\u001b[0m\u001b[0m\n\u001b[1;32m      2\u001b[0m \u001b[0;34m\u001b[0m\u001b[0m\n\u001b[0;32m----> 3\u001b[0;31m \u001b[0mmodel\u001b[0m \u001b[0;34m=\u001b[0m \u001b[0mload_model\u001b[0m\u001b[0;34m(\u001b[0m\u001b[0;34m\"/content/transformer-golve-len(seq=100)-2-e10-a75.h5\"\u001b[0m\u001b[0;34m)\u001b[0m\u001b[0;34m\u001b[0m\u001b[0;34m\u001b[0m\u001b[0m\n\u001b[0m",
      "\u001b[0;32m/usr/local/lib/python3.10/dist-packages/keras/src/saving/saving_api.py\u001b[0m in \u001b[0;36mload_model\u001b[0;34m(filepath, custom_objects, compile, safe_mode)\u001b[0m\n\u001b[1;32m    192\u001b[0m         )\n\u001b[1;32m    193\u001b[0m     \u001b[0;32mif\u001b[0m \u001b[0mstr\u001b[0m\u001b[0;34m(\u001b[0m\u001b[0mfilepath\u001b[0m\u001b[0;34m)\u001b[0m\u001b[0;34m.\u001b[0m\u001b[0mendswith\u001b[0m\u001b[0;34m(\u001b[0m\u001b[0;34m(\u001b[0m\u001b[0;34m\".h5\"\u001b[0m\u001b[0;34m,\u001b[0m \u001b[0;34m\".hdf5\"\u001b[0m\u001b[0;34m)\u001b[0m\u001b[0;34m)\u001b[0m\u001b[0;34m:\u001b[0m\u001b[0;34m\u001b[0m\u001b[0;34m\u001b[0m\u001b[0m\n\u001b[0;32m--> 194\u001b[0;31m         return legacy_h5_format.load_model_from_hdf5(\n\u001b[0m\u001b[1;32m    195\u001b[0m             \u001b[0mfilepath\u001b[0m\u001b[0;34m,\u001b[0m \u001b[0mcustom_objects\u001b[0m\u001b[0;34m=\u001b[0m\u001b[0mcustom_objects\u001b[0m\u001b[0;34m,\u001b[0m \u001b[0mcompile\u001b[0m\u001b[0;34m=\u001b[0m\u001b[0mcompile\u001b[0m\u001b[0;34m\u001b[0m\u001b[0;34m\u001b[0m\u001b[0m\n\u001b[1;32m    196\u001b[0m         )\n",
      "\u001b[0;32m/usr/local/lib/python3.10/dist-packages/keras/src/legacy/saving/legacy_h5_format.py\u001b[0m in \u001b[0;36mload_model_from_hdf5\u001b[0;34m(filepath, custom_objects, compile)\u001b[0m\n\u001b[1;32m    131\u001b[0m \u001b[0;34m\u001b[0m\u001b[0m\n\u001b[1;32m    132\u001b[0m         \u001b[0;32mwith\u001b[0m \u001b[0msaving_options\u001b[0m\u001b[0;34m.\u001b[0m\u001b[0mkeras_option_scope\u001b[0m\u001b[0;34m(\u001b[0m\u001b[0muse_legacy_config\u001b[0m\u001b[0;34m=\u001b[0m\u001b[0;32mTrue\u001b[0m\u001b[0;34m)\u001b[0m\u001b[0;34m:\u001b[0m\u001b[0;34m\u001b[0m\u001b[0;34m\u001b[0m\u001b[0m\n\u001b[0;32m--> 133\u001b[0;31m             model = saving_utils.model_from_config(\n\u001b[0m\u001b[1;32m    134\u001b[0m                 \u001b[0mmodel_config\u001b[0m\u001b[0;34m,\u001b[0m \u001b[0mcustom_objects\u001b[0m\u001b[0;34m=\u001b[0m\u001b[0mcustom_objects\u001b[0m\u001b[0;34m\u001b[0m\u001b[0;34m\u001b[0m\u001b[0m\n\u001b[1;32m    135\u001b[0m             )\n",
      "\u001b[0;32m/usr/local/lib/python3.10/dist-packages/keras/src/legacy/saving/saving_utils.py\u001b[0m in \u001b[0;36mmodel_from_config\u001b[0;34m(config, custom_objects)\u001b[0m\n\u001b[1;32m     83\u001b[0m     \u001b[0mconfig\u001b[0m \u001b[0;34m=\u001b[0m \u001b[0m_find_replace_nested_dict\u001b[0m\u001b[0;34m(\u001b[0m\u001b[0mconfig\u001b[0m\u001b[0;34m,\u001b[0m \u001b[0;34m\"keras.\"\u001b[0m\u001b[0;34m,\u001b[0m \u001b[0;34m\"keras.\"\u001b[0m\u001b[0;34m)\u001b[0m\u001b[0;34m\u001b[0m\u001b[0;34m\u001b[0m\u001b[0m\n\u001b[1;32m     84\u001b[0m \u001b[0;34m\u001b[0m\u001b[0m\n\u001b[0;32m---> 85\u001b[0;31m     return serialization.deserialize_keras_object(\n\u001b[0m\u001b[1;32m     86\u001b[0m         \u001b[0mconfig\u001b[0m\u001b[0;34m,\u001b[0m\u001b[0;34m\u001b[0m\u001b[0;34m\u001b[0m\u001b[0m\n\u001b[1;32m     87\u001b[0m         \u001b[0mmodule_objects\u001b[0m\u001b[0;34m=\u001b[0m\u001b[0mMODULE_OBJECTS\u001b[0m\u001b[0;34m.\u001b[0m\u001b[0mALL_OBJECTS\u001b[0m\u001b[0;34m,\u001b[0m\u001b[0;34m\u001b[0m\u001b[0;34m\u001b[0m\u001b[0m\n",
      "\u001b[0;32m/usr/local/lib/python3.10/dist-packages/keras/src/legacy/saving/serialization.py\u001b[0m in \u001b[0;36mdeserialize_keras_object\u001b[0;34m(identifier, module_objects, custom_objects, printable_module_name)\u001b[0m\n\u001b[1;32m    493\u001b[0m \u001b[0;34m\u001b[0m\u001b[0m\n\u001b[1;32m    494\u001b[0m             \u001b[0;32mif\u001b[0m \u001b[0;34m\"custom_objects\"\u001b[0m \u001b[0;32min\u001b[0m \u001b[0marg_spec\u001b[0m\u001b[0;34m.\u001b[0m\u001b[0margs\u001b[0m\u001b[0;34m:\u001b[0m\u001b[0;34m\u001b[0m\u001b[0;34m\u001b[0m\u001b[0m\n\u001b[0;32m--> 495\u001b[0;31m                 deserialized_obj = cls.from_config(\n\u001b[0m\u001b[1;32m    496\u001b[0m                     \u001b[0mcls_config\u001b[0m\u001b[0;34m,\u001b[0m\u001b[0;34m\u001b[0m\u001b[0;34m\u001b[0m\u001b[0m\n\u001b[1;32m    497\u001b[0m                     custom_objects={\n",
      "\u001b[0;32m/usr/local/lib/python3.10/dist-packages/keras/src/models/model.py\u001b[0m in \u001b[0;36mfrom_config\u001b[0;34m(cls, config, custom_objects)\u001b[0m\n\u001b[1;32m    523\u001b[0m             \u001b[0;32mfrom\u001b[0m \u001b[0mkeras\u001b[0m\u001b[0;34m.\u001b[0m\u001b[0msrc\u001b[0m\u001b[0;34m.\u001b[0m\u001b[0mmodels\u001b[0m\u001b[0;34m.\u001b[0m\u001b[0mfunctional\u001b[0m \u001b[0;32mimport\u001b[0m \u001b[0mfunctional_from_config\u001b[0m\u001b[0;34m\u001b[0m\u001b[0;34m\u001b[0m\u001b[0m\n\u001b[1;32m    524\u001b[0m \u001b[0;34m\u001b[0m\u001b[0m\n\u001b[0;32m--> 525\u001b[0;31m             return functional_from_config(\n\u001b[0m\u001b[1;32m    526\u001b[0m                 \u001b[0mcls\u001b[0m\u001b[0;34m,\u001b[0m \u001b[0mconfig\u001b[0m\u001b[0;34m,\u001b[0m \u001b[0mcustom_objects\u001b[0m\u001b[0;34m=\u001b[0m\u001b[0mcustom_objects\u001b[0m\u001b[0;34m\u001b[0m\u001b[0;34m\u001b[0m\u001b[0m\n\u001b[1;32m    527\u001b[0m             )\n",
      "\u001b[0;32m/usr/local/lib/python3.10/dist-packages/keras/src/models/functional.py\u001b[0m in \u001b[0;36mfunctional_from_config\u001b[0;34m(cls, config, custom_objects)\u001b[0m\n\u001b[1;32m    494\u001b[0m                     \u001b[0mnode_data\u001b[0m \u001b[0;34m=\u001b[0m \u001b[0mnode_data_list\u001b[0m\u001b[0;34m[\u001b[0m\u001b[0mnode_index\u001b[0m\u001b[0;34m]\u001b[0m\u001b[0;34m\u001b[0m\u001b[0;34m\u001b[0m\u001b[0m\n\u001b[1;32m    495\u001b[0m                     \u001b[0;32mtry\u001b[0m\u001b[0;34m:\u001b[0m\u001b[0;34m\u001b[0m\u001b[0;34m\u001b[0m\u001b[0m\n\u001b[0;32m--> 496\u001b[0;31m                         \u001b[0mprocess_node\u001b[0m\u001b[0;34m(\u001b[0m\u001b[0mlayer\u001b[0m\u001b[0;34m,\u001b[0m \u001b[0mnode_data\u001b[0m\u001b[0;34m)\u001b[0m\u001b[0;34m\u001b[0m\u001b[0;34m\u001b[0m\u001b[0m\n\u001b[0m\u001b[1;32m    497\u001b[0m \u001b[0;34m\u001b[0m\u001b[0m\n\u001b[1;32m    498\u001b[0m                     \u001b[0;31m# If the node does not have all inbound layers\u001b[0m\u001b[0;34m\u001b[0m\u001b[0;34m\u001b[0m\u001b[0m\n",
      "\u001b[0;32m/usr/local/lib/python3.10/dist-packages/keras/src/models/functional.py\u001b[0m in \u001b[0;36mprocess_node\u001b[0;34m(layer, node_data)\u001b[0m\n\u001b[1;32m    441\u001b[0m         \u001b[0;31m# Call layer on its inputs, thus creating the node\u001b[0m\u001b[0;34m\u001b[0m\u001b[0;34m\u001b[0m\u001b[0m\n\u001b[1;32m    442\u001b[0m         \u001b[0;31m# and building the layer if needed.\u001b[0m\u001b[0;34m\u001b[0m\u001b[0;34m\u001b[0m\u001b[0m\n\u001b[0;32m--> 443\u001b[0;31m         \u001b[0mlayer\u001b[0m\u001b[0;34m(\u001b[0m\u001b[0;34m*\u001b[0m\u001b[0margs\u001b[0m\u001b[0;34m,\u001b[0m \u001b[0;34m**\u001b[0m\u001b[0mkwargs\u001b[0m\u001b[0;34m)\u001b[0m\u001b[0;34m\u001b[0m\u001b[0;34m\u001b[0m\u001b[0m\n\u001b[0m\u001b[1;32m    444\u001b[0m \u001b[0;34m\u001b[0m\u001b[0m\n\u001b[1;32m    445\u001b[0m     \u001b[0;32mdef\u001b[0m \u001b[0mprocess_layer\u001b[0m\u001b[0;34m(\u001b[0m\u001b[0mlayer_data\u001b[0m\u001b[0;34m)\u001b[0m\u001b[0;34m:\u001b[0m\u001b[0;34m\u001b[0m\u001b[0;34m\u001b[0m\u001b[0m\n",
      "\u001b[0;32m/usr/local/lib/python3.10/dist-packages/keras/src/utils/traceback_utils.py\u001b[0m in \u001b[0;36merror_handler\u001b[0;34m(*args, **kwargs)\u001b[0m\n\u001b[1;32m    120\u001b[0m             \u001b[0;31m# To get the full stack trace, call:\u001b[0m\u001b[0;34m\u001b[0m\u001b[0;34m\u001b[0m\u001b[0m\n\u001b[1;32m    121\u001b[0m             \u001b[0;31m# `keras.config.disable_traceback_filtering()`\u001b[0m\u001b[0;34m\u001b[0m\u001b[0;34m\u001b[0m\u001b[0m\n\u001b[0;32m--> 122\u001b[0;31m             \u001b[0;32mraise\u001b[0m \u001b[0me\u001b[0m\u001b[0;34m.\u001b[0m\u001b[0mwith_traceback\u001b[0m\u001b[0;34m(\u001b[0m\u001b[0mfiltered_tb\u001b[0m\u001b[0;34m)\u001b[0m \u001b[0;32mfrom\u001b[0m \u001b[0;32mNone\u001b[0m\u001b[0;34m\u001b[0m\u001b[0;34m\u001b[0m\u001b[0m\n\u001b[0m\u001b[1;32m    123\u001b[0m         \u001b[0;32mfinally\u001b[0m\u001b[0;34m:\u001b[0m\u001b[0;34m\u001b[0m\u001b[0;34m\u001b[0m\u001b[0m\n\u001b[1;32m    124\u001b[0m             \u001b[0;32mdel\u001b[0m \u001b[0mfiltered_tb\u001b[0m\u001b[0;34m\u001b[0m\u001b[0;34m\u001b[0m\u001b[0m\n",
      "\u001b[0;32m/usr/lib/python3.10/inspect.py\u001b[0m in \u001b[0;36mbind\u001b[0;34m(self, *args, **kwargs)\u001b[0m\n\u001b[1;32m   3184\u001b[0m         \u001b[0;32mif\u001b[0m \u001b[0mthe\u001b[0m \u001b[0mpassed\u001b[0m \u001b[0marguments\u001b[0m \u001b[0mcan\u001b[0m \u001b[0;32mnot\u001b[0m \u001b[0mbe\u001b[0m \u001b[0mbound\u001b[0m\u001b[0;34m.\u001b[0m\u001b[0;34m\u001b[0m\u001b[0;34m\u001b[0m\u001b[0m\n\u001b[1;32m   3185\u001b[0m         \"\"\"\n\u001b[0;32m-> 3186\u001b[0;31m         \u001b[0;32mreturn\u001b[0m \u001b[0mself\u001b[0m\u001b[0;34m.\u001b[0m\u001b[0m_bind\u001b[0m\u001b[0;34m(\u001b[0m\u001b[0margs\u001b[0m\u001b[0;34m,\u001b[0m \u001b[0mkwargs\u001b[0m\u001b[0;34m)\u001b[0m\u001b[0;34m\u001b[0m\u001b[0;34m\u001b[0m\u001b[0m\n\u001b[0m\u001b[1;32m   3187\u001b[0m \u001b[0;34m\u001b[0m\u001b[0m\n\u001b[1;32m   3188\u001b[0m     \u001b[0;32mdef\u001b[0m \u001b[0mbind_partial\u001b[0m\u001b[0;34m(\u001b[0m\u001b[0mself\u001b[0m\u001b[0;34m,\u001b[0m \u001b[0;34m/\u001b[0m\u001b[0;34m,\u001b[0m \u001b[0;34m*\u001b[0m\u001b[0margs\u001b[0m\u001b[0;34m,\u001b[0m \u001b[0;34m**\u001b[0m\u001b[0mkwargs\u001b[0m\u001b[0;34m)\u001b[0m\u001b[0;34m:\u001b[0m\u001b[0;34m\u001b[0m\u001b[0;34m\u001b[0m\u001b[0m\n",
      "\u001b[0;32m/usr/lib/python3.10/inspect.py\u001b[0m in \u001b[0;36m_bind\u001b[0;34m(self, args, kwargs, partial)\u001b[0m\n\u001b[1;32m   3105\u001b[0m                     \u001b[0mparam\u001b[0m \u001b[0;34m=\u001b[0m \u001b[0mnext\u001b[0m\u001b[0;34m(\u001b[0m\u001b[0mparameters\u001b[0m\u001b[0;34m)\u001b[0m\u001b[0;34m\u001b[0m\u001b[0;34m\u001b[0m\u001b[0m\n\u001b[1;32m   3106\u001b[0m                 \u001b[0;32mexcept\u001b[0m \u001b[0mStopIteration\u001b[0m\u001b[0;34m:\u001b[0m\u001b[0;34m\u001b[0m\u001b[0;34m\u001b[0m\u001b[0m\n\u001b[0;32m-> 3107\u001b[0;31m                     \u001b[0;32mraise\u001b[0m \u001b[0mTypeError\u001b[0m\u001b[0;34m(\u001b[0m\u001b[0;34m'too many positional arguments'\u001b[0m\u001b[0;34m)\u001b[0m \u001b[0;32mfrom\u001b[0m \u001b[0;32mNone\u001b[0m\u001b[0;34m\u001b[0m\u001b[0;34m\u001b[0m\u001b[0m\n\u001b[0m\u001b[1;32m   3108\u001b[0m                 \u001b[0;32melse\u001b[0m\u001b[0;34m:\u001b[0m\u001b[0;34m\u001b[0m\u001b[0;34m\u001b[0m\u001b[0m\n\u001b[1;32m   3109\u001b[0m                     \u001b[0;32mif\u001b[0m \u001b[0mparam\u001b[0m\u001b[0;34m.\u001b[0m\u001b[0mkind\u001b[0m \u001b[0;32min\u001b[0m \u001b[0;34m(\u001b[0m\u001b[0m_VAR_KEYWORD\u001b[0m\u001b[0;34m,\u001b[0m \u001b[0m_KEYWORD_ONLY\u001b[0m\u001b[0;34m)\u001b[0m\u001b[0;34m:\u001b[0m\u001b[0;34m\u001b[0m\u001b[0;34m\u001b[0m\u001b[0m\n",
      "\u001b[0;31mTypeError\u001b[0m: too many positional arguments"
     ]
    }
   ],
   "source": [
    "from keras.models import load_model\n",
    "\n",
    "model = load_model(\"/content/transformer-golve-len(seq=100)-2-e10-a75.h5\")\n"
   ]
  },
  {
   "cell_type": "code",
   "execution_count": null,
   "metadata": {
    "colab": {
     "base_uri": "https://localhost:8080/"
    },
    "id": "VglJ4uI2fCme",
    "outputId": "2edff860-821a-4bfb-d592-4f7ac3d814d3"
   },
   "outputs": [
    {
     "name": "stderr",
     "output_type": "stream",
     "text": [
      "/usr/local/lib/python3.10/dist-packages/keras/src/layers/core/embedding.py:90: UserWarning: Argument `input_length` is deprecated. Just remove it.\n",
      "  warnings.warn(\n"
     ]
    }
   ],
   "source": [
    "T_model = create_transformer_model(\n",
    "    embedding_matrix, max_sequence_length, embedding_dim, num_classes=5\n",
    ")"
   ]
  },
  {
   "cell_type": "code",
   "execution_count": null,
   "metadata": {
    "id": "G3OOPrHefGN1"
   },
   "outputs": [],
   "source": [
    "T_model.load_weights(\"/content/transformer-golve-len(seq=100)-2-e10-a75.h5\")"
   ]
  },
  {
   "cell_type": "code",
   "execution_count": null,
   "metadata": {
    "colab": {
     "base_uri": "https://localhost:8080/"
    },
    "id": "uRNogtO2fOSU",
    "outputId": "b22ed62f-fa9d-4b66-d0d6-3e90e5471805"
   },
   "outputs": [
    {
     "name": "stdout",
     "output_type": "stream",
     "text": [
      "\u001b[1m771/771\u001b[0m \u001b[32m━━━━━━━━━━━━━━━━━━━━\u001b[0m\u001b[37m\u001b[0m \u001b[1m3s\u001b[0m 3ms/step\n"
     ]
    },
    {
     "data": {
      "text/plain": [
       "array([[9.01784841e-03, 3.50291520e-01, 1.95376445e-02, 6.73211142e-02,\n",
       "        5.53831816e-01],\n",
       "       [2.04822004e-01, 1.21993214e-01, 1.82017386e-01, 2.19726354e-01,\n",
       "        2.71441042e-01],\n",
       "       [8.54554179e-04, 1.60412153e-03, 1.32182315e-02, 7.52610341e-03,\n",
       "        9.76797044e-01],\n",
       "       ...,\n",
       "       [2.39283517e-01, 1.87819734e-01, 3.07344139e-01, 2.14301154e-01,\n",
       "        5.12514301e-02],\n",
       "       [7.28529394e-01, 1.23595644e-03, 9.70531662e-04, 2.25707307e-01,\n",
       "        4.35568988e-02],\n",
       "       [8.44024941e-02, 4.44405079e-02, 7.49796927e-01, 1.01607226e-01,\n",
       "        1.97529048e-02]], dtype=float32)"
      ]
     },
     "execution_count": 21,
     "metadata": {},
     "output_type": "execute_result"
    }
   ],
   "source": [
    "T_model.predict(X_train)"
   ]
  },
  {
   "cell_type": "code",
   "execution_count": 50,
   "metadata": {
    "colab": {
     "base_uri": "https://localhost:8080/"
    },
    "id": "5GB2eJXBfqOL",
    "outputId": "b094e6cb-7672-4cc3-894b-6651593c9bd5"
   },
   "outputs": [
    {
     "name": "stdout",
     "output_type": "stream",
     "text": [
      "\u001b[1m771/771\u001b[0m \u001b[32m━━━━━━━━━━━━━━━━━━━━\u001b[0m\u001b[37m\u001b[0m \u001b[1m7s\u001b[0m 8ms/step\n",
      "Accuracy: 72.15%\n"
     ]
    }
   ],
   "source": [
    "\n",
    "# Predict\n",
    "predictions = model_2.predict(X_train)\n",
    "\n",
    "# Convert predictions to class labels\n",
    "predicted_classes = predictions.argmax(axis=1)\n",
    "\n",
    "# Calculate accuracy\n",
    "from sklearn.metrics import accuracy_score\n",
    "accuracy = accuracy_score(Y_train, predicted_classes)\n",
    "print(f\"Accuracy: {accuracy * 100:.2f}%\")\n",
    "\n",
    "\n"
   ]
  },
  {
   "cell_type": "code",
   "execution_count": null,
   "metadata": {
    "colab": {
     "base_uri": "https://localhost:8080/"
    },
    "id": "AzyScSU4gku1",
    "outputId": "f8c05a6d-ba1f-48e0-e26a-9abd7a3bb5ec"
   },
   "outputs": [
    {
     "name": "stdout",
     "output_type": "stream",
     "text": [
      "\u001b[1m330/330\u001b[0m \u001b[32m━━━━━━━━━━━━━━━━━━━━\u001b[0m\u001b[37m\u001b[0m \u001b[1m10s\u001b[0m 30ms/step\n"
     ]
    }
   ],
   "source": [
    "\n",
    "test_predictions = model_2.predict(X_test)\n",
    "\n",
    "Y_test_pred = np.argmax(test_predictions, axis=1)\n"
   ]
  },
  {
   "cell_type": "code",
   "execution_count": null,
   "metadata": {
    "colab": {
     "base_uri": "https://localhost:8080/"
    },
    "id": "BjmW65migJz8",
    "outputId": "f206aa24-dbbb-4802-c667-54efd19931eb"
   },
   "outputs": [
    {
     "name": "stdout",
     "output_type": "stream",
     "text": [
      "Data saved to /content/Transformer-glove-maxlen-m2-e10.csv\n"
     ]
    }
   ],
   "source": [
    "import csv\n",
    "\n",
    "file_name = f'Transformer-glove-maxlen-m{2}-e{10}'\n",
    "file_path = f\"/content/{file_name}.csv\"\n",
    "with open(file_path, mode=\"w\", newline=\"\") as file:\n",
    "    writer = csv.writer(file)\n",
    "    writer.writerow(['SampleID', 'Category'])\n",
    "\n",
    "    for index, item in enumerate(Y_test_pred, start=1):  # Start numbering from 1\n",
    "        writer.writerow([index, item])\n",
    "\n",
    "print(f\"Data saved to {file_path}\")"
   ]
  },
  {
   "cell_type": "code",
   "execution_count": 1,
   "metadata": {
    "id": "leVjYJEvzNBv"
   },
   "outputs": [],
   "source": [
    "import re"
   ]
  },
  {
   "cell_type": "code",
   "execution_count": 18,
   "metadata": {
    "id": "njjbJUHvxCJR"
   },
   "outputs": [],
   "source": [
    "def split_and_clean_tokens(tokens):\n",
    "    cleaned_tokens = []\n",
    "    for token in tokens:\n",
    "        # Check if the token contains both numbers and letters\n",
    "        match = re.match(r'(\\d+)?([a-zA-Z]+)?', token)\n",
    "        if match:\n",
    "            num_part, word_part = match.groups()\n",
    "            if num_part:  # Add \"number\" if numeric part exists\n",
    "                cleaned_tokens.append(\"number\")\n",
    "            if word_part:  # Add the word part if it exists\n",
    "                cleaned_tokens.append(word_part)\n",
    "    return cleaned_tokens\n"
   ]
  },
  {
   "cell_type": "code",
   "execution_count": 19,
   "metadata": {
    "colab": {
     "base_uri": "https://localhost:8080/"
    },
    "id": "VfqqC_5-xExx",
    "outputId": "0b0ac8ea-6c2c-4daa-fd51-9dfc834cdd49"
   },
   "outputs": [
    {
     "name": "stdout",
     "output_type": "stream",
     "text": [
      "['yousef', 'www', 'number', 'hisadf', 'zz', 'don']\n"
     ]
    }
   ],
   "source": [
    "print(split_and_clean_tokens([\"yousef55\", \"www\", \"/sdf\", \"44hisadf\", \"zz\", \"don't\" , \"السلام\"]))"
   ]
  }
 ],
 "metadata": {
  "accelerator": "GPU",
  "colab": {
   "gpuType": "T4",
   "provenance": []
  },
  "kernelspec": {
   "display_name": "Python 3",
   "name": "python3"
  },
  "language_info": {
   "codemirror_mode": {
    "name": "ipython",
    "version": 3
   },
   "file_extension": ".py",
   "mimetype": "text/x-python",
   "name": "python",
   "nbconvert_exporter": "python",
   "pygments_lexer": "ipython3",
   "version": "3.10.0"
  }
 },
 "nbformat": 4,
 "nbformat_minor": 0
}
