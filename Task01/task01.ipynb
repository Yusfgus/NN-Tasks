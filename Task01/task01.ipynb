{
 "cells": [
  {
   "cell_type": "markdown",
   "metadata": {},
   "source": [
    "## Imports"
   ]
  },
  {
   "cell_type": "code",
   "execution_count": 1,
   "metadata": {},
   "outputs": [],
   "source": [
    "import pandas as pd"
   ]
  },
  {
   "cell_type": "markdown",
   "metadata": {},
   "source": [
    "## Data Reading"
   ]
  },
  {
   "cell_type": "code",
   "execution_count": 25,
   "metadata": {},
   "outputs": [],
   "source": [
    "all_data = pd.read_csv('birds.csv')"
   ]
  },
  {
   "cell_type": "code",
   "execution_count": 26,
   "metadata": {},
   "outputs": [
    {
     "name": "stdout",
     "output_type": "stream",
     "text": [
      "   gender  body_mass  beak_length  beak_depth  fin_length bird category\n",
      "0    male       3750         39.1        18.7         181             A\n",
      "1  female       3800         39.5        17.4         186             A\n",
      "2  female       3250         40.3        18.0         195             A\n",
      "3  female       3500         39.6        17.7         186             A\n",
      "4  female       3450         36.7        19.3         193             A\n"
     ]
    }
   ],
   "source": [
    "print(all_data.head())"
   ]
  },
  {
   "cell_type": "code",
   "execution_count": 27,
   "metadata": {},
   "outputs": [
    {
     "name": "stdout",
     "output_type": "stream",
     "text": [
      "   body_mass  beak_length  beak_depth  fin_length bird category\n",
      "0       3750         39.1        18.7         181             A\n",
      "1       3800         39.5        17.4         186             A\n"
     ]
    }
   ],
   "source": [
    "print(all_data.iloc[0:2, 1:])"
   ]
  },
  {
   "cell_type": "markdown",
   "metadata": {},
   "source": [
    "## Data Slicing"
   ]
  },
  {
   "cell_type": "markdown",
   "metadata": {},
   "source": [
    "### Feature Selecting"
   ]
  },
  {
   "cell_type": "code",
   "execution_count": 28,
   "metadata": {},
   "outputs": [],
   "source": [
    "feature_index = {'gender':0,'body_mass':1, 'beak_length':2, 'beak_depth':3, 'fin_length':4}"
   ]
  },
  {
   "cell_type": "code",
   "execution_count": 29,
   "metadata": {},
   "outputs": [],
   "source": [
    "feature1, feature2 = 'body_mass', 'beak_length'  # will be taken from the gui\n",
    "f1, f2 = feature_index[feature1], feature_index[feature2]"
   ]
  },
  {
   "cell_type": "markdown",
   "metadata": {},
   "source": [
    "### Class Selecting "
   ]
  },
  {
   "cell_type": "code",
   "execution_count": 30,
   "metadata": {},
   "outputs": [],
   "source": [
    "class_index = {'A':0, 'B':1, 'C':2}"
   ]
  },
  {
   "cell_type": "code",
   "execution_count": 36,
   "metadata": {},
   "outputs": [
    {
     "name": "stdout",
     "output_type": "stream",
     "text": [
      "Class A: 0 -> 50\n",
      "Class C: 100 -> 150\n"
     ]
    }
   ],
   "source": [
    "class1, class2 = 'A', 'C' # will be taken from the gui\n",
    "b1, b2 = class_index[class1]*50, class_index[class2]*50\n",
    "e1, e2 = b1+50, b2+50\n",
    "\n",
    "print(f\"Class {class1}: {b1} -> {e1}\")\n",
    "print(f\"Class {class2}: {b2} -> {e2}\")"
   ]
  },
  {
   "cell_type": "markdown",
   "metadata": {},
   "source": [
    "## Slicing"
   ]
  },
  {
   "cell_type": "code",
   "execution_count": 37,
   "metadata": {},
   "outputs": [],
   "source": [
    "C1 = all_data.iloc[b1:e1,[f1, f2]]\n",
    "C2 = all_data.iloc[b2:e2,[f1, f2]]\n",
    "data = pd.concat([C1, C2])"
   ]
  },
  {
   "cell_type": "code",
   "execution_count": 38,
   "metadata": {},
   "outputs": [
    {
     "name": "stdout",
     "output_type": "stream",
     "text": [
      "(100, 2)\n"
     ]
    }
   ],
   "source": [
    "print(data.shape)"
   ]
  },
  {
   "cell_type": "code",
   "execution_count": 40,
   "metadata": {},
   "outputs": [
    {
     "name": "stdout",
     "output_type": "stream",
     "text": [
      "   body_mass  beak_length\n",
      "0       3750         39.1\n",
      "1       3800         39.5\n",
      "2       3250         40.3\n",
      "3       3500         39.6\n",
      "4       3450         36.7\n"
     ]
    }
   ],
   "source": [
    "print(data.head())"
   ]
  },
  {
   "cell_type": "code",
   "execution_count": 39,
   "metadata": {},
   "outputs": [
    {
     "name": "stdout",
     "output_type": "stream",
     "text": [
      "     body_mass  beak_length\n",
      "145       4450         50.8\n",
      "146       3400         50.1\n",
      "147       4300         49.0\n",
      "148       3250         51.5\n",
      "149       3675         49.8\n"
     ]
    }
   ],
   "source": [
    "print(data.tail())"
   ]
  },
  {
   "cell_type": "markdown",
   "metadata": {},
   "source": [
    "# Preprocessing"
   ]
  },
  {
   "cell_type": "markdown",
   "metadata": {},
   "source": [
    "# Training"
   ]
  },
  {
   "cell_type": "markdown",
   "metadata": {},
   "source": [
    "# Testing"
   ]
  },
  {
   "cell_type": "markdown",
   "metadata": {},
   "source": [
    "# Evaluation"
   ]
  }
 ],
 "metadata": {
  "kernelspec": {
   "display_name": "base",
   "language": "python",
   "name": "python3"
  },
  "language_info": {
   "codemirror_mode": {
    "name": "ipython",
    "version": 3
   },
   "file_extension": ".py",
   "mimetype": "text/x-python",
   "name": "python",
   "nbconvert_exporter": "python",
   "pygments_lexer": "ipython3",
   "version": "3.11.7"
  }
 },
 "nbformat": 4,
 "nbformat_minor": 2
}
