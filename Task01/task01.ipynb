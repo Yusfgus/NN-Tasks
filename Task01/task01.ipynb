{
 "cells": [
  {
   "cell_type": "markdown",
   "metadata": {},
   "source": [
    "## Imports"
   ]
  },
  {
   "cell_type": "code",
   "execution_count": 294,
   "metadata": {},
   "outputs": [],
   "source": [
    "import pandas as pd\n",
    "import numpy as np"
   ]
  },
  {
   "cell_type": "markdown",
   "metadata": {},
   "source": [
    "## Data Reading"
   ]
  },
  {
   "cell_type": "code",
   "execution_count": 295,
   "metadata": {},
   "outputs": [],
   "source": [
    "all_data = pd.read_csv('birds.csv')"
   ]
  },
  {
   "cell_type": "code",
   "execution_count": 296,
   "metadata": {},
   "outputs": [
    {
     "name": "stdout",
     "output_type": "stream",
     "text": [
      "   gender  body_mass  beak_length  beak_depth  fin_length bird category\n",
      "0    male       3750         39.1        18.7         181             A\n",
      "1  female       3800         39.5        17.4         186             A\n",
      "2  female       3250         40.3        18.0         195             A\n",
      "3  female       3500         39.6        17.7         186             A\n",
      "4  female       3450         36.7        19.3         193             A\n"
     ]
    }
   ],
   "source": [
    "print(all_data.head())"
   ]
  },
  {
   "cell_type": "code",
   "execution_count": 297,
   "metadata": {},
   "outputs": [
    {
     "name": "stdout",
     "output_type": "stream",
     "text": [
      "   body_mass  beak_length  beak_depth  fin_length bird category\n",
      "0       3750         39.1        18.7         181             A\n",
      "1       3800         39.5        17.4         186             A\n"
     ]
    }
   ],
   "source": [
    "print(all_data.iloc[0:2, 1:])"
   ]
  },
  {
   "cell_type": "markdown",
   "metadata": {},
   "source": [
    "## Data Slicing"
   ]
  },
  {
   "cell_type": "markdown",
   "metadata": {},
   "source": [
    "### Feature Selecting"
   ]
  },
  {
   "cell_type": "code",
   "execution_count": 298,
   "metadata": {},
   "outputs": [],
   "source": [
    "feature_index = {'gender':0,'body_mass':1, 'beak_length':2, 'beak_depth':3, 'fin_length':4}"
   ]
  },
  {
   "cell_type": "code",
   "execution_count": 299,
   "metadata": {},
   "outputs": [],
   "source": [
    "feature1, feature2 = 'body_mass', 'gender'  # will be taken from the gui\n",
    "f1, f2 = feature_index[feature1], feature_index[feature2]"
   ]
  },
  {
   "cell_type": "markdown",
   "metadata": {},
   "source": [
    "### Class Selecting "
   ]
  },
  {
   "cell_type": "code",
   "execution_count": 300,
   "metadata": {},
   "outputs": [],
   "source": [
    "class_index = {'A':0, 'B':1, 'C':2}"
   ]
  },
  {
   "cell_type": "code",
   "execution_count": 301,
   "metadata": {},
   "outputs": [
    {
     "name": "stdout",
     "output_type": "stream",
     "text": [
      "Class A: 0 -> 50\n",
      "Class C: 100 -> 150\n"
     ]
    }
   ],
   "source": [
    "class1, class2 = 'A', 'C' # will be taken from the gui\n",
    "b1, b2 = class_index[class1]*50, class_index[class2]*50\n",
    "e1, e2 = b1+50, b2+50\n",
    "\n",
    "print(f\"Class {class1}: {b1} -> {e1}\")\n",
    "print(f\"Class {class2}: {b2} -> {e2}\")"
   ]
  },
  {
   "cell_type": "markdown",
   "metadata": {},
   "source": [
    "### Slicing"
   ]
  },
  {
   "cell_type": "code",
   "execution_count": 302,
   "metadata": {},
   "outputs": [
    {
     "name": "stdout",
     "output_type": "stream",
     "text": [
      "(50, 3)\n",
      "(50, 3)\n"
     ]
    }
   ],
   "source": [
    "C1 = all_data.iloc[b1:e1,[f1, f2, 5]]\n",
    "C2 = all_data.iloc[b2:e2,[f1, f2, 5]]\n",
    "\n",
    "print(C1.shape)\n",
    "print(C2.shape)"
   ]
  },
  {
   "cell_type": "markdown",
   "metadata": {},
   "source": [
    "## Data Spliting"
   ]
  },
  {
   "cell_type": "code",
   "execution_count": 303,
   "metadata": {},
   "outputs": [
    {
     "name": "stdout",
     "output_type": "stream",
     "text": [
      "(60, 2)\n",
      "(40, 2)\n"
     ]
    }
   ],
   "source": [
    "X_train = pd.concat([C1.iloc[0:30,0:2], C2.iloc[0:30,0:2]])\n",
    "X_test = pd.concat([C1.iloc[30:,0:2], C2.iloc[30:,0:2]])\n",
    "\n",
    "print(X_train.shape)\n",
    "print(X_test.shape)"
   ]
  },
  {
   "cell_type": "code",
   "execution_count": 304,
   "metadata": {},
   "outputs": [
    {
     "name": "stdout",
     "output_type": "stream",
     "text": [
      "   body_mass  gender\n",
      "0       3750    male\n",
      "1       3800  female\n",
      "2       3250  female\n",
      "3       3500  female\n",
      "4       3450  female\n"
     ]
    }
   ],
   "source": [
    "print(X_train.head())"
   ]
  },
  {
   "cell_type": "code",
   "execution_count": 305,
   "metadata": {},
   "outputs": [
    {
     "name": "stdout",
     "output_type": "stream",
     "text": [
      "(60, 1)\n",
      "(40, 1)\n"
     ]
    }
   ],
   "source": [
    "Y_train = pd.DataFrame(pd.concat([C1.iloc[0:30, 2], C2.iloc[0:30, 2]], axis=0))\n",
    "Y_test = pd.DataFrame(pd.concat([C1.iloc[30:,2], C2.iloc[30:,2]], axis=0))\n",
    "\n",
    "print(Y_train.shape)\n",
    "print(Y_test.shape)"
   ]
  },
  {
   "cell_type": "code",
   "execution_count": 306,
   "metadata": {},
   "outputs": [
    {
     "name": "stdout",
     "output_type": "stream",
     "text": [
      "  bird category\n",
      "0             A\n",
      "1             A\n",
      "2             A\n",
      "3             A\n",
      "4             A\n"
     ]
    }
   ],
   "source": [
    "print(Y_train.head())"
   ]
  },
  {
   "cell_type": "markdown",
   "metadata": {},
   "source": [
    "# Preprocessing"
   ]
  },
  {
   "cell_type": "code",
   "execution_count": 307,
   "metadata": {},
   "outputs": [],
   "source": [
    "def pre_gender(col):\n",
    "    # Replace 'male' with 1 and 'female' with 0 in the 'gender' column\n",
    "    col = col.replace({'male': 1, 'female': 0})\n",
    "\n",
    "    # replace null values with the mode\n",
    "    print(f\"Null: #{col.isnull().sum()}\")\n",
    "    mode_value = col.mode()[0]\n",
    "    col.fillna(mode_value, inplace=True)\n",
    "    print(f\"Null: #{col.isnull().sum()}\")\n",
    "\n",
    "    return col"
   ]
  },
  {
   "cell_type": "code",
   "execution_count": 308,
   "metadata": {},
   "outputs": [],
   "source": [
    "def normalize(col):\n",
    "    min_value = col.min()\n",
    "    max_value = col.max()\n",
    "    col = (col - min_value) / (max_value - min_value)\n",
    "    return col"
   ]
  },
  {
   "cell_type": "code",
   "execution_count": 309,
   "metadata": {},
   "outputs": [],
   "source": [
    "def outliers(col):\n",
    "    # Calculate Q1 (25th percentile) and Q3 (75th percentile)\n",
    "    Q1 = col.quantile(0.25)\n",
    "    Q3 = col.quantile(0.75)\n",
    "    IQR = Q3 - Q1  # Interquartile Range\n",
    "    \n",
    "    # Define the bounds for outliers\n",
    "    lower_bound = Q1 - 1.5 * IQR\n",
    "    upper_bound = Q3 + 1.5 * IQR\n",
    "    \n",
    "    # Calculate the mean of the column\n",
    "    mean_value = col.mean()\n",
    "    \n",
    "    # Replace outliers with the lower and upper bounds\n",
    "    col = col.clip(lower=lower_bound, upper=upper_bound)\n",
    "\n",
    "    return col"
   ]
  },
  {
   "cell_type": "code",
   "execution_count": 310,
   "metadata": {},
   "outputs": [],
   "source": [
    "def pre_body_mass(col):\n",
    "    outliers(col)\n",
    "    col = normalize(col)\n",
    "    return col"
   ]
  },
  {
   "cell_type": "code",
   "execution_count": 311,
   "metadata": {},
   "outputs": [],
   "source": [
    "def pre_beak_length(col):\n",
    "    outliers(col)\n",
    "    col = normalize(col)\n",
    "    return col"
   ]
  },
  {
   "cell_type": "code",
   "execution_count": 312,
   "metadata": {},
   "outputs": [],
   "source": [
    "def pre_beak_depth(col):\n",
    "    outliers(col)\n",
    "    col = normalize(col)\n",
    "    return col"
   ]
  },
  {
   "cell_type": "code",
   "execution_count": 313,
   "metadata": {},
   "outputs": [],
   "source": [
    "def pre_fin_length(col):\n",
    "    outliers(col)\n",
    "    col = normalize(col)\n",
    "    return col"
   ]
  },
  {
   "cell_type": "code",
   "execution_count": 402,
   "metadata": {},
   "outputs": [],
   "source": [
    "def pre_bird_category(col):\n",
    "    col = col.replace({class1: 1, class2: -1})\n",
    "    return col"
   ]
  },
  {
   "cell_type": "code",
   "execution_count": 323,
   "metadata": {},
   "outputs": [],
   "source": [
    "def preprocessing(data):\n",
    "\n",
    "    for col in data.columns:\n",
    "        print(f\"Column: {col}\")\n",
    "        if col == 'gender':\n",
    "            data[col] = pre_gender(data[col])\n",
    "        elif col == 'body_mass':\n",
    "            data[col] = pre_body_mass(data[col])\n",
    "        elif col == 'beak_length':\n",
    "            data[col] = pre_beak_length(data[col])\n",
    "        elif col == 'beak_depth':\n",
    "            data[col] = pre_beak_depth(data[col])\n",
    "        elif col == 'fin_length':\n",
    "            data[col] = pre_fin_length(data[col])\n",
    "        elif col == 'bird category':\n",
    "            data[col] = pre_bird_category(data[col])\n"
   ]
  },
  {
   "cell_type": "markdown",
   "metadata": {},
   "source": [
    "# Models"
   ]
  },
  {
   "cell_type": "markdown",
   "metadata": {},
   "source": [
    "## Single layer Perceptron"
   ]
  },
  {
   "cell_type": "code",
   "execution_count": 394,
   "metadata": {},
   "outputs": [],
   "source": [
    "def SLP(X, Y, n_epochs, learning_rate, weights, bias):\n",
    "    for epoch in range(n_epochs):\n",
    "        for i in range(X.shape[0]):\n",
    "            # Calculate the weighted sum\n",
    "            linear_output = np.dot(X.iloc[i].values, weights) + bias\n",
    "\n",
    "            # Apply signum function\n",
    "            y_pred = 1 if linear_output >= 0 else -1\n",
    "            y = Y.iloc[i, 0]\n",
    "\n",
    "            # Update weights and bias if there's an error\n",
    "            if y_pred != y:\n",
    "                error = y - y_pred\n",
    "                weights += learning_rate * error * X.iloc[i].values\n",
    "                bias += learning_rate * error\n",
    "\n",
    "    return weights, bias\n"
   ]
  },
  {
   "cell_type": "markdown",
   "metadata": {},
   "source": [
    "## Adaline"
   ]
  },
  {
   "cell_type": "markdown",
   "metadata": {},
   "source": [
    "# Training"
   ]
  },
  {
   "cell_type": "markdown",
   "metadata": {},
   "source": [
    "### Preprocessing"
   ]
  },
  {
   "cell_type": "code",
   "execution_count": 395,
   "metadata": {},
   "outputs": [
    {
     "name": "stdout",
     "output_type": "stream",
     "text": [
      "Column: body_mass\n",
      "Column: gender\n",
      "Null: #0\n",
      "Null: #0\n",
      "Column: bird category\n",
      "hereeee\n",
      "   body_mass  gender\n",
      "0   0.478873     1.0\n",
      "1   0.507042     0.0\n",
      "2   0.197183     0.0\n",
      "3   0.338028     0.0\n",
      "4   0.309859     0.0\n"
     ]
    }
   ],
   "source": [
    "preprocessing(X_train)\n",
    "preprocessing(Y_train)\n",
    "print(X_train.head())"
   ]
  },
  {
   "cell_type": "markdown",
   "metadata": {},
   "source": [
    "### Fiting"
   ]
  },
  {
   "cell_type": "code",
   "execution_count": 396,
   "metadata": {},
   "outputs": [
    {
     "name": "stdout",
     "output_type": "stream",
     "text": [
      "[0.64414354 0.38074849]\n"
     ]
    }
   ],
   "source": [
    "# Perceptron parameters\n",
    "learning_rate = 0.01\n",
    "n_epochs = 100\n",
    "\n",
    "# Initialize weights and bias\n",
    "np.random.seed(30)\n",
    "weights = np.random.rand(2)\n",
    "bias = 0\n",
    "\n",
    "print(weights)"
   ]
  },
  {
   "cell_type": "code",
   "execution_count": 398,
   "metadata": {},
   "outputs": [],
   "source": [
    "# use model\n",
    "weights, bias = SLP(X_train, Y_train, n_epochs, learning_rate, weights, bias)"
   ]
  },
  {
   "cell_type": "code",
   "execution_count": 399,
   "metadata": {},
   "outputs": [
    {
     "name": "stdout",
     "output_type": "stream",
     "text": [
      "[ 0.02667875 -0.01925151]\n"
     ]
    }
   ],
   "source": [
    "print(weights)"
   ]
  },
  {
   "cell_type": "markdown",
   "metadata": {},
   "source": [
    "# Testing"
   ]
  },
  {
   "cell_type": "code",
   "execution_count": 403,
   "metadata": {},
   "outputs": [
    {
     "name": "stdout",
     "output_type": "stream",
     "text": [
      "Column: body_mass\n",
      "Column: gender\n",
      "Null: #1\n",
      "Null: #0\n",
      "Column: bird category\n"
     ]
    }
   ],
   "source": [
    "preprocessing(X_test)\n",
    "preprocessing(Y_test)"
   ]
  },
  {
   "cell_type": "markdown",
   "metadata": {},
   "source": [
    "# Evaluation"
   ]
  },
  {
   "cell_type": "code",
   "execution_count": 407,
   "metadata": {},
   "outputs": [],
   "source": [
    "def predict(X, Y, weights, bias):\n",
    "    TP, FP = 0, 0\n",
    "    FN, TN = 0, 0\n",
    "    for i in range(X.shape[0]):\n",
    "        # Calculate the weighted sum\n",
    "        linear_output = np.dot(X.iloc[i].values, weights) + bias\n",
    "\n",
    "        # Apply signum function\n",
    "        y_pred = 1 if linear_output >= 0 else -1\n",
    "        y = Y.iloc[i, 0]\n",
    "\n",
    "        if y_pred == 1:\n",
    "            if y == 1: TP+=1 \n",
    "            else: FP+=1\n",
    "        elif y_pred == -1:\n",
    "            if y == 1: FN+=1 \n",
    "            else: TN+=1\n",
    "\n",
    "    print(X.shape[0])\n",
    "    accuracy = (TP + TN) / X.shape[0]\n",
    "\n",
    "    return accuracy"
   ]
  },
  {
   "cell_type": "code",
   "execution_count": 408,
   "metadata": {},
   "outputs": [
    {
     "name": "stdout",
     "output_type": "stream",
     "text": [
      "60\n",
      "accuracy = 0.5\n"
     ]
    }
   ],
   "source": [
    "accuracy = predict(X_train, Y_train, weights, bias)\n",
    "print(f\"accuracy = {accuracy}\")"
   ]
  },
  {
   "cell_type": "code",
   "execution_count": 409,
   "metadata": {},
   "outputs": [
    {
     "name": "stdout",
     "output_type": "stream",
     "text": [
      "40\n",
      "accuracy = 0.5\n"
     ]
    }
   ],
   "source": [
    "accuracy = predict(X_test, Y_test, weights, bias)\n",
    "print(f\"accuracy = {accuracy}\")"
   ]
  }
 ],
 "metadata": {
  "kernelspec": {
   "display_name": "base",
   "language": "python",
   "name": "python3"
  },
  "language_info": {
   "codemirror_mode": {
    "name": "ipython",
    "version": 3
   },
   "file_extension": ".py",
   "mimetype": "text/x-python",
   "name": "python",
   "nbconvert_exporter": "python",
   "pygments_lexer": "ipython3",
   "version": "3.11.7"
  }
 },
 "nbformat": 4,
 "nbformat_minor": 2
}
