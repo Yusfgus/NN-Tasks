{
 "cells": [
  {
   "cell_type": "markdown",
   "metadata": {},
   "source": [
    "## Imports"
   ]
  },
  {
   "cell_type": "code",
   "execution_count": 1,
   "metadata": {},
   "outputs": [],
   "source": [
    "import pandas as pd"
   ]
  },
  {
   "cell_type": "markdown",
   "metadata": {},
   "source": [
    "## Data Reading"
   ]
  },
  {
   "cell_type": "code",
   "execution_count": 25,
   "metadata": {},
   "outputs": [],
   "source": [
    "all_data = pd.read_csv('birds.csv')"
   ]
  },
  {
   "cell_type": "code",
   "execution_count": 26,
   "metadata": {},
   "outputs": [
    {
     "name": "stdout",
     "output_type": "stream",
     "text": [
      "   gender  body_mass  beak_length  beak_depth  fin_length bird category\n",
      "0    male       3750         39.1        18.7         181             A\n",
      "1  female       3800         39.5        17.4         186             A\n",
      "2  female       3250         40.3        18.0         195             A\n",
      "3  female       3500         39.6        17.7         186             A\n",
      "4  female       3450         36.7        19.3         193             A\n"
     ]
    }
   ],
   "source": [
    "print(all_data.head())"
   ]
  },
  {
   "cell_type": "code",
   "execution_count": 27,
   "metadata": {},
   "outputs": [
    {
     "name": "stdout",
     "output_type": "stream",
     "text": [
      "   body_mass  beak_length  beak_depth  fin_length bird category\n",
      "0       3750         39.1        18.7         181             A\n",
      "1       3800         39.5        17.4         186             A\n"
     ]
    }
   ],
   "source": [
    "print(all_data.iloc[0:2, 1:])"
   ]
  },
  {
   "cell_type": "markdown",
   "metadata": {},
   "source": [
    "## Data Slicing"
   ]
  },
  {
   "cell_type": "markdown",
   "metadata": {},
   "source": [
    "### Feature Selecting"
   ]
  },
  {
   "cell_type": "code",
   "execution_count": 28,
   "metadata": {},
   "outputs": [],
   "source": [
    "feature_index = {'gender':0,'body_mass':1, 'beak_length':2, 'beak_depth':3, 'fin_length':4}"
   ]
  },
  {
   "cell_type": "code",
   "execution_count": 79,
   "metadata": {},
   "outputs": [],
   "source": [
    "feature1, feature2 = 'body_mass', 'gender'  # will be taken from the gui\n",
    "f1, f2 = feature_index[feature1], feature_index[feature2]"
   ]
  },
  {
   "cell_type": "markdown",
   "metadata": {},
   "source": [
    "### Class Selecting "
   ]
  },
  {
   "cell_type": "code",
   "execution_count": 80,
   "metadata": {},
   "outputs": [],
   "source": [
    "class_index = {'A':0, 'B':1, 'C':2}"
   ]
  },
  {
   "cell_type": "code",
   "execution_count": 81,
   "metadata": {},
   "outputs": [
    {
     "name": "stdout",
     "output_type": "stream",
     "text": [
      "Class A: 0 -> 50\n",
      "Class C: 100 -> 150\n"
     ]
    }
   ],
   "source": [
    "class1, class2 = 'A', 'C' # will be taken from the gui\n",
    "b1, b2 = class_index[class1]*50, class_index[class2]*50\n",
    "e1, e2 = b1+50, b2+50\n",
    "\n",
    "print(f\"Class {class1}: {b1} -> {e1}\")\n",
    "print(f\"Class {class2}: {b2} -> {e2}\")"
   ]
  },
  {
   "cell_type": "markdown",
   "metadata": {},
   "source": [
    "### Slicing"
   ]
  },
  {
   "cell_type": "code",
   "execution_count": 82,
   "metadata": {},
   "outputs": [
    {
     "name": "stdout",
     "output_type": "stream",
     "text": [
      "(50, 3)\n",
      "(50, 3)\n"
     ]
    }
   ],
   "source": [
    "C1 = all_data.iloc[b1:e1,[f1, f2, 5]]\n",
    "C2 = all_data.iloc[b2:e2,[f1, f2, 5]]\n",
    "\n",
    "print(C1.shape)\n",
    "print(C2.shape)"
   ]
  },
  {
   "cell_type": "markdown",
   "metadata": {},
   "source": [
    "## Data Spliting"
   ]
  },
  {
   "cell_type": "code",
   "execution_count": 168,
   "metadata": {},
   "outputs": [
    {
     "name": "stdout",
     "output_type": "stream",
     "text": [
      "(60, 2)\n",
      "(40, 2)\n"
     ]
    }
   ],
   "source": [
    "X_train = pd.concat([C1.iloc[0:30,0:2], C2.iloc[0:30,0:2]])\n",
    "X_test = pd.concat([C1.iloc[30:,0:2], C2.iloc[30:,0:2]])\n",
    "\n",
    "print(X_train.shape)\n",
    "print(X_test.shape)"
   ]
  },
  {
   "cell_type": "code",
   "execution_count": 169,
   "metadata": {},
   "outputs": [
    {
     "name": "stdout",
     "output_type": "stream",
     "text": [
      "   body_mass  gender\n",
      "0       3750    male\n",
      "1       3800  female\n",
      "2       3250  female\n",
      "3       3500  female\n",
      "4       3450  female\n"
     ]
    }
   ],
   "source": [
    "print(X_train.head())"
   ]
  },
  {
   "cell_type": "code",
   "execution_count": 170,
   "metadata": {},
   "outputs": [
    {
     "name": "stdout",
     "output_type": "stream",
     "text": [
      "(60,)\n",
      "(40,)\n"
     ]
    }
   ],
   "source": [
    "Y_train = pd.concat([C1.iloc[0:30,2], C2.iloc[0:30,2]])\n",
    "Y_test = pd.concat([C1.iloc[30:,2], C2.iloc[30:,2]])\n",
    "\n",
    "print(Y_train.shape)\n",
    "print(Y_test.shape)"
   ]
  },
  {
   "cell_type": "code",
   "execution_count": 171,
   "metadata": {},
   "outputs": [
    {
     "name": "stdout",
     "output_type": "stream",
     "text": [
      "0    A\n",
      "1    A\n",
      "2    A\n",
      "3    A\n",
      "4    A\n",
      "Name: bird category, dtype: object\n"
     ]
    }
   ],
   "source": [
    "print(Y_train.head())"
   ]
  },
  {
   "cell_type": "markdown",
   "metadata": {},
   "source": [
    "# Preprocessing"
   ]
  },
  {
   "cell_type": "code",
   "execution_count": 172,
   "metadata": {},
   "outputs": [],
   "source": [
    "def pre_gender(col):\n",
    "    # Replace 'male' with 1 and 'female' with 0 in the 'gender' column\n",
    "    col = col.replace({'male': 1, 'female': 0})\n",
    "\n",
    "    # replace null values with the mode\n",
    "    print(f\"Null: #{col.isnull().sum()}\")\n",
    "    mode_value = col.mode()[0]\n",
    "    col.fillna(mode_value, inplace=True)\n",
    "    print(f\"Null: #{col.isnull().sum()}\")\n",
    "\n",
    "    return col"
   ]
  },
  {
   "cell_type": "code",
   "execution_count": 173,
   "metadata": {},
   "outputs": [],
   "source": [
    "def normalize(col):\n",
    "    min_value = col.min()\n",
    "    max_value = col.max()\n",
    "    col = (col - min_value) / (max_value - min_value)\n",
    "    return col"
   ]
  },
  {
   "cell_type": "code",
   "execution_count": 174,
   "metadata": {},
   "outputs": [],
   "source": [
    "def outliers(col):\n",
    "    # Calculate Q1 (25th percentile) and Q3 (75th percentile)\n",
    "    Q1 = col.quantile(0.25)\n",
    "    Q3 = col.quantile(0.75)\n",
    "    IQR = Q3 - Q1  # Interquartile Range\n",
    "    \n",
    "    # Define the bounds for outliers\n",
    "    lower_bound = Q1 - 1.5 * IQR\n",
    "    upper_bound = Q3 + 1.5 * IQR\n",
    "    \n",
    "    # Calculate the mean of the column\n",
    "    mean_value = col.mean()\n",
    "    \n",
    "    # Replace outliers with the lower and upper bounds\n",
    "    col = col.clip(lower=lower_bound, upper=upper_bound)\n",
    "\n",
    "    return col"
   ]
  },
  {
   "cell_type": "code",
   "execution_count": 175,
   "metadata": {},
   "outputs": [],
   "source": [
    "def pre_body_mass(col):\n",
    "    outliers(col)\n",
    "    col = normalize(col)\n",
    "    return col"
   ]
  },
  {
   "cell_type": "code",
   "execution_count": 176,
   "metadata": {},
   "outputs": [],
   "source": [
    "def pre_beak_length(col):\n",
    "    outliers(col)\n",
    "    col = normalize(col)\n",
    "    return col"
   ]
  },
  {
   "cell_type": "code",
   "execution_count": 177,
   "metadata": {},
   "outputs": [],
   "source": [
    "def pre_beak_depth(col):\n",
    "    outliers(col)\n",
    "    col = normalize(col)\n",
    "    return col"
   ]
  },
  {
   "cell_type": "code",
   "execution_count": 178,
   "metadata": {},
   "outputs": [],
   "source": [
    "def pre_fin_length(col):\n",
    "    outliers(col)\n",
    "    col = normalize(col)\n",
    "    return col"
   ]
  },
  {
   "cell_type": "code",
   "execution_count": 179,
   "metadata": {},
   "outputs": [],
   "source": [
    "def preprocessing(data):\n",
    "\n",
    "    for col in data.columns:\n",
    "        print(f\"Column: {col}\")\n",
    "        if col == 'gender':\n",
    "            data[col] = pre_gender(data[col])\n",
    "        elif col == 'body_mass':\n",
    "            data[col] = pre_body_mass(data[col])\n",
    "        elif col == 'beak_length':\n",
    "            data[col] = pre_beak_length(data[col])\n",
    "        elif col == 'beak_depth':\n",
    "            data[col] = pre_beak_depth(data[col])\n",
    "        elif col == 'fin_length':\n",
    "            data[col] = pre_fin_length(data[col])\n"
   ]
  },
  {
   "cell_type": "code",
   "execution_count": 180,
   "metadata": {},
   "outputs": [
    {
     "name": "stdout",
     "output_type": "stream",
     "text": [
      "Column: body_mass\n",
      "Column: gender\n",
      "Null: #4\n",
      "Null: #0\n",
      "   body_mass  gender\n",
      "0   0.478873     1.0\n",
      "1   0.507042     0.0\n",
      "2   0.197183     0.0\n",
      "3   0.338028     0.0\n",
      "4   0.309859     0.0\n"
     ]
    }
   ],
   "source": [
    "preprocessing(X_train)\n",
    "print(X_train.head())"
   ]
  },
  {
   "cell_type": "markdown",
   "metadata": {},
   "source": [
    "# Models"
   ]
  },
  {
   "cell_type": "markdown",
   "metadata": {},
   "source": [
    "## Single layer Perceptron"
   ]
  },
  {
   "cell_type": "markdown",
   "metadata": {},
   "source": [
    "## Adaline"
   ]
  },
  {
   "cell_type": "markdown",
   "metadata": {},
   "source": [
    "# Training"
   ]
  },
  {
   "cell_type": "markdown",
   "metadata": {},
   "source": [
    "# Testing"
   ]
  },
  {
   "cell_type": "markdown",
   "metadata": {},
   "source": [
    "# Evaluation"
   ]
  }
 ],
 "metadata": {
  "kernelspec": {
   "display_name": "base",
   "language": "python",
   "name": "python3"
  },
  "language_info": {
   "codemirror_mode": {
    "name": "ipython",
    "version": 3
   },
   "file_extension": ".py",
   "mimetype": "text/x-python",
   "name": "python",
   "nbconvert_exporter": "python",
   "pygments_lexer": "ipython3",
   "version": "3.11.7"
  }
 },
 "nbformat": 4,
 "nbformat_minor": 2
}
